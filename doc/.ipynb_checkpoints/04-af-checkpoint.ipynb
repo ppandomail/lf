{
 "cells": [
  {
   "cell_type": "markdown",
   "id": "fd60824d-049d-4769-8a63-3a8ea948fddf",
   "metadata": {},
   "source": [
    "# Autómata Finito\n",
    "---"
   ]
  },
  {
   "cell_type": "markdown",
   "id": "27579166-5169-408f-982b-64be23b37a1c",
   "metadata": {},
   "source": [
    "## Definición"
   ]
  },
  {
   "cell_type": "markdown",
   "id": "b13c8cb0-d700-44da-aafd-7cbf8ae6466b",
   "metadata": {},
   "source": [
    "* Es una herramienta abstracta que se utiliza para reconocer un determinado LR\n",
    "* Es un modelo formal matemático de un sistema que recibe una palabra y tiene la capacidad de determinar si pertenece al LR que el AF reconoce\n",
    "* Es una máquina de estados finitos. Una máquina es una abstracción matemática que capturan solamente el aspecto referente a las secuencias de eventos (transiciones) que ocurren"
   ]
  },
  {
   "cell_type": "markdown",
   "id": "f5a7bd59-3ee5-4e5c-8ee9-5875de67e741",
   "metadata": {},
   "source": [
    "![AF grande](img/afgrande1.png)"
   ]
  },
  {
   "cell_type": "markdown",
   "id": "3191b568-65a5-4d79-a96d-9ffe3910b876",
   "metadata": {},
   "source": [
    "![AF grande](img/afgrande2.png)"
   ]
  },
  {
   "cell_type": "markdown",
   "id": "1911823d-7fe9-49fb-ad82-e0a14f41209b",
   "metadata": {},
   "source": [
    "## Reconocimiento"
   ]
  },
  {
   "cell_type": "markdown",
   "id": "4f3161a4-ada5-4c4f-ae0d-c95914dfda64",
   "metadata": {},
   "source": [
    "* RECONOCER un LR: aceptar cada palabra del LR y rechazar cada palabra que no pertenece al lenguaje\n",
    "* Una palabra es aceptada si:\n",
    "  1. Se han analizado todos los símbolos de la palabra\n",
    "  1. El AF se encuentra en un ESTADO FINAL o DE ACEPTACIÓN"
   ]
  },
  {
   "cell_type": "markdown",
   "id": "c83f2183-1ac4-4e10-ae53-884fc3e2e6dc",
   "metadata": {},
   "source": [
    "## Definición formal"
   ]
  },
  {
   "cell_type": "markdown",
   "id": "a6b76521-4e58-4d45-8a6c-032603783e29",
   "metadata": {},
   "source": [
    "* Formalmente un AF se define como una 5-upla:  $M = <Q, \\Sigma, q_0, F, \\delta>$\n",
    "\n",
    "|           |                                                                      |\n",
    "| --        | --                                                                   |\n",
    "| $Q$       | conjunto finito de estados                                           |\n",
    "| $\\Sigma$  | alfabeto de entrada reconocido por el autómata                       |\n",
    "| $q_0$     | estado inicial (único), $q_0 \\in Q$                                  |\n",
    "| $F$       | conjunto de estados finales o de aceptación, $F \\subseteq Q$         |\n",
    "| $\\delta$  | función de transición de estados, $\\delta: Q x \\Sigma \\rightarrow Q$ |"
   ]
  },
  {
   "cell_type": "markdown",
   "id": "83a30dc3-82f2-4b2a-a81c-3a99e8b4f91b",
   "metadata": {},
   "source": [
    "## Representación gráfica"
   ]
  },
  {
   "cell_type": "markdown",
   "id": "3fa8c2ec-6288-4f08-85b5-ad230785cb05",
   "metadata": {},
   "source": [
    "* Un AF se representa por un grafo dirigido y etiquetado (etiquetas posibles: $\\sigma$ o $\\lambda$), llamado diagrama de transición de estados\n",
    "\n",
    "| Elemento            | Representa | Tipos                                           |\n",
    "| --                  | --         | --                                              |\n",
    "| **nodo o vértice**  | estado     | {inicial, intermedios, finales (doble círculo)} |\n",
    "| **flecha o arista** | transición | {con símbolo, con lambda}                       |"
   ]
  },
  {
   "cell_type": "markdown",
   "id": "0fc4b77b-45c6-469f-9323-0a40c7398609",
   "metadata": {},
   "source": [
    "```mermaid\n",
    "flowchart LR\n",
    "    q0((>q0))--a-->q0\n",
    "    q0--b-->q1(((q1)))\n",
    "```"
   ]
  },
  {
   "cell_type": "markdown",
   "id": "97d36319-accb-4cd4-9600-3f4fe04e1872",
   "metadata": {},
   "source": [
    "## Casos"
   ]
  },
  {
   "cell_type": "markdown",
   "id": "1e8584fe-4c79-4282-9bbf-c4dc5aab74f7",
   "metadata": {},
   "source": [
    "| Casos          | Palabra  | Actividad                          | Observaciones                                                                 |\n",
    "| --             | --       | --                                 | --                                                                            |\n",
    "| **aceptación** | **ab**   | q0 -> a -> q0 -> b -> q1           | AF leyó todos los símbolos de la palabra y se encuentra en un estado final    |\n",
    "| **rechazo**    | **a**    | q0 -> a -> q0                      | AF leyó todos los símbolos de la palabra y NO se encuentra en un estado final |\n",
    "| **rechazo**    | **abab** | q0 -> a -> q0 -> b -> q1 -> a -> ? | En un estado no hay transición para leer el símbolo                           |\n",
    "\n",
    "* Se dice que la cadena $w$ es aceptada por el AF $M$ cuando $\\delta(q0, w) \\in F$\n",
    "* Se define el Lenguaje aceptado por el AF $M$ como: $L(M) = \\{w \\in \\Sigma^* / \\delta(q0, w) \\in F\\}$"
   ]
  },
  {
   "cell_type": "markdown",
   "id": "2522c7b2-e383-464c-9d9c-0e10cc2c6bca",
   "metadata": {},
   "source": [
    "## Malos diseños"
   ]
  },
  {
   "cell_type": "markdown",
   "id": "7cca2aec-0287-4203-8a1b-6a9f2df00c73",
   "metadata": {},
   "source": [
    "|                |                   |                                                        |\n",
    "| --             | --                | --                                                     |\n",
    "| **incorrecto** | \"sobran palabras\" | AF acepta palabras que no debería aceptar              |\n",
    "| **incompleto** | \"faltan palabras\" | palabras en el lenguaje que no son aceptadas por el AF |"
   ]
  },
  {
   "cell_type": "markdown",
   "id": "b1e18c1b-6ba5-45da-a458-7007f62ee784",
   "metadata": {},
   "source": [
    "## Tipos de AF"
   ]
  },
  {
   "cell_type": "markdown",
   "id": "7257d0b5-4da9-4475-b12b-1157fcf04ff5",
   "metadata": {},
   "source": [
    "| Autómatas Finitos Deterministas (AFD) | Autómatas Finitos No Deterministas (AFN) |\n",
    "| -- | -- |\n",
    "| Para cualquier estado en que se encuentre el autómata en un momento dado, la lectura de un símbolo determina, SIN AMBIGÜEDADES, cuál será el estado de llegada en la próxima transición. (unívocamente determinado) | Permite cero, una o más transiciones a partir de un estado con un determinado símbolo de entrada |\n",
    "| Es un AFN (ya que es un caso especial) | Una cadena de entrada se dice que es aceptada por un AFN si existe una secuencia de transiciones, correspondiente a la cadena de entrada, que lleva del estado inicial a algún estado final |\n",
    "| Se puede encontrar un AFD por cada AFN que acepte el mismo lenguaje | Acepta transiciones $\\lambda$: el autómata puede cambiar de estado sin tener que leer ningún símbolo de la entrada (arcos sin etiquetas entre pares de estados) |\n"
   ]
  },
  {
   "cell_type": "markdown",
   "id": "2814b0f1-4746-4555-9f11-818f2dd8779e",
   "metadata": {},
   "source": [
    "## Ejemplos AFD"
   ]
  },
  {
   "cell_type": "markdown",
   "id": "96d05781-d650-448a-9c0f-19592f65a0b5",
   "metadata": {},
   "source": [
    "$L = \\{ab^n / n ≥ 0\\} = \\{a, ab, abb, abbb, ...\\}$\n",
    "* $Q = \\{q0, q1\\}$\n",
    "* $\\Sigma = \\{a, b\\}$\n",
    "* $q0 = q0$\n",
    "* $F = \\{q1\\}$\n",
    "* $\\delta = \\{\\delta(q0, a) = q1, \\delta(q1, b) = q1\\}$\n",
    "\n",
    "\n",
    "```mermaid\n",
    "flowchart LR\n",
    "    q0((>q0))--a-->q1(((q1)))\n",
    "    q1--b-->q1\n",
    "```\n",
    "\n",
    "| $Q$   | $a$  | $b$  |\n",
    "| --    | --   | --   |\n",
    "| >$q0$ | $q1$ | -    |\n",
    "| *$q1$ | -    | $q1$ |"
   ]
  },
  {
   "cell_type": "markdown",
   "id": "121f5928-366c-478b-ae27-e52b845bfd8c",
   "metadata": {},
   "source": [
    "$L = \\{a^ncb^m / n > 0 \\wedge m ≥ 0\\} = \\{ac, acb, aaaac, acbbbb, aaaacbbbbb, ...\\}$\n",
    "* $Q = \\{q0, q1, q2\\}$\n",
    "* $\\Sigma = \\{a, b, c\\}$\n",
    "* $q0 = q0$\n",
    "* $F = \\{q2\\}$\n",
    "* $\\delta = \\{\\delta(q0, a) = q1, \\delta(q1, a) = q1, \\delta(q1, c) = q2, \\delta(q2, b) = q2\\}$\n",
    "\n",
    "```mermaid\n",
    "flowchart LR\n",
    "    q0((>q0))--a-->q1((q1))\n",
    "    q1--a-->q1\n",
    "    q1--c-->q2(((q2)))\n",
    "    q2--b-->q2    \n",
    "```\n",
    "\n",
    "| $Q$   | $a$  | $b$  | $c$  |\n",
    "| --    | --   | --   | --   |\n",
    "| >$q0$ | $q1$ | -    | -    |\n",
    "| $q1$  | $q1$ | -    | $q2$ |\n",
    "| *$q2$ | -    | $q2$ | -    |"
   ]
  },
  {
   "cell_type": "markdown",
   "id": "761c64ae-d146-4c37-9756-db62f616a511",
   "metadata": {},
   "source": [
    "$L = \\{00w1 / w \\in {0, 1}^*\\} = \\{001, 00001101, 00110011, ...\\}$\n",
    "\n",
    "```mermaid\n",
    "flowchart LR\n",
    "    q0((>q0))--0-->q1((q1))\n",
    "    q1--0-->q2((q2))\n",
    "    q2--0-->q2\n",
    "    q2--1-->q3(((q3)))\n",
    "    q3--0-->q2\n",
    "    q3--1-->q3\n",
    "```\n",
    "\n",
    "| $Q$   | $0$  | $1$  |\n",
    "| --    | --   | --   |\n",
    "| >$q0$ | $q1$ | -    |\n",
    "| $q1$  | $q2$ | -    |\n",
    "| $q2$  | $q2$ | $q3$ |\n",
    "| *$q3$ | $q2$ | $q3$ |"
   ]
  },
  {
   "cell_type": "markdown",
   "id": "853dd53c-6c1a-4f9a-a261-cc7a63c547b5",
   "metadata": {},
   "source": [
    "$L = \\{wc^{3m} / w \\in {a, b}^* \\wedge$ la cantidad de $b$´s es par $\\wedge m ≥ 0\\} = \\{\\lambda, a, bb, ccc, accc, abbcccccc, babaccc, ...\\}$\n",
    "\n",
    "```mermaid\n",
    "flowchart LR\n",
    "    q0(((>q0)))--a-->q0\n",
    "    q0--b-->q1((q1))\n",
    "    q0--c-->q2((q2))\n",
    "    q1--a-->q1\n",
    "    q1--b-->q0\n",
    "    q2--c-->q3((q3))\n",
    "    q3--c-->q4(((q4)))\n",
    "    q4--c-->q2  \n",
    "```\n",
    "\n",
    "| $Q$    | $a$  | $b$  | $c$  |\n",
    "| --     | --   | --   | --   |\n",
    "| >*$q0$ | $q0$ | $q1$ | $q2$ |\n",
    "| $q1$   | $q1$ | $q0$ | -    |\n",
    "| $q2$   | -    | -    | $q3$ |\n",
    "| $q3$   | -    | -    | $q4$ |\n",
    "| *$q4$  | -    | -    | $q2$ |"
   ]
  },
  {
   "cell_type": "markdown",
   "id": "e15d02f2-009f-4a19-9391-394a18b04342",
   "metadata": {},
   "source": [
    "ER = $a (a | ba^*)$  $L = \\{aa, ab, aba, abaa, abaaa, ...\\}$\n",
    "\n",
    "```mermaid\n",
    "flowchart LR\n",
    "    q0((>q0))--a-->q1((q1))\n",
    "    q1--a-->q2(((q2)))\n",
    "    q1--b-->q3(((q3)))\n",
    "    q3--a-->q3 \n",
    "```\n",
    "\n",
    "| $Q$   | $a$  | $b$  |\n",
    "| --    | --   | --   |\n",
    "| >$q0$ | $q1$ | -    |\n",
    "| $q1$  | $q2$ | $q3$ |\n",
    "| *$q2$ | -    | -    |\n",
    "| *$q3$ | $q3$ | -    |"
   ]
  },
  {
   "cell_type": "markdown",
   "id": "8b21767c-f016-41ee-8b1a-e43697dc452c",
   "metadata": {},
   "source": [
    "## AF completo"
   ]
  },
  {
   "cell_type": "markdown",
   "id": "3c37cc7d-b0da-47cc-8c92-f3329d6dcba3",
   "metadata": {},
   "source": [
    "* Un AF es completo si cada estado tiene exactamente una transición por cada símbolo del alfabeto\n",
    "* Un AF es completo cuando su tabla de transiciones no tiene \"huecos\"; si los tiene, el AF es incompleto\n",
    "* Completar un AF significa eliminar los \"huecos\" de su tabla de transiciones, agregando un nuevo estado, que se denomina ESTADO DE RECHAZO o ESTADO DE NO ACEPTACIÓN o ESTADO DE ERROR (qe)\n",
    "* Ejemplo:\n",
    "\n",
    "```mermaid\n",
    "flowchart LR\n",
    "    q0((>q0))--a-->q1((q1))\n",
    "    q0--b-->qe((qe))\n",
    "    q1--a-->q2(((q2)))\n",
    "    q1--b-->q3(((q3)))\n",
    "    q2--a-->qe\n",
    "    q2--b-->qe\n",
    "    q3--a-->q3\n",
    "    q3--b-->qe\n",
    "    qe--a-->qe\n",
    "    qe--b-->qe\n",
    "```\n",
    "\n",
    "| $Q$   | $a$  | $b$  |\n",
    "| --    | --   | --   |\n",
    "| >$q0$ | $q1$ | $qe$ |\n",
    "| $q1$  | $q2$ | $q3$ |\n",
    "| *$q2$ | $qe$ | $qe$ |\n",
    "| *$q3$ | $q3$ | $qe$ |\n",
    "| $qe$  | $qe$ | $qe$ |"
   ]
  },
  {
   "cell_type": "markdown",
   "id": "bd6c4974-67d5-4bb9-ba25-9041a23e9528",
   "metadata": {},
   "source": [
    "## AF equivalentes"
   ]
  },
  {
   "cell_type": "markdown",
   "id": "2d7de230-e82e-4574-8706-6cc1a360bec9",
   "metadata": {},
   "source": [
    "* Dos AF son EQUIVALENTES si reconocen al mismo LR\n",
    "* Ejemplos:\n",
    "\n",
    "```mermaid\n",
    "flowchart LR\n",
    "    q0(((>q0)))--a-->q0\n",
    "    q0--b-->q1((q1))\n",
    "    q1--a-->q0\n",
    "    q1--b-->q1\n",
    "```\n",
    "\n",
    "| $Q$    | $a$  | $b$  |\n",
    "| --     | --   | --   |\n",
    "| >*$q0$ | $q0$ | $q1$ |\n",
    "| $q1$   | $q0$ | $q1$ |\n",
    "\n",
    "```mermaid\n",
    "flowchart LR\n",
    "    q0(((>q0)))--a-->q1(((q1)))\n",
    "    q0--b-->q2((q2))\n",
    "    q1--a-->q1\n",
    "    q1--b-->q2\n",
    "    q2--a-->q0\n",
    "    q2--b-->q2\n",
    "```\n",
    "\n",
    "| $Q$    | $a$  | $b$  |\n",
    "| --     | --   | --   |\n",
    "| >*$q0$ | $q1$ | $q2$ |\n",
    "| *$q1$  | $q1$ | $q2$ |\n",
    "| $q2$   | $q0$ | $q2$ |"
   ]
  },
  {
   "cell_type": "markdown",
   "id": "7041daf1-9a09-4124-bdfb-6e7cbfd29a22",
   "metadata": {},
   "source": [
    "## Ejemplos AFN"
   ]
  },
  {
   "cell_type": "markdown",
   "id": "fa6e9c8d-3247-41cf-9b54-7a4442edb4cb",
   "metadata": {},
   "source": [
    "$L = \\{a^nb^m / n ≥ 1 \\wedge m ≥ 0\\} = \\{a, aa, ab, abb, ...\\}$\n",
    "\n",
    "```mermaid\n",
    "flowchart LR\n",
    "    q0((>q0))--a-->q0\n",
    "    q0--a-->q1(((q1)))\n",
    "    q1--b-->q1\n",
    "```\n",
    "\n",
    "| $Q$   | $a$          | $b$  |\n",
    "| --    | --           | --   |\n",
    "| >$q0$ | $\\{q0, q1\\}$ | -    |\n",
    "| *$q1$ | -            | $q1$ |"
   ]
  },
  {
   "cell_type": "markdown",
   "id": "a4e0b25a-e074-430f-adac-9446d18ba996",
   "metadata": {},
   "source": [
    "$L = \\{w / w \\in \\{0, 1\\}^* \\wedge w$ contiene la subpalabra 00 $\\vee w$ contiene la subpalabra 11$\\} = \\{00, 11, 000101010, 101011010, 10100, ...\\}$\n",
    "\n",
    "```mermaid\n",
    "flowchart LR\n",
    "    q0((>q0))--0-->q0\n",
    "    q0--0-->q3((q3))\n",
    "    q0--1-->q0\n",
    "    q0--1-->q1((q1))\n",
    "    q1--1-->q2(((q2)))\n",
    "    q2--0-->q2\n",
    "    q2--1-->q2\n",
    "    q3--0-->q4(((q4)))\n",
    "    q4--0-->q4\n",
    "    q4--1-->q4\n",
    "```\n",
    "\n",
    "| $Q$   | $0$          | $1$          |\n",
    "| --    | --           | --           |\n",
    "| >$q0$ | $\\{q0, q3\\}$ | $\\{q0, q1\\}$ |\n",
    "| $q1$  | -            | $q2$         |\n",
    "| *$q2$ | $q2$         | $q2$         |\n",
    "| $q3$  | $q4$         | -            |\n",
    "| *$q4$ | $q4$         | $q4$         |"
   ]
  },
  {
   "cell_type": "markdown",
   "id": "3b500590-43ea-42d4-89de-86f7eda01c2f",
   "metadata": {},
   "source": [
    "ER = $(a \\mid b)^* abb$\n",
    "\n",
    "```mermaid\n",
    "flowchart LR\n",
    "    q0((>q0))--a-->q0\n",
    "    q0--a-->q1((q1))\n",
    "    q0--b-->q0\n",
    "    q1--b-->q2((q2))\n",
    "    q2--b-->q3(((q3)))\n",
    "```\n",
    "\n",
    "| $Q$   | $a$          | $b$  |\n",
    "| --    | --           | --   |\n",
    "| >$q0$ | $\\{q0, q1\\}$ | $q0$ |\n",
    "| $q1$  | -            | $q2$ |\n",
    "| $q2$  | -            | $q3$ |\n",
    "| *$q3$ | -            | -    |"
   ]
  },
  {
   "cell_type": "markdown",
   "id": "1063c185-275f-440d-8de7-608f0cf2b9bc",
   "metadata": {},
   "source": [
    "## Operaciones con AF"
   ]
  },
  {
   "cell_type": "markdown",
   "id": "213c2248-f484-46ba-b587-3ccc80cbfdc2",
   "metadata": {},
   "source": [
    "* Complemento AFD completo\n",
    "* Unión\n",
    "* Concatenación"
   ]
  },
  {
   "cell_type": "markdown",
   "id": "97dfcba6-6565-4f25-8329-aeadf8031053",
   "metadata": {},
   "source": [
    "### Complemento AFD completo"
   ]
  },
  {
   "cell_type": "markdown",
   "id": "0bf12bfa-09ad-4c4a-810d-a7fcf149a62e",
   "metadata": {},
   "source": [
    "| $L(M^c) =  \\sim L(M)$                                   |\n",
    "| --                                                      |\n",
    "| $Q$                                                     |\n",
    "| $\\Sigma$                                                |\n",
    "| $q0$                                                    |\n",
    "| $F = Q - F$ (se invierten estados finales y no finales) |\n",
    "| $\\delta$                                                |\n",
    "\n",
    "Ejemplo: Sea el lenguaje $L$: \"Todas las palabras sobre el alfabeto $\\{a, b\\}$ que comienzan con $b$ y tienen longitud mayor o igual que tres\"\n",
    "\n",
    "```mermaid\n",
    "flowchart LR\n",
    "    q5((>q5))--a-->q9((q9))\n",
    "    q5--b-->q6((q6))\n",
    "    q6--a-->q7((q7))\n",
    "    q6--b-->q7\n",
    "    q7--a-->q8(((q8)))\n",
    "    q7--b-->q8\n",
    "    q8--a-->q8\n",
    "    q8--b-->q8\n",
    "    q9--a-->q9\n",
    "    q9--b-->q9\n",
    "```\n",
    "\n",
    "| $Q$   | $a$  | $b$  |\n",
    "| --    | --   | --   |\n",
    "| >$q5$ | $q9$ | $q6$ |\n",
    "| $q6$  | $q7$ | $q7$ |\n",
    "| $q7$  | $q8$ | $q8$ |\n",
    "| *$q8$ | $q8$ | $q8$ |\n",
    "| $q9$  | $q9$ | $q9$ |\n",
    "\n",
    "```mermaid\n",
    "flowchart LR\n",
    "    q5(((>q5)))--a-->q9(((q9)))\n",
    "    q5--b-->q6(((q6)))\n",
    "    q6--a-->q7(((q7)))\n",
    "    q6--b-->q7\n",
    "    q7--a-->q8((q8))\n",
    "    q7--b-->q8\n",
    "    q8--a-->q8\n",
    "    q8--b-->q8\n",
    "    q9--a-->q9\n",
    "    q9--b-->q9\n",
    "```\n",
    "\n",
    "| $Q$    | $a$  | $b$  |\n",
    "| --     | --   | --   |\n",
    "| >*$q5$ | $q9$ | $q6$ |\n",
    "| *$q6$  | $q7$ | $q7$ |\n",
    "| *$q7$  | $q8$ | $q8$ |\n",
    "| $q8$   | $q8$ | $q8$ |\n",
    "| *$q9$  | $q9$ | $q9$ |"
   ]
  },
  {
   "cell_type": "markdown",
   "id": "dcfc2310-e220-4c3c-a865-25f8b186e143",
   "metadata": {},
   "source": [
    "### Unión"
   ]
  },
  {
   "cell_type": "markdown",
   "id": "bc8cd7ea-8596-47cb-a6e4-745fd7afd5ba",
   "metadata": {},
   "source": [
    "| $M = M_1 \\cup M_2$ |\n",
    "| --                 |\n",
    "| $Q = Q_1 \\cup Q_2$ |\n",
    "| $\\Sigma$           |\n",
    "| $q0 = q1 \\cup q2$  |\n",
    "| $F = F_1 \\cup F_2$ |\n",
    "| $\\delta = \\delta_1 \\cup \\delta_2 / \\delta(q, w) = \\delta_1(q, w) \\, si \\, q \\in Q_1,  \\delta(q, w) = \\delta_2(q, w) \\, si \\, q \\in Q_2$ |"
   ]
  },
  {
   "cell_type": "markdown",
   "id": "f865162b-fc32-46c8-93bc-0cbc9e34e87e",
   "metadata": {},
   "source": [
    "### Concatenación"
   ]
  },
  {
   "cell_type": "markdown",
   "id": "bb1b7641-834c-455d-b761-db018fc7e327",
   "metadata": {},
   "source": [
    "| $M = M_1.M_2$ |\n",
    "| --            |\n",
    "| $Q = Q_1 \\cup Q_2$ |\n",
    "| $\\Sigma$           |\n",
    "| $q0 = q1$          |\n",
    "| $F = F_2$          |\n",
    "| $\\delta(q, a) = \\delta_1(q, a) \\, si \\, q \\in Q_1 \\wedge a \\in \\Sigma, \\delta(q, a) = \\delta_2(q, a) \\, si \\, q \\in Q_2 \\wedge a \\in \\Sigma, \\delta(q, \\lambda) = q2 \\, si \\, \\forall q \\in F_1$ |"
   ]
  },
  {
   "cell_type": "markdown",
   "id": "a1e41d77-2346-4b80-9e3b-46915becae85",
   "metadata": {},
   "source": [
    "## Programa Prolog que implementa un AF"
   ]
  },
  {
   "cell_type": "code",
   "execution_count": 1,
   "id": "4b3b266c-fb1a-458c-8e53-15b4626b79c2",
   "metadata": {},
   "outputs": [],
   "source": [
    "import janus_swi as janus\n",
    "\n",
    "# Conectar con Prolog\n",
    "janus.consult(\"af\", \"\"\"\n",
    "% Ejemplo: ER a* (b | bb)\n",
    "final(q1).\n",
    "final(q2).\n",
    "transicion(q0, a, q0).\n",
    "transicion(q0, b, q1).\n",
    "transicion(q1, b, q2).\n",
    "automata([], E) :- final(E).\n",
    "automata([H|Q], E) :- transicion(E, H, E2), automata(Q, E2), !.\n",
    "automata(L) :- automata(L, q0).\n",
    "\"\"\")"
   ]
  },
  {
   "cell_type": "code",
   "execution_count": 2,
   "id": "851b5936-7b3b-4751-a6ab-c19b81c23bc9",
   "metadata": {},
   "outputs": [
    {
     "data": {
      "text/plain": [
       "{'truth': False}"
      ]
     },
     "execution_count": 2,
     "metadata": {},
     "output_type": "execute_result"
    }
   ],
   "source": [
    "janus.query_once(\"automata([b, b, b]).\") "
   ]
  },
  {
   "cell_type": "code",
   "execution_count": 3,
   "id": "8f9ce66f-ba98-4cc6-b9f1-1875d0bbd478",
   "metadata": {},
   "outputs": [
    {
     "data": {
      "text/plain": [
       "{'truth': True}"
      ]
     },
     "execution_count": 3,
     "metadata": {},
     "output_type": "execute_result"
    }
   ],
   "source": [
    "janus.query_once(\"automata([a, a, b, b]).\")"
   ]
  },
  {
   "cell_type": "markdown",
   "id": "777243db-ce56-41f9-99c6-6fb395b7d430",
   "metadata": {},
   "source": [
    "## En resumen"
   ]
  },
  {
   "cell_type": "markdown",
   "id": "7f896d27-374d-4a83-a141-49c76d7ec0a5",
   "metadata": {},
   "source": [
    "![resumen](img/af.jpeg)"
   ]
  }
 ],
 "metadata": {
  "kernelspec": {
   "display_name": "Python [conda env:base] *",
   "language": "python",
   "name": "conda-base-py"
  },
  "language_info": {
   "codemirror_mode": {
    "name": "ipython",
    "version": 3
   },
   "file_extension": ".py",
   "mimetype": "text/x-python",
   "name": "python",
   "nbconvert_exporter": "python",
   "pygments_lexer": "ipython3",
   "version": "3.12.7"
  }
 },
 "nbformat": 4,
 "nbformat_minor": 5
}
