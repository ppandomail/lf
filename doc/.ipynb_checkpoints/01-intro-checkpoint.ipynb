{
 "cells": [
  {
   "cell_type": "markdown",
   "id": "40ceb2ac-24a0-45d1-80f7-d9d0e93901e9",
   "metadata": {},
   "source": [
    "# Introducción a los Lenguajes Formales\n",
    "---"
   ]
  },
  {
   "cell_type": "markdown",
   "id": "204750c6-5e93-4443-ae8f-3a798ebdb3d8",
   "metadata": {},
   "source": [
    "## Lenguaje Formal ($L$)"
   ]
  },
  {
   "cell_type": "markdown",
   "id": "2d5f2ce2-b122-448d-95f0-f75df38a931b",
   "metadata": {},
   "source": [
    "* Esta formado por PALABRAS que son cadenas constituídas por SÍMBOLOS de un ALFABETO\n",
    "* Son lenguajes definidos sobre un alfabeto $\\Sigma$"
   ]
  },
  {
   "cell_type": "markdown",
   "id": "eedb5878-0d7f-4e58-8fe7-bc77f23d279d",
   "metadata": {},
   "source": [
    "## Símbolo ($\\sigma$)"
   ]
  },
  {
   "cell_type": "markdown",
   "id": "a9c92e29-d4f2-494b-9600-7781cf20da46",
   "metadata": {},
   "source": [
    "* Es el elemento constructivo básico; es la entidad fundamental, indivisible (atómica)\n",
    "* Ejemplos:\n",
    "\n",
    "| $\\sigma$           |                                                                                |\n",
    "| --                 | --                                                                             |\n",
    "| **a**              | forma parte del alfabeto español, inglés, etc.                                 |\n",
    "| **>, =, +**        | son elementos del alfabeto de los operadores de los lenguajes Pascal y ANSI C  |\n",
    "| **IF, ELSE, THEN** | para construir una sentencia condicional simple en un lenguaje de programación |"
   ]
  },
  {
   "cell_type": "markdown",
   "id": "c34b539f-5e81-4c33-a19f-d0f8b00f8122",
   "metadata": {},
   "source": [
    "## Alfabeto ($\\Sigma$)"
   ]
  },
  {
   "cell_type": "markdown",
   "id": "f50c2688-bce3-4038-82ef-82e947c84e5d",
   "metadata": {},
   "source": [
    "* Es un conjunto no vacío y finito de símbolos indivisibles\n",
    "* Con sus símbolos se construyen las palabras de un lenguaje\n",
    "\n",
    "| $\\Sigma$                                              |                                                                                |\n",
    "| --                                                    | --                                                                             |\n",
    "| $\\Sigma_1 = \\{0, 1\\}$                                 | proporciona los símbolos utilizados en la construcción de los números binarios |\n",
    "| $\\Sigma_2 = \\{0, 1, 2, 3, 4, 5, 6, 7, 8, 9, -, +\\}$   | proporciona los números enteros con signo en base 10                           |\n",
    "| $\\Sigma_3 = \\{na, pa, la, bra\\}$                      | alfabeto formado por cuatro símbolos                                           |\n",
    "| $\\Sigma_4 = \\{a, b, ab\\}$                             | no son símbolos indivisibles ab se forma con a y b. Es un alfabeto AMBIGUO     |"
   ]
  },
  {
   "cell_type": "markdown",
   "id": "78d12eaa-bbbc-4ca6-bb77-86336502b8fe",
   "metadata": {},
   "source": [
    "## Palabra ($w$)"
   ]
  },
  {
   "cell_type": "markdown",
   "id": "5292509a-24ba-4a78-b37c-39916ca5d45e",
   "metadata": {},
   "source": [
    "* Es una secuencia finita de símbolos tomados de cierto alfabeto y colocados uno a continuación de otro (concatenación/yuxtaposición)\n",
    "* Una secuencia es una colección enumerada de objetos en la cual las repeticiones están permitidas y el orden importa\n",
    "* $w = \\sigma_1 \\sigma_2 ... \\sigma_n$  donde $\\sigma_i \\in \\Sigma$, para $1 ≤ i ≤ n$\n",
    "\n",
    "| w                    | se lee                      |                                                                  |\n",
    "| --                   | --                          | --                                                               |\n",
    "| **abac**             | \"a-b-a-c\"                   | es una palabra formada con símbolos del alfabeto $\\{a, b, c\\}$   |\n",
    "| **101110**           | \"uno-cero-uno-uno-uno-cero\" | es una palabra construida con símbolos del alfabeto $\\{0, 1\\}$   |\n",
    "| **abc, abb, aaaaaa** |                             | son palabras construidas con símbolos del alfabeto $\\{a, b, c\\}$ |"
   ]
  },
  {
   "cell_type": "markdown",
   "id": "190808ed-6806-4aa0-8f42-7b5cd4530b9b",
   "metadata": {},
   "source": [
    "### Longitud de una palabra ($\\mid w \\mid$)"
   ]
  },
  {
   "cell_type": "markdown",
   "id": "39285511-3bb9-4790-aee9-8afd6fbea530",
   "metadata": {},
   "source": [
    "* Es la cantidad de símbolos del alfabeto que la componen\n",
    "* Formalmente $\\mid w \\mid: \\Sigma^* \\to Nat \\cup \\{0\\}$\n",
    "\n",
    "| $w$         | $\\mid w \\mid$ | $\\Sigma$                 |\n",
    "| --          | --            | --                       |\n",
    "| **palabra** | 7             | $\\{a, b, c, d, ..., z\\}$ |\n",
    "| **palabra** | 3             | $\\{na, pa, la, bra\\}$    |\n",
    "| **abac**    | 4             | $\\{a, b, c\\}$            |\n",
    "| **b**       | 1             | $\\{a, b\\}$               |"
   ]
  },
  {
   "cell_type": "markdown",
   "id": "04764848-4541-4bc1-a2b2-91702217cf49",
   "metadata": {},
   "source": [
    "### Palabra vacía ($\\lambda$)"
   ]
  },
  {
   "cell_type": "markdown",
   "id": "03f056b8-2626-467d-a71d-b58dd6c8784c",
   "metadata": {},
   "source": [
    "* Es la palabra que no tiene símbolos, es decir, $\\mid \\lambda \\mid = 0$\n",
    "* $\\lambda$ no forma parte de ningún alfabeto"
   ]
  },
  {
   "cell_type": "markdown",
   "id": "24f69ff5-c941-4a6b-9df3-137d2e42dec0",
   "metadata": {},
   "source": [
    "### Potenciación de un símbolo"
   ]
  },
  {
   "cell_type": "markdown",
   "id": "92d8c905-5318-4609-8801-ce4c2763db59",
   "metadata": {},
   "source": [
    "* $\\sigma^n$ representa la repetición del símbolo $\\sigma$, $n$ veces, donde $n \\in Nat$ \n",
    "* Simplifica la escritura de palabras\n",
    "\n",
    "| w                |          |\n",
    "| --               | --       |\n",
    "| **aaaaabbbbbbb** | $a^5b^7$ |\n",
    "| **aaaabbbb**     | $a^4b^4$ |"
   ]
  },
  {
   "cell_type": "markdown",
   "id": "e4cf47ac-fc89-4340-9cda-370f3d38921d",
   "metadata": {},
   "source": [
    "### Concatenación de dos palabras"
   ]
  },
  {
   "cell_type": "markdown",
   "id": "ab798a39-f295-4843-b7a4-deed7dbbbadd",
   "metadata": {},
   "source": [
    "* Operación aplicada a palabras ($w_1w_2$) y produce una nueva palabra formada por los símbolos de la primera palabra seguidos inmediatamente por los símbolos de la segunda palabra\n",
    "* Formalmente: $\\Sigma^* \\times \\Sigma^* \\to \\Sigma^*$\n",
    "* No es conmutativa, es decir, $w_1 w_2 \\neq w_2 w_1$\n",
    "* $\\lambda$ es la identidad para la concatenación, es decir, $w \\lambda = \\lambda w = w$\n",
    "\n",
    "| $w_1$ | $w_2$ | $w_1w_2$     |\n",
    "| --    | --    | --           |\n",
    "| aab   | ba    | **aabba**    |\n",
    "| abc   | aaaaa | **abcaaaaa** |"
   ]
  },
  {
   "cell_type": "markdown",
   "id": "6eaa330f-8366-4f0b-8f5b-217382f25af1",
   "metadata": {},
   "source": [
    "### Potenciación de una palabra"
   ]
  },
  {
   "cell_type": "markdown",
   "id": "3d3e847d-23e9-4430-8232-18e73a26989e",
   "metadata": {},
   "source": [
    "* Si $w$ es una palabra, entonces $w^n$ (con $n ≥ 1$ y entero) representa la palabra que resulta de concatenar la palabra $w$, consigo misma, $n-1$ veces\n",
    "* $w^n = w.w.w ... w$ $(n-veces)$\n",
    "\n",
    "| $w$    | $w^0$     | $w^2$ | $w^3$  |\n",
    "| --     | --        | --    | --     |\n",
    "| **ab** | $\\lambda$ | abab  | ababab |\n",
    "| **a**  | $\\lambda$ | aa    | aaa    |"
   ]
  },
  {
   "cell_type": "markdown",
   "id": "43672c4a-6ef0-4bd8-87f2-aba20cc59ee5",
   "metadata": {},
   "source": [
    "### Igualdad de palabras"
   ]
  },
  {
   "cell_type": "markdown",
   "id": "a44ebc53-bc4d-4df1-a687-8d2922b5855c",
   "metadata": {},
   "source": [
    "* Si $w_1$ es una palabra $(w_1 = a_1a_2 ... a_n)$ y $w_2$ es otra palabra ($w_2 = b_1b_2 ... b_m)$, $(w_1, w_2 \\in \\Sigma^*)$, entonces $w_1 = w_2$ si se cumple que:\n",
    "  * $|w_1| = |w_2|$  y\n",
    "  * $(\\forall i: 1 ≤ i ≤ n: a_i = b_i)$\n",
    "* Ejemplos:\n",
    "  * $abc = abc$\n",
    "  * $abc \\neq ac$"
   ]
  },
  {
   "cell_type": "markdown",
   "id": "89c822f7-93bb-4e2e-8e1b-e702c4c88203",
   "metadata": {},
   "source": [
    "### Reflexión o reversa de una palabra"
   ]
  },
  {
   "cell_type": "markdown",
   "id": "dc176109-4223-40fc-9aff-a0680ee4858f",
   "metadata": {},
   "source": [
    "* Si $w$ es una palabra $(w = σ_1σ_2 ... σ_n)$, entonces $w^{-1}$ o $w^R$ representa la palabra que resulta de invertir el orden de los símbolos en la palabra\n",
    "* $w^{-1} = σ_n ... σ_2σ_1$\n",
    "\n",
    "| $w$       | $w^{-1}$  |\n",
    "| --        | --        |\n",
    "| **ab**    | **ba**    |\n",
    "| **abc**   | **cba**   |\n",
    "| **aaaab** | **baaaa** |"
   ]
  },
  {
   "cell_type": "markdown",
   "id": "6b5b561e-0aae-4882-a5ae-e14523fc0401",
   "metadata": {},
   "source": [
    "### Prefijo, sufijo e infijo de una palabra"
   ]
  },
  {
   "cell_type": "markdown",
   "id": "ca417929-b5f8-4b88-a083-b9cdd2e9d53d",
   "metadata": {},
   "source": [
    "|             |    | Ejemplo para $w = abcd$ |\n",
    "| --          | -- | -- |\n",
    "| **Prefijo** | secuencia de 0 ó + símbolos iniciales de esa palabra | $\\lambda, a, ab, abc, abcd$ |\n",
    "| **Sufijo**  | secuencia de 0 ó + símbolos finales de esa palabra   | $\\lambda, d, cd, bcd, abcd$ |\n",
    "| **Infijo**  | secuencia de símbolos que se obtiene eliminando 0 ó + símbolos iniciales y 0 ó + símbolos finales de esa cadena | $abcd, bcd, cd, d, abc, ab, a, bc, b, c, \\lambda$ |"
   ]
  },
  {
   "cell_type": "markdown",
   "id": "5f2c2ff1-f81d-4741-a593-8e75970b32d1",
   "metadata": {},
   "source": [
    "## Lenguaje Natural vs Lenguaje Formal"
   ]
  },
  {
   "cell_type": "markdown",
   "id": "bee5200d-d68e-428c-bf3a-365e4c8d553c",
   "metadata": {},
   "source": [
    "|              | Lenguaje Natural                                           | Lenguaje Formal |\n",
    "| --           | --                                                         | --              |\n",
    "| Definición   | hablado y/o escrito por los seres humanos para comunicarse | abstracto       |\n",
    "| Foco         | Semántica (significado de las palabras)                    | Sintaxis        |\n",
    "| Evolucionan? | SI, incorporando nuevos términos y reglas gramaticales     | NO              |\n",
    "| Reglas       | después del lenguaje                                       | antes           |  \n",
    "| Ambigüedad?  | admite (ejemplo: En el cerro hay una llama)                | no admite       |"
   ]
  },
  {
   "cell_type": "markdown",
   "id": "c192b98c-79fd-4c34-a56a-31a0a1509bac",
   "metadata": {},
   "source": [
    "### Definición de un lenguaje formal"
   ]
  },
  {
   "cell_type": "markdown",
   "id": "3521aae2-d5a2-42b6-a241-df73be283ad3",
   "metadata": {},
   "source": [
    "|                             |                                          |\n",
    "| --                          | --                                       |\n",
    "| **Enumeración (extensión)** | $\\{aa, aaaa, aaaaaa, aaaaaaaa, ... \\}$   |\n",
    "| **Comprensión coloquial**   | $\\{$palabras con cantidad par de aes$\\}$ |\n",
    "| **Comprensión simbólica**   | $\\{a^{2n} / n >= 1\\}$                    |"
   ]
  },
  {
   "cell_type": "markdown",
   "id": "f2451bbf-c25e-48d8-8046-a5145b7eda9e",
   "metadata": {},
   "source": [
    "### Cardinalidad de un lenguaje formal"
   ]
  },
  {
   "cell_type": "markdown",
   "id": "22d145fd-905e-4574-87aa-42ed7bbc2a54",
   "metadata": {},
   "source": [
    "* Es la cantidad de palabras que lo componen\n",
    "\n",
    "| $L(\\Sigma), \\Sigma = \\{a, b\\}$  | Cardinalidad |\n",
    "| --                              | --           |\n",
    "| $L = \\{a, ab, aab\\}$            | **3**        |\n",
    "| $L = \\{λ\\}$                     | **1**        |"
   ]
  },
  {
   "cell_type": "markdown",
   "id": "031306b7-7e71-42a3-9c1b-a1d6f4046ec6",
   "metadata": {},
   "source": [
    "### Sublenguaje"
   ]
  },
  {
   "cell_type": "markdown",
   "id": "1e8f1aba-d5ff-4f8a-a0a8-52fe4f9021e3",
   "metadata": {},
   "source": [
    "* Dado que un lenguaje formal es un conjunto, un SUBLENGUAJE es un subconjunto de un lenguaje dado\n",
    "* Ejemplo: Sea $L_1 = \\{a, ab, aab\\}$. Entonces, $L_2 = \\{ab, aab\\}$ es un sublenguaje de $L_1$, mientras que $L_3 = \\{ \\}$ es el sublenguaje vacío de $L_1$"
   ]
  },
  {
   "cell_type": "markdown",
   "id": "4b7b9e59-4437-4bc0-8f27-9f9b5b96c31e",
   "metadata": {},
   "source": [
    "### Tipos de Lenguajes formales según cardinalidad"
   ]
  },
  {
   "cell_type": "markdown",
   "id": "a2efd6a0-1ab4-4834-88a9-d4b4b9d15775",
   "metadata": {},
   "source": [
    "* **Lenguajes formales finitos**: lenguajes con un número finito de palabras\n",
    "\n",
    "| $L$                    |                                                    |\n",
    "| --                     | --                                                 |\n",
    "| $L = \\{\\} = \\emptyset$ | Lenguaje finito vacío                              |\n",
    "| $L = \\{\\lambda\\}$      | Lenguaje finito que contiene sólo la palabra vacía |\n",
    "| $L = \\{a, ab, aab\\}$   | Lenguaje finito que contiene sólo tres palabras    |\n",
    "\n",
    "* **Lenguajes formales infinitos**: lenguajes con un número infinito de palabras\n",
    "\n",
    "| $L$                              |                                                                      |\n",
    "| --                               | --                                                                   |\n",
    "| $L = \\{a^n / n ≥ 1\\}$            | Lenguaje infinito (no existe límite superior para el supra índice n) |\n",
    "| $L = \\{a^{2n+1} b^n / n > 1\\}$   | Lenguaje infinito                                                    |\n",
    "| $L = \\{a^{2n+1} b^m / n,m > 1\\}$ | Lenguaje infinito                                                    |"
   ]
  },
  {
   "cell_type": "markdown",
   "id": "06c5fdbb-7395-4c16-8c7f-e83763f56fdc",
   "metadata": {},
   "source": [
    "### Lenguaje Universal ($\\Sigma^*$ - clausura sobre un alfabeto)"
   ]
  },
  {
   "cell_type": "markdown",
   "id": "0bc06d6f-553a-46f7-8c96-7304e6685d69",
   "metadata": {},
   "source": [
    "* Es un lenguaje infinito que contiene todas las palabras que se pueden formar con símbolos del alfabeto $\\Sigma$, más la palabra vacía, ya que pertenece a todos los universos\n",
    "* Es cerrado bajo concatenación, es decir, la concatenación de dos palabras cualesquiera de este lenguaje producirá siempre otra palabra del lenguaje\n",
    "\n",
    "* $\\Sigma^* = \\bigcup_{i = 0}^{n} \\Sigma^i$\n",
    "* $\\Sigma^i$ es el conjunto de todas las palabras de longitud i sobre $\\Sigma$\n",
    "\n",
    "| Si $\\Sigma = \\{a, b, c\\}$, entonces                                                |\n",
    "| --                                                                                 |\n",
    "| $\\Sigma^0 = \\{λ\\}$                                                                 |\n",
    "| $\\Sigma^1 = \\{a, b, c\\}$                                                           |\n",
    "| $\\Sigma^2 = \\{a, b, c\\} \\{a, b, c\\} = \\{aa, ab, ac, ba, bb, bc, ca, cb, cc\\}$      |\n",
    "| $\\Sigma^* = \\{λ, a, b, aa, ab, ba, bb, aaa, aab, aba, abb, ..., aabaabbbab, ...\\}$ |"
   ]
  },
  {
   "cell_type": "markdown",
   "id": "85238d09-b988-4860-92cf-c67a2005a6e0",
   "metadata": {},
   "source": [
    "### Lenguaje sobre un alfabeto ($L(\\Sigma)$)"
   ]
  },
  {
   "cell_type": "markdown",
   "id": "63fd077e-101f-4348-929b-2afe17d7850b",
   "metadata": {},
   "source": [
    "* Es todo subconjunto de $\\Sigma^*$, entonces $L \\subseteq \\Sigma^*$\n",
    "* Como el universo asociado a un alfabeto es infinito, hay infinitos lenguajes asociados a un alfabeto\n",
    "* Ejemplos:\n",
    "  * Si $\\Sigma = \\{na, pa, la, bra\\}$, dos posibles lenguajes de $\\Sigma$ serían:\n",
    "    * $L_1(\\Sigma) = \\{nana, napa, lana\\}$, y\n",
    "    * $L_2(\\Sigma) = \\{\\lambda, nana, pana, palabra, papa, pala\\}$\n",
    "  * Si  $\\Sigma = \\{a, b, c\\}$, $\\Sigma^* = \\{\\lambda, a, b, c, aa, ab, ac, ba, bb, bc, ca, cb, cc, aaa, aab, aac, ...\\}$\n",
    "    * $L_1(\\Sigma) = \\{\\}$\n",
    "    * $L_2(\\Sigma) = \\{\\lambda\\}$\n",
    "    * $L_3(\\Sigma) = \\{a, b, aa, bb, ab, ba\\}$\n",
    "    * $L_4(\\Sigma) = \\{a, aa, aaa, aaaa, ...\\} = \\{a^n / n ≥ 1\\}$\n",
    "    * $L_5(\\Sigma) = \\{a^n b^n / n ≥ 1\\} = \\{ab, aabb, aaabbb, ...\\}$"
   ]
  },
  {
   "cell_type": "markdown",
   "id": "293af2ee-7dbc-45c4-843a-57efe31f728b",
   "metadata": {},
   "source": [
    "### Operaciones con lenguajes"
   ]
  },
  {
   "cell_type": "markdown",
   "id": "764f9ed8-922f-40e3-9a2c-36834463b65f",
   "metadata": {},
   "source": [
    "* Sea $L_1 = \\{nana, napa, lana\\}$, $L_2 = \\{\\lambda, nana, pana, palabra, papa, pala\\}$, $L_3 = \\{0, 1\\}$, $L_4 = \\{0, 10\\}$\n",
    "\n",
    "| Operación | Definición | Ejemplo |\n",
    "| -- | -- | -- |\n",
    "| **Unión**        | $L_1 \\cup L_2  = \\{w \\in \\Sigma^* : w \\in L_1 \\vee  w \\in L_2\\}$     | $\\{\\lambda, nana, napa, lana, pana, palabra, papa, pala\\}$ |\n",
    "| **Intersección** | $L_1 \\cap L_2  = \\{w \\in \\Sigma^* : w \\in L_1 \\wedge w \\in L_2\\}$    | $\\{nana\\}$                                                 |\n",
    "| **Complemento**  | $\\overline{L_1} = \\{w \\in \\Sigma^* : w \\notin L_1\\}$                 | $\\{\\lambda, nanana, palana, ...\\}$                         |\n",
    "| **Diferencia**   | $L_1 - L_2 = L_1 \\cap \\overline{L_2}$                                | $\\{napa, lana\\}$                                           |\n",
    "| **Producto**     | $L_1 L_2 = \\{w_1w_2 \\in \\Sigma^* : w_1 \\in L_1 \\wedge w_2 \\in L_2\\}$ | $\\{nana, napa, lana, nananana, napanana, ...\\}$            |\n",
    "| **Potencia**     | $L^n = \\{ \\{\\lambda\\}$ si $n=0 \\vee LL^{n-1}$ si $n>0\\}$             | $L_3^2 = \\{00, 01, 10, 11\\}$                               |\n",
    "| **Reflexión**    | $L^{-1} = \\{w^{-1} : w \\in L\\}$                                      | $L_4^{-1} = \\{0, 01\\}$                                     |\n",
    "| **Cierre estrella (Kleene)** | $L^* = \\bigcup_{i ≥ 0} L^i$                              | $L_3^* = \\{\\lambda, 0, 1, 00, 01, 10, 11, 000, 001, ...\\}$ |\n",
    "| **Cierre positivo**          | $L^+ = \\bigcup_{i > 0} L^i$                              | $L_3^+ = \\{0, 1, 00, 01, 10, 11, 000, 001, ...\\}$          |"
   ]
  },
  {
   "cell_type": "markdown",
   "id": "8fd4186b-50eb-49a9-93eb-629e5b65960e",
   "metadata": {},
   "source": [
    "### Propiedades de los lenguajes"
   ]
  },
  {
   "cell_type": "markdown",
   "id": "859fbcda-a259-4b31-978f-7e2d8a04fcdb",
   "metadata": {},
   "source": [
    "| Propiedad                                      |                                                             |\n",
    "| --                                             | --                                                          |\n",
    "| **Concatenación es asociativa**                | $(L_1 L_2) L_3 = L_1 (L_2 L_3)$                             |\n",
    "| **Concatenación no es conmutativa**            | $L_1 L_2 ≠ L_2 L_1$                                         |\n",
    "| **Distributiva respecto a la unión**           | $L_1 (L_2 \\cup L_3) = L_1L_2 \\cup L_1L_3$                   |\n",
    "| **No distributiva respecto a la intersección** | $L_1 (L_2 \\cap L_3) ≠ L_1L_2  \\cap L_1L_3$                  |\n",
    "| **Potencia del lenguaje**                      | $L^0 = \\{\\lambda\\}, L^1 = L, L^2 = LL, ..., L^k = LL^{k-1}$ |\n",
    "| **Clausura del Lenguaje**                      | $L^* = L^0 \\cup L^1 \\cup L^2 \\cup L^3 \\cup ...$             |\n",
    "| **Reversa del Lenguaje**                       | $L^R = L^{-1} = \\{w^R \\in \\Sigma^* / w \\in L\\}$             |"
   ]
  },
  {
   "cell_type": "markdown",
   "id": "229fad73-5510-4375-b357-6feb73da49e9",
   "metadata": {},
   "source": [
    "### Equivalencias"
   ]
  },
  {
   "cell_type": "markdown",
   "id": "e6780556-c619-4ac8-b362-475f6da510e8",
   "metadata": {},
   "source": [
    "* $L^* = \\{\\lambda\\} \\cup L^+$\n",
    "* $L^+ = L^*  \\leftrightarrow \\lambda \\in L \\leftrightarrow \\lambda \\in L^+$\n",
    "* $L^*L = LL^* = L^+L^* = L^*L^+ = L^+$\n",
    "* $L^*L^* = L^*$ pero $L^+L^+ = L^2L^*$\n",
    "* $(L^*)^* = (L^+)^* = (L^*)^+ = L^*$\n",
    "* $(L^+)^+ = L^+$"
   ]
  },
  {
   "cell_type": "markdown",
   "id": "4fe3b42d-11ed-4716-805a-f9bdd7784550",
   "metadata": {},
   "source": [
    "## Jerarquía de Chomsky"
   ]
  },
  {
   "cell_type": "markdown",
   "id": "49c0b504-8094-4cdd-b7cf-8cce0c87fa0e",
   "metadata": {},
   "source": [
    "* En 1956 y 1959, el lingüista norteamericano Noam Chomsky publicó dos trabajos sobre los Lenguajes Naturales que, aplicados al área de los Lenguajes Formales, produjeron lo que se conoce como Jerarquía de Chomsky\n",
    "* Su idea: modelar los lenguajes naturales, con miras a la traducción automática\n",
    "* Establece una clasificación (según las restricciones que se imponen a sus producciones) de cuatro tipos de gramáticas formales que, a su vez, generan cuatro tipos diferentes de lenguajes formales\n",
    "\n",
    "![Jerarquía de Chomsky](img/jerarquia.png)\n",
    "\n",
    "![Jerarquía de Chomsky](img/chomsky.jpg)"
   ]
  },
  {
   "cell_type": "markdown",
   "id": "ec0f2d6e-e7c4-4b5b-88ec-164424bdd4ef",
   "metadata": {},
   "source": [
    "## En resumen"
   ]
  },
  {
   "cell_type": "markdown",
   "id": "37d25e30-f2cc-4d95-9616-a9fdb5f0e705",
   "metadata": {},
   "source": [
    "![Resumen LF](img/lf.jpg)"
   ]
  }
 ],
 "metadata": {
  "kernelspec": {
   "display_name": "Python [conda env:base] *",
   "language": "python",
   "name": "conda-base-py"
  },
  "language_info": {
   "codemirror_mode": {
    "name": "ipython",
    "version": 3
   },
   "file_extension": ".py",
   "mimetype": "text/x-python",
   "name": "python",
   "nbconvert_exporter": "python",
   "pygments_lexer": "ipython3",
   "version": "3.12.7"
  }
 },
 "nbformat": 4,
 "nbformat_minor": 5
}
