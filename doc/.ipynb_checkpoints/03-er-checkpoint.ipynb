{
 "cells": [
  {
   "cell_type": "markdown",
   "id": "89276045-110c-4f45-99a2-7b13bfc609cf",
   "metadata": {},
   "source": [
    "# Lenguajes Regulares (LR)\n",
    "---"
   ]
  },
  {
   "cell_type": "markdown",
   "id": "b7d6aff5-6963-4ed3-b3e9-b5df190afede",
   "metadata": {},
   "source": [
    "## Definición"
   ]
  },
  {
   "cell_type": "markdown",
   "id": "70a25c70-f5bf-4079-9166-b3e5d85132ba",
   "metadata": {},
   "source": [
    "* Es un tipo de lenguaje formal\n",
    "* Son los más simples\n",
    "* Técnicas de reconocimiento de patrones (manejada por el scanner del compilador)\n",
    "* Importancia en el diseño de los LENGUAJES DE PROGRAMACIÓN: identificadores, palabras reservadas, constantes numéricas, operadores y caracteres de puntuación"
   ]
  },
  {
   "cell_type": "markdown",
   "id": "ef3709bd-c8c5-47fc-be5d-3231fa92ad8b",
   "metadata": {},
   "source": [
    "## Un LENGUAJE es REGULAR si ..."
   ]
  },
  {
   "cell_type": "markdown",
   "id": "50883b9a-e16d-42c4-8a79-010a02ead97e",
   "metadata": {},
   "source": [
    "|                                                     |\n",
    "| --                                                  |\n",
    "| el lenguaje formal es FINITO                        |\n",
    "| existe una GRAMÁTICA REGULAR que lo genere          |\n",
    "| se puede representar mediante una EXPRESIÓN REGULAR |\n",
    "| puede ser reconocido por un AUTÓMATA FINITO         |"
   ]
  },
  {
   "cell_type": "markdown",
   "id": "0f6c59df-3df5-4b88-97f6-2cc57c9c8c72",
   "metadata": {},
   "source": [
    "## Ejemplos de LR"
   ]
  },
  {
   "cell_type": "markdown",
   "id": "61c3d1bf-ed96-416a-a371-2900be82a94a",
   "metadata": {},
   "source": [
    "| Lenguaje                                        | ¿Es regular? |\n",
    "| --                                              | --           |\n",
    "| $\\{a^nb^n / 1 ≤ n ≤ 4\\}$                        | **SI**       |\n",
    "| $\\{a^n / n ≥ 1\\}$                               | **SI**       |\n",
    "| $\\{a^nb^n / n ≥ 1\\}$                            | **NO**       |\n",
    "| $\\{a^n / 1 ≤ n ≤ 1000\\}$                        | **SI**       |\n",
    "| $\\{a^nb^t / n ≥ 1, t ≥ 1\\}$                     | **SI**       |\n",
    "| $\\{(ab)^n (cde)^t a^z / n ≥ 1, t ≥ 1, z ≥ 1\\}$  | **SI**       |\n",
    "| $\\{1^{2n+1} 0 / n ≥ 0\\}$                        | **SI**       |"
   ]
  },
  {
   "cell_type": "markdown",
   "id": "8aa307f4-2211-4040-99ac-34e8d594d7ed",
   "metadata": {},
   "source": [
    "# Expresiones Regulares (ER)"
   ]
  },
  {
   "cell_type": "markdown",
   "id": "a2b4e847-ae04-4e14-bd75-1c2879fb8264",
   "metadata": {},
   "source": [
    "## Concepto"
   ]
  },
  {
   "cell_type": "markdown",
   "id": "34793abe-573d-41af-a8ff-8073d551c231",
   "metadata": {},
   "source": [
    "* Es la forma más precisa y útil (metalenguaje) de representar o describir a los LR\n",
    "* Es un mecanismo alternativo al igual que las GR para definir los LR\n",
    "* Es una cadena de texto que describe un patrón de búsqueda"
   ]
  },
  {
   "cell_type": "markdown",
   "id": "24ccac40-749f-4ff6-ad77-62a7d1681320",
   "metadata": {},
   "source": [
    "## Componentes"
   ]
  },
  {
   "cell_type": "markdown",
   "id": "1eb7c2d0-bf8a-4bd0-824a-9def27af18e2",
   "metadata": {},
   "source": [
    "|                       |\n",
    "| --                    |\n",
    "| Símbolos del alfabeto |\n",
    "| Símbolo $\\lambda$     |\n",
    "| Operadores            |\n",
    "| ()                    |"
   ]
  },
  {
   "cell_type": "markdown",
   "id": "6b918fd0-a524-48f1-9086-3d50ba1cbb53",
   "metadata": {},
   "source": [
    "## Operadores"
   ]
  },
  {
   "cell_type": "markdown",
   "id": "a8308b8c-566d-4a20-9a4c-c9d3d774a1ed",
   "metadata": {},
   "source": [
    "|    |               |\n",
    "| -- | --            |\n",
    "| .  | concatenación |\n",
    "| \\| | unión         |\n",
    "| *  | clausura      |"
   ]
  },
  {
   "cell_type": "markdown",
   "id": "371da690-90eb-434e-a34c-3fcda5dc9491",
   "metadata": {},
   "source": [
    "## ER sobre un $\\Sigma$"
   ]
  },
  {
   "cell_type": "markdown",
   "id": "fd3f7b5d-e17b-4c55-a78e-1b3c9d62930b",
   "metadata": {},
   "source": [
    "| ER                        | Es una ER que denota ...                                                      |\n",
    "| --                        | --                                                                            |\n",
    "| $\\emptyset$               | lenguaje vacío                                                                |\n",
    "| $\\lambda$                 | lenguaje que contiene únicamente a la palabra vacía $\\{\\lambda\\}$             |\n",
    "| $\\forall a \\in \\Sigma, a$ | lenguaje que contiene únicamente la palabra a, $\\{a\\}$                        |\n",
    "| $r$                       | lenguaje $L(r)$, entonces $r$ es también una ER para el mismo lenguaje        |\n",
    "| $r \\mid s$                | unión de los lenguajes denotados por $r$ y $s$; es decir, $L(r) \\cup L(s)$    |\n",
    "| $r.s$                     | concatenación de los lenguajes denotados por $r$ y $s$; es decir, $L(r).L(s)$ |\n",
    "| $r^*$                     | clausura del lenguaje denotado por $r$; es decir, $L(r)^*$                    |"
   ]
  },
  {
   "cell_type": "markdown",
   "id": "79638d19-9c96-469c-bfeb-7ee6368322a1",
   "metadata": {},
   "source": [
    "## Precedencia de operadores"
   ]
  },
  {
   "cell_type": "markdown",
   "id": "4913cbb4-92a9-4a11-ac4f-91f9eeb4cb55",
   "metadata": {},
   "source": [
    "1. Clausura (*)\n",
    "1. Concatenación (.)\n",
    "1. Unión (|)"
   ]
  },
  {
   "cell_type": "markdown",
   "id": "25fedd52-09b0-4e73-a34e-d541336fdc2a",
   "metadata": {},
   "source": [
    "## Ejemplos"
   ]
  },
  {
   "cell_type": "markdown",
   "id": "0b7e4e87-7b74-4573-bee3-a82c8724562b",
   "metadata": {},
   "source": [
    "| ER                             | Describe el lenguaje ...                                                           |\n",
    "| --                             | --                                                                                 |\n",
    "| $(aa)^*$                       | $L = \\{(aa)^n / n ≥ 0\\}$                                                           |\n",
    "| $aa^*$                         | $L = \\{aa^n / n ≥ 0\\}$                                                             |\n",
    "| $a^*b$                         | $L = \\{a^n b / n ≥ 0\\}$                                                            |\n",
    "| $01^*$                         | $L = \\{01^n / n ≥ 0\\}$                                                             |\n",
    "| $(0 \\mid 1)^*$                 | $L = \\{w / w \\in \\{0, 1\\}^*\\}$                                                     |\n",
    "| $(0 \\mid 1)^* 00 (0 \\mid 1)^*$ | $L = \\{v00w / v, w \\in \\{0, 1\\}^*\\}$                                               |\n",
    "| $(1 \\mid 10)^*$                | $L = \\{w / w \\in \\{1, 10\\}^*\\}$                                                    |\n",
    "| $abbb^*c^+ \\mid ab^+c(cc)^*$   | $L = \\{abbb^nc^m / n ≥ 0 \\wedge m ≥ 1\\} \\cup \\{ab^nc(cc)^m / n ≥ 1 \\wedge m ≥ 0\\}$ |"
   ]
  },
  {
   "cell_type": "markdown",
   "id": "77a5f64b-f527-44ac-92df-af5565105787",
   "metadata": {},
   "source": [
    "## Lenguaje representado por una ER"
   ]
  },
  {
   "cell_type": "markdown",
   "id": "f3e5629e-7db0-46bb-b9f2-42b25ed8af40",
   "metadata": {},
   "source": [
    "* Cada ER $\\varphi$ define recursivamente un lenguaje $L$, utilizando las siguientes reglas de cálculo:\n",
    "\n",
    "| Si ...                      | Entonces ...                                       |\n",
    "| --                          | --                                                 |\n",
    "| $\\varphi = \\emptyset$       | $L(\\varphi) = \\emptyset$                           |\n",
    "| $\\varphi = \\lambda$         | $L(\\varphi) = \\{\\lambda\\}$                         |\n",
    "| $\\varphi = a, a \\in \\Sigma$ | $L(\\varphi) = \\{a\\}$                               |\n",
    "| $\\varphi \\, y \\, \\beta$ son ER    | $L(\\varphi \\mid \\beta) = L(\\varphi) \\cup L(\\beta)$ |\n",
    "| $\\varphi \\, y \\, \\beta$ son ER    | $L(\\varphi . \\beta) = L(\\varphi) . L(\\beta)$       |\n",
    "| $\\varphi$ es ER             | $L(\\varphi^*) = L(\\varphi)^*$                      |\n",
    "| $\\varphi$ es ER             | $L((\\varphi)) = L(\\varphi)$ |\n",
    "\n",
    "* Ejemplos:\n",
    "\n",
    "| ER             | LR                                                                                                      |\n",
    "| --             | --                                                                                                      |\n",
    "| $01^*$         | $L(01^*) = L(0) L(1^*) = \\{0\\} L(1^*) = \\{0\\} \\{\\lambda, 1, 11, 111, ...\\} = \\{0, 01, 011, 0111, ...\\}$ |\n",
    "| $(0 \\mid 1)^*$ | $L((0 \\mid 1)^*) = (L(0 \\mid 1))^* = (\\{0, 1\\})^* = \\{\\lambda, 0, 1, 00, 01, 10, 11, ...\\}$             |"
   ]
  },
  {
   "cell_type": "markdown",
   "id": "918fe8c3-b816-4534-a971-6fb6fdc5a45c",
   "metadata": {},
   "source": [
    "## Propiedades de equivalencia"
   ]
  },
  {
   "cell_type": "markdown",
   "id": "cbb194c0-cda9-41b0-a087-728a46976398",
   "metadata": {},
   "source": [
    "* Sean $a$,$b$,$c$ ER sobre $\\Sigma$\n",
    "\n",
    "| Propiedad                                                    | Ejemplo                                   |\n",
    "| --                                                           | --                                        |\n",
    "| **asociatividad de la unión**                                | $a \\mid (b \\mid c) = (a \\mid b) \\mid c$   |\n",
    "| **conmutatividad de la unión**                               | $a \\mid b = b \\mid a$                     |\n",
    "| **asociatividad de la concatenación**                        | $(ab)c = a(bc)$                           |\n",
    "| **distributividad de la concatenación respecto de la unión** | $a(b \\mid c) = ab \\mid ac$                |\n",
    "| **elemento neutro de la concatenación**                      | $a \\lambda = \\lambda a = a$               |\n",
    "| **elemento neutro de la unión**                              | $a \\mid \\emptyset = \\emptyset \\mid a = a$ |"
   ]
  },
  {
   "cell_type": "markdown",
   "id": "2c0f0d82-9c74-4150-82e2-bca23d76d221",
   "metadata": {},
   "source": [
    "## ER equivalentes"
   ]
  },
  {
   "cell_type": "markdown",
   "id": "7329b640-d970-4d43-888b-81ca7be1b92c",
   "metadata": {},
   "source": [
    "* Dos ER son equivalentes si representan el mismo LR\n",
    "* Ejemplo: $a \\mid b = b \\mid a$  ==> ambas representan al LR $L = \\{a, b\\}$\n",
    "\n",
    "* Ejemplos:\n",
    "  * $\\lambda^* = \\lambda$\n",
    "  * $\\emptyset a = a \\emptyset = \\emptyset$\n",
    "  * $\\emptyset^* = \\lambda$\n",
    "  * $a^*a^* = a^*$\n",
    "  * $aa^* = a^*a$\n",
    "  * $(a^*)^* = a^*$\n",
    "  * $a^* = \\lambda \\mid a \\mid aa \\mid ...\\mid a^n \\mid a^{n+1}a^*$\n",
    "  * $a^+ = aa^* = a^*a$\n",
    "  * $a^* = \\lambda \\mid aa^*$\n",
    "  * $a^* = (\\lambda \\mid a)^{n-1} \\mid a^na^*$\n",
    "  * $(a^* \\mid b^*)^* = (a^*b^*)^* = (a \\mid b)^*$\n",
    "  * $(ab)^*a = a (ba)^*$\n",
    "  * $(a^*b)^*a^* = (a \\mid b)^*$\n",
    "  * $(a^*b)^* = (a \\mid b)^*b \\mid \\lambda$"
   ]
  },
  {
   "cell_type": "markdown",
   "id": "cbe43813-5758-45eb-8840-e0a3b82cd82f",
   "metadata": {},
   "source": [
    "## ER no equivalentes"
   ]
  },
  {
   "cell_type": "markdown",
   "id": "6fc66a60-8f0e-4018-a509-0e62d25de7d8",
   "metadata": {},
   "source": [
    "* Dos ER son diferentes si representan a diferentes LR\n",
    "* Ejemplo:  $a(a \\mid b) \\neq (a \\mid b)a$"
   ]
  },
  {
   "cell_type": "markdown",
   "id": "f12e4571-d53b-4463-a7c2-3e5f4cb30a77",
   "metadata": {},
   "source": [
    "## Expresión Regular Universal (ERU)"
   ]
  },
  {
   "cell_type": "markdown",
   "id": "532d45b8-6f56-4848-8612-46e8239d58c5",
   "metadata": {},
   "source": [
    "* Es la ER que representa al Lenguaje Universal sobre un alfabeto dado\n",
    "* Representa al LR que contiene la palabra vacía ($\\lambda$) y todas las palabras que se pueden formar con los símbolos del alfabeto dado\n",
    "* Ejemplo: $\\Sigma = \\{a, b\\}$, la ERU es $(a \\mid b)^*$"
   ]
  },
  {
   "cell_type": "markdown",
   "id": "387491ca-8bf6-4c1c-9c08-ff5032646fb7",
   "metadata": {},
   "source": [
    "## Operaciones sobre LR"
   ]
  },
  {
   "cell_type": "markdown",
   "id": "09807e16-ef8c-4ac0-9b99-707468dbfaa9",
   "metadata": {},
   "source": [
    "|                        | |\n",
    "| --                     | -- |\n",
    "| **unión**              | Si $L_1$ es representado por la ER $a^*b$ y $L_2$ es representado por la ER $ba \\mid b^*$, $L_1 \\cup L_2$ es representado por la ER = $(a^*b) \\mid (ba \\mid b^*) = a^*b \\mid ba \\mid b^*$ |\n",
    "| **concatenación**      | Si $L_1$ es representado por la ER $a^*b$ y $L_2$ es representado por la ER $a \\mid b^*$, el LR concatenación $L_1L_2$ es representado por la ER = $a^*b(a \\mid b^*)$ |\n",
    "| **clausura de Klenne** | Si $L$ es representado por la ER $a^*b$, $L^*$ es representado por la ER = $(a^*b)^*$ |\n",
    "| **clausura positiva**  | Si $L$ es representado por la ER $a^*b$, $L^+$ es representado por la ER = $(a^*b)^+$ |\n",
    "| **complemento**        | Si $L$ es representado por la ER $a(a \\mid b)^*$, $L^c$ es representado por la ER = $b(a \\mid b)^* \\mid \\lambda$ |\n",
    "| **intersección**       | Si $L_1$ es representado por la ER $a(a \\mid b)^*$ y $L_2$ es representado por la ER $(a \\mid b)^*b$, $L_1 \\cap L_2$ es representado por la ER = $a(a \\mid b)^*b$ |"
   ]
  },
  {
   "cell_type": "markdown",
   "id": "03029726-498c-4759-9310-98e740825081",
   "metadata": {},
   "source": [
    "## ER y Lenguajes de Programación"
   ]
  },
  {
   "cell_type": "markdown",
   "id": "5d884cef-4753-437b-82ba-d1f95423316d",
   "metadata": {},
   "source": [
    "* Los componentes léxicos de un Lenguaje de Programación – identificadores, palabras reservadas, constantes, operadores – constituyen diferentes LR\n",
    "* Ejemplos:\n",
    "\n",
    "|                           |                         |\n",
    "| --                        | --                      |\n",
    "| $L(L \\mid D)^*$           | **identificadores**     |\n",
    "| $D^+.D^*$                 | **constantes reales**   |\n",
    "| $if \\mid else \\mid while$ | **palabras reservadas** |"
   ]
  }
 ],
 "metadata": {
  "kernelspec": {
   "display_name": "Python [conda env:base] *",
   "language": "python",
   "name": "conda-base-py"
  },
  "language_info": {
   "codemirror_mode": {
    "name": "ipython",
    "version": 3
   },
   "file_extension": ".py",
   "mimetype": "text/x-python",
   "name": "python",
   "nbconvert_exporter": "python",
   "pygments_lexer": "ipython3",
   "version": "3.12.7"
  }
 },
 "nbformat": 4,
 "nbformat_minor": 5
}
