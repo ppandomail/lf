{
 "cells": [
  {
   "cell_type": "markdown",
   "id": "f753c638-b3ab-4c98-b47b-d18bac8b6110",
   "metadata": {},
   "source": [
    "# Algoritmos con Autómata Finito\n",
    "---"
   ]
  },
  {
   "cell_type": "markdown",
   "id": "25b5aa66-de55-4bae-9684-ae4f676156db",
   "metadata": {},
   "source": [
    "| Algoritmos                              | Transformación         |\n",
    "| --                                      | --                     |\n",
    "| **Algoritmo de Thompson**               | ER -> AFN$_λ$          |\n",
    "| **Algoritmo \"Arden\"**                   | AFD -> ER              |\n",
    "| **Algoritmo de Clausura$_λ$**           | {AFN, AFN$_λ$} -> AFD  |\n",
    "| **Algoritmo reducido del Clausura$_λ$** | AFN -> AFD             |\n",
    "| **Algoritmo de Clases**                 | AFD completo -> AFDmin |\n",
    "| **Algoritmo**                           | AFD -> GR              |\n",
    "| **Algoritmo**                           | GR -> AF               |"
   ]
  },
  {
   "cell_type": "markdown",
   "id": "428f90c5-474f-486a-88c3-a7d321c7e06e",
   "metadata": {},
   "source": [
    "## Algoritmo de Thompson: ER -> AFN$_λ$"
   ]
  },
  {
   "cell_type": "markdown",
   "id": "e1eaa4bc-2f08-4a42-b2b5-26bed14ee088",
   "metadata": {},
   "source": [
    "1. Desmembrar la ER en sus componentes básicos: símbolos, operadores (precedencia: *, ., $\\mid$) y $\\lambda$ (si forma parte de la ER)\n",
    "2. Generar un AF básico por cada $\\sigma$ o $\\lambda$ de la ER\n",
    "\n",
    "* Ejemplo: $a(a \\mid b)^*$\n",
    "\n",
    "| $Q$   | $a$  |\n",
    "| --    | --   |\n",
    "| >$q0$ | $q1$ |\n",
    "| *$q1$ | -    |\n",
    "\n",
    "| $Q$   | $a$  |\n",
    "| --    | --   |\n",
    "| >$q2$ | $q3$ |\n",
    "| *$q3$ | -    |\n",
    "\n",
    "| $Q$   | $b$  |\n",
    "| --    | --   |\n",
    "| >$q4$ | $q5$ |\n",
    "| *$q5$ | -    |\n",
    "\n",
    "3. Componer estos AF básicos según los operadores existentes en la ER, hasta lograr el AF que reconoce a la ER dada. El AF que se obtiene es un AFN$_λ$\n",
    "\n",
    "* **Autómata para la unión**:\n",
    "  1. Los estados iniciales de los AF básicos dejan de ser iniciales y los estados finales dejan de ser finales\n",
    "  1. Se agrega un nuevo estado inicial\n",
    "  1. Se agregan dos transiciones-λ que relacionan al nuevo estado inicial con los dos ex estados iniciales\n",
    "  1. Se agrega un nuevo estado final\n",
    "  1. Se agregan dos transiciones-λ para unir a los dos ex estados finales con este nuevo estado final\n",
    "\n",
    "| $Q$   | $a$  | $b$  | $\\lambda$    |\n",
    "| --    | --   | --   | --           |\n",
    "| >$q6$ | -    | -    | $\\{q2, q4\\}$ |\n",
    "| $q2$  | $q3$ | -    | -            |\n",
    "| $q4$  | -    | $q5$ | -            |\n",
    "| $q3$  | -    | -    | $q7$         |\n",
    "| $q5$  | -    | -    | $q7$         |\n",
    "| *$q7$ | -    | -    | -            |\n",
    "\n",
    "* **Autómata para la clausura de Kleene**:\n",
    "  1. El estado inicial deja de ser inicial y el estado final deja de ser final\n",
    "  1. Se agrega un nuevo estado inicial y un nuevo estado final\n",
    "  1. Se agrega una transición-λ desde el nuevo estado inicial hasta el ex estado inicial\n",
    "  1. Se agrega una transición-λ desde el ex estado final al nuevo estado final\n",
    "  1. Se agrega una transición-λ desde el nuevo estado inicial al nuevo estado final (para que reconozca la palabra vacía)\n",
    "  1. Se agrega una transición-λ desde el ex estado final al ex estado inicial (para reconocer la repetición del símbolo)\n",
    "\n",
    "| $Q$   | $a$  | $b$  | $\\lambda$    |\n",
    "| --    | --   | --   | --           |\n",
    "| >$q8$ | -    | -    | $\\{q6, q9\\}$ |\n",
    "| $q6$  | -    | -    | $\\{q2, q4\\}$ |\n",
    "| $q2$  | $q3$ | -    | -            |\n",
    "| $q4$  | -    | $q5$ | -            |\n",
    "| $q3$  | -    | -    | $q7$         |\n",
    "| $q5$  | -    | -    | $q7$         |\n",
    "| $q7$  | -    | -    | $\\{q9, q6\\}$ |\n",
    "| *$q9$ | -    | -    | -            |\n",
    "\n",
    "* **Autómata para la concatenación**:\n",
    "  1. Se construyen los AF básicos (izquierdo y derecho)\n",
    "  1. El estado final del izquierdo deja de ser final y el estado inicial del derecho deja de ser inicial (los otros estados no se alteran)\n",
    "  1. Se agrega una transición-λ que vincule al ex estado final del izquierdo con el ex estado inicial del derecho\n",
    "  1. El AFN ya está terminado, siendo su estado inicial el estado inicial del izquierdo, y siendo su estado final el estado final del derecho\n",
    "\n",
    "| $Q$   | $a$  | $b$  | $\\lambda$    |\n",
    "| --    | --   | --   | --           |\n",
    "| >$q0$ | $q1$ | -    | -            |\n",
    "| $q1$  | -    | -    | $q8$         |\n",
    "| $q8$  | -    | -    | $\\{q6, q9\\}$ |\n",
    "| $q6$  | -    | -    | $\\{q2, q4\\}$ |\n",
    "| $q2$  | $q3$ | -    | -            |\n",
    "| $q4$  | -    | $q5$ | -            |\n",
    "| $q3$  | -    | -    | $q7$         |\n",
    "| $q5$  | -    | -    | $q7$         |\n",
    "| $q7$  | -    | -    | $\\{q9, q6\\}$ |\n",
    "| *$q9$ | -    | -    | -            |"
   ]
  },
  {
   "cell_type": "markdown",
   "id": "53b62397-bbcf-4931-8e50-aabd28aafd86",
   "metadata": {},
   "source": [
    "## Algoritmo \"Arden\": AFD -> ER"
   ]
  },
  {
   "cell_type": "markdown",
   "id": "f42fa0fb-1232-4358-ada8-74acef9a8535",
   "metadata": {},
   "source": [
    "1. **Depurar el AF**: detectar y eliminar todos los estados erróneos y todas las referencias que haya a estos estados\n",
    "    * Estados a los que no se puede llegar desde el estado inicial (estados inalcanzables)\n",
    "    * Estados que no conducen a un estado final (estados de rechazo)\n",
    "\n",
    "| $Q$   | $a$  | $b$  |\n",
    "| --    | --   | --   |\n",
    "| >$q0$ | $q1$ | $q2$ |\n",
    "| $q1$  | $q1$ | $q4$ |\n",
    "| $q2$  | $q4$ | $q5$ |\n",
    "| $q3$  | $q4$ | $q4$ |\n",
    "| *$q4$ | $q5$ | $q4$ |\n",
    "| $q5$  | $q5$ | $q5$ |\n",
    "\n",
    "$$\\Huge \\downarrow$$\n",
    "\n",
    "| $Q$   | $a$  | $b$  |\n",
    "| --    | --   | --   |\n",
    "| >$q0$ | $q1$ | $q2$ |\n",
    "| $q1$  | $q1$ | $q4$ |\n",
    "| $q2$  | $q4$ | -    |\n",
    "| *$q4$ | -    | $q4$ |\n",
    "\n",
    "2. **Establecer un Sistema de Ecuaciones**:\n",
    "    * Tendrá tantas ecuaciones como estados tenga el AF\n",
    "    * Cada ecuación tiene:\n",
    "      * En su lado izquierdo, el estado cuyo comportamiento es descrito por una ecuación\n",
    "      * En su lado derecho, la unión de términos que representan las transiciones que parten del estado mencionado en el lado izquierdo. Cada uno de estos términos se forma mediante el símbolo que etiqueta a la transición concatenado con el estado de llegada. La única excepción se produce cuando se desarrolla la ecuación de un estado final, en este caso, se agrega un término $\\lambda$ para indicar que este estado, por ser final, acepta una palabra que finalice cuando el AF llega a este estado\n",
    "\n",
    "3. **Reducir**:\n",
    "    * Se debe realizar en una ecuación que tiene uno o más ciclos. En estas ecuaciones se puede apreciar que el estado que figura en el lado izquierdo de la ecuación también se encuentra en el lado derecho. Por ello, una ecuación con estas características se las denomina ecuación recursiva, cuyo formato es: $q = \\alpha q + \\beta$\n",
    "      * $q$: estado\n",
    "      * $\\alpha$: ER\n",
    "      * $\\beta$: ER que puede estar formada por símbolos, $\\lambda$ y estados\n",
    "    * Cuando existe una ecuación recursiva, ésta se debe reducir aplicando el Lema de Arden, de esta forma: $q = \\alpha q + \\beta = \\alpha^* \\beta$\n",
    "      * Ejemplo 1: $q0 = aq0 + bq1 + \\lambda = aq0 + (bq1 + \\lambda) = a^*(bq1 + \\lambda)$\n",
    "      * Ejemplo 2: $q2 = (a + b)q2 + aq1 = (a + b)^*aq1$\n",
    "\n",
    "1. Resolver el Sistema de Ecuaciones (sustituir):\n",
    "    * Puede realizarse en cualquier orden, con una sola excepción: la ecuación que corresponde al estado inicial debe ser la última en resolverse porque en su lado derecho quedará la ER buscada\n",
    "\n",
    "| Ejemplo   | Paso 1 | Paso 2                              | Paso 3                 | Paso 4                                    | ER |\n",
    "| --        | --  | --                                     | --                     | --                                        | -- |\n",
    "| **EJ 1**  | N/A | q0 = aq1, q1 = λ                       | N/A                    | q0 = aq1 = aλ = a                         | a |\n",
    "| **EJ 2**  | N/A | q0 = aq1 + λq2, q1 = λ, q2 = λ         | N/A                    | q0 = aq1 + λq2 = aλ + λλ = a + λ          | a \\| λ |\n",
    "| **EJ 3**  | N/A | q0 = aq0 + bq1 + λ, q1 = λ             | q0 = a*(bq1 + λ)       | q0 = a*(bq1 + λ) = a*(bλ + λ) = a*(b + λ) | a*(b \\| λ) |\n",
    "| **EJ 4**  | N/A | q0 = aq2 + bq5, q2 = aq2 + bq5, q5 = λ | q2 = aq2 + bq5 = a*bq5 | q2 = a\\*bq5 = a\\*b, q0 = aq2 + bq5 = aa\\*b + bλ = aa\\*b + b | aa*b \\| b |\n",
    "| **EJ 5**  | N/A | q0 = (a + b)q0 + aq1, q1 = λ           | q0 = (a + b)*aq1       | q0 = (a + b)\\*aq1 = (a + b)\\*aλ = (a + b)\\*a | (a \\| b)*a |\n",
    "| **EJ 6**  | N/A | q0 = (a + b)q0 + λ                     | q0 = (a + b)*          |                                           | (a \\| b)* |\n",
    "| **EJ 7**  | N/A | q0 = aq1, q1 = bq2 + λ, q2 = (a + b)q2 + aq1 | q2 = (a + b)*aq1 | q1 = bq2 + λ = b(a + b)\\*aq1 + λ = (b(a + b)\\*a)\\*, q0 = aq1 = a(b(a + b)\\*a)\\* | a(b(a \\| b)\\*a)\\* |\n",
    "| **EJ 8**  | N/A | q0 = 0q0 + 1q1, q1 = 0q1 + 1q2 + λ, q2 = 0q2 + 1q1 | q0 = 0q0 + 1q1 = 0\\*1q1, q1 = 0q1 + 1q2 + λ = 0\\*(1q2 + λ), q2 = 0q2 + 1q1 = 0\\*1q1 | q1 = 0\\* (10\\*1q1 + λ) = 0\\* 10\\*1q1 + 0\\* = (0\\* 10\\*1)\\*0\\*, q0 = 0\\*1(0\\* 10\\*1)\\*0\\* | 0\\*1(0\\* 10\\*1)\\*0\\* |\n",
    "| **EJ 9**  | N/A | s = Ss + Ut, t = Tt +Vs + λ | s = S\\*Ut, t = T\\*(Vs + λ) = T\\*Vs + T\\* | s = S\\*U(T\\*Vs + T\\*) = S\\*UT\\*Vs + S\\*UT\\* = (S\\*UT\\*V)\\*S\\*UT\\* | (S\\*UT\\*V)\\*S\\*UT\\* |\n",
    "| **EJ 10** | N/A | p = 0q + 1r, q = 0s + 1r, r = 0q + 1s, s = 0s + 1s + λ | s = (0 + 1)s + λ = (0 + 1)\\* λ = (0 + 1)\\* | r = 0q + 1s = 0q + (0 + 1)\\*, q = 0(0 + 1)\\* + 1r = 0(0 + 1)\\* + 1(0q + (0 + 1)\\*) = 0(0 + 1)\\* + 10q + 1(0 + 1)\\* = (10)\\*(0(0 + 1)\\* + 1(0 + 1)\\*) = (10)\\*(0 + 1)(0 + 1)\\*, r = 0(10)\\*(0 + 1)(0 + 1)\\* + (0 + 1)\\*, p = 0(10)\\*(0 + 1)(0 + 1)\\*  + 1(0(10)\\*(0 + 1)(0 + 1)\\* + (0 + 1)\\*) | 0(10)\\*(0 \\| 1)(0 \\| 1)\\*  \\| 1(0(10)\\*(0 \\| 1)(0 \\| 1)\\* \\| (0 \\| 1)\\*) |"
   ]
  },
  {
   "cell_type": "markdown",
   "id": "70810bd1-45b3-4d1c-9b17-ce79d7fc45b7",
   "metadata": {},
   "source": [
    "## Algoritmo de Clausura$_λ$: {AFN, AFN$_λ$} -> AFD"
   ]
  },
  {
   "cell_type": "markdown",
   "id": "14c61f72-1cfd-4cf5-9f4e-9f97af3d2ef3",
   "metadata": {},
   "source": [
    "* Ejemplo: $a^*b$\n",
    "\n",
    "| $Q$   | $a$  | $b$  | $\\lambda$    |\n",
    "| --    | --   | --   | --           |\n",
    "| >$q0$ | -    | -    | $\\{q1, q3\\}$ |\n",
    "| $q1$  | $q2$ | -    | -            |\n",
    "| $q2$  | -    | -    | $\\{q1, q3\\}$ |\n",
    "| $q3$  | -    | -    | $q4$         |\n",
    "| $q4$  | -    | $q5$ | -            |\n",
    "| *$q5$ | -    | -    | -            |\n",
    "\n",
    "| Conceptos                                  |                                                                                  | Ejemplo 1                      | Ejemplo 2                      |\n",
    "| --                                         | --                                                                               | --                             | --                             |\n",
    "| **Clausura$_λ$ de un estado**              | $c_λ(q) = \\{q\\} \\cup \\{$estados a los cuales se llega desde q usando $\\lambda\\}$ | $c_λ(q0) = \\{q0, q1, q3, q4\\}$ | $c_λ(q2) = \\{q2, q1, q3, q4\\}$ |\n",
    "| **Clausura$_λ$ de un conjunto de estados** | $c_λ(\\{q1, q2\\}) = c_λ(q1) \\cup c_λ(q2)$                                         |                                |                                |\n",
    "| **Conjunto \"HACIA\"**                       | $h(c_λ(q), \\sigma) = \\{$estados de llegada$\\}$                                   | $h(c_λ(q0), a) = \\{q2\\}$       | $h(c_λ(q0), b) = \\{q5\\}$       |\n",
    "\n",
    "1. Se obtiene el estado inicial del AFD, que es la clausura$_λ$ del estado inicial del AFN o AFN$_\\lambda$\n",
    "1. Se agrega este estado a la primera columna de la TT\n",
    "1. Para cada $\\sigma \\in \\Sigma$, se calcula el conjunto hacia del estado que se acaba de agregar a la primera columna de la TT\n",
    "1. Se determinan nuevos estados del AFD por medio de la clausura$_λ$ de cada conjunto hacia recién obtenido. Estos estados (conjuntos) se incorporan a la TT, en las columnas que les corresponden\n",
    "1. Si un nuevo estado obtenido en el punto anterior no existe todavía en la primera columna de la TT se lo agrega\n",
    "1. Se repiten los pasos (3) al (5) hasta que no surjan nuevos estados\n",
    "\n",
    "* Los estados finales del AFD son todos aquellos conjuntos de estados del AFN que contienen por lo menos, un estado final"
   ]
  },
  {
   "cell_type": "markdown",
   "id": "715f4058-b5b5-406c-81d3-04f69be9f33d",
   "metadata": {},
   "source": [
    "### Ejemplo"
   ]
  },
  {
   "cell_type": "markdown",
   "id": "97567e01-a164-479c-b35e-653678571b7f",
   "metadata": {},
   "source": [
    "$a^*b$\n",
    "\n",
    "| $Q$   | $a$  | $b$  | $\\lambda$    |\n",
    "| --    | --   | --   | --           |\n",
    "| >$q0$ | -    | -    | $\\{q1, q3\\}$ |\n",
    "| $q1$  | $q2$ | -    | -            |\n",
    "| $q2$  | -    | -    | $\\{q1, q3\\}$ |\n",
    "| $q3$  | -    | -    | $q4$         |\n",
    "| $q4$  | -    | $q5$ | -            |\n",
    "| *$q5$ | -    | -    | -            |\n",
    "\n",
    "$$\\Huge \\downarrow$$\n",
    "\n",
    "| $Q$        | $a$                      | $b$                      |\n",
    "| --         | --                       | --                       |\n",
    "| >$c_λ(q0)$ | $h(c_λ(q0), a) = \\{q2\\}$ | $h(c_λ(q0), b) = \\{q5\\}$ |\n",
    "| $q2$       | $h(c_λ(q2), a) = \\{q2\\}$ | $h(c_λ(q2), b) = \\{q5\\}$ |\n",
    "| *$q5$      | $h(c_λ(q5), a) = \\{\\}$   | $h(c_λ(q5), b) = \\{\\}$   |"
   ]
  },
  {
   "cell_type": "markdown",
   "id": "e04e30b4-693d-40e0-8bbc-4d49612fc4aa",
   "metadata": {},
   "source": [
    "## Algoritmo reducido del Clausura$_\\lambda$: AFN -> AFD"
   ]
  },
  {
   "cell_type": "markdown",
   "id": "c30fcab3-ab1c-4fca-a1bd-c03bead480bf",
   "metadata": {},
   "source": [
    "1. Completar la TT con todos los $Q$ del AFN\n",
    "1. Nuevos estados pasan a ser filas de la TT\n",
    "1. [$q0q1$] para cada $\\sigma \\in \\Sigma$\n",
    "    * [$q0$] U [$q1$]\n",
    "    * Ejemplo a: [$q0q1$] $\\cup$ [$-$] = [$q0q1$]\n",
    "    * Ejemplo b: [$q0$] $\\cup$ [$q2$] = [$q0q2$]\n",
    "1. Si los estados se repiten en la unión se deja uno\n",
    "1. Si en el nuevo estado luego de la unión se encuentra el estado final, entonces también es final\n",
    "1. Se eliminan estados no accesibles desde $q0$"
   ]
  },
  {
   "cell_type": "markdown",
   "id": "ff6b617f-1bfc-4c2b-825c-c1181bc50384",
   "metadata": {},
   "source": [
    "### Ejemplo: $(a \\mid b)^* abb$"
   ]
  },
  {
   "cell_type": "markdown",
   "id": "c08dbcdc-333a-4af2-b8e1-bbe689b1c616",
   "metadata": {},
   "source": [
    "| $Q$     | $a$          | $b$  |\n",
    "| --      | --           | --   |\n",
    "| >$q0$   | $\\{q0, q1\\}$ | $q0$ |\n",
    "| $q1$    | -            | $q2$ |\n",
    "| $q2$    | -            | $q3$ |\n",
    "| *$q3$   | -            | -    |\n",
    "\n",
    "$$\\Huge \\downarrow$$\n",
    "\n",
    "| $Q$       | $a$      | $b$      |\n",
    "| --        | --       | --       |\n",
    "| >[$q0$]   | [$q0q1$] | [$q0$]   |\n",
    "| [$q1$]    | -        | [$q2$]   |\n",
    "| [$q2$]    | -        | [$q3$]   |\n",
    "| *[$q3$]   | -        | -        |\n",
    "| [$q0q1$]  | [$q0q1$] | [$q0q2$] |\n",
    "| [$q0q2$]  | [$q0q1$] | [$q0q3$] |\n",
    "| *[$q0q3$] | [$q0q1$] | [$q0$]   |\n",
    "\n",
    "$$\\Huge \\downarrow$$\n",
    "\n",
    "| $Q$       | $a$      | $b$      |\n",
    "| --        | --       | --       |\n",
    "| >[$q0$]   | [$q0q1$] | [$q0$]   |\n",
    "| [$q0q1$]  | [$q0q1$] | [$q0q2$] |\n",
    "| [$q0q2$]  | [$q0q1$] | [$q0q3$] |\n",
    "| *[$q0q3$] | [$q0q1$] | [$q0$]   |"
   ]
  },
  {
   "cell_type": "markdown",
   "id": "c47691c8-6fc3-43dc-9ed4-4c781d96fa0a",
   "metadata": {},
   "source": [
    "## Algoritmo de Clases: AFD completo -> AFDmin"
   ]
  },
  {
   "cell_type": "markdown",
   "id": "23a9a546-8fdc-4521-ae4a-b9f848ee0445",
   "metadata": {},
   "source": [
    "* Es el AFD con la mínima cantidad de estados que reconoce a un LR\n",
    "* Por ello, se lo considera como el único autómata óptimo asociado a la aceptación de determinado LR\n",
    "* Tiene la TT más reducida, con menor cantidad de filas, hecho que beneficia la implementación del AFD mediante un programa de computadora\n",
    "* Ejemplo:\n",
    "\n",
    "| $Q$   | $a$  | $b$  |\n",
    "| --    | --   | --   |\n",
    "| >$q0$ | $q1$ | $q2$ |\n",
    "| $q1$  | $q3$ | $q4$ |\n",
    "| $q2$  | $q7$ | $q8$ |\n",
    "| $q3$  | $q3$ | $q2$ |\n",
    "| *$q4$ | $q5$ | $q8$ |\n",
    "| *$q5$ | $q6$ | $q8$ |\n",
    "| *$q6$ | $q6$ | $q8$ |\n",
    "| *$q7$ | $q8$ | $q8$ |\n",
    "| $q8$  | $q8$ | $q8$ |\n",
    "\n",
    "1. Particionar el conjunto de estados del AFD completo en dos clases: la clase de los estados no finales (C0) y la clase de los estados finales (C1)\n",
    "\n",
    "| $Q$   | $a$  | $b$  |\n",
    "| --    | --   | --   |\n",
    "| >$q0$ | $q1$ | $q2$ |\n",
    "| $q1$  | $q3$ | $q4$ |\n",
    "| $q2$  | $q7$ | $q8$ |\n",
    "| $q3$  | $q3$ | $q2$ |\n",
    "| $q8$  | $q8$ | $q8$ |\n",
    "| --    | --   | --   |\n",
    "| *$q4$ | $q5$ | $q8$ |\n",
    "| *$q5$ | $q6$ | $q8$ |\n",
    "| *$q6$ | $q6$ | $q8$ |\n",
    "| *$q7$ | $q8$ | $q8$ |\n",
    "\n",
    "1. Detectar estados equivalentes y reducir el AFD:\n",
    "    * Dos estados son equivalentes si:\n",
    "      * Pertenecen a la misma clase y\n",
    "      * Tienen el mismo comportamiento (n-upla formada por los estados de su fila en la TT). Por ejemplo el comportamiento de $q0$ es $(q1, q2)$ y de $q4$ es $(q5, q8)$\n",
    "    * En el ejemplo, en C0 no hay estados equivalentes, mientras que en C1, $q5$ tiene el mismo comportamiento que $q6$: $(q6, q8)$\n",
    "    * Si dos o más estados son equivalentes, significa que sólo uno de ellos es necesario porque tienen el mismo comportamiento\n",
    "    * Reducir el AFD, el cual quedará con uno solo de los estados equivalentes como representante del conjunto de estados equivalentes. Reemplazar referencias por el nombre del estado que permanecerá\n",
    "\n",
    "| $Q$   | $a$  | $b$  |\n",
    "| --    | --   | --   |\n",
    "| >$q0$ | $q1$ | $q2$ |\n",
    "| $q1$  | $q3$ | $q4$ |\n",
    "| $q2$  | $q7$ | $q8$ |\n",
    "| $q3$  | $q3$ | $q2$ |\n",
    "| $q8$  | $q8$ | $q8$ |\n",
    "| --    | --   | --   |\n",
    "| *$q4$ | $q5$ | $q8$ |\n",
    "| *$q5$ | $q5$ | $q8$ |\n",
    "| *$q7$ | $q8$ | $q8$ |\n",
    "\n",
    "* Continuar reduciendo, ya que ahora $q4$ y $q5$ son estados equivalentes\n",
    "\n",
    "| $Q$   | $a$  | $b$  |\n",
    "| --    | --   | --   |\n",
    "| >$q0$ | $q1$ | $q2$ |\n",
    "| $q1$  | $q3$ | $q4$ |\n",
    "| $q2$  | $q7$ | $q8$ |\n",
    "| $q3$  | $q3$ | $q2$ |\n",
    "| $q8$  | $q8$ | $q8$ |\n",
    "| --    | --   | --   |\n",
    "| *$q4$ | $q4$ | $q8$ |\n",
    "| *$q7$ | $q8$ | $q8$ |\n",
    "\n",
    "1. Construir la \"Tabla de Transiciones por Clases (TTC)\"\n",
    "\n",
    "| $Q$   | $a$ | $b$ |\n",
    "| --    | --  | --  |\n",
    "| >$q0$ | C0  | C0  |\n",
    "| $q1$  | C0  | C1  |\n",
    "| $q2$  | C1  | C0  |\n",
    "| $q3$  | C0  | C0  |\n",
    "| $q8$  | C0  | C0  |\n",
    "| --    | --  | --  |\n",
    "| *$q4$ | C1  | C0  |\n",
    "| *$q7$ | C0  | C0  |\n",
    "\n",
    "1. Buscar estados equivalentes por clase y realizar la partición de la clase en subclases\n",
    "    * Buscar estados equivalentes por clase, que son aquellos estados que están en la misma clase y tienen el mismo comportamiento por clases\n",
    "    * Realizar la partición de la clase en subclases que se caracterizan por contener estados que son equivalentes por clase. Y este proceso continúa hasta que se llega a la situación en que cada clase está formada por un solo estado, con lo que se deduce que el AFD no se puede minimizar más. En este último caso, se elige un representante de la clase como se ha hecho anteriormente\n",
    "\n",
    "| $Q$   | $a$ | $b$ | C  |\n",
    "| --    | --  | --  | -- |\n",
    "| >$q0$ | C0  | C0  | C0 |\n",
    "| $q3$  | C0  | C0  |    |\n",
    "| $q8$  | C0  | C0  |    |\n",
    "| --    | --  | --  | -- |\n",
    "| $q1$  | C0  | C1  | C2 |\n",
    "| --    | --  | --  | -- |\n",
    "| $q2$  | C1  | C0  | C3 |\n",
    "| --    | --  | --  | -- |\n",
    "| *$q4$ | C1  | C0  | C1 |\n",
    "| --    | --  | --  | -- |\n",
    "| *$q7$ | C0  | C0  | C4 |\n",
    "\n",
    "1. Mientras surjan nuevas clases, actualizar la TTC a partir de la TT original\n",
    "    * Actualizar la TTC porque al haber particionado las clases originales, la TTC ha cambiado. Por ejemplo, leyendo la TT original, vemos que el estado $q0$ tiene comportamiento $(q1, q2)$; y se observa que, con esta última partición, el estado $q1$ pertenece a la clase C2, mientras que el estado $q2$ pertenece a la clase C3, y así...\n",
    "    * Las clases C2, C3, C1 y C4 ya son mínimas porque cada una está constituida por un solo estado. En cuanto a la clase C0, se distingue que está formada por 3 estados que ahora tienen diferentes comportamientos por clases, por lo que se debe separar, colocando a cada uno en una nueva subclase. Finalmente, todas las clases quedan con un único estado y el AFD no se puede minimizar más\n",
    "    * En definitiva, y volviendo a la TT original, el AFD mínimo sin completar (es decir, sin estado de rechazo $q8$) está representado por la siguiente tabla:\n",
    "\n",
    "| $Q$   | $a$  | $b$  |\n",
    "| --    | --   | --   |\n",
    "| >$q0$ | $q1$ | $q2$ |\n",
    "| $q1$  | $q3$ | $q4$ |\n",
    "| $q2$  | $q7$ | -    |\n",
    "| $q3$  | $q3$ | $q2$ |\n",
    "| *$q4$ | $q4$ | -    |\n",
    "| *$q7$ | -    | -    |\n",
    "\n",
    "![AFmin](img/afmin.png)"
   ]
  },
  {
   "cell_type": "markdown",
   "id": "afee67e0-66fe-4bcd-82cf-15bb85d602ab",
   "metadata": {},
   "source": [
    "### Ejemplo: $a^*b$"
   ]
  },
  {
   "cell_type": "markdown",
   "id": "0c106424-2049-4ac3-bcd6-b1545d3b0b49",
   "metadata": {},
   "source": [
    "| AFD   | $a$  | $b$  |\n",
    "| --    | --   | --   |\n",
    "| >$q0$ | $q1$ | $q2$ |\n",
    "| $q1$  | $q1$ | $q2$ |\n",
    "| *$q2$ | $qe$ | $qe$ |\n",
    "| $qe$  | $qe$ | $qe$ |\n",
    "\n",
    "$$\\Huge \\downarrow$$\n",
    "\n",
    "| AFDmin | $a$  | $b$  |\n",
    "| --     | --   | --   |\n",
    "| >$q0$  | $q0$ | $q2$ |\n",
    "| *$q2$  | -    | -    |"
   ]
  },
  {
   "cell_type": "markdown",
   "id": "2ba8e6e9-cea8-4957-8a0f-ddc965049a37",
   "metadata": {},
   "source": [
    "### Ejemplo: $(a \\mid b)^*$"
   ]
  },
  {
   "cell_type": "markdown",
   "id": "cacc1f82-81c1-405a-87ff-4dfc46c5086d",
   "metadata": {},
   "source": [
    "| AFD    | $a$  | $b$  |\n",
    "| --     | --   | --   |\n",
    "| >*$q0$ | $q1$ | $q1$ |\n",
    "| *$q1$  | $q1$ | $q1$ |\n",
    "\n",
    "$$\\Huge \\downarrow$$\n",
    "\n",
    "| AFDmin | $a$  | $b$  |\n",
    "| --     | --   | --   |\n",
    "| >*$q0$ | $q0$ | $q0$ |"
   ]
  },
  {
   "cell_type": "markdown",
   "id": "2eeae1dc-26ce-41c3-a60f-5524d709883a",
   "metadata": {},
   "source": [
    "### Ejemplo: $b^*a(b^*ab^*a)^*b^*$"
   ]
  },
  {
   "cell_type": "markdown",
   "id": "a44ac397-c434-4df0-a690-c3ba39fddf84",
   "metadata": {},
   "source": [
    "| AFD | $a$ | $b$ |\n",
    "| -- | -- | -- |\n",
    "| >$q0$ | $q1$ | $q0$ |\n",
    "| *$q1$ | $q2$ | $q1$ |\n",
    "| $q2$  | $q1$ | $q2$ |\n",
    "\n",
    "$$\\Huge \\downarrow$$\n",
    "\n",
    "| AFDmin | $a$ | $b$ |\n",
    "| -- | -- | -- |\n",
    "| >$q0$ | $q1$ | $q0$ |\n",
    "| *$q1$ | $q0$ | $q1$ |"
   ]
  },
  {
   "cell_type": "markdown",
   "id": "4d523a69-c46c-47d2-be29-ec6b825f1018",
   "metadata": {},
   "source": [
    "### Ejemplo: $(a \\mid b)((a \\mid b)(a \\mid b))^*$"
   ]
  },
  {
   "cell_type": "markdown",
   "id": "a3537b44-2ab6-4c0e-9a0b-8e17e23e237d",
   "metadata": {},
   "source": [
    "| AFD   | $a$  | $b$  |\n",
    "| --    | --   | --   |\n",
    "| >$q0$ | $q1$ | $q1$ |\n",
    "| *$q1$ | $q2$ | $q2$ |\n",
    "| $q2$  | $q3$ | $q3$ |\n",
    "| *$q3$ | $q2$ | $q2$ |\n",
    "\n",
    "$$\\Huge \\downarrow$$\n",
    "\n",
    "| AFDmin | $a$  | $b$  |\n",
    "| --     | --   | --   |\n",
    "| >$q0$  | $q1$ | $q1$ |\n",
    "| *$q1$  | $q0$ | $q0$ |"
   ]
  },
  {
   "cell_type": "markdown",
   "id": "0903a087-d29d-4f3c-95f9-7b2e6d010add",
   "metadata": {},
   "source": [
    "## Algoritmo: AFD -> GR"
   ]
  },
  {
   "cell_type": "markdown",
   "id": "3e5b41c3-3302-4ce2-8eb1-72ffed0e15b7",
   "metadata": {},
   "source": [
    "* **Entrada**: AFD = $<Q, \\Sigma, q0, F, \\delta>$\n",
    "* **Salida**:  GR = $<\\Sigma_T, \\Sigma_N, S, P>$ Donde $P$:\n",
    "\n",
    "| Si ...                            | Entonces ...                                           |\n",
    "| --                                | --                                                     |\n",
    "| $\\delta(q, a) = p$                | $q \\rightarrow ap$, $(a \\in \\Sigma, q \\in Q, p \\in Q)$ |\n",
    "| $\\delta(q, a) = p \\wedge p \\in F$ | $q \\rightarrow a$,  $(a \\in \\Sigma, q \\in Q, p \\in Q)$ |\n",
    "| $q0 \\in F$                        | $q \\rightarrow \\lambda$                                |"
   ]
  },
  {
   "cell_type": "markdown",
   "id": "458ed286-b646-4f8a-b510-478e36ead24c",
   "metadata": {},
   "source": [
    "### Ejemplo: $a^*b$"
   ]
  },
  {
   "cell_type": "markdown",
   "id": "d16a48ea-ae63-4e05-a4f7-647b38811247",
   "metadata": {},
   "source": [
    "| $Q$   | $a$  | $b$  |\n",
    "| --    | --   | --   |\n",
    "| >$q0$ | $q0$ | $q1$ |\n",
    "| *$q1$ | -    | -    |\n",
    "\n",
    "$$\\Huge \\downarrow$$\n",
    "\n",
    "$$q0 \\rightarrow aq0 \\mid b$$"
   ]
  },
  {
   "cell_type": "markdown",
   "id": "64e17ace-766f-4a9f-9709-d3bbb8005bc4",
   "metadata": {},
   "source": [
    "### Ejemplo 2"
   ]
  },
  {
   "cell_type": "markdown",
   "id": "4c967531-0433-44bb-bd4a-c52e06094f39",
   "metadata": {},
   "source": [
    "| $Q$   | $0$  | $1$  |\n",
    "| --    | --   | --   |\n",
    "| >$q0$ | $q1$ | $q2$ |\n",
    "| $q1$  | $q1$ | $q3$ |\n",
    "| *$q2$ | $q0$ | $q4$ |\n",
    "| $q3$  | $q3$ | $q3$ |\n",
    "| *$q4$ | $q0$ | $q4$ |\n",
    "\n",
    "$$\\Huge \\downarrow$$\n",
    "\n",
    "$$q0 \\rightarrow 0q1 \\mid 1q2 \\mid 1$$\n",
    "$$q1 \\rightarrow 0q1 \\mid 1q3$$\n",
    "$$q2 \\rightarrow 0q0 \\mid 1q4 \\mid 1$$\n",
    "$$q3 \\rightarrow 0q3 \\mid 1q3$$ \n",
    "$$q4 \\rightarrow 0q0 \\mid 1q4 \\mid 1$$"
   ]
  },
  {
   "cell_type": "markdown",
   "id": "6444733f-8046-4ea7-a413-c34786766fc5",
   "metadata": {},
   "source": [
    "### Ejemplo 3"
   ]
  },
  {
   "cell_type": "markdown",
   "id": "30a6eccc-f6c8-4b52-827b-56a39e1b8a13",
   "metadata": {},
   "source": [
    "| $Q$  | $0$ | $1$ |\n",
    "| --   | --  | --  |\n",
    "| >$S$ | $A$ | $B$ |\n",
    "| $A$  | $C$ | $B$ |\n",
    "| $B$  | $A$ | $C$ |\n",
    "| *$C$ | $C$ | $C$ |\n",
    "\n",
    "$$\\Huge \\downarrow$$\n",
    "\n",
    "$$S \\rightarrow 0A \\mid 1B$$ \n",
    "$$A \\rightarrow 0C \\mid 1B \\mid 0$$\n",
    "$$B \\rightarrow 0A \\mid 1C \\mid 1$$\n",
    "$$C \\rightarrow 0C \\mid 1C \\mid 0 \\mid 1$$"
   ]
  },
  {
   "cell_type": "markdown",
   "id": "b075c71a-bf3b-4843-b695-8f2338531224",
   "metadata": {},
   "source": [
    "### Ejemplo: $\\lambda \\mid a^* \\mid (a^*ba^*b)^*ccc(ccc)^*$"
   ]
  },
  {
   "cell_type": "markdown",
   "id": "7dc3439a-5d7a-4480-ab0c-c178bcb6c18a",
   "metadata": {},
   "source": [
    "| $Q$   | $a$ | $b$ | $c$ |\n",
    "| --    | --  | --  | --  |\n",
    "| >*$A$ | $A$ | $B$ | $C$ |\n",
    "| $B$   | $B$ | $A$ | -   |\n",
    "| $C$   | -   | -   | $D$ |\n",
    "| $D$   | -   | -   | $E$ |\n",
    "| *$E$  | -   | -   | $C$ |\n",
    "\n",
    "$$\\Huge \\downarrow$$\n",
    "\n",
    "$$A \\rightarrow aA \\mid bB \\mid cC \\mid \\lambda \\mid a$$\n",
    "$$B \\rightarrow aB \\mid bA \\mid b$$\n",
    "$$C \\rightarrow cD$$ \n",
    "$$D \\rightarrow cE \\mid c$$\n",
    "$$E \\rightarrow cC$$"
   ]
  },
  {
   "cell_type": "markdown",
   "id": "32a5b0c3-a6b2-45a1-a99e-d35c28ab7d8f",
   "metadata": {},
   "source": [
    "## Algoritmo: GR -> AF"
   ]
  },
  {
   "cell_type": "markdown",
   "id": "89450b8a-ccc3-4cff-a1a0-534650722e92",
   "metadata": {},
   "source": [
    "* **Entrada**: GR = $<\\Sigma_T, \\Sigma_N, S, P>$\n",
    "* **Salida**:  AF = $<Q, \\Sigma, q0, F, \\delta>$ Donde:\n",
    "  * $Q = \\Sigma_N \\cup \\{F\\}$\n",
    "  * $\\Sigma = \\Sigma_T$\n",
    "  * $q0 = S$\n",
    "  * $F = \\{F\\}$, donde $F \\notin \\Sigma_N$ es un nuevo símbolo no terminal\n",
    "  * $\\delta$:\n",
    "\n",
    "| Si ...                  | Entonces ...             |\n",
    "| --                      | --                       |\n",
    "| $A \\rightarrow vB$      | $\\delta(A, v) = B$       |\n",
    "| $A \\rightarrow v$       | $\\delta(A, v) = F$       |\n",
    "| $S \\rightarrow \\lambda$ | $\\delta(S, \\lambda) = F$ |"
   ]
  },
  {
   "cell_type": "markdown",
   "id": "6b834ace-2532-409b-bf6a-c0e23dbb3981",
   "metadata": {},
   "source": [
    "### Ejemplo: $(ab)^*$"
   ]
  },
  {
   "cell_type": "markdown",
   "id": "e84a14a9-6105-4a5f-9a3c-e4c8e05ccd1a",
   "metadata": {},
   "source": [
    "$$A \\rightarrow aB \\mid \\lambda$$\n",
    "$$B \\rightarrow bC \\mid b$$\n",
    "$$C \\rightarrow aB$$\n",
    "\n",
    "\n",
    "$$\\Huge \\downarrow$$\n",
    "\n",
    "| $Q$  | $a$ | $b$        | $\\lambda$ |\n",
    "| --   | --  | --         | --        |\n",
    "| >$A$ | $B$ | -          | $F$       |\n",
    "| $B$  | -   | $\\{C, F\\}$ | -         |\n",
    "| $C$  | $B$ | -          | -         |\n",
    "| *$F$ | -   | -          | -         |"
   ]
  },
  {
   "cell_type": "markdown",
   "id": "9ed21acd-aecf-4185-8175-202d4ac1cea7",
   "metadata": {},
   "source": [
    "## Lema del bombeo para LR"
   ]
  },
  {
   "cell_type": "markdown",
   "id": "6872609d-4f2b-459b-9344-f6fbdea158ad",
   "metadata": {},
   "source": [
    "* Se utiliza para demostrar que determinados lenguajes infinitos no son regulares\n",
    "* Dado un lenguaje $L$, ¿$L$ es LR?\n",
    "  * Si $L$ es finito, es LR y se podrá construir un AF o una ER\n",
    "  * Si $L$ es especificado por medio de un AF o una ER\n",
    "  * Si $L$ es infinito se deben obtener algunas propiedades que comparten todos los LR infinitos y que no estén presentes en los lenguajes no regulares\n",
    "* Cómo conseguir un LR infinito si se tiene un número finito de estados en un AF\n",
    "* Sea $L$ un LR infinito\n",
    "* $\\exists$ una constante $n$ / $\\forall w \\in L$ con |$w$| ≥ $n$, se puede descomponer $w$ en tres segmentos, $w = xyz$, de modo que:\n",
    "  * |$y$| ≥  1 ; es decir, $y \\neq \\lambda$\n",
    "  * |$xy$| ≤ $n$\n",
    "  * $\\forall k ≥ 0$, la palabra $xy^kz \\in L$\n",
    "* Con otras palabras...\n",
    "  * Si un AFD es capaz de aceptar un número infinito de palabras, entonces debe aceptar una palabra que consista en la concatenación de tres segmentos (xyz) tales que cualquier repetición del segmento central (y, que no es vacío) dé como resultado otra palabra aceptable\n",
    "  * Es decir, pueden generarse otras palabras aceptables \"bombeando\" o \"ampliando\" una palabra aceptable\n",
    "* El lema de bombeo afirma que, si un LR contiene una palabra suficientemente larga, esta palabra tiene una subpalabra (y) que se puede bombear, es decir, repetirse tantas veces como se quiera, sin que el resultado deje de ser una palabra del LR\n",
    "* Este lema define una condición necesaria, pero no suficiente para que un $L$ = LR\n",
    "* Existen versiones del lema de bombeo que proporcionan condiciones necesarias y suficientes para que un lenguaje sea regular. Uno de ellos es el primer teorema de Myhill-Nerode"
   ]
  },
  {
   "cell_type": "markdown",
   "id": "ef164781-9ef0-409d-8bf5-0f0bc1762207",
   "metadata": {},
   "source": [
    "### Ejemplo: $L = \\{ab^na / n > 0\\}$"
   ]
  },
  {
   "cell_type": "markdown",
   "id": "696dc7b3-336b-41d0-bebb-9e05f85e2ba3",
   "metadata": {},
   "source": [
    "![Lema del Bombeo](img/lb1.png)"
   ]
  },
  {
   "cell_type": "markdown",
   "id": "5a316f03-2579-4e66-a8ba-0d0cb719ec5d",
   "metadata": {},
   "source": [
    "### Ejemplo: $L = \\{a^nb^n / n > 0\\}$"
   ]
  },
  {
   "cell_type": "markdown",
   "id": "bd1acecd-9976-4ded-902a-9ddb08d61cd3",
   "metadata": {},
   "source": [
    "![Lema del Bombeo](img/lb2.png)"
   ]
  },
  {
   "cell_type": "markdown",
   "id": "6761bbfc-437d-4548-b800-bf5cdef81f46",
   "metadata": {},
   "source": [
    "## Aplicaciones"
   ]
  },
  {
   "cell_type": "markdown",
   "id": "5e2e74cc-6d0d-40aa-89a2-b322f26c1037",
   "metadata": {},
   "source": [
    "* Los AF se usan en problemas que implican el análisis de cadenas de caracteres\n",
    "* Ejemplos:\n",
    "  * Reconocimiento de cadenas que satisfaga ciertos criterios (por ejemplo, si se espera un entero sin signo como dato de entrada y el usuario confunde uno de los dígitos con un carácter no numérico, se puede dar todo tipo de resultados impropios, desde una terminación anormal hasta el cálculo de resultados incorrectos). Solución: especificar la información correcta por medio de ER = $L(L \\mid D \\mid \\_)^*(L \\mid D)$\n",
    "  * Búsqueda de cadenas en archivos\n",
    "  * Desarrollo de Compiladores de Lenguajes de Programación\n",
    "  * Procesamiento de Lenguaje Natural"
   ]
  }
 ],
 "metadata": {
  "kernelspec": {
   "display_name": "Python [conda env:base] *",
   "language": "python",
   "name": "conda-base-py"
  },
  "language_info": {
   "codemirror_mode": {
    "name": "ipython",
    "version": 3
   },
   "file_extension": ".py",
   "mimetype": "text/x-python",
   "name": "python",
   "nbconvert_exporter": "python",
   "pygments_lexer": "ipython3",
   "version": "3.12.7"
  }
 },
 "nbformat": 4,
 "nbformat_minor": 5
}
