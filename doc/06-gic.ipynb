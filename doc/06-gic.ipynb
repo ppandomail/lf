{
 "cells": [
  {
   "cell_type": "markdown",
   "id": "7a2d9ccf-b37b-4ec9-b226-1166db754f89",
   "metadata": {},
   "source": [
    "# Gramática Independiente de Contexto (GIC)\n",
    "---"
   ]
  },
  {
   "cell_type": "markdown",
   "id": "654a8c62-ee5e-415c-ad49-e2a2dd4a6397",
   "metadata": {},
   "source": [
    "* También llamadas Gramáticas Libres de Contexto o Incontextuales\n",
    "* Generan las palabras de los LIC (tipo de LF)\n",
    "* Son de gran utilidad en la representación de la sintaxis de los Lenguajes de Programación (expresiones aritméticas, sentencias de un lenguaje de programación, etc.)"
   ]
  },
  {
   "cell_type": "markdown",
   "id": "49216b83-4400-412a-961e-e9de298b8b6e",
   "metadata": {},
   "source": [
    "## Ejemplo"
   ]
  },
  {
   "cell_type": "markdown",
   "id": "9e209291-5cbf-4050-af58-9621d5b8d57f",
   "metadata": {},
   "source": [
    "$L = \\{A:=A+B, C:=D-E*F, ...\\}$\n",
    "\n",
    "$$<sent asig> ::= <var> := <expresion>$$\n",
    "$$<expresion> ::= <expresion> + <termino> \\mid <expresion> - <termino> \\mid <termino>$$\n",
    "$$<termino> ::= <termino> * <factor> \\mid <termino> / <factor> \\mid <factor>$$\n",
    "$$<factor> ::= (<expresion>) \\mid <var> \\mid <num>$$\n",
    "$$<var> ::= A \\mid ... \\mid Z$$\n",
    "$$<num> ::= 0 \\mid ... \\mid 9$$"
   ]
  },
  {
   "cell_type": "markdown",
   "id": "302ba00c-3f74-46e2-bf35-8dd6f8d0f06f",
   "metadata": {},
   "source": [
    "## Restricciones"
   ]
  },
  {
   "cell_type": "markdown",
   "id": "c9bb0dfc-34fb-4610-9f4d-c9f0f825f29f",
   "metadata": {},
   "source": [
    "|                |                                         |\n",
    "| --             | --                                      |\n",
    "| lado izquierdo | un solo no terminal                     |\n",
    "| lado derecho   | secuencia de terminales y no terminales |\n",
    "| axioma         | puede o no derivar a $\\lambda$          |\n",
    "\n",
    "|                                             |\n",
    "| --                                          |\n",
    "| $P = \\{(S \\rightarrow \\lambda) \\mid (A \\rightarrow v) / A \\in \\Sigma_N, v \\in \\Sigma^+\\}$ |\n",
    "\n",
    "* Ejemplo 1\n",
    "\n",
    "$$S \\rightarrow \\lambda \\mid 01S1 \\mid 0S10 \\mid A1$$\n",
    "$$A \\rightarrow 0S10$$\n",
    "\n",
    "* Ejemplo 2\n",
    "\n",
    "$$A \\rightarrow 1B1 \\mid 11$$\n",
    "$$B \\rightarrow 1 \\mid 0$$\n",
    "\n",
    "* Ejemplo 3\n",
    "\n",
    "$$S \\rightarrow A$$\n",
    "$$A \\rightarrow aAa \\mid bAb \\mid c$$\n",
    "\n",
    "* Ejemplo 4\n",
    "\n",
    "$$S \\rightarrow ABC \\mid AC \\mid BC \\mid C$$\n",
    "$$A \\rightarrow 0A1 \\mid 01$$\n",
    "$$B \\rightarrow 1B2 \\mid 12$$\n",
    "$$C \\rightarrow 3C \\mid 3$$"
   ]
  },
  {
   "cell_type": "markdown",
   "id": "2915bb86-c285-483e-af6d-c7cd5ff05406",
   "metadata": {},
   "source": [
    "## Ejemplos"
   ]
  },
  {
   "cell_type": "markdown",
   "id": "f3c00d8b-7714-49f0-b44c-e0937a33671d",
   "metadata": {},
   "source": [
    "$L = \\{a^n b^n / n ≥ 1\\}$\n",
    "\n",
    "$$S \\rightarrow aSb \\mid ab$$"
   ]
  },
  {
   "cell_type": "markdown",
   "id": "78e17e2b-320d-47e4-bc01-2dd5dd2db1c4",
   "metadata": {},
   "source": [
    "$L = \\{a^n b^{2n+1} c^r / n ≥ 0, r ≥ 1\\}$\n",
    "\n",
    "$$S \\rightarrow bC \\mid AC$$\n",
    "$$A \\rightarrow abbb \\mid aAbb$$\n",
    "$$C \\rightarrow cC \\mid c$$"
   ]
  },
  {
   "cell_type": "markdown",
   "id": "a293b91b-873f-47bf-9f11-2c63ffdfd63f",
   "metadata": {},
   "source": [
    "$L = \\{0^n 1^m / n > 0 \\wedge n > m\\}$\n",
    "\n",
    "$$S \\rightarrow 0 \\mid 0S \\mid 0S1$$"
   ]
  },
  {
   "cell_type": "markdown",
   "id": "177e92d2-d9af-4950-bac0-3072b4d3b835",
   "metadata": {},
   "source": [
    "* $L = \\{xyx y^p z y^{2p+1} a^i b^k c^n / p, i, k ≥ 0 \\wedge n > i+k \\}$\n",
    "* $L = \\{xyx y^p z y^{2p+1} a^i b^k c^{i+k+a} / p, i, k ≥ 0 \\wedge n = i+k+a, a>0 \\}$\n",
    "* $L = \\{xyx y^p z y^{2p+1} a^i b^k c^a c^k c^i / p, i, k ≥ 0; a>0 \\}$\n",
    "\n",
    "$$S \\rightarrow xyxAB$$\n",
    "$$A \\rightarrow yAyy \\mid zy$$\n",
    "$$B \\rightarrow aBc \\mid C$$\n",
    "$$C \\rightarrow bCc \\mid D$$\n",
    "$$D \\rightarrow cD \\mid c$$"
   ]
  },
  {
   "cell_type": "markdown",
   "id": "265b40bf-0d21-44d8-b542-b9b2e13ce9f6",
   "metadata": {},
   "source": [
    "![GIC colchita](img/gic.jpg)"
   ]
  },
  {
   "cell_type": "markdown",
   "id": "8167b084-7391-42fb-a096-f68b1b08dba1",
   "metadata": {},
   "source": [
    "## Eficiencia en el diseño de gramáticas"
   ]
  },
  {
   "cell_type": "markdown",
   "id": "62a816e3-0bb2-4f18-8929-5b05bd28959f",
   "metadata": {},
   "source": [
    "### Gramática limpia: si no tiene reglas innecesarias y símbolos inaccesibles"
   ]
  },
  {
   "cell_type": "markdown",
   "id": "64123ce9-ca55-4b1d-9b3f-9fb4fa7d033d",
   "metadata": {},
   "source": [
    "* **Reglas innecesarias**: son las que tienen la forma $A \\rightarrow A$ donde $(A \\in \\Sigma_N)$. Se deben eliminar de las gramáticas, ya que no generan derivaciones útiles\n",
    "\n",
    "$$S \\rightarrow aA$$\n",
    "$$A \\rightarrow aA \\mid A \\mid a$$\n",
    "\n",
    "* **Símbolos inaccesibles**: aquellos símbolos no terminales $A \\in \\Sigma_N$  que no pueden ser alcanzados por derivaciones desde el axioma de la gramática\n",
    "\n",
    "$$S \\rightarrow D0 \\mid E10 \\mid \\lambda$$\n",
    "$$B \\rightarrow 1C3$$\n",
    "$$C \\rightarrow C$$\n",
    "$$D \\rightarrow 1S$$\n",
    "$$E \\rightarrow 1E$$"
   ]
  },
  {
   "cell_type": "markdown",
   "id": "b2460546-3b84-47ea-981d-b41efc624de7",
   "metadata": {},
   "source": [
    "### Gramática bien formada: si está limpia, no tiene reglas generativas y no tiene reglas de redenominación"
   ]
  },
  {
   "cell_type": "markdown",
   "id": "93ac5bf4-96d9-485d-904c-0140e5ccedff",
   "metadata": {},
   "source": [
    "* **Reglas no generativas**: una regla es no generativa cuando $A \\rightarrow \\lambda$,  $A ≠ S$\n",
    "\n",
    "$$S \\rightarrow C0B \\mid \\lambda$$\n",
    "$$B \\rightarrow BC \\mid \\lambda$$\n",
    "$$C \\rightarrow 0B \\mid \\lambda$$\n",
    "\n",
    "* Para eliminarlas, se puede seguir el algoritmo:\n",
    "\n",
    "```plain\n",
    "P’ = P\n",
    "Repetir\n",
    "  Por cada P = (A -> λ) ∈ P’ ^ (A ≠ S)\n",
    "    P’ = P’ – {P}\n",
    "    Por cada P’ = (B -> xAy) ∈ P’ (x, y ∈ Σ*)\n",
    "      P’ = P’ U {(B -> xy)} – {P’}\n",
    "Hasta que todas las reglas sean generativas\n",
    "```\n",
    "\n",
    "* **Reglas de redenominación**: una regla es de redenominación cuando $A \\rightarrow B$ con  $A, B \\in \\Sigma_N$. Para eliminarlas, se borra esa regla y se genera una nueva producción $A \\rightarrow x$ por cada $B \\rightarrow x$, con $x \\in \\Sigma^*$\n",
    "\n",
    "$$S \\rightarrow C0B \\mid 0B \\mid C0 \\mid 0 \\mid \\lambda$$\n",
    "$$B \\rightarrow BC \\mid C$$\n",
    "$$C \\rightarrow 0B \\mid 0$$"
   ]
  },
  {
   "cell_type": "markdown",
   "id": "f8e29835-63ee-417f-adcd-054638d2168c",
   "metadata": {},
   "source": [
    "## Formas Normales"
   ]
  },
  {
   "cell_type": "markdown",
   "id": "e43cb030-e852-49a1-aadf-4405ec7e7fe0",
   "metadata": {},
   "source": [
    "* Son simplificaciones a las reglas de producción de una GIC\n",
    "* Uso en compiladores más eficientes para diversos lenguajes de programación\n",
    "* Tipos:\n",
    "\n",
    "| Siglas en Ingles | Siglas en Español | Nombre                      |\n",
    "| --               | --                | --                          |\n",
    "| CNF              | FNC               | Forma Normal de Chomsky     |\n",
    "| GNG              | FNG               | Forma Normal de Greibach    |\n",
    "| BNF              | FNB               | Forma Normal de Backus-Naur |"
   ]
  },
  {
   "cell_type": "markdown",
   "id": "1c7acfa0-6907-4089-ba8d-6069c901857f",
   "metadata": {},
   "source": [
    "### Forma Normal de Chomsky"
   ]
  },
  {
   "cell_type": "markdown",
   "id": "e4a94813-c8dd-4a42-90cb-12c70b76269a",
   "metadata": {},
   "source": [
    "$$P = \\{(S \\rightarrow \\lambda) \\mid (A \\rightarrow BC) \\mid (A \\rightarrow a) / A, B, C \\in \\Sigma_N, a \\in \\Sigma_T\\}$$\n",
    "\n",
    "* Ejemplo 1\n",
    "\n",
    "$$S \\rightarrow AB \\mid b$$\n",
    "$$A \\rightarrow a$$\n",
    "$$B \\rightarrow SA$$\n",
    "\n",
    "* Ejemplo 2\n",
    "\n",
    "$$A \\rightarrow CD \\mid EB \\mid \\lambda$$\n",
    "$$B \\rightarrow BC \\mid 1$$\n",
    "$$C \\rightarrow 2$$\n",
    "$$D \\rightarrow BC$$\n",
    "$$E \\rightarrow 1$$"
   ]
  },
  {
   "cell_type": "markdown",
   "id": "9155cdf6-fc5f-40d8-a0be-0efda7f1525b",
   "metadata": {},
   "source": [
    "| Ventajas                                                                                          |\n",
    "| --                                                                                                |\n",
    "| Todo árbol de derivación es de tipo binario                                                       |\n",
    "| Toda palabra de longitud n es derivable en 2n-1 pasos                                             |\n",
    "| Estos elementos son de importancia teórica y práctica (por ejemplo, programación de compiladores) |"
   ]
  },
  {
   "cell_type": "markdown",
   "id": "ab01b28d-50a6-4809-80d7-e3d5fcccd85f",
   "metadata": {},
   "source": [
    "#### Algoritmo GIC -> FNC"
   ]
  },
  {
   "cell_type": "markdown",
   "id": "5bf7a7d1-ebfd-4108-bdfa-c53d89e900bc",
   "metadata": {},
   "source": [
    "* Entrada: $G = (\\Sigma_N, \\Sigma_T, S, P)$\n",
    "* Salida:  $G’= (\\Sigma_N’, \\Sigma_T, S, P’)$ en FNC\n",
    "\n",
    "```plain\n",
    "Mientras existen producciones cuyo lado derecho no respeta la FNC hacer:\n",
    "  1. Reemplazar cada producción A -> B / B -> v1 | v2 | ... | vn por la producción A -> v1 | v2 | ... | vn \n",
    "\n",
    "  A -> B \n",
    "  B -> a | b | c\n",
    "\n",
    "  A -> a | b | c\n",
    "\n",
    "  2. Para cada producción, si su lado derecho tiene dos o más símbolos y contiene algún terminal v, reemplace las apariciones de v por un nuevo no terminal V. Agregue la regla V -> v. Es decir, para un no terminal V / V ∉ ΣN, ΣN’ = ΣN ∪ {V},  P’ = P ∪ {V -> v}\n",
    "\n",
    "  A -> pBq\n",
    "\n",
    "  A  -> PBQ   \n",
    "  P  -> p\n",
    "  Q -> q\n",
    "\n",
    "  3. Para cada producción B -> C1C2...Cn, donde n > 2, reemplazar la producción por B -> C1D, y D -> C2...Cn, que introducen un nuevo no terminal D\n",
    "\n",
    "  A -> BCDE\n",
    "\n",
    "  A  -> BC1   \n",
    "  C1 -> CDE\n",
    "```\n",
    "\n",
    "* Ejemplo:\n",
    "\n",
    "\n",
    "$$S \\rightarrow aSa \\mid T$$\n",
    "$$T \\rightarrow b$$ \n",
    "\n",
    "$$\\Huge \\downarrow$$\n",
    "\n",
    "$$S \\rightarrow aSa$$\n",
    "$$S \\rightarrow b$$\n",
    "\n",
    "$$\\Huge \\downarrow$$\n",
    "\n",
    "$$S \\rightarrow ASA$$\n",
    "$$S \\rightarrow b$$\n",
    "$$A \\rightarrow a$$\n",
    "\n",
    "$$\\Huge \\downarrow$$\n",
    "\n",
    "$$S \\rightarrow AB$$\n",
    "$$S \\rightarrow b$$\n",
    "$$A \\rightarrow a$$\n",
    "$$B \\rightarrow SA$$"
   ]
  },
  {
   "cell_type": "markdown",
   "id": "4025c501-8dbf-491f-8de3-be869827713f",
   "metadata": {},
   "source": [
    "### Forma Normal de Greibach"
   ]
  },
  {
   "cell_type": "markdown",
   "id": "287e07ad-4529-468b-a79d-1d9192062dcb",
   "metadata": {},
   "source": [
    "$$P = \\{(S \\rightarrow \\lambda) \\mid (A \\rightarrow aX)  / A \\in \\Sigma_N,  X \\in \\Sigma_N^*, a \\in \\Sigma_T\\}$$\n",
    "\n",
    "* Ejemplo:\n",
    "\n",
    "$$A  \\rightarrow 2BC \\mid 1B \\mid \\lambda$$\n",
    "$$B  \\rightarrow 1B’ \\mid 1$$\n",
    "$$B’ \\rightarrow 2B’ \\mid 2$$\n",
    "$$C  \\rightarrow 2$$"
   ]
  },
  {
   "cell_type": "markdown",
   "id": "af705a89-badb-44e2-bda8-69b310ba6c0a",
   "metadata": {},
   "source": [
    "| Ventaja                                                          |\n",
    "| --                                                               |\n",
    "| Se conoce que cada palabra de longitud n es derivable en n pasos |"
   ]
  },
  {
   "cell_type": "markdown",
   "id": "bdc10471-436c-453e-8b03-92346983cfd1",
   "metadata": {},
   "source": [
    "#### Algoritmo GIC -> FNG"
   ]
  },
  {
   "cell_type": "markdown",
   "id": "f0e8de65-ff24-42b2-ad4d-773589743654",
   "metadata": {},
   "source": [
    "* Entrada: $G = (\\Sigma_N, \\Sigma_T, S, P)$\n",
    "* Salida: $G’ = (\\Sigma_N’, \\Sigma_T, S, P’)$ en FNG\n",
    "  \n",
    "```plain\n",
    "1. Eliminar la recursión a izquierda (por ejemplo: A -> Aa) sustituyendo cada sublenguaje generado recursivamente por un conjunto de reglas equivalente,  pero sin recursión\n",
    "2. Agregar nuevas reglas de reescritura y no terminales para llevar las reglas existentes a la forma de Greibach:\n",
    "  a. Reemplazar A ∈ ΣN en cada α -> β, de a una por vez, para introducir terminales a izquierda\n",
    "  b. Reemplazar cada a ∈ ΣT que no está en la parte izquierda de β por nuevos A’ ∈ ΣN (esto deja solo no terminales a derecha)\n",
    "```\n",
    "\n",
    "* Ejemplo 1:\n",
    "\n",
    "  \n",
    "$$S \\rightarrow AB$$\n",
    "$$S \\rightarrow B$$\n",
    "$$A \\rightarrow Aa$$\n",
    "$$A \\rightarrow b$$\n",
    "$$B \\rightarrow Ab$$\n",
    "$$B \\rightarrow c$$\n",
    "\n",
    "$$\\Huge \\downarrow$$\n",
    "\n",
    "$$S \\rightarrow AB$$\n",
    "$$S \\rightarrow B$$\n",
    "$$A \\rightarrow b$$\n",
    "$$A \\rightarrow bD$$\n",
    "$$D \\rightarrow aD$$\n",
    "$$D \\rightarrow a$$\n",
    "$$B \\rightarrow Ab$$\n",
    "$$B \\rightarrow c$$\n",
    "\n",
    "$$\\Huge \\downarrow$$\n",
    "\n",
    "$$S \\rightarrow bB$$\n",
    "$$S \\rightarrow bDB$$\n",
    "$$S \\rightarrow bb$$\n",
    "$$S \\rightarrow bDb$$\n",
    "$$S \\rightarrow c$$\n",
    "$$D \\rightarrow aD$$\n",
    "$$D \\rightarrow a$$\n",
    "$$B \\rightarrow bb$$\n",
    "$$B \\rightarrow bDb$$\n",
    "$$B \\rightarrow c$$\n",
    "\n",
    "$$\\Huge \\downarrow$$\n",
    "\n",
    "$$S \\rightarrow bB$$\n",
    "$$S \\rightarrow bDB$$\n",
    "$$S \\rightarrow bE$$\n",
    "$$S \\rightarrow bDE$$\n",
    "$$S \\rightarrow c$$\n",
    "$$D \\rightarrow aD$$\n",
    "$$D \\rightarrow a$$\n",
    "$$B \\rightarrow bE$$\n",
    "$$B \\rightarrow bDE$$\n",
    "$$B \\rightarrow c$$\n",
    "$$E \\rightarrow b$$\n",
    "\n",
    "* Ejemplo 2:\n",
    "\n",
    "$$S \\rightarrow xyxAB$$\n",
    "$$A \\rightarrow yAyy \\mid zy$$\n",
    "$$B \\rightarrow aBc \\mid C$$\n",
    "$$C \\rightarrow bCc \\mid D$$\n",
    "$$D \\rightarrow cD \\mid c$$\n",
    "\n",
    "$$\\Huge \\downarrow$$\n",
    "\n",
    "$$S \\rightarrow xYXAB$$\n",
    "$$A \\rightarrow yAYY \\mid zY$$\n",
    "$$B \\rightarrow aBE \\mid bCE \\mid cD \\mid c$$\n",
    "$$C \\rightarrow bCE \\mid cD \\mid c$$\n",
    "$$D \\rightarrow cD \\mid c$$\n",
    "$$Y \\rightarrow y$$\n",
    "$$X \\rightarrow x$$\n",
    "$$E \\rightarrow c$$"
   ]
  },
  {
   "cell_type": "markdown",
   "id": "c4c3ea1b-cbaf-443d-92ea-c333318117d2",
   "metadata": {},
   "source": [
    "### Forma Normal de Backus-Naur"
   ]
  },
  {
   "cell_type": "markdown",
   "id": "b6355d18-e2ad-4f74-9ed5-2215bc0fde81",
   "metadata": {},
   "source": [
    "* En 1959, John Backus (Fortran) y Peter Naur (Algol) desarrollaron la notación BNF\n",
    "* BNF fue desarrollada en paralelo con las GIC de Chomsky\n",
    "* La notación BNF es equivalente a usar Diagramas de Conway\n",
    "* Conjunto de reglas que definen, con precisión, la sintaxis de los componentes y de las estructuras de un Lenguaje de Programación\n",
    "* Cada regla BNF se forma con elementos provenientes de 3 conjuntos disjuntos (convenciones):\n",
    "\n",
    "| Elementos                        |                                                 | Ejemplos                                 |\n",
    "| --                               | --                                              | --                                       |\n",
    "| **Metavariables o noterminales** | palabras encerradas entre corchetes angulares   | \\<identificador\\>, \\<letra\\>, \\<digito\\> |\n",
    "| **Terminales**                   | símbolos del alfabeto                           | if, else, while, =, !=                   |\n",
    "| **Metasímbolos**                 | ayudan a representar estas reglas               | <>, ::=, \\|                              |"
   ]
  },
  {
   "cell_type": "markdown",
   "id": "cd6dfdd5-7704-47cf-ad7c-1c646ae7825b",
   "metadata": {},
   "source": [
    "#### BNF para validar la correcta apertura y cierre de una palabra de paréntesis"
   ]
  },
  {
   "cell_type": "markdown",
   "id": "baea3629-761b-4b2f-a009-d8027c6698bb",
   "metadata": {},
   "source": [
    "$$<palabra \\quad par>  ::=  <palabra \\quad par> <parentesis> \\mid <parentesis>$$\n",
    "$$<parentesis>  ::=  (<palabra \\quad par>) \\mid ()$$"
   ]
  },
  {
   "cell_type": "markdown",
   "id": "8f3f5652-3743-4e6b-bfd7-8689ee47fce9",
   "metadata": {},
   "source": [
    "#### BNF de un identificador en ALGOL"
   ]
  },
  {
   "cell_type": "markdown",
   "id": "6c13b137-c010-4f3b-9f74-553a1cdbb326",
   "metadata": {},
   "source": [
    "$$<identificador> ::= <letra> \\mid <identificador> <letra> \\mid <identificador> <dígito>$$\n",
    "$$<letra> ::= a \\mid b \\mid c \\mid ... \\mid z \\mid A \\mid B \\mid C \\mid ... \\mid Z$$\n",
    "$$<dígito> ::= 0 \\mid 1 \\mid 2 \\mid ... \\mid 9$$"
   ]
  },
  {
   "cell_type": "markdown",
   "id": "0fcb50f0-9f3f-420b-a7cf-93ec376b62bb",
   "metadata": {},
   "source": [
    "#### BNF de números enteros en ALGOL"
   ]
  },
  {
   "cell_type": "markdown",
   "id": "16ba4b8a-247b-4633-bdee-824415c3ad25",
   "metadata": {},
   "source": [
    "$$<número \\quad entero> ::= <entero \\quad sin \\quad signo> \\mid + <entero \\quad sin \\quad signo> \\mid - <entero \\quad sin \\quad signo>$$\n",
    "$$<entero \\quad sin \\quad signo> ::= <dígito> \\mid <entero \\quad sin \\quad signo> <dígito>$$\n",
    "$$<dígito> ::= 0 \\mid 1 \\mid 2 \\mid ... \\mid 9$$"
   ]
  },
  {
   "cell_type": "markdown",
   "id": "62854f83-6dfd-4e4b-ac1b-5a8603b9d836",
   "metadata": {},
   "source": [
    "#### BNF para un mini lenguaje"
   ]
  },
  {
   "cell_type": "markdown",
   "id": "47ac762f-3dfc-41cf-8bfb-87b7fe36253b",
   "metadata": {},
   "source": [
    "$$<program> ::= begin <stmt \\quad list> end$$\n",
    "$$<stmt \\quad list> ::= <stmt> \\mid <stmt> ; <stmt \\quad list>$$\n",
    "$$<stmt> ::= <var> = <expression>$$\n",
    "$$<var> ::= A \\mid B \\mid C$$\n",
    "$$<expression> ::= <var> + <var> \\mid <var> - <var> \\mid <var>$$"
   ]
  }
 ],
 "metadata": {
  "kernelspec": {
   "display_name": "Python [conda env:base] *",
   "language": "python",
   "name": "conda-base-py"
  },
  "language_info": {
   "codemirror_mode": {
    "name": "ipython",
    "version": 3
   },
   "file_extension": ".py",
   "mimetype": "text/x-python",
   "name": "python",
   "nbconvert_exporter": "python",
   "pygments_lexer": "ipython3",
   "version": "3.12.7"
  }
 },
 "nbformat": 4,
 "nbformat_minor": 5
}
