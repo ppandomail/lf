{
 "cells": [
  {
   "cell_type": "markdown",
   "id": "bc515197-d612-400b-8a84-eedc22a3db91",
   "metadata": {},
   "source": [
    "# Autómata de Pila (AP)\n",
    "---"
   ]
  },
  {
   "cell_type": "markdown",
   "id": "789f1e65-5251-4008-80ed-19583ffafa89",
   "metadata": {},
   "source": [
    "## Definición"
   ]
  },
  {
   "cell_type": "markdown",
   "id": "d0551b38-7ae7-4d31-bff6-c509e2f97b84",
   "metadata": {},
   "source": [
    "* También llamados autómatas \"push-down\"\n",
    "* Permiten analizar palabras para reconocer si pertenecen o no a LIC\n",
    "* Misma estructura que los AF, pero se agrega una pila (memoria auxiliar con método LIFO) para guardar información que podrá ser útil durante el análisis\n",
    "* Más poderosos que los AF, porque reconocen: LR + LIC\n",
    "* Por ejemplo: balanceo de paréntesis\n",
    "\n",
    "| AF                  | AP |\n",
    "| --                  | -- |\n",
    "| imposible controlar | ponen en la pila un elemento por cada paréntesis de apertura leído, y sacan de la pila un elemento por cada paréntesis de cierre leído |"
   ]
  },
  {
   "cell_type": "markdown",
   "id": "11e40519-1309-4597-808d-a8653732253f",
   "metadata": {},
   "source": [
    "## Definición formal"
   ]
  },
  {
   "cell_type": "markdown",
   "id": "7dc930ae-9da3-415e-8462-7390a8d00d7a",
   "metadata": {},
   "source": [
    "* Formalmente un AP se define como una 7-upla: $M = <\\Sigma, \\Gamma, Q, q_0, p_0, F, \\delta>$\n",
    "\n",
    "|          |                                                                         |\n",
    "| --       | --                                                                      |\n",
    "| $\\Sigma$ | alfabeto de entrada                                                     |\n",
    "| $\\Gamma$ | alfabeto de pila, algunos autores $\\Sigma \\cap \\Gamma = \\emptyset$      |\n",
    "| $Q$      | conjunto finito de estados                                              |\n",
    "| $q_0$    | estado inicial, $q_0 \\in Q$                                             |\n",
    "| $p_0$    | símbolo inicial de pila, $p_0 \\in \\Gamma$. Convención: $\\$, \\#, Z_0$    |\n",
    "| $F$      | conjunto de estados finales o de aceptación, $F ⊆ Q \\vee F = \\emptyset$ |\n",
    "| $\\delta$ | función de transición de estados, $\\delta: Q$ x $\\Sigma \\cup \\{\\lambda\\}$ x $\\Gamma^* \\rightarrow Q$ x $\\Gamma^*$ (algunos autores se saca un solo símbolo de la pila) |\n",
    "\n",
    "* La pila puede estar o no inicializada con $p_0$"
   ]
  },
  {
   "cell_type": "markdown",
   "id": "b9700d0f-c022-4ea0-b212-69ad80f4286d",
   "metadata": {},
   "source": [
    "![AP](img/ap.png)"
   ]
  },
  {
   "cell_type": "markdown",
   "id": "de660b14-0af3-4f7e-8070-d02697381067",
   "metadata": {},
   "source": [
    "## Ejemplo AP"
   ]
  },
  {
   "cell_type": "markdown",
   "id": "6ac3f431-f357-4b4d-b27e-c90ac3024152",
   "metadata": {},
   "source": [
    "$L = \\{1^n 0^n / n ≥ 1\\}$\n",
    "\n",
    "![AP para L = {1^n 0^n / n ≥ 1}](img/ap1.png)\n",
    "\n",
    "* $\\Sigma = \\{0, 1\\}$\n",
    "* $\\Gamma = \\{\\$, 1\\}$\n",
    "* $Q = \\{q0, q1\\}$\n",
    "* $q0 = q0$\n",
    "* $p0 = \\$$\n",
    "* $F = \\{\\}$\n",
    "* $\\delta = \\{\\delta(q0,1,\\$)=(q0,1\\$), \\delta(q0,1,1)=(q0,11), \\delta(q0,0,1)=(q1,\\lambda), \\delta(q1,0,1)=(q1,\\lambda), \\delta(q1,\\lambda,\\$)=(q1,\\lambda)\\}$\n",
    "\n",
    "| TM       | $1$        | $0$            | $\\lambda$      |\n",
    "| --       | --         | --             | --             |\n",
    "| >$q0,\\$$ | $(q0,1\\$)$ | -              | -              |\n",
    "| $q0,1$   | $(q0,11)$  | $(q1,\\lambda)$ | -              |\n",
    "| $q1,\\$$  | -          | -              | $(q1,\\lambda)$ |\n",
    "| $q1,1$   | -          | $(q1,\\lambda)$ | -              |"
   ]
  },
  {
   "cell_type": "markdown",
   "id": "97ebc9e3-9854-42bf-bd3f-7e2f7cec301c",
   "metadata": {},
   "source": [
    "## Funcionamiento"
   ]
  },
  {
   "cell_type": "markdown",
   "id": "4cc10eb8-96a5-49e7-9fc1-8036339645a9",
   "metadata": {},
   "source": [
    "* Cuando lee un $1$ en la entrada y está en el estado $q0$, pone el $1$ en la pila, para memorizar cuantos ha leído\n",
    "* Cuando lee un $0$, transita al estado $q1$ que se dedica a eliminar un $1$ de la pila por cada $0$ que lee\n",
    "* Así, si la pila se queda vacía es porque ha leído el mismo número de $1s$ que de $0s$\n",
    "* Ejemplo de análisis (parsing) por cadena aceptada\n",
    "\n",
    "| Pila      | Cadena    | Transición                           |\n",
    "| --        | --        | --                                   |\n",
    "| $ \\$ $    | $1100$    | $\\delta(q0,1,\\$)=(q0,1\\$)$           |\n",
    "| $ \\$ 1$   | $100$     | $\\delta(q0,1,1)=(q0,11)$             |\n",
    "| $ \\$ 11$  | $00$      | $\\delta(q0,0,1)=(q1,\\lambda)$        |\n",
    "| $ \\$ 1$   | $0$       | $\\delta(q1,0,1)=(q1,\\lambda)$        |\n",
    "| $ \\$ $    | $\\lambda$ | $\\delta(q1,\\lambda,\\$)=(q1,\\lambda)$ |\n",
    "| $\\lambda$ | $\\lambda$ | accept                               |\n",
    "\n",
    "* Ejemplo de análisis (parsing) por cadena rechazada\n",
    "\n",
    "| Pila     | Cadena    | Transición                    |\n",
    "| --       | --        | --                            |\n",
    "| $ \\$ $   | $110$     | $\\delta(q0,1,\\$)=(q0,1\\$)$    |\n",
    "| $ \\$ 1$  | $10$      | $\\delta(q0,1,1)=(q0,11)$      |\n",
    "| $ \\$ 11$ | $0$       | $\\delta(q0,0,1)=(q1,\\lambda)$ |\n",
    "| $ \\$ 1$  | $\\lambda$ | fail                          |"
   ]
  },
  {
   "cell_type": "markdown",
   "id": "e7b7bd93-57c7-4c74-b335-e9072d9dba3c",
   "metadata": {},
   "source": [
    "## Tipos de transiciones"
   ]
  },
  {
   "cell_type": "markdown",
   "id": "168a00ea-6411-46ed-a4a8-fc3667e3bc47",
   "metadata": {},
   "source": [
    "| Transición                              | Descripción                                                               |\n",
    "| --                                      | --                                                                        |\n",
    "| $\\delta(p,a,Z)=(q,z)$                   | Transita avanzando en la cadena de entrada, sacando y poniendo en la pila |\n",
    "| $\\delta(p,x,\\lambda)=(q,z)$             | Transita sin sacar nada de la pila                                        |\n",
    "| $\\delta(p,\\lambda,s)=(q,\\lambda)$       | Transita sin avanzar en la cadena de entrada                              |\n",
    "| $\\delta(p,\\lambda,\\lambda)=(q,\\lambda)$ | Transita sin avanzar en la cadena de entrada y sin sacar nada de la pila  |\n",
    "| $\\delta(p,x,\\lambda)=(q,\\lambda)$       | AF                                                                        |"
   ]
  },
  {
   "cell_type": "markdown",
   "id": "de04cb88-f8f7-405d-9929-804befa98c1a",
   "metadata": {},
   "source": [
    "## Descripción instantánea"
   ]
  },
  {
   "cell_type": "markdown",
   "id": "8257aae2-9524-405f-8c32-a3e4fc4671af",
   "metadata": {},
   "source": [
    "* Permite describir la configuración del AP en cada momento\n",
    "* Es una terna $(q, w, z)$\n",
    "\n",
    "|     |                  |                                                      |\n",
    "| --  | --               | --                                                   |\n",
    "| $q$ | $q \\in Q$        | estado actual                                        |\n",
    "| $w$ | $w \\in \\Sigma^*$ | el resto de la palabra de entrada que queda por leer |\n",
    "| $z$ | $z \\in \\Gamma^*$ | la situación de la pila en ese instante              |\n",
    "\n",
    "* El primer símbolo de la palabra de entrada representa el puntero de lectura de la cinta de entrada, y el primer símbolo de la pila representa el tope de la pila\n",
    "* Ejemplos:\n",
    "\n",
    "| Momentos      |                          |\n",
    "| --            | --                       |\n",
    "| **inicial**   | $(q0, 1100, \\$)$         |\n",
    "| **siguiente** | $(q0, 100, 1\\$)$         |\n",
    "| **final**     | $(q1, \\lambda, \\lambda)$ |"
   ]
  },
  {
   "cell_type": "markdown",
   "id": "0b672367-d44c-4a7a-a590-04d7df0b9d1c",
   "metadata": {},
   "source": [
    "## Movimientos"
   ]
  },
  {
   "cell_type": "markdown",
   "id": "f351920e-8196-4126-9218-a76e1f900f76",
   "metadata": {},
   "source": [
    "* Si $(p, x) \\in \\delta(q, a, Z)$, con $p, q \\in Q, a \\in \\Sigma \\cup \\{\\lambda\\}, Z \\in \\Gamma, x \\in \\Gamma^*$\n",
    "* Entonces, de la descripción instantánea $(q, ay, ZX)$, se puede pasar a la descripción instantánea $(p, y, xX)$, representándose como: $(q, ay, ZX) ├ (p, y, xX)$\n",
    "* ├ significa \"se puede probar que\"\n",
    "* Ejemplo:\n",
    "\n",
    "| Movimientos                                  |\n",
    "| --                                           |\n",
    "| $(q0, 1100, \\$) ├ (q0, 100, 1\\$)$            |\n",
    "| $(q0, 100, 1\\$) ├ (q0, 00, 11\\$)$            |\n",
    "| $(q0, 00, 11\\$) ├ (q1, 0, 1\\$)$              |\n",
    "| $(q1, 0, 1\\$) ├ (q1, \\lambda, \\$)$           |\n",
    "| $(q1, \\lambda, \\$) ├ (q1, \\lambda, \\lambda)$ |"
   ]
  },
  {
   "cell_type": "markdown",
   "id": "9c04e77a-8799-4cff-b69f-d6452e3eec6b",
   "metadata": {},
   "source": [
    "## Sucesión de movimientos"
   ]
  },
  {
   "cell_type": "markdown",
   "id": "a6bc3757-f12e-4687-b3fe-04cdefa9e13f",
   "metadata": {},
   "source": [
    "* Para representar el hecho de que se puede alcanzar la descripción instantánea d2 a partir de la d1, se utilizará la siguiente notación: $d1 ├^* d2$\n",
    "* Ejemplo:\n",
    "\n",
    "| Sucesión                                   |\n",
    "| --                                         |\n",
    "| $(q0, 1100, \\$) ├^* (q1, \\lambda, \\lambda)$ |"
   ]
  },
  {
   "cell_type": "markdown",
   "id": "5831de02-c489-4fa2-aedc-e0e8d64981c2",
   "metadata": {},
   "source": [
    "## Tipos de AP"
   ]
  },
  {
   "cell_type": "markdown",
   "id": "e8a381d0-21c5-493d-b0c9-4303b5793153",
   "metadata": {},
   "source": [
    "### Autómatas de Pila Deterministas (APD)"
   ]
  },
  {
   "cell_type": "markdown",
   "id": "db8f5850-d14c-49da-9650-aa95752fc761",
   "metadata": {},
   "source": [
    "* Un AP es APD cuando si hay alguna transición $\\lambda$ dados un estado $q$ y un símbolo de la pila, entonces no puede haber transición con ningún símbolo de entrada, y, además, no puede haber más de una transición dados el mismo estado $q$ y símbolo de la pila en el tope de la pila, incluyendo las transiciones $\\lambda$"
   ]
  },
  {
   "cell_type": "markdown",
   "id": "15d71c78-5220-4c36-9d49-6f76829d8f95",
   "metadata": {},
   "source": [
    "### Autómatas de Pila No Deterministas (APN)"
   ]
  },
  {
   "cell_type": "markdown",
   "id": "302dd22e-97ef-4ede-9520-4da1bf4c0675",
   "metadata": {},
   "source": [
    "![APN](img/apn.png)\n",
    "\n",
    "| TM       | $1$                               | $0$                        | $\\lambda$      |\n",
    "| --       | --                                | --                         | --             |\n",
    "| >$q0,\\$$ | $(q0,1\\$)$                        | $(q0,0\\$)$                 | -              |\n",
    "| $q0,0$   | $(q0,10)$                         | $\\{(q0,00),(q1,\\lambda)\\}$ | -              |\n",
    "| $q0,1$   | $\\{(q0,11),(q1,1),(q1,\\lambda)\\}$ | $(q0,01)$                  | -              |\n",
    "| $q1,\\$$  | -                                 | -                          | $(q1,\\lambda)$ |\n",
    "| $q1,0$   | -                                 | $(q1,\\lambda)$             | -              |\n",
    "| $q1,1$   | $(q1,\\lambda)$                    | -                          | -              |\n",
    "\n",
    "* Es APN debido a que, para las transiciones con $(q0,0,0)$ y $(q0,1,1)$, hay más de una posible transición\n",
    "  * $\\delta(qorigen, \\alpha, A) = (qdestino, \\lambda)$\n",
    "  * $\\delta(qorigen, \\lambda, A) = (qdestino, A)$\n",
    "\n",
    "* Las transiciones anteriores generan no determinismo debido a que se debe interpretar como:\n",
    "  * Leo $\\alpha$ en la cadena de entrada y teniendo A en el tope de la pila, desapilo, o\n",
    "  * Sin leer ningún elemento en la cadena de entrada y teniendo A en el tope de la pila, dejo A en el tope\n",
    "\n",
    "* Todo LIC no puede ser reconocido por un APD, por lo tanto, habrá lenguajes que son sólo reconocidos por APN"
   ]
  },
  {
   "cell_type": "markdown",
   "id": "f8695ae2-7b1d-4c24-a4ac-f9d202bddd36",
   "metadata": {},
   "source": [
    "## Lenguaje aceptado por un AP: L(M)"
   ]
  },
  {
   "cell_type": "markdown",
   "id": "889bce92-4708-4a6e-b454-ed3ab1e495b1",
   "metadata": {},
   "source": [
    "* Es el lenguaje L aceptado por el AP M\n",
    "* Es la colección de todas las palabras que acepta M\n",
    "* Los lenguajes aceptados por los AP incluyen los LR\n",
    "* Hay dos formas equivalentes de caracterizar el lenguaje aceptado por un AP (reconocimiento):\n",
    "  * Por vaciado de pila\n",
    "  * Por estado final"
   ]
  },
  {
   "cell_type": "markdown",
   "id": "eac825e9-e107-4a29-9127-6a4c1a5f65d8",
   "metadata": {},
   "source": [
    "### Por vaciado de pila"
   ]
  },
  {
   "cell_type": "markdown",
   "id": "3c4f62a5-a431-404e-acef-7575b49009a9",
   "metadata": {},
   "source": [
    "* El lenguaje aceptado es el conjunto de palabras que permiten transitar desde $q0$ hasta una descripción instantánea en la que tanto la entrada como la pila estén vacías\n",
    "\n",
    "$$LVAP = \\{w / (q0, w, p0) ├^* (p, \\lambda, \\lambda) \\wedge p \\in Q, w \\in \\Sigma^*\\}$$\n",
    "\n",
    "![LVAP](img/ap1.png)"
   ]
  },
  {
   "cell_type": "markdown",
   "id": "457f40cf-cf07-4bf0-87cb-dcae99fbe8f9",
   "metadata": {},
   "source": [
    "### Por estado final"
   ]
  },
  {
   "cell_type": "markdown",
   "id": "bccfda45-d5c3-4114-a0de-7df282e2978f",
   "metadata": {},
   "source": [
    "* El lenguaje aceptado es el equivalente al de los AF: todas las palabras que permiten transitar desde el estado inicial a uno final\n",
    "* Se aceptarán todas las palabras que permitan pasar de la configuración inicial a una en la que se haya leído toda la palabra de entrada y el autómata esté en uno de los estado finales, independientemente del contenido de la pila\n",
    "\n",
    "$$LFAP = \\{w / (q0, w, p0) ├^* (p, \\lambda, \\chi) \\wedge p \\in F, w \\in \\Sigma^*, \\chi \\in \\Gamma^*\\}$$\n",
    "\n",
    "![LFAP](img/lfap.png)"
   ]
  },
  {
   "cell_type": "markdown",
   "id": "0c8cdd3c-ebda-4f24-8d31-f6b7a837fff6",
   "metadata": {},
   "source": [
    "## AP y GIC"
   ]
  },
  {
   "cell_type": "markdown",
   "id": "17d85de8-09ab-438e-97b7-e4d57bc2246b",
   "metadata": {},
   "source": [
    "* Obtención del AP correspondiente a una GIC y viceversa:\n",
    "  * **AP asociado a una GIC**: para cada GIC existe un AP que reconoce el lenguaje generado por esta\n",
    "  * **GIC asociada a un AP**: a partir de cualquier AP, se puede construir una GIC que genera el lenguaje aceptado por el AP"
   ]
  },
  {
   "cell_type": "markdown",
   "id": "9b2ebbbf-ce40-4ad5-ae73-fb8fc25b66d2",
   "metadata": {},
   "source": [
    "### AP que reconoce por vaciado de pila el lenguaje generado por una GIC"
   ]
  },
  {
   "cell_type": "markdown",
   "id": "82068f4c-0f69-4422-815f-d9680ab0c053",
   "metadata": {},
   "source": [
    "* Entrada: $G = <\\Sigma_T, \\Sigma_N, S, P>$ en FNG\n",
    "* Salida: $AP = <\\Sigma = \\Sigma_T, \\Gamma = \\Sigma_N, Q = \\{q0\\}, q0 = q0, p0 = S, \\{\\}, \\delta>$ donde $\\delta$:\n",
    "\n",
    "| Si ...                                                                       | Entonces ...                             |\n",
    "| --                                                                           | --                                       |\n",
    "| $A \\rightarrow aB \\in P, (a \\in \\Sigma_T, A \\in \\Sigma_N, B \\in \\Sigma_N^*)$ | $(q, B) \\in \\delta(q, a, A)$             |\n",
    "| $S \\rightarrow \\lambda \\in P$                                                | $(q, \\lambda) \\in \\delta(q, \\lambda, S)$ |\n",
    "\n",
    "* Ejemplo: $S \\rightarrow (S) \\mid ()$\n",
    "\n",
    "$$S \\rightarrow (SA \\mid (A$$\n",
    "$$A \\rightarrow )$$ \n",
    "\n",
    "![VAP](img/vap.png)\n",
    "\n",
    "| Pila      | Cadena    | Transición                       |\n",
    "| --        | --        | --                               |\n",
    "| $S$       | $(())$    | $\\delta(q0,(,S) = (q0, SA)$      |\n",
    "| $AS$      | $())$     | $\\delta(q0,(,S) = (q0, A)$       |\n",
    "| $AA$      | $))$      | $\\delta(q0,),A) = (q0, \\lambda)$ |\n",
    "| $A$       | $)$       | $\\delta(q0,),A) = (q0, \\lambda)$ |\n",
    "| $\\lambda$ | $\\lambda$ | accept                           |"
   ]
  },
  {
   "cell_type": "markdown",
   "id": "813e23c9-ed1b-432d-8876-1cd207dc148c",
   "metadata": {},
   "source": [
    "### AP que reconoce por estado final el lenguaje generado por una GIC"
   ]
  },
  {
   "cell_type": "markdown",
   "id": "d1d4c3a7-b011-4baf-8fe4-b1b75aff35db",
   "metadata": {},
   "source": [
    "* Entrada: $G = <\\Sigma_T, \\Sigma_N, S, P>$\n",
    "* Salida: $AP = <\\Sigma = \\Sigma_T, \\Gamma = \\Sigma_T \\cup \\Sigma_N \\cup \\{p0\\}, Q = \\{q0, q1, q2\\}, q0, p0, \\{q2\\}, \\delta>$ donde $\\delta$:\n",
    "\n",
    "|                                                                                                                     |\n",
    "| --                                                                                                                  |\n",
    "| $\\delta(q0, \\lambda, p0) = \\{q1, Sp0\\}$                                                                             |\n",
    "| $\\forall A \\in \\Sigma_N, si A \\rightarrow a \\in P, (a \\in \\Sigma^*)$, entonces $(q1, a) \\in \\delta(q1, \\lambda, A)$ |\n",
    "| $\\forall a \\in \\Sigma_T, (q1, \\lambda) \\in \\delta(q1, a, a)$                                                        |\n",
    "| $\\delta(q1, \\lambda, p0) = \\{q2, p0\\}$                                                                              |\n",
    "\n",
    "* Ejemplo: $S \\rightarrow (S) \\mid ()$\n",
    "\n",
    "![FAP](img/fap.png)\n",
    "\n",
    "| Pila      | Cadena    | Transición                          |\n",
    "| --        | --        | --                                  |\n",
    "| $ \\$ $    | $(())$    | $\\delta(q0,\\lambda,\\$) = (q1, S\\$)$ |\n",
    "| $ \\$ S$   | $(())$    | $\\delta(q1,\\lambda,S) = (q1, (S))$  |\n",
    "| $ \\$ )S($ | $(())$    | $\\delta(q1,(,() = (q1,\\lambda)$     |\n",
    "| $ \\$ )S$  | $())$     | $\\delta(q1,\\lambda,S) = (q1,())$    |\n",
    "| $ \\$ ))($ | $())$     | $\\delta(q1,(,() = (q1,\\lambda)$     |\n",
    "| $ \\$ ))$  | $))$      | $\\delta(q1,),)) = (q1,\\lambda)$     |\n",
    "| $ \\$ )$   | $)$       | $\\delta(q1,),)) = (q1,\\lambda)$     |\n",
    "| $ \\$ $    | $\\lambda$ | $\\delta(q1,\\lambda, \\$) = (q2,\\$)$  |\n",
    "| $\\lambda$ | $\\lambda$ | accept                              |\n",
    "\n",
    "* Ejemplo:\n",
    "\n",
    "$$S \\rightarrow zMNz$$\n",
    "$$M \\rightarrow aMa \\mid z$$\n",
    "$$N \\rightarrow bNb \\mid z$$\n",
    "\n",
    "![FAP](img/fap2.png)"
   ]
  },
  {
   "cell_type": "markdown",
   "id": "55df9342-cbbd-4578-9c3c-6d74be0bd97f",
   "metadata": {},
   "source": [
    "## Lema del bombeo para LIC"
   ]
  },
  {
   "cell_type": "markdown",
   "id": "588895e4-7717-4069-8729-238d73ca426a",
   "metadata": {},
   "source": [
    "* Se utiliza para demostrar que determinados lenguajes no son LIC\n",
    "* Las GIC en FNC permiten obtener la relación que existe entre la longitud de una palabra y el número de pasos de su derivación\n",
    "* Se puede probar mediante inducción, que si se puede derivar $w$ y $|w| > 0$, entonces la derivación tiene exactamente $2|w|$ etapas (sustitución)\n",
    "* El conocimiento de la relación existente entre la $|w|$ y su derivación en una GIC permite demostrar el lema del bombeo para los LIC\n",
    "\n",
    "* Sea $L$ un LIC\n",
    "* Existe una constante $n$ tal que para toda palabra $w$ perteneciente a $L$ con $|w| ≥ n$, se puede descomponer $w$ en 5 palabras $w = uvxyz$ de modo que:\n",
    "  * $v ≠ λ \\vee y ≠ \\lambda$, es decir, $|vy| > 0$\n",
    "  * $|vxy| ≤ n$\n",
    "  * $\\forall k ≥ 0$, la palabra $uv^kxy^kz \\in L$\n",
    "\n",
    "* Con otras palabras...\n",
    "  * En cualquier palabra lo suficientemente larga de un LIC, es posible encontrar a los sumo dos subpalabras cortas y muy próximas que pueden \"bombearse\" en tándem. Es decir, se puede repetir ambas palabras k veces, para cualquier entero k, y la palabra resultante pertenecerá al lenguaje\n",
    "  * El lema del bombeo para los LIC es bastante similar al lema de bombeo para los LR, pero se descompone cada palabra w del LIC L en 5 partes y se bombean en tándem la segunda y la cuarta partes\n",
    "\n",
    "* Este lema define una condición necesaria, pero no suficiente para que un L = LIC\n",
    "* Por ello, del hecho de que un lenguaje cumpla la conclusión del lema no se sigue que sea independiente de contexto\n",
    "* Sin embargo, si no la cumple, queda demostrado que no lo es"
   ]
  },
  {
   "cell_type": "markdown",
   "id": "011082da-e2f7-4e03-b5ce-26e823558c40",
   "metadata": {},
   "source": [
    "### Ejemplo: $L = \\{a^nb^n / n > 0\\}$ es LIC. No es suficiente"
   ]
  },
  {
   "cell_type": "markdown",
   "id": "72a40121-adee-48ff-b342-73f54b499277",
   "metadata": {},
   "source": [
    "![Bombeo L = {a^nb^n / n > 0}](img/bombeo1.png)"
   ]
  },
  {
   "cell_type": "markdown",
   "id": "433cf6cc-6c5b-4513-a552-42aed821ea31",
   "metadata": {},
   "source": [
    "### Ejemplo: $L = \\{a^nb^nc^n / n > 0\\}$ no es LIC. Es suficiente"
   ]
  },
  {
   "cell_type": "markdown",
   "id": "79854fb5-9515-4339-8454-286c77472dd1",
   "metadata": {},
   "source": [
    "![Bombeo L = {a^nb^nc^n / n> 0}](img/bombeo2.png)"
   ]
  },
  {
   "cell_type": "markdown",
   "id": "6afe91c9-572e-4f6a-918d-8c8d3bdca620",
   "metadata": {},
   "source": [
    "## Propiedades de los LIC"
   ]
  },
  {
   "cell_type": "markdown",
   "id": "512272b0-a913-4c41-a2f3-f86089d49296",
   "metadata": {},
   "source": [
    "* Las GIC son incapaces de expresar las restricciones de que:\n",
    "  * diferentes variables no pueden tener el mismo nombre\n",
    "  * el número de parámetros formales de una función debe ser igual al número de parámetros actuales cuando se llama a la función\n",
    "  * las referencias a identificadores no declarados son ilegales\n",
    "* No obstante, lo anterior, el poder de las GIC permite incluir un considerable número de reglas de sintaxis de los LP actuales\n",
    "* Las características del LP que se salen del alcance de las GIC se manejan como casos especiales o se evalúan como parte del análisis semántico, en vez de hacerlo en las rutinas de análisis sintáctico"
   ]
  },
  {
   "cell_type": "markdown",
   "id": "142a677c-f600-4754-8cc3-fb225fc2a824",
   "metadata": {},
   "source": [
    "## Estructura interna de un Compilador"
   ]
  },
  {
   "cell_type": "markdown",
   "id": "94270d8c-9355-4049-bcfe-faba1af0d6a4",
   "metadata": {},
   "source": [
    "![Compilador](img/compilador.png)"
   ]
  }
 ],
 "metadata": {
  "kernelspec": {
   "display_name": "Python [conda env:base] *",
   "language": "python",
   "name": "conda-base-py"
  },
  "language_info": {
   "codemirror_mode": {
    "name": "ipython",
    "version": 3
   },
   "file_extension": ".py",
   "mimetype": "text/x-python",
   "name": "python",
   "nbconvert_exporter": "python",
   "pygments_lexer": "ipython3",
   "version": "3.12.7"
  }
 },
 "nbformat": 4,
 "nbformat_minor": 5
}
