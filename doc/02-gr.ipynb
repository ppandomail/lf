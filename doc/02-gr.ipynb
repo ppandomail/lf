{
 "cells": [
  {
   "cell_type": "markdown",
   "id": "c7adf09b-8c77-4550-a322-8044c72b2025",
   "metadata": {},
   "source": [
    "# Gramáticas\n",
    "---"
   ]
  },
  {
   "cell_type": "markdown",
   "id": "54813ee2-442e-4558-8b99-3b386194fd16",
   "metadata": {},
   "source": [
    "* Son **descripciones estructurales de las sentencias** de los lenguajes (\"cómo se pueden generar\")\n",
    "* Es un conjunto de producciones (reglas de reescritura) que se aplican para **generar** cada una de las **palabras** del lenguaje formal definido sobre un $\\Sigma$\n",
    "* Ejemplo:\n",
    "\n",
    "| Lenguaje    | Gramática         | Se lee               |\n",
    "| --          | --                | --                   |\n",
    "| $L = \\{a\\}$ | $S \\rightarrow a$ | \"S produce/deriva a\" |"
   ]
  },
  {
   "cell_type": "markdown",
   "id": "a6119990-b2dd-43cb-bfdf-bbb6f8974411",
   "metadata": {},
   "source": [
    "## Producción"
   ]
  },
  {
   "cell_type": "markdown",
   "id": "7e6d4e02-2f73-4eb2-bef5-f2df971c6dd5",
   "metadata": {},
   "source": [
    "* $\\alpha \\rightarrow \\beta$\n",
    "* Es una regla de reescritura formada por 3 partes:\n",
    "  * lado izquierdo\n",
    "  * lado derecho\n",
    "  * flecha: indica que el lado izquierdo \"produce\" (o \"es reemplazado por\" o \"equivale a\") el lado derecho "
   ]
  },
  {
   "cell_type": "markdown",
   "id": "88f644f6-c9d2-4b4e-b685-7a55216289d5",
   "metadata": {},
   "source": [
    "## Definición formal"
   ]
  },
  {
   "cell_type": "markdown",
   "id": "2ef997a6-1d7c-46c4-b9d9-8a1ef36be5fa",
   "metadata": {},
   "source": [
    "* Toda gramática formal G, se define como una cuádrupla $G = (\\Sigma_T, \\Sigma_N, S, P)$ donde:\n",
    "\n",
    "|            |                                          |    | Ejemplo |\n",
    "| --         | --                                       | -- | -- |\n",
    "| $\\Sigma_T$ | alfabeto de símbolos terminales          | alfabeto sobre el cual se construye el lenguaje formal | $\\Sigma_T = \\{0, 1\\}$ |\n",
    "| $\\Sigma_N$ | alfabeto de símbolos no terminales       | permiten representar estados intermedios de la generación de las palabras del lenguaje, $\\Sigma_T \\cap \\Sigma_N = \\{\\}$ | $\\Sigma_N = \\{S, A\\}$ |\n",
    "| $S$        | axioma o símbolo start o distinguido     | siempre debe comenzar a aplicarse las producciones que generan todas las palabras de un determinado lenguaje formal, $S \\in \\Sigma_N$ | $S = S$ |\n",
    "| $P$        | conjunto finito no vacío de producciones | permiten generar palabras a partir de $S$, $P = \\{(xAy \\rightarrow v) / v, x, y \\in \\Sigma^*, A \\in \\Sigma_N\\}$ | $P = \\{(A \\rightarrow 1B1), (A \\rightarrow 0B0), (B \\rightarrow A), (B \\rightarrow 1), (B \\rightarrow 0), (B \\rightarrow \\lambda)\\}$ |\n",
    "\n",
    "* Ejemplo:\n",
    "\n",
    "|            |                                                                |\n",
    "| --         | --                                                             |\n",
    "| $\\Sigma_N$ | $\\{S, T\\}$                                                     |\n",
    "| $\\Sigma_T$ | $\\{a, b\\}$                                                     |\n",
    "| $S$        | $S$                                                            |\n",
    "| $P$        | $\\{(S \\rightarrow aT), (T \\rightarrow a), (T \\rightarrow b)\\}$ |\n",
    "| $L$        | $\\{aa, ab\\}$                                                   |"
   ]
  },
  {
   "cell_type": "markdown",
   "id": "72c6b2d2-3371-4f19-983c-316f0e1aa638",
   "metadata": {},
   "source": [
    "## Regla compresora"
   ]
  },
  {
   "cell_type": "markdown",
   "id": "0df0a2f8-52e9-4c00-adf5-ffeffb67b200",
   "metadata": {},
   "source": [
    "* Aquella cuya parte derecha está formada por menos símbolos que la parte izquierda: $|\\beta| < |\\alpha|$\n",
    "* Transforma una palabra en otra de menor longitud\n",
    "\n",
    "| Ejemplos                |\n",
    "| --                      |\n",
    "| $0C0 \\rightarrow 1$     |\n",
    "| $A \\rightarrow \\lambda$ |"
   ]
  },
  {
   "cell_type": "markdown",
   "id": "46a2734f-a4de-49a9-87bf-0ebc54800d7f",
   "metadata": {},
   "source": [
    "## Regla recursiva"
   ]
  },
  {
   "cell_type": "markdown",
   "id": "7543697b-b0e3-4793-a783-fbe82f504e3c",
   "metadata": {},
   "source": [
    "* Si el mismo símbolo no terminal aparece en los dos lados de la producción\n",
    "* Es decir, $\\exists A \\in \\Sigma_N / (A \\rightarrow xAy) \\in P, (x, y \\in \\Sigma^*)$\n",
    "\n",
    "| Ejemplos             |\n",
    "| --                   |\n",
    "| $A \\rightarrow 0A0$  |\n",
    "| $B \\rightarrow B10$  |\n",
    "| $C \\rightarrow 111C$ |"
   ]
  },
  {
   "cell_type": "markdown",
   "id": "f6f047aa-21f8-419a-837a-1dc1b36a0bd5",
   "metadata": {},
   "source": [
    "## Tipos"
   ]
  },
  {
   "cell_type": "markdown",
   "id": "e7d08fe5-fa07-4da5-bab3-c6b56cbcf4cf",
   "metadata": {},
   "source": [
    "|       |                                                                       |         |                                                     |\n",
    "| --    | --                                                                    | --      | --                                                  |\n",
    "| $G_3$ | Gramática Tipo 3 o Regular                                            | **LR**  | Lenguaje Regular                                    |\n",
    "| $G_2$ | Gramática Tipo 2 o Independiente (libre) de Contexto (incontextuales) | **LIC** | Lenguaje Independiente de Contexto                  |\n",
    "| $G_1$ | Gramática Tipo 1 o Dependiente (sensible) de Contexto (contextuales)  | **LDC** | Lenguaje Dependiente de Contexto                    |\n",
    "| $G_0$ | Gramática Tipo 0 o Sin restricciones (Irrestricta)                    | **LRE** | Lenguaje Recursivamente Enumerable o No Restringido |"
   ]
  },
  {
   "cell_type": "markdown",
   "id": "d76419d9-d58d-4fe8-8694-fa896e5b3056",
   "metadata": {},
   "source": [
    "![Tipos de Gramáticas](img/tipos-gramaticas.png)"
   ]
  },
  {
   "cell_type": "markdown",
   "id": "706c2b17-017d-480f-9244-16fd2c6cb9b4",
   "metadata": {},
   "source": [
    "## Gramáticas Regulares (GR)"
   ]
  },
  {
   "cell_type": "markdown",
   "id": "2057f1b6-1245-43aa-a0fd-d6b19aeb0f64",
   "metadata": {},
   "source": [
    "* Generan las palabras de los LR\n",
    "* Son las más restrictivas\n",
    "* Restricciones:\n",
    "  \n",
    "|                    |                                                                       |\n",
    "| --                 | --                                                                    |\n",
    "| **lado izquierdo** | un solo no terminal                                                   |\n",
    "| **lado derecho**   | formado por un solo terminal, o un no terminal seguido de un terminal |\n",
    "| **axioma**         | puede o no derivar a $\\lambda$                                        |\n",
    "\n",
    "* Pueden ser:\n",
    "\n",
    "|                               |      |                                                                                                                         |\n",
    "| --                            | --   | --                                                                                                                      |\n",
    "| **Lineales por la izquierda** | GRLI | $P = \\{(S \\rightarrow \\lambda) \\mid (A \\rightarrow Bv) \\mid (A \\rightarrow v) / (A, B) \\in \\Sigma_N, v \\in \\Sigma_T \\}$ |\n",
    "| **Lineales por la derecha**   | GRLD | $P = \\{(S \\rightarrow \\lambda) \\mid (A \\rightarrow vB) \\mid (A \\rightarrow v) / (A, B) \\in \\Sigma_N, v \\in \\Sigma_T \\}$ |\n",
    "\n",
    "* Ejemplos:\n",
    "\n",
    "|                                                                                                                                                                       |\n",
    "| --                                                                                                                                                                    |\n",
    "| $P = \\{(S \\rightarrow C0), (S \\rightarrow D1), (C \\rightarrow 1), (D \\rightarrow C1)\\}$                                                                               |\n",
    "| $P = \\{(A \\rightarrow 1B), (B \\rightarrow 1), (B \\rightarrow 0C), (B \\rightarrow 1C), (C \\rightarrow 1)\\}$                                                            |\n",
    "| $P = \\{(S \\rightarrow \\lambda), (S \\rightarrow aA), (A \\rightarrow aB), (A \\rightarrow a), (B \\rightarrow aA)\\}$                                                      |\n",
    "| $P = \\{(S \\rightarrow \\lambda), (S \\rightarrow Ca), (C \\rightarrow Da), (C \\rightarrow a), (D \\rightarrow Ca)\\}$                                                      |\n",
    "| $P = \\{(S \\rightarrow a), (S \\rightarrow aB), (B \\rightarrow bB), (B \\rightarrow aB), (B \\rightarrow a), (B \\rightarrow b)\\}$ para el $L = \\{aw / w \\in \\{a, b\\}^*\\}$ |"
   ]
  },
  {
   "cell_type": "markdown",
   "id": "6e717061-16d1-4729-85c0-9f96be43ef51",
   "metadata": {},
   "source": [
    "## Gramáticas Quasi Regulares (GQR)"
   ]
  },
  {
   "cell_type": "markdown",
   "id": "c486ca22-313f-4a41-bf7b-30a07cc588ab",
   "metadata": {},
   "source": [
    "* Vinculadas a la sintaxis de los lenguajes de programación\n",
    "* Abrevia la escritura de una GR\n",
    "* Ejemplo:\n",
    "\n",
    "| L | GR | GQR |\n",
    "| -- | -- | -- |\n",
    "| $\\{w_1 w_2 / w_1 \\in \\{a, b, c\\} \\wedge w_2 \\in \\{a, b, c\\}^* \\}$ | $S \\rightarrow aS \\mid bS \\mid cS \\mid a \\mid b \\mid c$ | $S \\rightarrow A \\mid AS \\;A \\rightarrow a \\mid b \\mid c$ |"
   ]
  },
  {
   "cell_type": "markdown",
   "id": "02147dbc-82ae-480a-8da0-5d5893a73379",
   "metadata": {},
   "source": [
    "## Derivación"
   ]
  },
  {
   "cell_type": "markdown",
   "id": "7ba29c77-d24d-4b8c-802e-424da4083eb8",
   "metadata": {},
   "source": [
    "* Es el proceso que permite obtener cada una de las palabras de un LF a partir del axioma de una GF que lo genera y aplicando sucesivamente las producciones convenientes de esa GF\n",
    "* Existen diferentes formas de representar una derivación:\n",
    "  * Horizontal\n",
    "  * Vertical"
   ]
  },
  {
   "cell_type": "markdown",
   "id": "eb456057-6135-4bc6-8374-053dfaf48b61",
   "metadata": {},
   "source": [
    "### Derivación Horizontal"
   ]
  },
  {
   "cell_type": "markdown",
   "id": "fdeaa5da-836d-4213-b177-8e5631435efd",
   "metadata": {},
   "source": [
    "* Utilizando el símbolo $\\Rightarrow$ en cada paso de una derivación\n",
    "* Ejemplo: $L = \\{a^nb / n > 0\\}$  $P = \\{(S \\rightarrow aA), (A \\rightarrow aA), (A \\rightarrow b)\\}$\n",
    "  * $S \\Rightarrow aA \\Rightarrow ab$ entonces $ab \\in L$\n",
    "  * $S \\Rightarrow aA \\Rightarrow aaA \\Rightarrow aab$ entonces $aab \\in L$\n",
    "  * $S \\Rightarrow aA \\Rightarrow aaA \\Rightarrow aaaA \\Rightarrow aaab$ entonces $aaab \\in L$"
   ]
  },
  {
   "cell_type": "markdown",
   "id": "c563fdcc-2f25-46bb-8bd4-6e9a96fdeb86",
   "metadata": {},
   "source": [
    "### Derivación Vertical"
   ]
  },
  {
   "cell_type": "markdown",
   "id": "0c92034e-f0e7-4b86-88ee-90ccbb7a6cca",
   "metadata": {},
   "source": [
    "* **Árbol de derivación**: permite mostrar gráficamente cómo se puede derivar cualquier palabra de un lenguaje a partir del axioma de una gramática que genera ese lenguaje\n",
    "* Reemplazado un no terminal por su lado derecho para producir un nuevo subárbol\n",
    "* Son utilizados en la construcción de compiladores para representar el análisis sintáctico de los programas fuente y sirviendo de base para la generación de código\n",
    "* Ejemplo: $L = \\{a^nb / n > 0\\}$  $P = \\{(S \\rightarrow aA), (A \\rightarrow aA), (A \\rightarrow b)\\}$\n",
    "\n",
    "             S\n",
    "            / \\\n",
    "            a  A\n",
    "               |\n",
    "               b"
   ]
  },
  {
   "cell_type": "markdown",
   "id": "3704b9e4-f4dc-46b1-9b4d-2a130e76f409",
   "metadata": {},
   "source": [
    "## Lenguaje generado por una gramática L(G)"
   ]
  },
  {
   "cell_type": "markdown",
   "id": "54921182-c44a-4f84-a380-a7de7b34b606",
   "metadata": {},
   "source": [
    "* Es el conjunto de todas las palabras que se pueden obtener a partir del axioma de la gramática por la aplicación de derivaciones:\n",
    "* $L(G) = \\{w \\in \\Sigma_T^* : S \\Rightarrow w\\}$\n",
    "* Ejemplo: $L(G) = \\{ab, aab, aaab, aaaab, ...\\}$"
   ]
  },
  {
   "cell_type": "markdown",
   "id": "5b2b3f33-06e4-470f-9cd2-e06ba4dc35cc",
   "metadata": {},
   "source": [
    "## Gramáticas equivalentes"
   ]
  },
  {
   "cell_type": "markdown",
   "id": "1c5533c8-448e-4f09-a950-3d937fdab6e8",
   "metadata": {},
   "source": [
    "* Dos gramáticas G y G’ son equivalentes si generan el mismo lenguaje, es decir, si $L(G) = L(G’)$\n",
    "* Ejemplo G\n",
    "\n",
    "    $S \\rightarrow c A d$\n",
    "    \n",
    "    $A \\rightarrow ab \\mid a$\n",
    "      \n",
    "* Ejemplo G'\n",
    "  \n",
    "    $S \\rightarrow cabd \\mid cad$"
   ]
  },
  {
   "cell_type": "markdown",
   "id": "e388d41b-23d1-4bbc-a6ae-7c55d5c89030",
   "metadata": {},
   "source": [
    "## Gramáticas ambiguas"
   ]
  },
  {
   "cell_type": "markdown",
   "id": "53b2d03e-962d-4aed-8a1f-cc632164b62d",
   "metadata": {},
   "source": [
    "* Una gramática es ambigua si tiene al menos una sentencia ambigua\n",
    "* Una sentencia es ambigua si tiene más de una derivación o árbol de derivación\n",
    "* Un lenguaje es ambiguo si existe una gramática ambigua que lo genera\n",
    "* En algunos casos, dada una gramática ambigua, se puede encontrar otra gramática que produzca el mismo lenguaje pero que no sea ambigua\n",
    "* Ejemplo 1:\n",
    "\n",
    "  $S \\rightarrow 1B \\mid 11$\n",
    "\n",
    "  $B \\rightarrow 1$\n",
    "      \n",
    "  * Dos derivaciones para 11:\n",
    "    * $S \\Rightarrow 1B \\Rightarrow 11$\n",
    "    * $S \\Rightarrow 11$\n",
    "\n",
    "* Ejemplo 2:\n",
    "\n",
    "  $E \\rightarrow E+E \\mid E-E \\mid num \\mid id \\mid (E)$\n",
    "\n",
    "  * Dos derivaciones para id+id-id (una por la izquierda y otra por la derecha)\n",
    "    * $E \\Rightarrow E-E \\Rightarrow E+E-E \\Rightarrow id+E-E \\Rightarrow id+id-E \\Rightarrow id+id-id$\n",
    "    * $E \\Rightarrow E-E \\Rightarrow E-id \\Rightarrow E+E-id \\Rightarrow E+id-id \\Rightarrow id+id-id$\n",
    "\n",
    "* Si una gramática tiene alguna de estas características, se podrá afirmar que es ambigua:\n",
    "  * Con ciclos: $S \\rightarrow A \\mid a$     $A \\rightarrow S$\n",
    "  * Con alguna regla de la forma: $E \\rightarrow E...E$\n",
    "  * Con reglas que ofrecen caminos alternativos entre dos puntos: $S \\rightarrow B \\mid C$   $B \\rightarrow C$\n",
    "  * Producciones recursivas en las que las variables no recursivas de la producción puedan derivar a la palabra vacía. Ejemplo:\n",
    "\n",
    "\n",
    "    $S \\rightarrow A B S \\mid s$\n",
    "\n",
    "    $A \\rightarrow a \\mid \\lambda$\n",
    "\n",
    "    $B \\rightarrow b \\mid \\lambda$\n",
    "\n",
    "  * Símbolos no terminales que puedan derivar a la palabra vacía y a la misma palabra de terminales, y que aparezcan juntas en la parte derecha de una regla o en alguna forma sentencial. Ejemplo:\n",
    "\n",
    "\n",
    "    $A \\rightarrow A B \\mid a \\mid \\lambda$\n",
    "    \n",
    "    $B \\rightarrow b \\mid a \\mid \\lambda$"
   ]
  },
  {
   "cell_type": "markdown",
   "id": "a5b9d3c0-04fc-4ab4-a2ee-d80b645f7b5a",
   "metadata": {},
   "source": [
    "## Factorización a izquierda"
   ]
  },
  {
   "cell_type": "markdown",
   "id": "761dd354-8540-432b-a7a4-91adc9a0baed",
   "metadata": {},
   "source": [
    "* Proceso que elimina el problema de que aparezcan producciones de un mismo símbolo no terminal en cuya parte derecha, la primera parte sea común\n",
    "* Ejemplo:\n",
    "\n",
    "\n",
    "    $S \\rightarrow if \\, C \\, then \\, S \\, else \\, S \\mid if \\, C \\, then \\, S \\mid repeat \\, S \\, until \\, C \\mid repeat \\, S \\, forever$\n",
    "\n",
    "\n",
    "\n",
    "* Algoritmo:\n",
    "\n",
    "    * Por cada $A \\in \\Sigma_N$\n",
    "    * Si $A \\rightarrow \\beta \\alpha_1 \\mid \\beta \\alpha_2$ cambiar esas reglas por:\n",
    "      * $A \\rightarrow \\beta A’$\n",
    "      * $A’\\rightarrow \\alpha_1 \\mid \\alpha_2$\n",
    "\n",
    "\n",
    "* Salida del algoritmo:\n",
    "\n",
    "\n",
    "  $S  \\rightarrow if \\, C \\, then \\, S \\, A’\\mid repeat \\, S \\, S’$\n",
    "  \n",
    "  $A’ \\rightarrow else \\, S \\mid \\lambda$\n",
    "\n",
    "  $S’ \\rightarrow until \\, C \\mid forever$    "
   ]
  }
 ],
 "metadata": {
  "kernelspec": {
   "display_name": "Python [conda env:base] *",
   "language": "python",
   "name": "conda-base-py"
  },
  "language_info": {
   "codemirror_mode": {
    "name": "ipython",
    "version": 3
   },
   "file_extension": ".py",
   "mimetype": "text/x-python",
   "name": "python",
   "nbconvert_exporter": "python",
   "pygments_lexer": "ipython3",
   "version": "3.12.7"
  }
 },
 "nbformat": 4,
 "nbformat_minor": 5
}
