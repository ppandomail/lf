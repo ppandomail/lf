{
 "cells": [
  {
   "cell_type": "markdown",
   "id": "0872971d-1363-47c4-9349-7cf2d32a1f55",
   "metadata": {},
   "source": [
    "# TP Intro\n",
    "---"
   ]
  },
  {
   "cell_type": "markdown",
   "id": "dcc45f32-1b41-4d41-9a77-18c008aae997",
   "metadata": {},
   "source": [
    "## $\\Sigma$"
   ]
  },
  {
   "cell_type": "markdown",
   "id": "24235032-3ce6-489c-a0c1-91aad3eb3dc2",
   "metadata": {},
   "source": [
    "Escriba el $\\Sigma$ que se requiere para construir el conjunto de los números enteros con signo en base 10"
   ]
  },
  {
   "cell_type": "code",
   "execution_count": null,
   "id": "059a0917-c096-4d8c-bc26-906412735435",
   "metadata": {},
   "outputs": [],
   "source": []
  },
  {
   "cell_type": "markdown",
   "id": "cc2f7aed-8fe7-4bbc-ae00-a89c11f30970",
   "metadata": {},
   "source": [
    "Escriba el $\\Sigma$ mínimo a partir del cual se construye el $L = \\{Argentina, Holanda, Brasil\\}$"
   ]
  },
  {
   "cell_type": "code",
   "execution_count": null,
   "id": "ccada6a6-e6a7-4a1b-a72b-baf24285c259",
   "metadata": {},
   "outputs": [],
   "source": []
  },
  {
   "cell_type": "markdown",
   "id": "7ab2eead-954e-44d8-8dca-8ba74c5780a2",
   "metadata": {},
   "source": [
    "Sea el $L = \\{\\lambda, a, ba, abc\\}$. ¿Cuál es el $\\Sigma$ mínimo sobre el que se puede construir este lenguaje?"
   ]
  },
  {
   "cell_type": "code",
   "execution_count": null,
   "id": "2c0f480d-6cf1-4df5-82dc-9f2e19f5000e",
   "metadata": {},
   "outputs": [],
   "source": []
  },
  {
   "cell_type": "markdown",
   "id": "9729fa6a-a957-43b6-af9a-9e527bb6b1e6",
   "metadata": {},
   "source": [
    "## $w$"
   ]
  },
  {
   "cell_type": "markdown",
   "id": "2cad5585-8b72-407c-ac1a-10ae9483ccef",
   "metadata": {},
   "source": [
    "Dado el $\\Sigma = \\{0, 1, 2\\}$, construya dos palabras en la que cada uno de estos símbolos aparezca una sola vez"
   ]
  },
  {
   "cell_type": "code",
   "execution_count": null,
   "id": "3da4804b-e64b-41d8-a44b-4371051af845",
   "metadata": {},
   "outputs": [],
   "source": []
  },
  {
   "cell_type": "markdown",
   "id": "fd6f56ff-cfb8-4f23-a7e0-2ecb0fcd95bb",
   "metadata": {},
   "source": [
    "Dado el $\\Sigma = \\{ab, cde\\}$, construya una palabra que tenga cuatro símbolos"
   ]
  },
  {
   "cell_type": "code",
   "execution_count": null,
   "id": "5e4418d9-f1aa-479d-8acb-4ff00f502dd9",
   "metadata": {},
   "outputs": [],
   "source": []
  },
  {
   "cell_type": "markdown",
   "id": "b81150a9-f1cf-45b0-b21c-4b682ca5d753",
   "metadata": {},
   "source": [
    "Simplificando con el uso de la \"potenciación\", escriba la palabra que tiene 1300 aes seguidas de 846 bes seguidas de 257 aes"
   ]
  },
  {
   "cell_type": "code",
   "execution_count": null,
   "id": "b03cdd8c-4c7d-4537-bf5f-c34b56c910fc",
   "metadata": {},
   "outputs": [],
   "source": []
  },
  {
   "cell_type": "markdown",
   "id": "4c438e07-a81f-4afa-a295-1cd8bf5af308",
   "metadata": {},
   "source": [
    "Sean las palabras $w_1 = aab$ y $w_2 = ba$. Obtenga la palabra $w_1w_2w_1w_2$"
   ]
  },
  {
   "cell_type": "code",
   "execution_count": null,
   "id": "26058cf1-ca92-418a-9f51-76b68c3ba666",
   "metadata": {},
   "outputs": [],
   "source": []
  },
  {
   "cell_type": "markdown",
   "id": "69fd8258-071e-4628-85f1-7b971bf90812",
   "metadata": {},
   "source": [
    "¿Por qué el superíndice 0 no es aplicable a símbolos pero sí a palabras?"
   ]
  },
  {
   "cell_type": "code",
   "execution_count": null,
   "id": "acc77e5d-461a-45ed-a6e2-8bb75fe25909",
   "metadata": {},
   "outputs": [],
   "source": []
  },
  {
   "cell_type": "markdown",
   "id": "4765c7a9-86bf-4703-95b7-77610947cd97",
   "metadata": {},
   "source": [
    "Demuestre que $(abc)^0 = (1234)^0$"
   ]
  },
  {
   "cell_type": "code",
   "execution_count": null,
   "id": "28fcfdeb-f825-4139-8d92-4a5b993015b7",
   "metadata": {},
   "outputs": [],
   "source": []
  },
  {
   "cell_type": "markdown",
   "id": "bfab631a-7b49-4a8d-93cb-185c13515bcd",
   "metadata": {},
   "source": [
    "Demuestre que las palabras $(ab^3)^3$ y $((ab)^3)^3$ son diferentes"
   ]
  },
  {
   "cell_type": "code",
   "execution_count": null,
   "id": "e95594c1-03bf-4e1c-b910-0ceb370fddf1",
   "metadata": {},
   "outputs": [],
   "source": []
  },
  {
   "cell_type": "markdown",
   "id": "854b363c-cd44-44d2-bd1e-02607e93efae",
   "metadata": {},
   "source": [
    "Sean la palabras $x = cd$ y $z = ab$ definidas sobre $\\Sigma = \\{a, b, c, d\\}$. Calcular:\n",
    "1. $x^1$\n",
    "1. $x^2$\n",
    "1. $x^0$\n",
    "1. $x^R$\n",
    "1. $x^Rz$\n",
    "1. $z^Rz^R$\n",
    "1. $x^Rz^2$\n",
    "1. $x^2z^3$"
   ]
  },
  {
   "cell_type": "code",
   "execution_count": null,
   "id": "5e726c6b-29ea-4a0d-a1f3-ebc582f98d6d",
   "metadata": {},
   "outputs": [],
   "source": []
  },
  {
   "cell_type": "markdown",
   "id": "63e70b34-7c52-49b1-bccf-42bfca6bc7e4",
   "metadata": {},
   "source": [
    "Sea el $L = \\{0, 00, 01, 010\\}$. Escriba una concatenación de dos palabras que produce otra palabra de este lenguaje"
   ]
  },
  {
   "cell_type": "code",
   "execution_count": null,
   "id": "1d76e33d-92cf-4ccc-a02e-aee2705dd0c0",
   "metadata": {},
   "outputs": [],
   "source": []
  },
  {
   "cell_type": "markdown",
   "id": "4951a392-d6be-4066-a130-579004fa5bb9",
   "metadata": {},
   "source": [
    "Sea el lenguaje anterior. Escriba una concatenación de dos palabras que produce una cadena que no es palabra del lenguaje"
   ]
  },
  {
   "cell_type": "markdown",
   "id": "6c9d4d79-b8fe-4406-b27f-4a9f0370131d",
   "metadata": {},
   "source": [
    "## $|w|$"
   ]
  },
  {
   "cell_type": "markdown",
   "id": "459fdf44-b712-4ea9-a81c-a3119527b5fb",
   "metadata": {},
   "source": [
    "Sea el $L = \\{ab^na / n ≥ 1\\}$. Escriba las tres palabras de menor longitud y describa este lenguaje mediante una frase en castellano"
   ]
  },
  {
   "cell_type": "code",
   "execution_count": null,
   "id": "9ec4abca-d2ac-4d0c-bafa-2df6dff2e367",
   "metadata": {},
   "outputs": [],
   "source": []
  },
  {
   "cell_type": "markdown",
   "id": "8ef4594f-81ed-4249-8a4b-4b3068ba31a3",
   "metadata": {},
   "source": [
    "Para cada uno de los siguientes $L$, dé la palabra de menor longitud y otras dos palabras de distinta longitud:\n",
    "1. $L_1 = \\{w / w \\in \\{0, 1, 2, 3, 4, 5, 6, 7, 8, 9\\}^*$ y $w$ es un número par$\\}$\n",
    "1. $L_2 = \\{a^nb^md^{n+m} / n, m ≥ 0\\}$\n",
    "1. $L_3 = \\{w / w \\in \\{a, b, c, d\\}^*$ y $w$ contiene la subpalabra $ab$ y $w$ no la subpalabra $bc\\}$\n",
    "1. $L_4 = \\{w0^{2k+1} / w \\in \\{a, b, c\\}^*$ y $|w|$ es múltiplo de 4 y $w$ termina en $bb$ y $k ≥ 0\\}$\n",
    "1. $L_5 = \\{w / w \\in \\{a, b, c\\}^*$ y $w$ contiene al menos dos $b$ y $w$ contiene la subpalabra $bc\\}$"
   ]
  },
  {
   "cell_type": "code",
   "execution_count": null,
   "id": "3fa1125f-7d3c-4339-bff9-729338721157",
   "metadata": {},
   "outputs": [],
   "source": []
  },
  {
   "cell_type": "markdown",
   "id": "12514b8f-07f7-47b2-8002-c5ce72033b1e",
   "metadata": {},
   "source": [
    "Sea el $\\Sigma = \\{a, b\\}$ y sea el lenguaje $\\Sigma^*$. ¿Cuántas palabras de longitud 3 tiene este lenguaje? ¿Y cuántas de longitud 4?"
   ]
  },
  {
   "cell_type": "code",
   "execution_count": null,
   "id": "7da7579a-2762-4f12-98fd-b3182e01b773",
   "metadata": {},
   "outputs": [],
   "source": []
  },
  {
   "cell_type": "markdown",
   "id": "79e31ebf-5a2c-4609-bf30-aa9b43e2b772",
   "metadata": {},
   "source": [
    "Sea el $L = \\{ab^n / n ≥ 1\\}$. Escriba las tres palabras de menor longitud"
   ]
  },
  {
   "cell_type": "code",
   "execution_count": null,
   "id": "283456ee-ffce-4009-b373-379bdfee23e7",
   "metadata": {},
   "outputs": [],
   "source": []
  },
  {
   "cell_type": "markdown",
   "id": "6870cbc5-244b-445e-aae8-1b28492cdb04",
   "metadata": {},
   "source": [
    "Sea el $L = \\{(ab)^n / n ≥ 1\\}$. Escriba las tres palabras de menor longitud"
   ]
  },
  {
   "cell_type": "code",
   "execution_count": null,
   "id": "b2d47d58-ba08-4201-be1e-d110f7190ff6",
   "metadata": {},
   "outputs": [],
   "source": []
  },
  {
   "cell_type": "markdown",
   "id": "88141d87-4d6a-4d2e-8d30-e71c7927b8bd",
   "metadata": {},
   "source": [
    "## Extensión"
   ]
  },
  {
   "cell_type": "markdown",
   "id": "97b253f1-6b95-4f6b-be24-ea85164035cf",
   "metadata": {},
   "source": [
    "Escriba un LF con cuatro palabras de longitud cinco sobre el $\\Sigma = \\{c, p\\}$"
   ]
  },
  {
   "cell_type": "code",
   "execution_count": null,
   "id": "0d3e893f-0bde-467e-95e7-dd2853a9cd41",
   "metadata": {},
   "outputs": [],
   "source": []
  },
  {
   "cell_type": "markdown",
   "id": "edbd8dca-ebbd-4def-8d12-360c76afdb19",
   "metadata": {},
   "source": [
    "Describa por extensión $L$ sobre el $\\Sigma = \\{a, b, c\\}$ formado por todas las palabras de longitud 30 que comienzan con $a$, terminan con $b$ y, en medio, tienen exactamente tres ces. Una palabra de este lenguaje es: $a^{20}cbbcacb^4$"
   ]
  },
  {
   "cell_type": "code",
   "execution_count": null,
   "id": "f14b56e8-7f78-4e40-8b2c-40c902e4c5f9",
   "metadata": {},
   "outputs": [],
   "source": []
  },
  {
   "cell_type": "markdown",
   "id": "51eaed61-bad2-4c6e-8f29-69e00e882a86",
   "metadata": {},
   "source": [
    "Dado el $\\Sigma = \\{a, b, c\\}$, escriba las palabras del $L = \\{w / w \\in \\Sigma\\}$"
   ]
  },
  {
   "cell_type": "code",
   "execution_count": null,
   "id": "0d0b655e-e6d6-44e7-8864-4c1a4a2e0276",
   "metadata": {},
   "outputs": [],
   "source": []
  },
  {
   "cell_type": "markdown",
   "id": "671d089a-7999-40d7-9e2a-5ade969f771d",
   "metadata": {},
   "source": [
    "Escriba todas las palabras del $L = \\{a^{2n+1} / 1 ≤ n ≤ 4\\}$"
   ]
  },
  {
   "cell_type": "code",
   "execution_count": null,
   "id": "f219012d-b999-4c37-8ba6-d63a5d884453",
   "metadata": {},
   "outputs": [],
   "source": []
  },
  {
   "cell_type": "markdown",
   "id": "cb6f71b9-c5ad-408f-9178-aafd53ef2f22",
   "metadata": {},
   "source": [
    "## Comprensión Simbólica"
   ]
  },
  {
   "cell_type": "markdown",
   "id": "80855ae0-ae85-4014-adc1-a7540586ae6a",
   "metadata": {},
   "source": [
    "Describa por comprensión el $L = \\{\\lambda, b, bb, bbb, bbbb, bbbbb, bbbbbb, bbbbbbb, bbbbbbbb\\}$"
   ]
  },
  {
   "cell_type": "code",
   "execution_count": null,
   "id": "ebc387dd-389c-4b3f-83ec-754dd74e0d88",
   "metadata": {},
   "outputs": [],
   "source": []
  },
  {
   "cell_type": "markdown",
   "id": "1cbdfd06-5517-488c-8eb1-0ef7d237b4b2",
   "metadata": {},
   "source": [
    "Describa por comprensión el $L$ sobre el $\\Sigma = \\{a, b, c\\}$ formado por todas las palabras de longitud 30 que comienzan con $a$, terminan con $b$ y, en medio, tienen exactamente tres ces. Una palabra de este lenguaje es: $a^{20}cbbcacb^4$"
   ]
  },
  {
   "cell_type": "code",
   "execution_count": null,
   "id": "74d0f1d3-f6d3-4a76-8a03-87ce71a3c85b",
   "metadata": {},
   "outputs": [],
   "source": []
  },
  {
   "cell_type": "markdown",
   "id": "d4fbdbf2-476f-482f-a123-fbab5a9de864",
   "metadata": {},
   "source": [
    "Sea el $L = \\{a^{2n} / 200 ≥ n ≥ 0\\}$. Escriba, por comprensión, el $L$ que se obtiene realizando todas las concatenaciones de dos palabras cualesquiera del lenguaje dado"
   ]
  },
  {
   "cell_type": "code",
   "execution_count": null,
   "id": "ca2446dd-6e26-4033-80b8-5007253fa046",
   "metadata": {},
   "outputs": [],
   "source": []
  },
  {
   "cell_type": "markdown",
   "id": "68a6fd13-aca2-49be-8c49-301e3b9b89c6",
   "metadata": {},
   "source": [
    "Sea el $\\Sigma = \\{0, 1\\}$. Describa, por comprensión, un lenguaje infinito $L$ sobre $\\Sigma$ (que no sea $\\Sigma^*$)"
   ]
  },
  {
   "cell_type": "code",
   "execution_count": null,
   "id": "6f53d4f9-6f70-4378-825f-5e61b40391fd",
   "metadata": {},
   "outputs": [],
   "source": []
  },
  {
   "cell_type": "markdown",
   "id": "07440d65-b364-4569-b029-1f0cddc11ab6",
   "metadata": {},
   "source": [
    "## Comprensión Coloquial"
   ]
  },
  {
   "cell_type": "markdown",
   "id": "b8588592-dc04-42f0-8d73-33d1643e1fd5",
   "metadata": {},
   "source": [
    "Describa mediante una frase el $L = \\{\\lambda, b, bb, bbb, bbbb, bbbbb, bbbbbb, bbbbbbb, bbbbbbbb\\}$"
   ]
  },
  {
   "cell_type": "code",
   "execution_count": null,
   "id": "7aa3cba6-e984-4aff-819e-3a2f369ef63f",
   "metadata": {},
   "outputs": [],
   "source": []
  },
  {
   "cell_type": "markdown",
   "id": "18c94969-2872-49fb-9bba-f22ccb6e3ce4",
   "metadata": {},
   "source": [
    "Describa mediante una frase el $L = \\{a^{2n+1} / 200 ≥ n ≥ 0\\}$"
   ]
  },
  {
   "cell_type": "code",
   "execution_count": null,
   "id": "dfd459dd-f550-43a1-9835-930fbaea07c2",
   "metadata": {},
   "outputs": [],
   "source": []
  },
  {
   "cell_type": "markdown",
   "id": "786a8d87-e335-4e51-b177-dd4232355194",
   "metadata": {},
   "source": [
    "¿Cuál es la cardinalidad de $L = \\{\\lambda, a, aa, aaa\\}$? Describa el lenguaje mediante una frase en castellano"
   ]
  },
  {
   "cell_type": "code",
   "execution_count": null,
   "id": "2846b379-fd19-42ac-931f-bed12f40b532",
   "metadata": {},
   "outputs": [],
   "source": []
  },
  {
   "cell_type": "markdown",
   "id": "b8f5a686-204f-43fc-8f91-47281fb323df",
   "metadata": {},
   "source": [
    "Describa, mediante una frase en castellano, el $L = \\{a^nb^n / 1 ≤ n ≤ 3000\\}$"
   ]
  },
  {
   "cell_type": "code",
   "execution_count": null,
   "id": "552d0690-dc73-4c43-811f-081411e569b6",
   "metadata": {},
   "outputs": [],
   "source": []
  },
  {
   "cell_type": "markdown",
   "id": "30fdd28f-6247-4ccd-9bd6-d224d41aedfe",
   "metadata": {},
   "source": [
    "## Operaciones"
   ]
  },
  {
   "cell_type": "markdown",
   "id": "fcb4f62c-b9aa-46bb-b4e6-e6ee5f58917e",
   "metadata": {},
   "source": [
    "Dados $\\Sigma_1 = \\{1, 2, 3, 4, 5, 6, 7, 8\\}$ y $\\Sigma_2 = \\{a, b, c, d, e, f, g, h\\}$ y $L_1(\\Sigma_1) = \\{x / x \\in \\Sigma_1\\}$ y $L_2(\\Sigma_2) = \\{x / x \\in \\Sigma_2\\}$. Definir:\n",
    "1. $L_1 \\cup L_2$\n",
    "1. $L_1L_2$\n",
    "1. $(L_1L_2)^2$"
   ]
  },
  {
   "cell_type": "code",
   "execution_count": null,
   "id": "8a862964-5bcd-4299-9efe-c15301b8c382",
   "metadata": {},
   "outputs": [],
   "source": []
  },
  {
   "cell_type": "markdown",
   "id": "53c03180-c045-4c76-b486-499b765cbc93",
   "metadata": {},
   "source": [
    "Sean $A$ y $B$ alfabetos, tales que $A = \\{a, b\\}$ y $B = \\{a, b, c\\}$, y $L_1$, $L_2$ y $L_3$ los siguientes $L$: $L_1 = \\{a^ib^j / i ≥ 1, j ≥ 1\\}$, $L_2 = \\{b^ic^j / i ≥ j ≥ 1\\}$, $L_3 = \\{a^ib^jc^i / i ≥ 1, j ≥ 1\\}$. Determine si cada una de las siguientes afirmaciones es verdadera o falsa:\n",
    "1. $L_1$ es un lenguaje sobre $A$\n",
    "1. $L_2$ es un lenguaje sobre $A \\cup B$\n",
    "1. $L_2$ es un lenguaje sobre $A \\cap B$\n",
    "1. $L_3$ es un lenguaje sobre $A \\cup B$\n",
    "1. $L_3$ es un lenguaje sobre $A \\cap B$\n",
    "1. $L_1$ es un lenguaje sobre $A - B$\n",
    "1. $L_1 \\cup L_2$ es un lenguaje sobre $A$\n",
    "1. $L_1 \\cup L_2$ es un lenguaje sobre $A \\cap B$"
   ]
  },
  {
   "cell_type": "code",
   "execution_count": null,
   "id": "f17a407c-c8d0-4926-b084-174aff10fc47",
   "metadata": {},
   "outputs": [],
   "source": []
  },
  {
   "cell_type": "markdown",
   "id": "1416df16-fc6d-4f78-a05e-4b9b6f84a534",
   "metadata": {},
   "source": [
    "Sea $L_1 = \\{\\lambda\\}$, $L_2 = \\{b, aa, ab, bb\\}$, $L_3 = \\{\\lambda, a, b, aa, bb\\}$ y $L_4 = \\{\\}$, definido sobre $\\Sigma = \\{a, b\\}$. Obtener:\n",
    "1. $L_1 \\cup L_2$\n",
    "1. $L_1 \\cup L_3$\n",
    "1. $L_1 \\cup L_4$\n",
    "1. $L_1 \\cap L_2$\n",
    "1. $L_2 \\cap L_3$\n",
    "1. $L_3 \\cap L_4$\n",
    "1. $L_1 \\cap L_4$"
   ]
  },
  {
   "cell_type": "code",
   "execution_count": null,
   "id": "1e966c36-c002-4bad-b706-e36d3954cfe6",
   "metadata": {},
   "outputs": [],
   "source": []
  },
  {
   "cell_type": "markdown",
   "id": "2c8b4f35-9c06-4456-8dd2-8528f83e5567",
   "metadata": {},
   "source": [
    "Dados los siguientes $L$, definidos sobre el $\\Sigma = \\{a, b, c\\}$. $L_1 = \\{a^{2n}b^jc^n / n, j ≥ 0\\}$, $L_2 = \\{a^{2k}c^i / i > 0 \\wedge k ≥ 0\\}$, $L_3 = \\{\\lambda, aa, c\\}$. Calcule el $L$ resultante de las siguientes operaciones:\n",
    "1. $L_3^2 – L_2$\n",
    "1. $L_2^R \\cap L_3$\n",
    "1. $L_2 \\cup L_3$\n",
    "1. $L_3^R L_3$"
   ]
  },
  {
   "cell_type": "code",
   "execution_count": null,
   "id": "390a25ff-1dcb-44d1-8e14-787747092cfa",
   "metadata": {},
   "outputs": [],
   "source": []
  },
  {
   "cell_type": "markdown",
   "id": "cdd87e7b-1368-496b-ae29-8fe90364d0e3",
   "metadata": {},
   "source": [
    "Dados los siguientes $L$, definidos sobre el $\\Sigma = \\{a, b, c, d, e, g\\}$. $L_1 = \\{\\lambda, ab, a\\}$, $L_2 = \\{\\lambda, d, c\\}$, $L_3 = \\{w / w \\in \\{a, b, c\\}^*$ y $w$ termina en $ab\\}$, $L_4 = \\{a^{j+1}b^pc^{2n}e^kg^s/ p, k, s ≥ 0 \\wedge n > s \\wedge j > p\\}$. Calcule el $L$ resultante de las siguientes operaciones:\n",
    "1. $L_1^2 – L_3$\n",
    "1. $L_1 L_2^*$\n",
    "1. $L_4^R$\n",
    "1. $L_1^2 \\cap L_3$\n",
    "1. $L_1 \\cup L_2^2$"
   ]
  },
  {
   "cell_type": "code",
   "execution_count": null,
   "id": "64a9b9a4-dfc5-45fb-8d24-549a956d296e",
   "metadata": {},
   "outputs": [],
   "source": []
  },
  {
   "cell_type": "markdown",
   "id": "fcf30432-0b30-4d74-a925-2c250946e398",
   "metadata": {},
   "source": [
    "Sean $L_1 = \\{a\\}$ y $L_2 = \\{b\\}$. Determine los conjuntos de palabras que pertenecen a los siguiente $L$:\n",
    "1. $L_1^*$\n",
    "1. $(L_1L_2)^*$\n",
    "1. $(L_1 \\cap L_2)^*$\n",
    "1. $L_1^*L_2^*$\n",
    "1. $(L_1 \\cup L_2)^*$"
   ]
  },
  {
   "cell_type": "code",
   "execution_count": null,
   "id": "2f8301e9-04a4-403e-8528-3a7c0fecf3d6",
   "metadata": {},
   "outputs": [],
   "source": []
  },
  {
   "cell_type": "markdown",
   "id": "997391c2-8e09-46d9-9787-3a4337bab41c",
   "metadata": {},
   "source": [
    "Sean $L_1$ y $L_2$ lenguajes arbitrarios sobre un $\\Sigma$, ¿Cuáles de las siguientes afirmaciones son verdaderas y por qué? Para las falsas, dé un contraejemplo adecuado\n",
    "1. $L_1L_2 = L_2L_1$\n",
    "1. $\\{\\}^* L_1 = \\{\\lambda\\} L_1 = L_1$\n",
    "1. $(L_1L_2)^* = L_1^*L_2^*$\n",
    "1. $\\{\\} L_1 = L_1 \\{\\} = L_1$\n",
    "1. $L_1 \\{\\} = \\{\\lambda\\}$\n",
    "1. $L_1 \\{\\lambda\\} = \\{\\}$"
   ]
  },
  {
   "cell_type": "code",
   "execution_count": null,
   "id": "60131ba7-ccd7-4704-80e7-bbe92bf1ddfe",
   "metadata": {},
   "outputs": [],
   "source": []
  },
  {
   "cell_type": "markdown",
   "id": "700ead61-e490-43f9-9111-d667c9cd73c8",
   "metadata": {},
   "source": [
    "## Pertenencia"
   ]
  },
  {
   "cell_type": "markdown",
   "id": "2b1122cb-333d-4cce-9594-a29065e85439",
   "metadata": {},
   "source": [
    "Sean $L_1 = \\{a^nb^{2k} / n ≥ 0 \\wedge k ≥ n\\}$ y $L_2 = \\{0^m1^n / m$ es impar $\\wedge n$ es par, $\\vee m$ es par $\\wedge n$ es par $\\}$. Determine para cada una de las siguientes palabras si pertenecen o no pertenecen al lenguaje indicado\n",
    "1. $ab^4$ ... $L_1$\n",
    "1. $ab$ ... $L_1$\n",
    "1. $\\lambda$ ... $L_1$\n",
    "1. $a^5$ ... $L_1$\n",
    "1. $0^3 1^3$ ... $L_2$\n",
    "1. $0^4 1^8$ ... $L_2^R$\n",
    "1. $0^3 1^2 0^2 1^4 0^1 1^2$ ... $L_2^*$\n",
    "1. $0^9$ ... $L_2$\n",
    "1. $1^4$ ... $L_2$\n",
    "1. $0^3 1^6 a^3 b^8$ ... $L_1L_2$\n",
    "1. $a^6 b^8 0^4$ ... $L_1L_2$\n",
    "1. $1ab^4$ ... $L_2L_1$"
   ]
  },
  {
   "cell_type": "code",
   "execution_count": null,
   "id": "90f3acea-7381-4bcb-b7ac-0b0de5825d46",
   "metadata": {},
   "outputs": [],
   "source": []
  }
 ],
 "metadata": {
  "kernelspec": {
   "display_name": "Python [conda env:base] *",
   "language": "python",
   "name": "conda-base-py"
  },
  "language_info": {
   "codemirror_mode": {
    "name": "ipython",
    "version": 3
   },
   "file_extension": ".py",
   "mimetype": "text/x-python",
   "name": "python",
   "nbconvert_exporter": "python",
   "pygments_lexer": "ipython3",
   "version": "3.12.7"
  }
 },
 "nbformat": 4,
 "nbformat_minor": 5
}
