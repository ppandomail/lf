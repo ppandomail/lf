{
 "cells": [
  {
   "cell_type": "markdown",
   "id": "8a52faec-db61-4ffd-9e4d-ad5bea370191",
   "metadata": {},
   "source": [
    "# TP AF\n",
    "---"
   ]
  },
  {
   "cell_type": "markdown",
   "id": "16578aff-25e4-433c-95b1-c5196f8bf159",
   "metadata": {},
   "source": [
    "## Conceptuales"
   ]
  },
  {
   "cell_type": "markdown",
   "id": "ae3012d0-17fc-4f6a-84aa-1bcc3a502fb0",
   "metadata": {},
   "source": [
    "¿Existirá un AF que reconozca $\\{ab, abc\\}$?. Justifique su respuesta. Si existe, ¿ese AF reconoce la palabra $abb$?. Justifique su respuesta"
   ]
  },
  {
   "cell_type": "code",
   "execution_count": null,
   "id": "c2d815e7-1d44-4c68-92b7-c48920b19045",
   "metadata": {},
   "outputs": [],
   "source": []
  },
  {
   "cell_type": "markdown",
   "id": "57b09f31-bd71-4e0c-8e4d-ac929d7d1825",
   "metadata": {},
   "source": [
    "Dado el siguiente AFD: $\\Sigma = \\{0, 1\\}$;  $Q = \\{q0, q1, q2, q3, q4, q5\\}$; $q0 = q0$; $F = \\{q4\\}$; $\\Delta = \\{\\Delta(q0, 0)=q1, \\Delta(q0, 1)=q5, \\Delta(q1, 0)=q2, \\Delta(q1, 1)=q3, \\Delta(q2, 0)=q1, \\Delta(q2, 1)=q5, \\Delta(q3, 0)=q5,  \\Delta(q3, 1)=q4, \\Delta(q4, 0)=q5, \\Delta(q4, 1)=q3, \\Delta(q5, 0)=q5, \\Delta(q5, 1)=q5\\}$\n",
    "1. Escriba dos palabras de menor longitud que acepte\n",
    "1. Escriba dos palabras de menor longitud que rechace"
   ]
  },
  {
   "cell_type": "code",
   "execution_count": null,
   "id": "e53ecac0-7d1c-4ed0-a491-1402bb34ac51",
   "metadata": {},
   "outputs": [],
   "source": []
  },
  {
   "cell_type": "markdown",
   "id": "b53cf58d-d460-49f0-acc3-c76196a8cc99",
   "metadata": {},
   "source": [
    "## Describir actividades"
   ]
  },
  {
   "cell_type": "markdown",
   "id": "c0e892eb-33e3-42df-a240-d773ee72c07a",
   "metadata": {},
   "source": [
    "Sea el $\\Sigma = \\{a, b\\}$ y sea el LR $L = \\{a, aba\\}$. Diseñe el AF que reconoce $L$"
   ]
  },
  {
   "cell_type": "code",
   "execution_count": null,
   "id": "4d44f34c-5534-4831-a914-8acf9b783016",
   "metadata": {},
   "outputs": [],
   "source": []
  },
  {
   "cell_type": "markdown",
   "id": "31262d76-5cc6-4d13-a2a8-de02c8f0df67",
   "metadata": {},
   "source": [
    "Diseñe un AF que reconozca la ER $a^*bb^*a$"
   ]
  },
  {
   "cell_type": "code",
   "execution_count": null,
   "id": "895ceb77-6a1c-47d1-9401-f4629d7050e4",
   "metadata": {},
   "outputs": [],
   "source": []
  },
  {
   "cell_type": "markdown",
   "id": "117274e5-8d3b-4f6a-a1d2-1cf5bce93625",
   "metadata": {},
   "source": [
    "| Q   | a  | b  |\n",
    "| --  | -- | -- |\n",
    "| >q0 | q1 | -  |\n",
    "| q1  | q2 | -  |\n",
    "| q2  | q3 | -  |\n",
    "| q3  | -  | q4 |\n",
    "| *q4 | -  | q4 |"
   ]
  },
  {
   "cell_type": "code",
   "execution_count": null,
   "id": "102d0148-9575-4022-8dfd-a2f15743ba1e",
   "metadata": {},
   "outputs": [],
   "source": []
  },
  {
   "cell_type": "markdown",
   "id": "835b014d-67ac-4cfa-9946-572ef513878e",
   "metadata": {},
   "source": [
    "$$abababa$$\n",
    "\n",
    "| Q   | a  | b  |\n",
    "| --  | -- | -- |\n",
    "| >q0 | q1 | -  |\n",
    "| q1  | -  | q2 |\n",
    "| *q2 | q1 | -  |"
   ]
  },
  {
   "cell_type": "code",
   "execution_count": null,
   "id": "73bb2b07-4e8e-41a6-b93f-731b78cd2676",
   "metadata": {},
   "outputs": [],
   "source": []
  },
  {
   "cell_type": "markdown",
   "id": "cb539cc3-45a2-40e9-91b8-a734e14edda5",
   "metadata": {},
   "source": [
    "$$λ, ab, abab, aba, abb$$\n",
    "\n",
    "| Q    | a  | b  |\n",
    "| --   | -- | -- |\n",
    "| >*q0 | q1 | -  |\n",
    "| q1   | -  | q0 |"
   ]
  },
  {
   "cell_type": "code",
   "execution_count": null,
   "id": "c1d07f5e-4a47-4b38-8f78-edfb1b6b2f29",
   "metadata": {},
   "outputs": [],
   "source": []
  },
  {
   "cell_type": "code",
   "execution_count": 1,
   "id": "64834278-dd96-42a7-9cb4-d09f3a84118b",
   "metadata": {},
   "outputs": [],
   "source": [
    "## AF -> LR + ER"
   ]
  },
  {
   "cell_type": "markdown",
   "id": "a99d9180-60ce-4f61-b122-d98e099e3369",
   "metadata": {},
   "source": [
    "| Q   | 0  | 1  |\n",
    "| --  | -- | -- |\n",
    "| >q0 | q1 | q3 |\n",
    "| q1  | -  | q2 |\n",
    "| *q2 | -  | -  |\n",
    "| q3  | q2 | -  |"
   ]
  },
  {
   "cell_type": "code",
   "execution_count": null,
   "id": "208785b2-08ce-46bb-a67c-30ccbda18813",
   "metadata": {},
   "outputs": [],
   "source": []
  },
  {
   "cell_type": "markdown",
   "id": "775f544b-1530-4d7a-8572-d4402c59b6c7",
   "metadata": {},
   "source": [
    "| Q  | a  | b  |\n",
    "| -- | -- | -- |\n",
    "| >p | q  | p  |\n",
    "| *q | r  | s  |\n",
    "| *r | q  | t  |\n",
    "| s  | t  | u  |\n",
    "| t  | s  | u  |\n",
    "| u  | q  | u  |"
   ]
  },
  {
   "cell_type": "code",
   "execution_count": null,
   "id": "c5c0db5d-0b30-4074-9848-5fbcd58924f6",
   "metadata": {},
   "outputs": [],
   "source": []
  },
  {
   "cell_type": "markdown",
   "id": "acbacb51-b7f7-4ace-a224-1a3b26a7c82f",
   "metadata": {},
   "source": [
    "| Q  | a  | b  |\n",
    "| -- | -- | -- |\n",
    "| >p | q  | u  |\n",
    "| q  | r  | t  |\n",
    "| r  | s  | t  |\n",
    "| s  | r  | t  |\n",
    "| t  | u  | s  |\n",
    "| *u | u  | q  |"
   ]
  },
  {
   "cell_type": "code",
   "execution_count": null,
   "id": "4bfef4dc-3c3c-45bd-a6ab-85b3a68ea519",
   "metadata": {},
   "outputs": [],
   "source": []
  },
  {
   "cell_type": "markdown",
   "id": "c4f3c94c-d2b4-4a5e-88e3-83891fb494a7",
   "metadata": {},
   "source": [
    "| Q  | a  | b  |\n",
    "| -- | -- | -- |\n",
    "| >p | u  | q  |\n",
    "| q  | t  | r  |\n",
    "| r  | s  | r  |\n",
    "| *s | t  | r  |\n",
    "| *t | u  | q  |\n",
    "| *u | s  | p  |"
   ]
  },
  {
   "cell_type": "code",
   "execution_count": null,
   "id": "0ec621ac-60d6-4810-8539-033fdf17cfa5",
   "metadata": {},
   "outputs": [],
   "source": []
  },
  {
   "cell_type": "markdown",
   "id": "f32ffd38-4227-49e9-a829-ee0a0eb46e64",
   "metadata": {},
   "source": [
    "| Q    | a  | b  |\n",
    "| --   | -- | -- |\n",
    "| >*q0 | q1 | q0 |\n",
    "| q1   | q1 | q2 |\n",
    "| q2   | q3 | q0 |\n",
    "| q3   | q3 | q3 |"
   ]
  },
  {
   "cell_type": "code",
   "execution_count": null,
   "id": "ca675d38-bfb3-423f-b688-b8fd5a7d0ccf",
   "metadata": {},
   "outputs": [],
   "source": []
  },
  {
   "cell_type": "markdown",
   "id": "e746522b-c1db-4e45-b296-24acc12cbe03",
   "metadata": {},
   "source": [
    "| Q  | a  | b  |\n",
    "| -- | -- | -- |\n",
    "| >p | q  | r  |\n",
    "| *q | p  | r  |\n",
    "| r  | p  | r  |"
   ]
  },
  {
   "cell_type": "code",
   "execution_count": null,
   "id": "9ce7d1bd-27a2-497a-ab75-b80b468c73f7",
   "metadata": {},
   "outputs": [],
   "source": []
  },
  {
   "cell_type": "markdown",
   "id": "bc75478c-5cc7-4f5c-9cf4-1cecae9f001e",
   "metadata": {},
   "source": [
    "| Q  | a  | b  | c  |\n",
    "| -- | -- | -- | -- |\n",
    "| >A | A  | B  | A  |\n",
    "| *B | B  | B  | B  |"
   ]
  },
  {
   "cell_type": "code",
   "execution_count": null,
   "id": "6baf87ee-0583-4f79-809c-00a4ff7b54e1",
   "metadata": {},
   "outputs": [],
   "source": []
  },
  {
   "cell_type": "markdown",
   "id": "a51dda73-2949-4e6b-a773-68928a5213b6",
   "metadata": {},
   "source": [
    "| Q  | a  | b  | c  |\n",
    "| -- | -- | -- | -- |\n",
    "| >A | B  | A  | A  |\n",
    "| *B | B  | B  | B  |"
   ]
  },
  {
   "cell_type": "code",
   "execution_count": null,
   "id": "a24302ba-07a4-491f-bb36-4db11a647368",
   "metadata": {},
   "outputs": [],
   "source": []
  },
  {
   "cell_type": "markdown",
   "id": "203bfab6-9e89-4d62-9295-b33b73757e46",
   "metadata": {},
   "source": [
    "| Q  | a  | b  |\n",
    "| -- | -- | -- |\n",
    "| >p | q  | r  |\n",
    "| q  | s  | v  |\n",
    "| *r | v  | s  |\n",
    "| s  | t  | q  |\n",
    "| *t | q  | u  |\n",
    "| u  | r  | v  |\n",
    "| v  | u  | q  |"
   ]
  },
  {
   "cell_type": "code",
   "execution_count": null,
   "id": "bcf32b70-d874-478c-bdaf-07e6a1c213f8",
   "metadata": {},
   "outputs": [],
   "source": []
  },
  {
   "cell_type": "markdown",
   "id": "7197acc5-a12d-4cd3-a94c-35e5db4122bb",
   "metadata": {},
   "source": [
    "| Q  | a  | b  |\n",
    "| -- | -- | -- |\n",
    "| >A | C  | A  |\n",
    "| B  | B  | A  |\n",
    "| *C | C  | B  |"
   ]
  },
  {
   "cell_type": "code",
   "execution_count": null,
   "id": "cf7416ce-bccc-4b13-8b2d-acca2e7f3c70",
   "metadata": {},
   "outputs": [],
   "source": []
  },
  {
   "cell_type": "markdown",
   "id": "225f35fc-644e-4bf9-b9e5-ca0fc4190c42",
   "metadata": {},
   "source": [
    "| Q  | a  | b  |\n",
    "| -- | -- | -- |\n",
    "| >A | B  | D  |\n",
    "| B  | B  | C  |\n",
    "| C  | D  | B  |\n",
    "| *D | D  | B  |"
   ]
  },
  {
   "cell_type": "code",
   "execution_count": null,
   "id": "ec6d1006-037f-43f6-83f0-17d6ab195b45",
   "metadata": {},
   "outputs": [],
   "source": []
  },
  {
   "cell_type": "markdown",
   "id": "26562910-171f-42db-8ba8-5aa130a4f0af",
   "metadata": {},
   "source": [
    "| Q  | a  | b  |\n",
    "| -- | -- | -- |\n",
    "| >A | B  | A  |\n",
    "| *B | B  | A  |"
   ]
  },
  {
   "cell_type": "code",
   "execution_count": null,
   "id": "975163be-f744-40c7-b023-83fe9cc2e0c0",
   "metadata": {},
   "outputs": [],
   "source": []
  },
  {
   "cell_type": "markdown",
   "id": "f7aff8a7-1e91-4429-b609-f970093f359a",
   "metadata": {},
   "source": [
    "| Q   | 0  | 1  |\n",
    "| --  | -- | -- |\n",
    "| >q0 | q0 | q1 |\n",
    "| q1  | q1 | q2 |\n",
    "| *q2 | q3 | q3 |\n",
    "| q3  | q3 | q3 |"
   ]
  },
  {
   "cell_type": "code",
   "execution_count": null,
   "id": "80a784d4-3ea9-4790-967a-ef03b8e672c4",
   "metadata": {},
   "outputs": [],
   "source": []
  },
  {
   "cell_type": "markdown",
   "id": "8fe5e28d-c7f3-4de3-8ca0-940ec92d1e8d",
   "metadata": {},
   "source": [
    "| Q  | a       | b       |\n",
    "| -- | --      | --      |\n",
    "| >p | {q,r}   | p       |\n",
    "| q  | {r,q}   | {s,t,u} |\n",
    "| r  | -       | {p,v}   |\n",
    "| s  | {u,r}   | -       |\n",
    "| t  | -       | -       |\n",
    "| u  | {t,s}   | v       |\n",
    "| *v | {u,s,t} | v       |"
   ]
  },
  {
   "cell_type": "code",
   "execution_count": null,
   "id": "ecc7db1b-231e-4869-a695-fc9f58574832",
   "metadata": {},
   "outputs": [],
   "source": []
  },
  {
   "cell_type": "markdown",
   "id": "0c8da7a8-0106-412c-8ba8-9003cefbbe72",
   "metadata": {},
   "source": [
    "## ER -> AF"
   ]
  },
  {
   "cell_type": "markdown",
   "id": "ccebf8a9-eff3-4138-8281-3453ce337dcb",
   "metadata": {},
   "source": [
    "$(a \\mid b \\mid c \\mid d)^*$"
   ]
  },
  {
   "cell_type": "code",
   "execution_count": null,
   "id": "76e1fc3f-2940-45ec-90c0-8ff780c09c5c",
   "metadata": {},
   "outputs": [],
   "source": []
  },
  {
   "cell_type": "markdown",
   "id": "92a89eb9-9949-413e-93bf-1fda37065045",
   "metadata": {},
   "source": [
    "$a(ab)^+$"
   ]
  },
  {
   "cell_type": "code",
   "execution_count": null,
   "id": "e973fa0a-0405-486c-bb50-94520e40aef0",
   "metadata": {},
   "outputs": [],
   "source": []
  },
  {
   "cell_type": "markdown",
   "id": "132cabd6-1e74-4b85-9f8f-ed46f59c1ffe",
   "metadata": {},
   "source": [
    "$a^* \\mid ab$"
   ]
  },
  {
   "cell_type": "code",
   "execution_count": null,
   "id": "2e91aa2f-48ab-47ad-9873-fa920c065229",
   "metadata": {},
   "outputs": [],
   "source": []
  },
  {
   "cell_type": "markdown",
   "id": "ec536b14-5505-4cbc-bf7b-fd9849627e58",
   "metadata": {},
   "source": [
    "$1(1 \\mid 0 \\mid -)^*(1 \\mid 0) \\mid 1$"
   ]
  },
  {
   "cell_type": "code",
   "execution_count": null,
   "id": "b3f2525d-4ccf-46c3-a38f-17ac8f873f43",
   "metadata": {},
   "outputs": [],
   "source": []
  },
  {
   "cell_type": "markdown",
   "id": "80f1a352-c53a-4f40-baf5-42d0a7754aac",
   "metadata": {},
   "source": [
    "$(a \\mid b)(a \\mid b(a \\mid b))^*$"
   ]
  },
  {
   "cell_type": "code",
   "execution_count": null,
   "id": "63b5fc3d-7d0b-42d5-857b-7fd17c962015",
   "metadata": {},
   "outputs": [],
   "source": []
  },
  {
   "cell_type": "markdown",
   "id": "abedb80a-7115-41f5-82cc-7baa63471b58",
   "metadata": {},
   "source": [
    "$(0 \\mid 1)(10)^*$"
   ]
  },
  {
   "cell_type": "code",
   "execution_count": null,
   "id": "b8813253-6900-4f27-84c0-89f48dd41937",
   "metadata": {},
   "outputs": [],
   "source": []
  },
  {
   "cell_type": "markdown",
   "id": "de7316ef-846d-43d4-a7e6-e465a13bcacc",
   "metadata": {},
   "source": [
    "$a(bb^*a)^*$"
   ]
  },
  {
   "cell_type": "code",
   "execution_count": null,
   "id": "51e8115b-c1b7-42d9-aeab-182b0365d970",
   "metadata": {},
   "outputs": [],
   "source": []
  },
  {
   "cell_type": "markdown",
   "id": "8acae80b-b340-4a1d-87c5-8c34aa610c41",
   "metadata": {},
   "source": [
    "$a(aa)^*$"
   ]
  },
  {
   "cell_type": "code",
   "execution_count": null,
   "id": "f6e147cd-6515-4e98-921a-1db03731a290",
   "metadata": {},
   "outputs": [],
   "source": []
  },
  {
   "cell_type": "markdown",
   "id": "519b243f-8d1e-4d90-aab4-820e28324d44",
   "metadata": {},
   "source": [
    "$(aa)^+$"
   ]
  },
  {
   "cell_type": "code",
   "execution_count": null,
   "id": "adbba87b-a9d7-487d-9fca-678ad4e04891",
   "metadata": {},
   "outputs": [],
   "source": []
  },
  {
   "cell_type": "markdown",
   "id": "4fa5fd98-312e-44ca-aec8-6baa8bedd3ae",
   "metadata": {},
   "source": [
    "$(0 \\mid 1)^*00$"
   ]
  },
  {
   "cell_type": "code",
   "execution_count": null,
   "id": "cc6d99ef-d1b4-4c88-9344-a9f705ccaccc",
   "metadata": {},
   "outputs": [],
   "source": []
  },
  {
   "cell_type": "markdown",
   "id": "a7f85898-dd9c-45c7-8f33-948e9ff5b134",
   "metadata": {},
   "source": [
    "$(b \\mid bab)^+$"
   ]
  },
  {
   "cell_type": "code",
   "execution_count": null,
   "id": "0da3833c-1b92-4525-93ac-b12d1c7dda25",
   "metadata": {},
   "outputs": [],
   "source": []
  },
  {
   "cell_type": "markdown",
   "id": "a7cfd5fd-741f-47de-8f6c-b74fcce49250",
   "metadata": {},
   "source": [
    "$(ab \\mid ba)^+$"
   ]
  },
  {
   "cell_type": "code",
   "execution_count": null,
   "id": "bc729746-56fe-416d-9a6a-ec956f5dfd6e",
   "metadata": {},
   "outputs": [],
   "source": []
  },
  {
   "cell_type": "markdown",
   "id": "798c378b-2668-4b4b-a9e2-74988dfa1cac",
   "metadata": {},
   "source": [
    "$ba^*$"
   ]
  },
  {
   "cell_type": "code",
   "execution_count": null,
   "id": "8aac42e9-afc3-4f03-b532-56d0b46d6987",
   "metadata": {},
   "outputs": [],
   "source": []
  },
  {
   "cell_type": "markdown",
   "id": "b73e4a1a-c369-437f-884a-78553fe7e749",
   "metadata": {},
   "source": [
    "$(ba)^*$"
   ]
  },
  {
   "cell_type": "code",
   "execution_count": null,
   "id": "2251ec40-8755-4354-9ae9-dfa967d3a105",
   "metadata": {},
   "outputs": [],
   "source": []
  },
  {
   "cell_type": "markdown",
   "id": "756a40b2-8d33-4c88-8c22-af2fda92e781",
   "metadata": {},
   "source": [
    "$b^*a^*$"
   ]
  },
  {
   "cell_type": "code",
   "execution_count": null,
   "id": "e3a9cbef-1026-4fd5-8c89-79beae58c80e",
   "metadata": {},
   "outputs": [],
   "source": []
  },
  {
   "cell_type": "markdown",
   "id": "a9ab8fc7-8362-441d-815c-657ab6b14fcd",
   "metadata": {},
   "source": [
    "$(a \\mid ba)^*(ab \\mid ba)$"
   ]
  },
  {
   "cell_type": "code",
   "execution_count": null,
   "id": "8c116d93-75cd-40fd-bc68-ced07098970b",
   "metadata": {},
   "outputs": [],
   "source": []
  },
  {
   "cell_type": "markdown",
   "id": "aefcbb08-9b51-4aad-bc06-8a7fb2b9e5db",
   "metadata": {},
   "source": [
    "## ER -> AFD"
   ]
  },
  {
   "cell_type": "markdown",
   "id": "f0bea112-02a6-4fbf-8320-9c932ee3922c",
   "metadata": {},
   "source": [
    "$ab^*c$"
   ]
  },
  {
   "cell_type": "code",
   "execution_count": null,
   "id": "b0362fc7-458f-49e8-9541-99d59d77e64a",
   "metadata": {},
   "outputs": [],
   "source": []
  },
  {
   "cell_type": "markdown",
   "id": "3dc0239d-5f42-44c4-ba75-4dea6a4ccbb8",
   "metadata": {},
   "source": [
    "$a(bc)^*bc$"
   ]
  },
  {
   "cell_type": "code",
   "execution_count": null,
   "id": "9c0ecf7d-b113-406d-b857-a47226e9bbb3",
   "metadata": {},
   "outputs": [],
   "source": []
  },
  {
   "cell_type": "markdown",
   "id": "bc71931d-a657-4bcc-a057-f92a5a59d2e2",
   "metadata": {},
   "source": [
    "$a^*b(c^*a)^*$"
   ]
  },
  {
   "cell_type": "code",
   "execution_count": null,
   "id": "dc0d8c8c-b1d7-43e2-9d21-773c1337c8d8",
   "metadata": {},
   "outputs": [],
   "source": []
  },
  {
   "cell_type": "markdown",
   "id": "5deb0d94-a0ea-4f01-bb5a-b2f33911fb40",
   "metadata": {},
   "source": [
    "$cb^* \\mid aa^*$"
   ]
  },
  {
   "cell_type": "code",
   "execution_count": null,
   "id": "d9893a43-ef71-4a0c-b7b9-3c29364d81aa",
   "metadata": {},
   "outputs": [],
   "source": []
  },
  {
   "cell_type": "markdown",
   "id": "72e529aa-f7b0-44c1-aaa3-112c5c46dc94",
   "metadata": {},
   "source": [
    "$b(a \\mid b)^* \\mid cb^*$"
   ]
  },
  {
   "cell_type": "code",
   "execution_count": null,
   "id": "50abe78f-18e0-417b-a552-aba16cb5c7b8",
   "metadata": {},
   "outputs": [],
   "source": []
  },
  {
   "cell_type": "markdown",
   "id": "87228afc-c167-42b2-9c9e-eee84dabb35b",
   "metadata": {},
   "source": [
    "$a \\mid ac(a \\mid b)^* \\mid c(a \\mid b \\mid c)^*$"
   ]
  },
  {
   "cell_type": "code",
   "execution_count": null,
   "id": "3a6a27c6-fcc6-4a3b-a647-ce30ea1c6aa2",
   "metadata": {},
   "outputs": [],
   "source": []
  },
  {
   "cell_type": "markdown",
   "id": "7298672b-3623-458e-82c9-6d2440f72213",
   "metadata": {},
   "source": [
    "$0(00)^*(11)^+$"
   ]
  },
  {
   "cell_type": "code",
   "execution_count": null,
   "id": "040d7bb4-0d09-4dc8-bc11-9d45dde1f7dd",
   "metadata": {},
   "outputs": [],
   "source": []
  },
  {
   "cell_type": "markdown",
   "id": "dc693794-d97a-48a5-807e-c061e0e93c99",
   "metadata": {},
   "source": [
    "## ER -> AFN"
   ]
  },
  {
   "cell_type": "markdown",
   "id": "2bc8602d-70c0-4a4b-871d-c42c1d220784",
   "metadata": {},
   "source": [
    "$(a \\mid b)^*a(a \\mid b)^*b$"
   ]
  },
  {
   "cell_type": "code",
   "execution_count": null,
   "id": "9cfd510e-9050-45cd-a8de-79020e4c7da6",
   "metadata": {},
   "outputs": [],
   "source": []
  },
  {
   "cell_type": "markdown",
   "id": "4cc7f705-56eb-46bc-8bd5-c7bb941caabd",
   "metadata": {},
   "source": [
    "## ER -> AFNλ"
   ]
  },
  {
   "cell_type": "markdown",
   "id": "beb2cca0-4141-4407-b014-825c3fa4164b",
   "metadata": {},
   "source": [
    "$ab^* \\mid a^*b \\mid aa^*$"
   ]
  },
  {
   "cell_type": "code",
   "execution_count": null,
   "id": "65f7e5af-0df0-434a-99bb-4f50abcbc3b2",
   "metadata": {},
   "outputs": [],
   "source": []
  },
  {
   "cell_type": "markdown",
   "id": "e6fc68e2-8954-482d-b30d-2b2deb0592b7",
   "metadata": {},
   "source": [
    "$0^*11 \\mid 001^* \\mid 01^*00$"
   ]
  },
  {
   "cell_type": "code",
   "execution_count": null,
   "id": "b983f2fe-ecd5-4526-be88-c7a55797adba",
   "metadata": {},
   "outputs": [],
   "source": []
  },
  {
   "cell_type": "markdown",
   "id": "e2fd03e2-6a59-47c6-8836-8857d880df2b",
   "metadata": {},
   "source": [
    "## LR sobre $\\Sigma = \\{0, 1\\}$ -> AFD"
   ]
  },
  {
   "cell_type": "markdown",
   "id": "faa4dab1-25a7-4b3d-852b-dcd8d42c94ba",
   "metadata": {},
   "source": [
    "$\\{w / w$ comienza con $1$ y termina con $0\\}$"
   ]
  },
  {
   "cell_type": "code",
   "execution_count": null,
   "id": "e795c62d-bb43-4ade-8871-a42c68687379",
   "metadata": {},
   "outputs": [],
   "source": []
  },
  {
   "cell_type": "markdown",
   "id": "83f510fa-2b64-4490-8940-622c0e448cd3",
   "metadata": {},
   "source": [
    "$\\{w / w$ contiene por lo menos tres $1$s$\\}$"
   ]
  },
  {
   "cell_type": "code",
   "execution_count": null,
   "id": "ed925d40-3b04-4809-943d-597bb5e4816f",
   "metadata": {},
   "outputs": [],
   "source": []
  },
  {
   "cell_type": "markdown",
   "id": "9c6b0adb-628a-47e2-821a-dd328c94c234",
   "metadata": {},
   "source": [
    "$\\{w / w$ contiene la palabra $0101\\}$"
   ]
  },
  {
   "cell_type": "code",
   "execution_count": null,
   "id": "90d55c98-8285-478f-9ce3-4534f10bbc19",
   "metadata": {},
   "outputs": [],
   "source": []
  },
  {
   "cell_type": "markdown",
   "id": "632c579c-16d1-4b46-9fea-3236ad57b7e6",
   "metadata": {},
   "source": [
    "$\\{w / w$ tiene longitud por lo menos 3 y su tercer símbolo es $0\\}$"
   ]
  },
  {
   "cell_type": "code",
   "execution_count": null,
   "id": "54717dae-346b-4fea-bb70-203b5422dc48",
   "metadata": {},
   "outputs": [],
   "source": []
  },
  {
   "cell_type": "markdown",
   "id": "8b4b0abe-aa1a-4571-8538-c4611d46925a",
   "metadata": {},
   "source": [
    "$\\{w / w$ comienza con $0$ y tiene longitud impar o comienza con $1$ y tiene longitud par$\\}$"
   ]
  },
  {
   "cell_type": "code",
   "execution_count": null,
   "id": "20d04480-c886-4099-be19-528cbd46e6f4",
   "metadata": {},
   "outputs": [],
   "source": []
  },
  {
   "cell_type": "markdown",
   "id": "b316bc65-13f0-4985-8871-641d171107e9",
   "metadata": {},
   "source": [
    "$\\{w / w$ no contiene la palabra $1101\\}$"
   ]
  },
  {
   "cell_type": "code",
   "execution_count": null,
   "id": "1f447cc4-cbaa-49fc-a9fa-35a25a6bbc0a",
   "metadata": {},
   "outputs": [],
   "source": []
  },
  {
   "cell_type": "markdown",
   "id": "dd7210ff-293c-4954-891d-20bc0904f9c1",
   "metadata": {},
   "source": [
    "$\\{w /$ la longitud de $w$ es a lo sumo 5$\\}$"
   ]
  },
  {
   "cell_type": "code",
   "execution_count": null,
   "id": "bb57787a-a798-4cf2-b38f-154b68510397",
   "metadata": {},
   "outputs": [],
   "source": []
  },
  {
   "cell_type": "markdown",
   "id": "2e33c34f-1420-44da-9b15-22680426a51c",
   "metadata": {},
   "source": [
    "$\\{w / w$ es cualquier palabra excepto $11$ y $1111\\}$"
   ]
  },
  {
   "cell_type": "code",
   "execution_count": null,
   "id": "b8862dd9-4796-468c-946a-ee5f4adf4dc5",
   "metadata": {},
   "outputs": [],
   "source": []
  },
  {
   "cell_type": "markdown",
   "id": "703019ea-4827-4911-9d19-83c18303b139",
   "metadata": {},
   "source": [
    "$\\{w /$ cada posición impar de $w$ es un $1\\}$"
   ]
  },
  {
   "cell_type": "code",
   "execution_count": null,
   "id": "4ce6fcd4-695b-4cce-8e9c-4f18b032b6b6",
   "metadata": {},
   "outputs": [],
   "source": []
  },
  {
   "cell_type": "markdown",
   "id": "086de2eb-6b6f-4e9f-ae58-149fc62de638",
   "metadata": {},
   "source": [
    "$\\{w / w$ contiene por lo menos dos $0$s y a lo sumo un $1\\}$"
   ]
  },
  {
   "cell_type": "code",
   "execution_count": null,
   "id": "ae637d6c-5443-4842-8e56-2fa5a8e5f278",
   "metadata": {},
   "outputs": [],
   "source": []
  },
  {
   "cell_type": "markdown",
   "id": "47a56652-ed5f-41fb-a405-da9ff70eccfd",
   "metadata": {},
   "source": [
    "$\\{\\lambda, 0\\}$"
   ]
  },
  {
   "cell_type": "code",
   "execution_count": null,
   "id": "b06c1675-bad9-4d45-a7fb-43c219a185f6",
   "metadata": {},
   "outputs": [],
   "source": []
  },
  {
   "cell_type": "markdown",
   "id": "f7acdd2d-8258-4a27-a675-070174042746",
   "metadata": {},
   "source": [
    "$\\{w / w$ contiene un número par de $0$s y exactamente dos $1$s$\\}$"
   ]
  },
  {
   "cell_type": "code",
   "execution_count": null,
   "id": "59bcce7c-7d45-455b-9608-f54927b99aa7",
   "metadata": {},
   "outputs": [],
   "source": []
  },
  {
   "cell_type": "markdown",
   "id": "ccb0ffbe-3b15-46d7-8fc1-7de310ff3544",
   "metadata": {},
   "source": [
    "$\\{w / w$ tiene por los menos dos $0$s y por lo menos tres $1$s$\\}$"
   ]
  },
  {
   "cell_type": "code",
   "execution_count": null,
   "id": "c02a6bd9-2e84-4997-92b8-ef3cab9e6a8c",
   "metadata": {},
   "outputs": [],
   "source": []
  },
  {
   "cell_type": "markdown",
   "id": "9e9c35e9-1205-4706-8399-36ecf08bf638",
   "metadata": {},
   "source": [
    "$\\{w / w$ tiene exactamente dos $0$s y por lo menos dos $1$s$\\}$"
   ]
  },
  {
   "cell_type": "code",
   "execution_count": null,
   "id": "bbd2b94f-11c8-43bc-8da0-59955d7ba2fb",
   "metadata": {},
   "outputs": [],
   "source": []
  },
  {
   "cell_type": "markdown",
   "id": "0b6a6ed9-fa2b-46a8-a38d-ca930cfdf8f0",
   "metadata": {},
   "source": [
    "$\\{w / w$ tiene un número par de $0$s y uno o dos $1$s$\\}$"
   ]
  },
  {
   "cell_type": "code",
   "execution_count": null,
   "id": "0841d187-dd6f-4c37-ba01-1f58378028b4",
   "metadata": {},
   "outputs": [],
   "source": []
  },
  {
   "cell_type": "markdown",
   "id": "878763f6-1055-432f-9bcd-c62b360a4ba4",
   "metadata": {},
   "source": [
    "$\\{w / w$ tiene un número par de $0$s y cada $0$ está seguido por lo menos un $1\\}$"
   ]
  },
  {
   "cell_type": "code",
   "execution_count": null,
   "id": "50d4a025-06cc-482b-bff7-726e9990e6e5",
   "metadata": {},
   "outputs": [],
   "source": []
  },
  {
   "cell_type": "markdown",
   "id": "c65269ed-d953-4ac0-bb38-8ea045311768",
   "metadata": {},
   "source": [
    "$\\{w / w$ tiene un número impar de $0$s termina con $1\\}$"
   ]
  },
  {
   "cell_type": "code",
   "execution_count": null,
   "id": "29dc9a73-ec79-4ce0-aba1-17539693a7d6",
   "metadata": {},
   "outputs": [],
   "source": []
  },
  {
   "cell_type": "markdown",
   "id": "03a30dcf-7d69-4f9b-b3ab-238b51dba8a1",
   "metadata": {},
   "source": [
    "$\\{w / w$ tiene longitud par y un número impar de $1$s$\\}$"
   ]
  },
  {
   "cell_type": "code",
   "execution_count": null,
   "id": "3898a6dd-cf8d-4fd4-85d8-7be08ba48e05",
   "metadata": {},
   "outputs": [],
   "source": []
  },
  {
   "cell_type": "markdown",
   "id": "cd47abb6-0340-42fa-9709-1c393e62728b",
   "metadata": {},
   "source": [
    "$\\{w / w$ no contiene la palabra $01\\}$"
   ]
  },
  {
   "cell_type": "code",
   "execution_count": null,
   "id": "258d551a-1871-4626-a161-314e2b2cb0ca",
   "metadata": {},
   "outputs": [],
   "source": []
  },
  {
   "cell_type": "markdown",
   "id": "4a76ca03-a785-4db9-8d4f-dff3fbc8d625",
   "metadata": {},
   "source": [
    "$\\{w / w$ no contiene la palabra $1010\\}$"
   ]
  },
  {
   "cell_type": "code",
   "execution_count": null,
   "id": "810938d8-305f-46a7-8839-e767b65da02f",
   "metadata": {},
   "outputs": [],
   "source": []
  },
  {
   "cell_type": "markdown",
   "id": "8c833078-069d-4ad5-a017-12c1ca5c8792",
   "metadata": {},
   "source": [
    "$\\{w / w$ no contiene las palabras $10$ ni $01\\}$"
   ]
  },
  {
   "cell_type": "code",
   "execution_count": null,
   "id": "92cab9b2-9b9a-4552-aa14-5aa83c5997df",
   "metadata": {},
   "outputs": [],
   "source": []
  },
  {
   "cell_type": "markdown",
   "id": "d029a92f-2bb9-4922-8ed3-fdcd28a7b96c",
   "metadata": {},
   "source": [
    "$\\{w / w$ es cualquier palabra que no está en $0^*1^*\\}$"
   ]
  },
  {
   "cell_type": "code",
   "execution_count": null,
   "id": "8f40350e-2dff-4ce5-a66e-682e5ac37f99",
   "metadata": {},
   "outputs": [],
   "source": []
  },
  {
   "cell_type": "markdown",
   "id": "60357a28-fbd1-4b8e-8366-6ee9da8f9598",
   "metadata": {},
   "source": [
    "$\\{w / w$ es cualquier palabra que no está en $(01^+)^*\\}$"
   ]
  },
  {
   "cell_type": "code",
   "execution_count": null,
   "id": "78f73f11-f58e-4c81-915b-38a19357a2cf",
   "metadata": {},
   "outputs": [],
   "source": []
  },
  {
   "cell_type": "markdown",
   "id": "071a6304-05ca-45ec-ae3b-b17d25502916",
   "metadata": {},
   "source": [
    "$\\{w / w$ es cualquier palabra que no está en $0^* \\mid 1^*\\}$"
   ]
  },
  {
   "cell_type": "code",
   "execution_count": null,
   "id": "be5747b9-8a15-4570-821a-9f0c6729a7ae",
   "metadata": {},
   "outputs": [],
   "source": []
  },
  {
   "cell_type": "markdown",
   "id": "1b319203-baf8-4840-bab5-c7b45f3698a8",
   "metadata": {},
   "source": [
    "$\\{w / w$ es cualquier palabra que no contiene exactamente dos $1$s$\\}$"
   ]
  },
  {
   "cell_type": "code",
   "execution_count": null,
   "id": "db1055bb-e30a-4597-82c0-44f3f52bd5e6",
   "metadata": {},
   "outputs": [],
   "source": []
  },
  {
   "cell_type": "markdown",
   "id": "aa0f4834-f1e6-45c6-8107-2e6e5b3a0b05",
   "metadata": {},
   "source": [
    "$\\{w / w$ es cualquier palabra excepto $0$ o $1\\}$"
   ]
  },
  {
   "cell_type": "code",
   "execution_count": null,
   "id": "41f6e4cc-7d95-4e0b-93fd-a276c2195e9d",
   "metadata": {},
   "outputs": [],
   "source": []
  },
  {
   "cell_type": "markdown",
   "id": "4acb35da-3c3a-4cc5-a0ed-1b9e7904cced",
   "metadata": {},
   "source": [
    "## LR -> AFN"
   ]
  },
  {
   "cell_type": "markdown",
   "id": "3104d4b2-c62c-4029-b8b3-acdab2483443",
   "metadata": {},
   "source": [
    "$\\{0^n / n > 0\\} \\cup \\{1^n / n > 0\\}$"
   ]
  },
  {
   "cell_type": "code",
   "execution_count": null,
   "id": "1ee5cf87-cbbe-4f14-8a7b-196c3e105757",
   "metadata": {},
   "outputs": [],
   "source": []
  },
  {
   "cell_type": "markdown",
   "id": "269aee32-3530-40d1-9f37-af78d2c22df0",
   "metadata": {},
   "source": [
    "$\\{a^n / n ≥ 0\\} \\cup \\{b^na / n ≥ 1\\}$"
   ]
  },
  {
   "cell_type": "code",
   "execution_count": null,
   "id": "d10de9dc-229b-4dff-a3f8-86eda726592f",
   "metadata": {},
   "outputs": [],
   "source": []
  },
  {
   "cell_type": "markdown",
   "id": "28a1b7fd-8b15-4e8a-beec-f9237cc0c8a8",
   "metadata": {},
   "source": [
    "$\\{w / w$ tiene un número par de $0$s, un número impar de $1$s y no contiene la palabra $01\\}$"
   ]
  },
  {
   "cell_type": "code",
   "execution_count": null,
   "id": "b102c9ca-f6c0-4583-aec1-04f37effa7cb",
   "metadata": {},
   "outputs": [],
   "source": []
  },
  {
   "cell_type": "markdown",
   "id": "c377a7d5-eed9-415a-aa8c-b6db7b58174e",
   "metadata": {},
   "source": [
    "## LR -> AFD"
   ]
  },
  {
   "cell_type": "markdown",
   "id": "37ddb543-cd42-4eab-9e26-937f83703107",
   "metadata": {},
   "source": [
    "$\\{w /$ todas las palabras sobre $\\Sigma = \\{a, b, c\\}$ que tienen por lo menos tres letras$\\}$"
   ]
  },
  {
   "cell_type": "code",
   "execution_count": null,
   "id": "04495460-a6ab-4ec1-96f4-9d5ced2b3b26",
   "metadata": {},
   "outputs": [],
   "source": []
  },
  {
   "cell_type": "markdown",
   "id": "ad349604-9fb3-43a8-9a68-4ba64e33baa5",
   "metadata": {},
   "source": [
    "$\\{w /$ todos los números enteros en base 10 que pueden estar precedidos por un signo$\\}$"
   ]
  },
  {
   "cell_type": "code",
   "execution_count": null,
   "id": "69f37df7-dd89-43b2-ba37-791e561fff88",
   "metadata": {},
   "outputs": [],
   "source": []
  },
  {
   "cell_type": "markdown",
   "id": "0cda4616-ffa3-4f98-9458-388e91708a90",
   "metadata": {},
   "source": [
    "$\\{w /$ todos los números binarios que contienen una secuencia de exactamente dos ceros por lo menos una vez$\\}$"
   ]
  },
  {
   "cell_type": "code",
   "execution_count": null,
   "id": "ea8d1610-4b85-4390-a0f7-d0514beb561f",
   "metadata": {},
   "outputs": [],
   "source": []
  },
  {
   "cell_type": "markdown",
   "id": "98896289-9df1-456d-85c0-4593a331b67a",
   "metadata": {},
   "source": [
    "$\\{w /$ todas las palabras sobre $\\Sigma = \\{a, b\\}$ en que la cantidad de $a$'s es impar$\\}$"
   ]
  },
  {
   "cell_type": "code",
   "execution_count": null,
   "id": "57989eaa-8cff-43f4-9e6d-582fe848ffc6",
   "metadata": {},
   "outputs": [],
   "source": []
  },
  {
   "cell_type": "markdown",
   "id": "4d960270-ad0d-4759-8d4f-38fae89cfaa3",
   "metadata": {},
   "source": [
    "$\\{w /$ todas las palabras sobre $\\Sigma = \\{0, 1\\}$ en que las cadenas empiecen con $1$ no tienen un par de $0$´s consecutivos$\\}$"
   ]
  },
  {
   "cell_type": "code",
   "execution_count": null,
   "id": "f00df9ad-40bb-475e-9a75-21fed1868306",
   "metadata": {},
   "outputs": [],
   "source": []
  },
  {
   "cell_type": "markdown",
   "id": "c45b9c6f-e689-47ba-ae8b-d45700bf37c1",
   "metadata": {},
   "source": [
    "Lenguaje $L$ sobre $\\Sigma = \\{\\%, \\&\\}$ cuyas palabras verificar las siguientes restricciones:\n",
    "* Si una palabra tiene menos de cinco $\\&$, entonces tiene un número par de $\\&$\n",
    "* Si una palabra tiene cinco $\\&$ o más, entonces contiene un número impar de $\\&$\n",
    "* Cualquier palabra contiene al menos un $\\&$"
   ]
  },
  {
   "cell_type": "code",
   "execution_count": null,
   "id": "f7b7c95e-3605-453f-8b53-e23a70f1d771",
   "metadata": {},
   "outputs": [],
   "source": []
  },
  {
   "cell_type": "markdown",
   "id": "21131202-be06-4407-9e1c-45f04e87d451",
   "metadata": {},
   "source": [
    "Una cadena comando es el nombre del comando seguido de uno o más espacios en blanco, y a continuación una lista de parámetros que puede ser vacía. Un comando es una secuencia no vacía de cadenas comando separadas por un delimitador. Un delimitador es un elemento del conjunto {. , ;}. Un nombre comienza con una letra y sigue con cero o más letras o dígitos. La lista de parámetros es una secuencia de uno o más nombres separados por uno o más espacios en blanco"
   ]
  },
  {
   "cell_type": "code",
   "execution_count": null,
   "id": "f84e7ae5-9484-411c-bb33-2e83dfa2098a",
   "metadata": {},
   "outputs": [],
   "source": []
  },
  {
   "cell_type": "markdown",
   "id": "0c7fdb63-5bc9-4999-9c38-c561819e3a4d",
   "metadata": {},
   "source": [
    "## AF complemento"
   ]
  },
  {
   "cell_type": "markdown",
   "id": "98bc5a74-ce44-4b85-b0d8-1afd3f4525a0",
   "metadata": {},
   "source": [
    "$\\{w /$ todas las palabras sobre $\\Sigma = \\{a, b\\}$ que no contienen la secuencia $bab\\}$"
   ]
  },
  {
   "cell_type": "code",
   "execution_count": null,
   "id": "2fe325ff-ebc0-4959-9854-a6a58be85a0a",
   "metadata": {},
   "outputs": [],
   "source": []
  },
  {
   "cell_type": "markdown",
   "id": "35a5822a-2224-444d-bf26-890afaa07ffd",
   "metadata": {},
   "source": [
    "$\\{w /$ todas las palabras sobre $\\Sigma = \\{a, b, c\\}$ que no comienzan con la secuencia $caab\\}$"
   ]
  },
  {
   "cell_type": "code",
   "execution_count": null,
   "id": "44575478-4d57-4d49-8eae-0b30984ddbc9",
   "metadata": {},
   "outputs": [],
   "source": []
  },
  {
   "cell_type": "markdown",
   "id": "bf727779-a8c3-4f7f-8d45-fdc78ac43510",
   "metadata": {},
   "source": [
    "$\\{w /$ todas las palabras sobre $\\Sigma = \\{a, b, c\\}$ que no terminan con la secuencia $abc\\}$"
   ]
  },
  {
   "cell_type": "code",
   "execution_count": null,
   "id": "cc2d79a4-35b4-4059-984e-14384bdbf8b8",
   "metadata": {},
   "outputs": [],
   "source": []
  },
  {
   "cell_type": "markdown",
   "id": "7ddbfdb2-0cf2-4475-9b23-d6fb30d5c715",
   "metadata": {},
   "source": [
    "| Q   | a  | b  |\n",
    "| --  | -- | -- |\n",
    "| >*0 | 1  | 2  |\n",
    "| *1  | 1  | 0  |\n",
    "| *2  | 0  | 1  |"
   ]
  },
  {
   "cell_type": "code",
   "execution_count": null,
   "id": "3d0d74fc-b7a3-4bfe-9c59-ca930206364d",
   "metadata": {},
   "outputs": [],
   "source": []
  },
  {
   "cell_type": "markdown",
   "id": "7260a20b-5cb8-4d67-960d-261b941e1cfa",
   "metadata": {},
   "source": [
    "## AFD según operación"
   ]
  },
  {
   "cell_type": "markdown",
   "id": "a9de8e30-2512-448c-be2b-221146e432d2",
   "metadata": {},
   "source": [
    "Sean los AFD A1, A2 y A3 que reconocen los LR L1, L2 y L3 respectivamente:\n",
    "\n",
    "| A1 | 0  | 1  |\n",
    "| -- | -- | -- |\n",
    "| >A | B  | A  |\n",
    "| B  | B  | C  |\n",
    "| *C | B  | A  |\n",
    "\n",
    "| A2 | 0  | 1  |\n",
    "| -- | -- | -- |\n",
    "| >X | X  | Y  |\n",
    "| Y  | X  | Z  |\n",
    "| *Z | Z  | -  |\n",
    "\n",
    "| A3 | 0  | 1  |\n",
    "| -- | -- | -- |\n",
    "| >V | W  | W  |\n",
    "| *W | V  | V  |\n",
    "\n",
    "Construir:\n",
    "1. L1 $\\cup$ L2\n",
    "1. L1 $\\cap$ L2\n",
    "1. L1 $–$ L2\n",
    "1. L1 $\\cup$ L3\n",
    "1. L3 $–$ L2"
   ]
  },
  {
   "cell_type": "code",
   "execution_count": null,
   "id": "cea2c1c7-ac71-4131-a2f2-5a859e8c6596",
   "metadata": {},
   "outputs": [],
   "source": []
  },
  {
   "cell_type": "markdown",
   "id": "6cc543a2-8b57-453d-87e4-ed05ab7f4f2b",
   "metadata": {},
   "source": [
    "Sean los AF A1 y A2 que reconocen los LR L1 y L2 respectivamente:\n",
    "\n",
    "| A1 | 0  | 1  |\n",
    "| -- | -- | -- |\n",
    "| >P | P  | Q  |\n",
    "| Q  | R  | Q  |\n",
    "| *R | P  | Q  |\n",
    "\n",
    "| A2  | 0  | 1  |\n",
    "| --  | -- | -- |\n",
    "| >*X | Y  | U  |\n",
    "| Y   | X  | -  |\n",
    "| U   | -  | W  |\n",
    "| *W  | -  | U  |\n",
    "\n",
    "Construir:\n",
    "1. L1L2\n",
    "1. L1*\n",
    "1. L2* $\\cup$ L1"
   ]
  },
  {
   "cell_type": "code",
   "execution_count": null,
   "id": "f4b65540-1385-45ac-91a0-1ce2f9d90f7c",
   "metadata": {},
   "outputs": [],
   "source": []
  },
  {
   "cell_type": "markdown",
   "id": "cb9180f6-fcd8-441b-af67-e38eb3cc465b",
   "metadata": {},
   "source": [
    "## AFN según operación"
   ]
  },
  {
   "cell_type": "markdown",
   "id": "4b5b8ee2-923b-4028-8b90-4df0183dfaca",
   "metadata": {},
   "source": [
    "$\\{w / w$ comienza con $1$ y termina con $0\\} \\cup \\{w / w$ contiene por lo menos tres $1$s$\\}$"
   ]
  },
  {
   "cell_type": "code",
   "execution_count": null,
   "id": "81bad26a-8d3c-4921-bbd7-8705e0b2a561",
   "metadata": {},
   "outputs": [],
   "source": []
  },
  {
   "cell_type": "markdown",
   "id": "8607545a-2ecc-49b4-b6ef-904497325ad6",
   "metadata": {},
   "source": [
    "$\\{w / w$ contiene la palabra $0101\\} \\cup \\{w / w$ no contiene la palabra $1101\\}$"
   ]
  },
  {
   "cell_type": "code",
   "execution_count": null,
   "id": "c91aa813-0397-40e5-8b16-33b4a7261243",
   "metadata": {},
   "outputs": [],
   "source": []
  },
  {
   "cell_type": "markdown",
   "id": "b50c4a3e-e887-4a10-8901-6b7cae2d8e75",
   "metadata": {},
   "source": [
    "$\\{w /$ la longitud de $w$ es a lo sumo 5$\\}$ . $\\{w /$ cada posición impar de $w$ es un $1\\}$"
   ]
  },
  {
   "cell_type": "code",
   "execution_count": null,
   "id": "73cc2a41-9fc8-46fc-8198-d015f09fc445",
   "metadata": {},
   "outputs": [],
   "source": []
  },
  {
   "cell_type": "markdown",
   "id": "d5a4e412-3761-41e0-95c6-09b39b467e16",
   "metadata": {},
   "source": [
    "$L((a \\mid b)^* aa) \\cap L(b(a \\mid b)^*)$"
   ]
  },
  {
   "cell_type": "code",
   "execution_count": null,
   "id": "c17a38d3-04b0-4b8d-89db-d54221856629",
   "metadata": {},
   "outputs": [],
   "source": []
  },
  {
   "cell_type": "markdown",
   "id": "3e5b1b0a-b068-498d-9fac-23c4015bbfcf",
   "metadata": {},
   "source": [
    "$L((ab^*)^*) \\cap L(b(a \\mid b)^*)$"
   ]
  },
  {
   "cell_type": "code",
   "execution_count": null,
   "id": "a95a9822-4e1f-4d12-a9ad-d7b6474bf897",
   "metadata": {},
   "outputs": [],
   "source": []
  },
  {
   "cell_type": "markdown",
   "id": "0e1a1d9d-98f6-479a-84c6-9d12ba4acbc3",
   "metadata": {},
   "source": [
    "## Completar AF"
   ]
  },
  {
   "cell_type": "markdown",
   "id": "b1ea8b0f-18c8-4668-8c77-65743e0ec358",
   "metadata": {},
   "source": [
    "M = ($Q$, $\\Sigma$, q0, $F$, $\\delta$), donde: $Q = \\{0, 1, 2, 3\\}$; $\\Sigma = \\{a, b, c\\}$; q0 = 0; $F = \\{2, 3\\}$; $\\delta =\\{\\delta(0, a) = 1, \\delta(1, c) = 2, \\delta(1, b) = 3, \\delta(3, a) = 3\\}$"
   ]
  },
  {
   "cell_type": "code",
   "execution_count": null,
   "id": "53e80388-aa36-433f-a66a-a1aae43d1f22",
   "metadata": {},
   "outputs": [],
   "source": []
  },
  {
   "cell_type": "markdown",
   "id": "cc862de4-c57b-4118-8e3f-bdf67e46ea74",
   "metadata": {},
   "source": [
    "## Comprobar equivalencia"
   ]
  },
  {
   "cell_type": "markdown",
   "id": "6fc10518-798b-4479-8657-ee57ba04c8fb",
   "metadata": {},
   "source": [
    "| f1 | a  | b  | c  |\n",
    "| -- | -- | -- | -- |\n",
    "| >p | r  | t  | q  |\n",
    "| q  | q  | v  | p  |\n",
    "| r  | p  | u  | r  |\n",
    "| *s | q  | t  | u  |\n",
    "| *t | t  | v  | u  |\n",
    "| *u | t  | t  | v  |\n",
    "| *v | u  | u  | t  |\n",
    "\n",
    "| f2 | a  | b  | c  |\n",
    "| -- | -- | -- | -- |\n",
    "| >p | s  | q  | p  |\n",
    "| q  | t  | p  | q  |\n",
    "| *r | q  | t  | s  |\n",
    "| *s | s  | t  | s  |\n",
    "| *t | t  | s  | s  |"
   ]
  },
  {
   "cell_type": "code",
   "execution_count": null,
   "id": "28d41fce-b83a-497e-ae19-faf3b9632bbb",
   "metadata": {},
   "outputs": [],
   "source": []
  }
 ],
 "metadata": {
  "kernelspec": {
   "display_name": "Python [conda env:base] *",
   "language": "python",
   "name": "conda-base-py"
  },
  "language_info": {
   "codemirror_mode": {
    "name": "ipython",
    "version": 3
   },
   "file_extension": ".py",
   "mimetype": "text/x-python",
   "name": "python",
   "nbconvert_exporter": "python",
   "pygments_lexer": "ipython3",
   "version": "3.12.7"
  }
 },
 "nbformat": 4,
 "nbformat_minor": 5
}
