{
 "cells": [
  {
   "cell_type": "markdown",
   "id": "01ac97b0-ea5c-4ac0-9d48-60b3d0e6168f",
   "metadata": {},
   "source": [
    "# TP Algoritmos con AF\n",
    "---"
   ]
  },
  {
   "cell_type": "markdown",
   "id": "e2a8c85f-7fba-4815-873b-e3347b2d1198",
   "metadata": {},
   "source": [
    "## ER -> AFN$_λ$"
   ]
  },
  {
   "cell_type": "markdown",
   "id": "5bc147b2-3ad1-4dcf-a038-5b2999b04779",
   "metadata": {},
   "source": [
    "$b \\mid \\lambda$"
   ]
  },
  {
   "cell_type": "code",
   "execution_count": null,
   "id": "09f07e1b-56ba-43fb-a46e-2451bff123c1",
   "metadata": {},
   "outputs": [],
   "source": []
  },
  {
   "cell_type": "markdown",
   "id": "059d7e04-1451-4588-b740-8dc7dc42b0c7",
   "metadata": {},
   "source": [
    "$b \\mid c \\mid a$"
   ]
  },
  {
   "cell_type": "code",
   "execution_count": null,
   "id": "5637b869-0366-48eb-a165-3655cf71853c",
   "metadata": {},
   "outputs": [],
   "source": []
  },
  {
   "cell_type": "markdown",
   "id": "f0f993eb-e088-4a87-b7c0-fc964db8bbca",
   "metadata": {},
   "source": [
    "$bb$"
   ]
  },
  {
   "cell_type": "code",
   "execution_count": null,
   "id": "fb704b64-cdb3-406b-b1bd-c4709eb22b04",
   "metadata": {},
   "outputs": [],
   "source": []
  },
  {
   "cell_type": "markdown",
   "id": "6ea92c58-fd50-4452-afdc-62e20f47fec3",
   "metadata": {},
   "source": [
    "$baa$"
   ]
  },
  {
   "cell_type": "code",
   "execution_count": null,
   "id": "bb6f4ba0-9b2a-484c-8b0a-7634faaa7296",
   "metadata": {},
   "outputs": [],
   "source": []
  },
  {
   "cell_type": "markdown",
   "id": "dbd1ec5f-f56c-4e34-ba56-513087a4d989",
   "metadata": {},
   "source": [
    "$b^*$"
   ]
  },
  {
   "cell_type": "code",
   "execution_count": null,
   "id": "cfac711b-395e-4d33-861e-3435c0075817",
   "metadata": {},
   "outputs": [],
   "source": []
  },
  {
   "cell_type": "markdown",
   "id": "f69a7522-ff5a-42f5-a9d8-6402037b1e16",
   "metadata": {},
   "source": [
    "$(ba)^* \\mid a$"
   ]
  },
  {
   "cell_type": "code",
   "execution_count": null,
   "id": "46ea23ee-eb13-472b-801b-e63b41a8b383",
   "metadata": {},
   "outputs": [],
   "source": []
  },
  {
   "cell_type": "markdown",
   "id": "8c473f06-3bbd-4cac-aaac-093c66470540",
   "metadata": {},
   "source": [
    "$(a \\mid b)^*$"
   ]
  },
  {
   "cell_type": "code",
   "execution_count": null,
   "id": "e42acaef-dd03-4108-a36f-d5aa382c2515",
   "metadata": {},
   "outputs": [],
   "source": []
  },
  {
   "cell_type": "markdown",
   "id": "064a8271-13a2-475a-adec-86909bf17c17",
   "metadata": {},
   "source": [
    "$ab^* \\mid a^*bb \\mid a^+b$"
   ]
  },
  {
   "cell_type": "code",
   "execution_count": null,
   "id": "95e486a6-5745-4ac7-badd-94430cfb991b",
   "metadata": {},
   "outputs": [],
   "source": []
  },
  {
   "cell_type": "markdown",
   "id": "a3741895-f8f1-489b-8a37-8e4d241b603d",
   "metadata": {},
   "source": [
    "$(a \\mid ba)^*$"
   ]
  },
  {
   "cell_type": "code",
   "execution_count": null,
   "id": "f4e5b035-031b-480b-847b-dbd09a0f407e",
   "metadata": {},
   "outputs": [],
   "source": []
  },
  {
   "cell_type": "markdown",
   "id": "10383349-bfaa-4fe9-bab9-4fdc8704c299",
   "metadata": {},
   "source": [
    "$(a \\mid ba)^+$"
   ]
  },
  {
   "cell_type": "code",
   "execution_count": null,
   "id": "7999077d-3268-42ef-9ec6-8f7de5e7ff5f",
   "metadata": {},
   "outputs": [],
   "source": []
  },
  {
   "cell_type": "markdown",
   "id": "7cfec1f8-8049-421c-9312-39fed3e651e8",
   "metadata": {},
   "source": [
    "$(0 \\mid 1)^*000(0 \\mid 1)^*$"
   ]
  },
  {
   "cell_type": "code",
   "execution_count": null,
   "id": "b3e34d3a-bad0-4004-8c4d-18f27485933d",
   "metadata": {},
   "outputs": [],
   "source": []
  },
  {
   "cell_type": "markdown",
   "id": "9bacc810-2800-4c49-9dc1-5c5a33dcc179",
   "metadata": {},
   "source": [
    "$(((00)^*11) \\mid 01)^*$"
   ]
  },
  {
   "cell_type": "code",
   "execution_count": null,
   "id": "94519a8c-0e20-42c3-8a33-69299c7b3609",
   "metadata": {},
   "outputs": [],
   "source": []
  },
  {
   "cell_type": "markdown",
   "id": "31d0e598-caf6-4458-ad4b-a46a2885ec33",
   "metadata": {},
   "source": [
    "$(000)^*$"
   ]
  },
  {
   "cell_type": "code",
   "execution_count": null,
   "id": "273b4a58-0a6f-4ade-a679-c198b5c6a4f4",
   "metadata": {},
   "outputs": [],
   "source": []
  },
  {
   "cell_type": "markdown",
   "id": "5fa98f7f-a664-4046-bbc0-8fc858a59bcd",
   "metadata": {},
   "source": [
    "$(0 \\mid 1)^*0 (0 \\mid 1)^*1(0 \\mid 1)^*0(0 \\mid 1)^*$"
   ]
  },
  {
   "cell_type": "code",
   "execution_count": null,
   "id": "f7596d58-abdd-44fb-842b-8629e5398648",
   "metadata": {},
   "outputs": [],
   "source": []
  },
  {
   "cell_type": "markdown",
   "id": "51b01f89-6e56-4018-be4a-18c4b0b596c6",
   "metadata": {},
   "source": [
    "$010 \\mid 101$"
   ]
  },
  {
   "cell_type": "code",
   "execution_count": null,
   "id": "720c8458-1d78-4a15-8eb9-c758e01f04a4",
   "metadata": {},
   "outputs": [],
   "source": []
  },
  {
   "cell_type": "markdown",
   "id": "ea051992-3470-4d8e-a834-924c73e979ca",
   "metadata": {},
   "source": [
    "$(\\lambda \\mid 0)1$"
   ]
  },
  {
   "cell_type": "code",
   "execution_count": null,
   "id": "6db4d894-550b-46ce-a230-02f17defdb71",
   "metadata": {},
   "outputs": [],
   "source": []
  },
  {
   "cell_type": "markdown",
   "id": "4d0f8045-455e-4a2d-ae51-d48073295bfa",
   "metadata": {},
   "source": [
    "$(0 \\mid 10)(0 \\mid 1)^*$"
   ]
  },
  {
   "cell_type": "code",
   "execution_count": null,
   "id": "7d06c8bd-4f8d-4186-bb8e-2325fce5089c",
   "metadata": {},
   "outputs": [],
   "source": []
  },
  {
   "cell_type": "markdown",
   "id": "76a065dc-f74b-48a0-a322-cb0540b75036",
   "metadata": {},
   "source": [
    "$0(011)^* \\mid 1$"
   ]
  },
  {
   "cell_type": "code",
   "execution_count": null,
   "id": "d5a87638-c134-416c-b9f0-99938a931d37",
   "metadata": {},
   "outputs": [],
   "source": []
  },
  {
   "cell_type": "markdown",
   "id": "a6693ed9-7fda-4afc-a7ce-84f0e0e29434",
   "metadata": {},
   "source": [
    "$0^+ \\mid (01)^+$"
   ]
  },
  {
   "cell_type": "code",
   "execution_count": null,
   "id": "764dce32-9198-440f-97e9-cefa98baa004",
   "metadata": {},
   "outputs": [],
   "source": []
  },
  {
   "cell_type": "markdown",
   "id": "16404696-b99b-4e67-bb66-bde67db01010",
   "metadata": {},
   "source": [
    "$(0 \\mid 1^+)0^+1^+$"
   ]
  },
  {
   "cell_type": "code",
   "execution_count": null,
   "id": "dbbfedf8-d458-4357-9b11-59e89d174690",
   "metadata": {},
   "outputs": [],
   "source": []
  },
  {
   "cell_type": "markdown",
   "id": "36141562-89c8-4d2e-a4bd-cf44c61d585a",
   "metadata": {},
   "source": [
    "## Clausura$_λ(q)$"
   ]
  },
  {
   "cell_type": "markdown",
   "id": "4fbc3427-ce84-42fc-b85d-c51426ed468f",
   "metadata": {},
   "source": [
    "| $Q$  | $a$ | $\\lambda$     |\n",
    "| --   | --  | --            |\n",
    "| >$0$ | $1$ | $\\{2, 3, 6\\}$ |\n",
    "| $1$  | -   | $2$           |\n",
    "| *$2$ | -   | $3$           |\n",
    "| $3$  | -   | $6$           |\n",
    "| $4$  | $5$ | $5$           |\n",
    "| *$5$ | -   | -             |\n",
    "| *$6$ | $6$ | $1$           |"
   ]
  },
  {
   "cell_type": "code",
   "execution_count": null,
   "id": "a01998d2-bc4e-4589-9b36-f5925bc80222",
   "metadata": {},
   "outputs": [],
   "source": []
  },
  {
   "cell_type": "markdown",
   "id": "a61cd900-ae74-4fa0-8af6-1636b6e79213",
   "metadata": {},
   "source": [
    "| $Q$  | $a$ | $\\lambda$  |\n",
    "| --   | --  | --         |\n",
    "| >$0$ | $1$ | $\\{3, 6\\}$ |\n",
    "| $1$  | -   | $2$        |\n",
    "| *$2$ | -   | $4$        |\n",
    "| $3$  | -   | $4$        |\n",
    "| $4$  | $5$ | -          |\n",
    "| *$5$ | -   | -          |\n",
    "| *$6$ | $6$ | -          |"
   ]
  },
  {
   "cell_type": "code",
   "execution_count": null,
   "id": "20e19069-1230-4d07-bb02-6085f938e9b7",
   "metadata": {},
   "outputs": [],
   "source": []
  },
  {
   "cell_type": "markdown",
   "id": "c4c81106-9fbc-4f7c-b38d-f6188c83809a",
   "metadata": {},
   "source": [
    "## Hacia(Clausura$_λ(q), \\sigma)$"
   ]
  },
  {
   "cell_type": "markdown",
   "id": "8a05e3c7-cc20-4fec-af5b-115f89d29ed5",
   "metadata": {},
   "source": [
    "* Sea el conjunto M formado por los estados 1, 2 y 3. Suponer que estos estados tienen las siguientes transiciones: \n",
    "    * δ(1, a) = 1\n",
    "    * δ(2, a) = 1\n",
    "    * δ(3, b) = 2\n",
    "    * δ(2, b) = 4\n",
    "* Obtenga:\n",
    "    * hacia(M, a)\n",
    "    * hacia(M, b)\n",
    "    * hacia(M, c)"
   ]
  },
  {
   "cell_type": "code",
   "execution_count": null,
   "id": "dc2a6873-fca6-471a-a9f4-4663583477c8",
   "metadata": {},
   "outputs": [],
   "source": []
  },
  {
   "cell_type": "markdown",
   "id": "9ec6265d-6134-46fe-afdc-a3910982fb76",
   "metadata": {},
   "source": [
    "## AFN$_λ$/AFN -> AFD"
   ]
  },
  {
   "cell_type": "markdown",
   "id": "e57bd71f-d1a0-494b-924d-72a36e89c5d1",
   "metadata": {},
   "source": [
    "| $Q$  | $a$        | $b$           |\n",
    "| --   | --         | --            |\n",
    "| >$0$ | $\\{1, 3\\}$ | $1$           |\n",
    "| $1$  | -          | $\\{1, 2\\}$    |\n",
    "| $2$  | -          | $\\{2, 3\\}$    |\n",
    "| *$3$ | $3$        | $\\{1, 2, 3\\}$ |"
   ]
  },
  {
   "cell_type": "code",
   "execution_count": null,
   "id": "fe31c648-c514-46fe-9cc7-5d4fd1871ca7",
   "metadata": {},
   "outputs": [],
   "source": []
  },
  {
   "cell_type": "markdown",
   "id": "906d867a-74b6-4aca-9c09-80cfa54239f5",
   "metadata": {},
   "source": [
    "| $Q$  | $a$        | $b$           | $c$        |\n",
    "| --   | --         | --            | --         |\n",
    "| >$p$ | $\\{q, s\\}$ | $p$           | $\\{q, r\\}$ |\n",
    "| $q$  | -          | $\\{q, r\\}$    | $r$        |\n",
    "| $r$  | -          | $\\{p, s\\}$    | $q$        |\n",
    "| *$s$ | $s$        | $\\{q, r, s\\}$ | -          |"
   ]
  },
  {
   "cell_type": "code",
   "execution_count": null,
   "id": "dff4f8a5-9393-44ce-abdd-bc2c62d0c075",
   "metadata": {},
   "outputs": [],
   "source": []
  },
  {
   "cell_type": "markdown",
   "id": "9889b528-552e-432b-9b34-14b9f610f58e",
   "metadata": {},
   "source": [
    "AFN = <$\\{q0, q1\\}; \\{a, b\\}; \\delta(q0, a) = \\{q0, q1\\}; \\delta(q0, b) = \\{q1\\}; \\delta(q1, b) = \\{q0\\}; F = \\{q0\\}$>"
   ]
  },
  {
   "cell_type": "code",
   "execution_count": null,
   "id": "291e0d79-7da2-4689-8dda-f8a6294185dc",
   "metadata": {},
   "outputs": [],
   "source": []
  },
  {
   "cell_type": "markdown",
   "id": "9c2515a8-422f-4d76-8029-34035e087f53",
   "metadata": {},
   "source": [
    "AFN = <$\\{q0, q1, q2\\}; \\{a, b\\}; \\delta(q0, a) = \\{q2\\}; \\delta(q0, \\lambda) = \\{q1\\}; \\delta(q1, a) = \\{q0\\}; \\delta(q2, a) = \\{q1\\}; \\delta(q2, b) = \\{q1, q2\\}; F = \\{q1\\}$>"
   ]
  },
  {
   "cell_type": "code",
   "execution_count": null,
   "id": "f2c0658f-e610-4ae6-bfa5-2680157bd554",
   "metadata": {},
   "outputs": [],
   "source": []
  },
  {
   "cell_type": "markdown",
   "id": "d27b04dd-c065-43bf-b369-2e0b2d67073a",
   "metadata": {},
   "source": [
    "## AF -> ER"
   ]
  },
  {
   "cell_type": "markdown",
   "id": "1e353da6-3da1-4815-9288-5f6476f72344",
   "metadata": {},
   "source": [
    "| $Q$  | $a$ | $b$ |\n",
    "| --   | --  | --  |\n",
    "| >$0$ | $1$ | $6$ |\n",
    "| $1$  | $1$ | $4$ |\n",
    "| $2$  | -   | -   |\n",
    "| *$4$ | -   | $4$ |\n",
    "| $5$  | $2$ | $2$ |\n",
    "| *$6$ | -   | $5$ |"
   ]
  },
  {
   "cell_type": "code",
   "execution_count": null,
   "id": "128f1342-b422-44f0-9ee0-b31005f16cb4",
   "metadata": {},
   "outputs": [],
   "source": []
  },
  {
   "cell_type": "markdown",
   "id": "80647800-3e94-4837-b582-c2bcd6784646",
   "metadata": {},
   "source": [
    "| $Q$  | $a$        | $b$        |\n",
    "| --   | --         | --         |\n",
    "| >$0$ | $\\{1, 2\\}$ | $\\{0, 6\\}$ |\n",
    "| $1$  | $1$        | $4$        |\n",
    "| $2$  | -          | -          |\n",
    "| *$4$ | -          | $\\{4, 5\\}$ |\n",
    "| $5$  | $2$        | $2$        |\n",
    "| *$6$ | -          | $5$        |"
   ]
  },
  {
   "cell_type": "code",
   "execution_count": null,
   "id": "11e89af8-15fa-4e33-95f8-84476beadd38",
   "metadata": {},
   "outputs": [],
   "source": []
  },
  {
   "cell_type": "markdown",
   "id": "bbd02fd1-1dd1-4010-b39d-00c136117f06",
   "metadata": {},
   "source": [
    "| $Q$  | $a$ | $b$ |\n",
    "| --   | --  | --  |\n",
    "| >$p$ | $s$ | $s$ |\n",
    "| *$s$ | $s$ | $s$ |"
   ]
  },
  {
   "cell_type": "code",
   "execution_count": null,
   "id": "e5b4e3c8-1490-4490-a880-61c3599eaa16",
   "metadata": {},
   "outputs": [],
   "source": []
  },
  {
   "cell_type": "markdown",
   "id": "94c74330-76f0-46bb-8686-f30b2909d8f6",
   "metadata": {},
   "source": [
    "| $Q$   | $0$          | $1$  |\n",
    "| --    | --           | --   |\n",
    "| >$q0$ | $\\{q0, q1\\}$ | $q0$ |\n",
    "| $q1$  | $q2$         | $q2$ |\n",
    "| $q2$  | $q3$         | -    |\n",
    "| *$q3$ | $q3$         | $q3$ |"
   ]
  },
  {
   "cell_type": "code",
   "execution_count": null,
   "id": "a0e302ef-b863-4d7d-b890-f6e071d66bd7",
   "metadata": {},
   "outputs": [],
   "source": []
  },
  {
   "cell_type": "markdown",
   "id": "c6188acb-68db-40f3-a5ea-626c7f0e9847",
   "metadata": {},
   "source": [
    "| $Q$   | $a$  | $b$  |\n",
    "| --    | --   | --   |\n",
    "| >$q0$ | $q0$ | $q1$ |\n",
    "| $q1$  | $q2$ | $q0$ |\n",
    "| *$q2$ | $q1$ | $q2$ |"
   ]
  },
  {
   "cell_type": "code",
   "execution_count": null,
   "id": "e4e1496d-ac22-4073-bc79-a40d134f18d4",
   "metadata": {},
   "outputs": [],
   "source": []
  },
  {
   "cell_type": "markdown",
   "id": "6bb28f3d-6792-447e-932e-41f21ba13181",
   "metadata": {},
   "source": [
    "| $Q$   | $a$  | $b$  |\n",
    "| --    | --   | --   |\n",
    "| >$q0$ | $q1$ | $q0$ |\n",
    "| $q1$  | $q2$ | $q1$ |\n",
    "| *$q2$ | $q2$ | $q1$ |"
   ]
  },
  {
   "cell_type": "code",
   "execution_count": null,
   "id": "73b79ade-5628-4a3c-80d5-097876255de4",
   "metadata": {},
   "outputs": [],
   "source": []
  },
  {
   "cell_type": "markdown",
   "id": "76225907-c6b4-406c-819f-f3b3d6312225",
   "metadata": {},
   "source": [
    "| $Q$   | $a$  | $b$  |\n",
    "| --    | --   | --   |\n",
    "| >$q0$ | $q1$ | $q3$ |\n",
    "| *$q1$ | $q2$ | $q3$ |\n",
    "| $q2$  | $q1$ | $q1$ |\n",
    "| $q3$  | $q3$ | $q3$ |"
   ]
  },
  {
   "cell_type": "code",
   "execution_count": null,
   "id": "f25ed762-1043-4361-8daf-cc424fa61e6d",
   "metadata": {},
   "outputs": [],
   "source": []
  },
  {
   "cell_type": "markdown",
   "id": "1dc94fc6-b15c-45ba-a227-ea92f0a91ad5",
   "metadata": {},
   "source": [
    "AFD = <$\\{q0, q1\\}; \\{0, 1\\}; \\delta(q0, 0) = q0; \\delta(q0, 1) = q1; \\delta(q1, 0) = q1; \\delta(q1, 1) = q0; F = \\{q1\\}$>"
   ]
  },
  {
   "cell_type": "code",
   "execution_count": null,
   "id": "776af8b1-6483-4645-8ec2-980242f9f4b9",
   "metadata": {},
   "outputs": [],
   "source": []
  },
  {
   "cell_type": "markdown",
   "id": "46213842-850f-4597-bbd1-e4d180ba6fab",
   "metadata": {},
   "source": [
    "AFD = <$\\{q0, q1, q2\\}; \\{0, 1\\}; \\delta(q0, 0) = q1; \\delta(q0, 1) = q1; \\delta(q1, 0) = q1; \\delta(q1, 1) = q2; \\delta(q2, 0) = q0; \\delta(q2, 1) = q1; F = \\{q0, q2\\}$>"
   ]
  },
  {
   "cell_type": "code",
   "execution_count": null,
   "id": "357a8eeb-9fe4-41df-a9d9-323222b6fe2e",
   "metadata": {},
   "outputs": [],
   "source": []
  },
  {
   "cell_type": "markdown",
   "id": "0941bb34-0a28-4d05-9ad8-03dff65a0d08",
   "metadata": {},
   "source": [
    "## AFD -> AFDmin"
   ]
  },
  {
   "cell_type": "markdown",
   "id": "cb567745-2458-45f4-9330-44567c229eb0",
   "metadata": {},
   "source": [
    "| $Q$  | $a$ | $b$ |\n",
    "| --   | --  | --  |\n",
    "| >$0$ | $1$ | $5$ |\n",
    "| $1$  | $5$ | $2$ |\n",
    "| *$2$ | $2$ | $3$ |\n",
    "| *$3$ | $4$ | $2$ |\n",
    "| *$4$ | $3$ | $4$ |\n",
    "| $5$  | $5$ | $5$ |"
   ]
  },
  {
   "cell_type": "code",
   "execution_count": null,
   "id": "d27c6126-1ec4-4ca5-b1a0-0bbdfa8e11b5",
   "metadata": {},
   "outputs": [],
   "source": []
  },
  {
   "cell_type": "markdown",
   "id": "8156b518-1918-46d6-a8f9-b714acff2f1f",
   "metadata": {},
   "source": [
    "| $Q$   | $a$ | $b$ |\n",
    "| --    | --  | --  |\n",
    "| >*$0$ | $1$ | $2$ |\n",
    "| *$1$  | $1$ | $4$ |\n",
    "| $2$   | $3$ | $2$ |\n",
    "| *$3$  | $4$ | $4$ |\n",
    "| $4$   | $4$ | $4$ |"
   ]
  },
  {
   "cell_type": "code",
   "execution_count": null,
   "id": "b75ea980-5cde-47c4-a846-5e13713ae508",
   "metadata": {},
   "outputs": [],
   "source": []
  },
  {
   "cell_type": "markdown",
   "id": "2ca98593-5b3f-44e3-85ad-6ed1d7025bb0",
   "metadata": {},
   "source": [
    "$a^*ba^* \\mid a^*b^*aa$"
   ]
  },
  {
   "cell_type": "code",
   "execution_count": null,
   "id": "107998e7-76e2-4353-bc4a-cf7c73fd1ea0",
   "metadata": {},
   "outputs": [],
   "source": []
  },
  {
   "cell_type": "markdown",
   "id": "a2f14f4b-30ce-4019-9e7a-cec80dcecf4c",
   "metadata": {},
   "source": [
    "| $Q$  | $a$        | $b$        | $c$        | $\\lambda$  |\n",
    "| --   | --         | --         | --         | --         |\n",
    "| >$0$ | $1$        | $1$        | -          | -          |\n",
    "| $1$  | $\\{2, 3\\}$ | -          | $3$        | $\\{4, 5\\}$ |\n",
    "| $2$  | $2$        | -          | $4$        | $5$        |\n",
    "| *$3$ | -          | -          | $\\{1, 2\\}$ | $5$        |\n",
    "| $4$  | $\\{4, 5\\}$ | $\\{0, 2\\}$ | -          | -          |\n",
    "| *$5$ | -          | $\\{3, 4\\}$ | -          | -          |"
   ]
  },
  {
   "cell_type": "code",
   "execution_count": null,
   "id": "630100fe-fc25-4273-afd4-447bb114970f",
   "metadata": {},
   "outputs": [],
   "source": []
  },
  {
   "cell_type": "markdown",
   "id": "8552c687-20ec-462f-a7cc-1b5dc32c34ad",
   "metadata": {},
   "source": [
    "AFN = <$\\{a, b, c\\}, \\{p, q, r, s, t, u, v\\}, f, p, \\{v\\}$>. Donde $f = \\{f(q, b) = \\{r, s\\}, f(u, c) = \\{v\\}, f(r, \\lambda) = q, f(s, a) = \\{t, p\\}, f(p, \\lambda) = q, f(r, \\lambda) = u, f(s, c) = \\{u\\}, f(p, \\lambda) = t, f(t, \\lambda) = q, f(t, b) = \\{v\\}, f(q, \\lambda) = r, f(u, \\lambda) = s, f(u, a) = \\{s, q\\}, f(q, \\lambda) = s, f(v, \\lambda) = r\\}$"
   ]
  },
  {
   "cell_type": "code",
   "execution_count": null,
   "id": "25845af5-7ea1-41a1-92d1-3fdb4f180898",
   "metadata": {},
   "outputs": [],
   "source": []
  },
  {
   "cell_type": "markdown",
   "id": "1cc7019b-4176-4c69-bc61-3ec517b17880",
   "metadata": {},
   "source": [
    "AFN = <$\\{a, b, c\\}, \\{q0, q1, q2, q3, q4, q5\\}, f, p, \\{q2, q5\\}$>. Donde $f = \\{f(q0, a) = \\{q0, q3\\}, f(q0, b) = \\{q2\\}, f(q0, c) = \\{q5\\}, f(q1, a) = \\{q3\\}, f(q1, b) = \\{q2, q5\\}, f(q1, c) = \\{q2\\}, f(q2, a) = \\{q2\\}, f(q2, b) = \\{q1, q4\\}, f(q2, c) = \\{q4\\}, f(q3, a) = \\{q0\\}, f(q3, b) = \\{q5\\}, f(q3, c) = \\{q2, q5\\}, f(q4, c) = \\{q5\\}, f(q5, a) = \\{q2\\}, f(q5, b) = \\{q4\\}, f(q5, c) = \\{q1, q4\\}\\}$"
   ]
  },
  {
   "cell_type": "code",
   "execution_count": null,
   "id": "11362506-df39-42b0-9556-b35e71ef660e",
   "metadata": {},
   "outputs": [],
   "source": []
  },
  {
   "cell_type": "markdown",
   "id": "e57a5255-4000-438c-be7e-42526aac58ce",
   "metadata": {},
   "source": [
    "## GR -> AFD"
   ]
  },
  {
   "cell_type": "markdown",
   "id": "f2ba614a-5fa4-415f-97a0-fa0574d0f04e",
   "metadata": {},
   "source": [
    "$$S \\rightarrow bS \\mid aA \\mid \\lambda$$\n",
    "$$A \\rightarrow aA \\mid bB \\mid b$$\n",
    "$$B \\rightarrow bS$$"
   ]
  },
  {
   "cell_type": "code",
   "execution_count": null,
   "id": "0cd1a2d1-0f8d-445c-9c21-ce24dc6b0eae",
   "metadata": {},
   "outputs": [],
   "source": []
  },
  {
   "cell_type": "markdown",
   "id": "31da1a90-70d7-4d3b-a833-6825ce3b3ff5",
   "metadata": {},
   "source": [
    "$$R0 \\rightarrow bR1 \\mid cR2 \\mid a \\mid b$$\n",
    "$$R1 \\rightarrow aR1 \\mid a$$\n",
    "$$R2 \\rightarrow cR2 \\mid a$$ "
   ]
  },
  {
   "cell_type": "code",
   "execution_count": null,
   "id": "b8fae887-3b1c-45ae-8810-2bffebf2ec0d",
   "metadata": {},
   "outputs": [],
   "source": []
  },
  {
   "cell_type": "markdown",
   "id": "1751cb34-f910-4a5e-be2c-6281f3527150",
   "metadata": {},
   "source": [
    "## ER -> ... -> AFDmin"
   ]
  },
  {
   "cell_type": "markdown",
   "id": "84ec5cd1-a143-4bfe-898d-a09f2272821f",
   "metadata": {},
   "source": [
    "$(ab)^* \\mid (a \\mid c) \\mid (a \\mid b \\mid c)$"
   ]
  },
  {
   "cell_type": "code",
   "execution_count": null,
   "id": "1f784d28-6ac1-4941-a2ab-6f8d7f252ada",
   "metadata": {},
   "outputs": [],
   "source": []
  },
  {
   "cell_type": "markdown",
   "id": "439d94a5-be93-4ee5-bad0-e82b72f55c82",
   "metadata": {},
   "source": [
    "$(ab \\mid c)^* \\mid (a \\mid c)^* \\mid a^*$"
   ]
  },
  {
   "cell_type": "code",
   "execution_count": null,
   "id": "36d9f8d3-1215-4829-b84e-692e7f11fb16",
   "metadata": {},
   "outputs": [],
   "source": []
  },
  {
   "cell_type": "markdown",
   "id": "8207d365-4cb2-4aa3-9945-d299ce4fe833",
   "metadata": {},
   "source": [
    "$(01^*0 \\mid 11)^* \\mid (00 \\mid 1)^*$"
   ]
  },
  {
   "cell_type": "code",
   "execution_count": null,
   "id": "6fc94d77-a65a-42c1-b0a1-6db5d8c7943e",
   "metadata": {},
   "outputs": [],
   "source": []
  },
  {
   "cell_type": "markdown",
   "id": "009a8b1b-c456-4184-8a76-10dfce4ec3f8",
   "metadata": {},
   "source": [
    "$ab \\mid 0^*(01^*0 \\mid 11)^*$"
   ]
  },
  {
   "cell_type": "code",
   "execution_count": null,
   "id": "dcbdb3a6-d702-40c2-a69b-02796159882d",
   "metadata": {},
   "outputs": [],
   "source": []
  },
  {
   "cell_type": "markdown",
   "id": "7e6d7ed9-5129-4e5f-8223-af0a4b9808fa",
   "metadata": {},
   "source": [
    "$(aa \\mid b)^*(c \\mid d)(cd)^*$"
   ]
  },
  {
   "cell_type": "code",
   "execution_count": null,
   "id": "5463dc4b-151a-4826-a709-397e9d412360",
   "metadata": {},
   "outputs": [],
   "source": []
  },
  {
   "cell_type": "markdown",
   "id": "4ab0107f-0a42-49e5-88b7-e7b0fb6e9d28",
   "metadata": {},
   "source": [
    "$(abc)^*$"
   ]
  },
  {
   "cell_type": "code",
   "execution_count": null,
   "id": "0c3194ff-1227-461e-8a97-4604f2fbb9af",
   "metadata": {},
   "outputs": [],
   "source": []
  },
  {
   "cell_type": "markdown",
   "id": "2e599f95-68c5-4937-b421-01d29556ff6e",
   "metadata": {},
   "source": [
    "$a^+bc^*$"
   ]
  },
  {
   "cell_type": "code",
   "execution_count": null,
   "id": "cd505d0d-cd9e-4adb-a346-f60b72af23ea",
   "metadata": {},
   "outputs": [],
   "source": []
  },
  {
   "cell_type": "markdown",
   "id": "bed0c8f3-cb42-4c5e-bf94-8c222dd06d21",
   "metadata": {},
   "source": [
    "$a(b \\mid \\lambda)b^+$"
   ]
  },
  {
   "cell_type": "code",
   "execution_count": null,
   "id": "68aa964c-344a-4810-b9ed-fbcabe42d19c",
   "metadata": {},
   "outputs": [],
   "source": []
  },
  {
   "cell_type": "markdown",
   "id": "99df6910-eaa0-4b8f-bc15-afa3c95fb25c",
   "metadata": {},
   "source": [
    "## LR -> ... -> AFDmin"
   ]
  },
  {
   "cell_type": "markdown",
   "id": "77481962-477d-48a4-8385-79514fb65f9e",
   "metadata": {},
   "source": [
    "$L = \\{w / w \\in \\{a, b, c\\}^*$ y en $w$ las palabras deben cumplir que luego de una $a$ siempre venga dos $b$, antes de una $b$ no pueden venir una $c$, y la cantidad de $a$ son pares$\\}$"
   ]
  },
  {
   "cell_type": "code",
   "execution_count": null,
   "id": "0af6af8b-c10c-46d0-b5f2-fb5fea2f0af2",
   "metadata": {},
   "outputs": [],
   "source": []
  },
  {
   "cell_type": "markdown",
   "id": "e8b80f91-8677-49f6-a26e-81fd9b4b0161",
   "metadata": {},
   "source": [
    "$L = \\{w / w \\in \\{a, d\\}^*$ y $w$ la cantidad de $d$ debe ser par y la de $a$ impar, y $w$ no puede comenzar con $d$ ni finalizar con $a\\}$"
   ]
  },
  {
   "cell_type": "code",
   "execution_count": null,
   "id": "33616ca0-dca5-48ce-8356-40834241be9b",
   "metadata": {},
   "outputs": [],
   "source": []
  },
  {
   "cell_type": "markdown",
   "id": "550633b9-be3c-4785-a341-abb911d8fe8c",
   "metadata": {},
   "source": [
    "## ER -> ... -> GR"
   ]
  },
  {
   "cell_type": "markdown",
   "id": "fb0e6474-0a50-4d56-b50b-633e7e8c98d8",
   "metadata": {},
   "source": [
    "$aa^*bb^* \\mid ab$"
   ]
  },
  {
   "cell_type": "code",
   "execution_count": null,
   "id": "48dde501-25de-40d2-bc5a-8c91151a477a",
   "metadata": {},
   "outputs": [],
   "source": []
  },
  {
   "cell_type": "markdown",
   "id": "33a32001-04a3-4b31-af1d-4be6af60e772",
   "metadata": {},
   "source": [
    "$(b \\mid ab^*a)^*ab^*$"
   ]
  },
  {
   "cell_type": "code",
   "execution_count": null,
   "id": "181ef34f-449d-4cdf-8edb-1ec73f76f9b6",
   "metadata": {},
   "outputs": [],
   "source": []
  },
  {
   "cell_type": "markdown",
   "id": "c657215d-c341-4223-af8e-c649386f9864",
   "metadata": {},
   "source": [
    "## GR -> ... -> ER"
   ]
  },
  {
   "cell_type": "markdown",
   "id": "9f97c92b-d4a2-491a-82f8-6336004c2172",
   "metadata": {},
   "source": [
    "$$S \\rightarrow 1A \\mid 1B$$\n",
    "$$A \\rightarrow 0A \\mid 0C \\mid 1C \\mid 1$$\n",
    "$$B \\rightarrow 1A \\mid 1C \\mid 1$$\n",
    "$$C \\rightarrow 1$$"
   ]
  },
  {
   "cell_type": "code",
   "execution_count": null,
   "id": "442cd33a-5596-41c6-9bbc-7ca5022e2be1",
   "metadata": {},
   "outputs": [],
   "source": []
  },
  {
   "cell_type": "markdown",
   "id": "81473471-623a-4238-ad81-0e6c113e047e",
   "metadata": {},
   "source": [
    "$$S \\rightarrow aA \\mid \\lambda$$\n",
    "$$A \\rightarrow aA \\mid aC \\mid bB \\mid aB$$\n",
    "$$B \\rightarrow bB \\mid bA \\mid b$$\n",
    "$$C \\rightarrow aC \\mid bC$$ "
   ]
  },
  {
   "cell_type": "code",
   "execution_count": null,
   "id": "6a896f93-252d-41ee-9933-f984d9cde7c9",
   "metadata": {},
   "outputs": [],
   "source": []
  },
  {
   "cell_type": "markdown",
   "id": "f2472998-c3e0-431c-a541-9203434e716f",
   "metadata": {},
   "source": [
    "$$S \\rightarrow aA \\mid cA \\mid a \\mid c$$\n",
    "$$A \\rightarrow bS$$ "
   ]
  },
  {
   "cell_type": "code",
   "execution_count": null,
   "id": "45ee032c-c7bf-46c5-9986-70a5287a4a91",
   "metadata": {},
   "outputs": [],
   "source": []
  },
  {
   "cell_type": "markdown",
   "id": "a72ffa41-2a08-44d6-ae53-4b3e6e953090",
   "metadata": {},
   "source": [
    "## GR -> ... -> AFDmin"
   ]
  },
  {
   "cell_type": "markdown",
   "id": "17c176e1-41a5-477c-86d6-8400f3a4d0fa",
   "metadata": {},
   "source": [
    "$$S \\rightarrow \\lambda \\mid bB \\mid a \\mid aA$$\n",
    "$$B \\rightarrow b \\mid bA$$\n",
    "$$A \\rightarrow aA \\mid bB \\mid a \\mid aC$$\n",
    "$$C \\rightarrow c \\mid cC \\mid bB \\mid aA \\mid a$$"
   ]
  },
  {
   "cell_type": "code",
   "execution_count": null,
   "id": "a307a572-b7a0-4e1b-aca5-4352433558c4",
   "metadata": {},
   "outputs": [],
   "source": []
  },
  {
   "cell_type": "markdown",
   "id": "d90e15be-cab7-48e5-ae0d-2e9fdd16d512",
   "metadata": {},
   "source": [
    "$$S \\rightarrow aA \\mid \\lambda$$\n",
    "$$A \\rightarrow aA \\mid aC \\mid bB \\mid aB$$\n",
    "$$B \\rightarrow bB \\mid bA \\mid b$$\n",
    "$$C \\rightarrow aC \\mid bC$$ "
   ]
  },
  {
   "cell_type": "code",
   "execution_count": null,
   "id": "fdb1d058-768e-4e5e-8c5b-6fe90bf7411b",
   "metadata": {},
   "outputs": [],
   "source": []
  },
  {
   "cell_type": "markdown",
   "id": "a75f5393-0ce3-4aec-ac3a-0376fa01c449",
   "metadata": {},
   "source": [
    "$$S \\rightarrow aA \\mid cA \\mid a \\mid c$$\n",
    "$$A \\rightarrow bS$$ "
   ]
  },
  {
   "cell_type": "code",
   "execution_count": null,
   "id": "89f98ae4-451d-4584-854e-1a6fa17dfc82",
   "metadata": {},
   "outputs": [],
   "source": []
  },
  {
   "cell_type": "markdown",
   "id": "92689300-ffa4-4baa-b1c6-26a27789603e",
   "metadata": {},
   "source": [
    "$$A \\rightarrow 0B \\mid \\lambda$$\n",
    "$$B \\rightarrow 1C \\mid 1$$\n",
    "$$C \\rightarrow 0B$$"
   ]
  },
  {
   "cell_type": "code",
   "execution_count": null,
   "id": "8c89236a-845d-4730-b11f-3fe0fbd62e41",
   "metadata": {},
   "outputs": [],
   "source": []
  },
  {
   "cell_type": "markdown",
   "id": "5dd1967d-4fd3-403b-86c0-6b3d7c132c7b",
   "metadata": {},
   "source": [
    "$$S \\rightarrow bA \\mid cB \\mid a \\mid b$$\n",
    "$$A \\rightarrow aA \\mid a$$\n",
    "$$B \\rightarrow cB \\mid a$$ "
   ]
  },
  {
   "cell_type": "code",
   "execution_count": null,
   "id": "64b6cba0-6515-4f12-b2b5-900d3568084e",
   "metadata": {},
   "outputs": [],
   "source": []
  },
  {
   "cell_type": "markdown",
   "id": "758396c1-783e-47e5-b0d8-ede4da7cdecf",
   "metadata": {},
   "source": [
    "$$S \\rightarrow T \\mid R$$\n",
    "$$T \\rightarrow aT \\mid V$$\n",
    "$$V \\rightarrow bV \\mid b$$\n",
    "$$R \\rightarrow cX \\mid e$$\n",
    "$$X \\rightarrow cX \\mid cd$$ "
   ]
  },
  {
   "cell_type": "code",
   "execution_count": null,
   "id": "68db3d00-425a-4190-b94b-1026e971ae74",
   "metadata": {},
   "outputs": [],
   "source": []
  },
  {
   "cell_type": "markdown",
   "id": "f982494a-15a1-4e94-8efe-63b07d7682ce",
   "metadata": {},
   "source": [
    "$$S \\rightarrow aT \\mid V$$\n",
    "$$T \\rightarrow aR \\mid bR$$\n",
    "$$R \\rightarrow aR \\mid bR \\mid V$$\n",
    "$$V \\rightarrow cV \\mid \\lambda$$"
   ]
  },
  {
   "cell_type": "code",
   "execution_count": null,
   "id": "fc3d5422-472f-4a29-978b-0faaabb27b81",
   "metadata": {},
   "outputs": [],
   "source": []
  },
  {
   "cell_type": "markdown",
   "id": "7612cf4f-6648-43a3-894c-25d94673fcd7",
   "metadata": {},
   "source": [
    "## Pumping Lemma"
   ]
  },
  {
   "cell_type": "markdown",
   "id": "e37a0709-e92f-4914-a766-d9365055af37",
   "metadata": {},
   "source": [
    "$L_1 = \\{a^{n+1}cb^n / n ≥ 0\\}$ sobre $\\Sigma = \\{a, b, c\\}$"
   ]
  },
  {
   "cell_type": "code",
   "execution_count": null,
   "id": "7adabf0a-756b-4195-b025-79a3fe840ffa",
   "metadata": {},
   "outputs": [],
   "source": []
  },
  {
   "cell_type": "markdown",
   "id": "f01f854b-51e3-499c-b407-22434bf84303",
   "metadata": {},
   "source": [
    "$L_2 = \\{da^{n+1}c^nb^n / n ≥ 1\\}$ sobre $\\Sigma = \\{a, b, c, d\\}$"
   ]
  },
  {
   "cell_type": "code",
   "execution_count": null,
   "id": "6a80ae8b-1122-41cb-bafe-1ffb3c9a59ec",
   "metadata": {},
   "outputs": [],
   "source": []
  },
  {
   "cell_type": "markdown",
   "id": "82da48b2-47b2-4960-a2ef-1f6b9900f436",
   "metadata": {},
   "source": [
    "$L_3 = \\{0^n1^n2^n / n ≥ 0\\}$ sobre $\\Sigma = \\{0, 1, 2\\}$"
   ]
  },
  {
   "cell_type": "code",
   "execution_count": null,
   "id": "d5479313-3f4b-408e-98af-aa462cc6e364",
   "metadata": {},
   "outputs": [],
   "source": []
  },
  {
   "cell_type": "markdown",
   "id": "cffccc00-36a5-4770-b05a-42a799956a83",
   "metadata": {},
   "source": [
    "$L_4 = \\{a^nb^{n+1} / n ≥ 1\\}$ sobre $\\Sigma = \\{a, b\\}$"
   ]
  },
  {
   "cell_type": "code",
   "execution_count": null,
   "id": "fd716333-2aa2-41ee-a0c0-771d6e9b690b",
   "metadata": {},
   "outputs": [],
   "source": []
  },
  {
   "cell_type": "markdown",
   "id": "8c95ee4a-1488-43f6-9627-d17fc8b22ef7",
   "metadata": {},
   "source": [
    "$L_5 = \\{e^{n+1}cf^{n+2} / n ≥ 0\\}$ sobre $\\Sigma = \\{e, c, f\\}$"
   ]
  },
  {
   "cell_type": "code",
   "execution_count": null,
   "id": "7a4ee96e-4f54-4ccc-a7f2-0dc632e5a5b5",
   "metadata": {},
   "outputs": [],
   "source": []
  }
 ],
 "metadata": {
  "kernelspec": {
   "display_name": "Python [conda env:base] *",
   "language": "python",
   "name": "conda-base-py"
  },
  "language_info": {
   "codemirror_mode": {
    "name": "ipython",
    "version": 3
   },
   "file_extension": ".py",
   "mimetype": "text/x-python",
   "name": "python",
   "nbconvert_exporter": "python",
   "pygments_lexer": "ipython3",
   "version": "3.12.7"
  }
 },
 "nbformat": 4,
 "nbformat_minor": 5
}
