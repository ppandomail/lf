{
 "cells": [
  {
   "cell_type": "markdown",
   "id": "c0fc1942-4df2-40d1-a6e6-27b25d034296",
   "metadata": {},
   "source": [
    "# TP ER\n",
    "---"
   ]
  },
  {
   "attachments": {},
   "cell_type": "markdown",
   "id": "b699cb19-0e07-4b48-8120-b01380dfed55",
   "metadata": {},
   "source": [
    "![er.png](img/er.png)"
   ]
  },
  {
   "cell_type": "markdown",
   "id": "821cc845-f2e1-428c-b0cb-d4b7b369edfe",
   "metadata": {},
   "source": [
    "## Conceptuales"
   ]
  },
  {
   "cell_type": "markdown",
   "id": "9c6d8d69-d320-45e8-92fd-098a377f8a75",
   "metadata": {},
   "source": [
    "Describa dos casos en los que la concatenación de dos ER si puede ser conmutativa"
   ]
  },
  {
   "cell_type": "code",
   "execution_count": null,
   "id": "83aa0799-ea26-4d73-ba70-fb9a40c8b79e",
   "metadata": {},
   "outputs": [],
   "source": []
  },
  {
   "cell_type": "markdown",
   "id": "7ccac023-9c31-4f46-a2e4-a9b9a96c7034",
   "metadata": {},
   "source": [
    "Describa, mediante una frase sin ambigüedades, el LR representado por la ER $a(b \\mid a)b$"
   ]
  },
  {
   "cell_type": "code",
   "execution_count": null,
   "id": "84b1b61b-03fb-4bc1-85e4-6f241de2e78d",
   "metadata": {},
   "outputs": [],
   "source": []
  },
  {
   "cell_type": "markdown",
   "id": "605a366f-144d-4b85-ae26-30102113c55a",
   "metadata": {},
   "source": [
    "¿La cadena $a^{24}b^{24}a^{24}$ es una palabra de LR representado por la ER $(aba)^*$? Justifique su respuesta"
   ]
  },
  {
   "cell_type": "code",
   "execution_count": null,
   "id": "e3cb4f6a-6108-4a5a-83d9-65e17debd97c",
   "metadata": {},
   "outputs": [],
   "source": []
  },
  {
   "cell_type": "markdown",
   "id": "dfc5c9de-d2c4-4505-9a75-9d5134b89dea",
   "metadata": {},
   "source": [
    "Dados los LR infinitos representados por las ERs $a^*$ y $aa^*$ respectivamente. ¿Cuál tiene mayor cantidad de palabras? Justifique su respuesta"
   ]
  },
  {
   "cell_type": "code",
   "execution_count": null,
   "id": "0adddc1d-e14b-4726-bddb-67f7ea8284f4",
   "metadata": {},
   "outputs": [],
   "source": []
  },
  {
   "cell_type": "markdown",
   "id": "f50260d5-66b9-4d37-a5b1-2e00c0362130",
   "metadata": {},
   "source": [
    "Justifique la afirmación: la ER $b^*ab^*ab^*$ representa al lenguaje \"Todas las palabras sobre el alfabeto $\\{a, b\\}$ con exactamente dos aes\" Algunas palabras de este lenguaje son: $aa$, $babba$, $bbaabbb$, $aba$"
   ]
  },
  {
   "cell_type": "code",
   "execution_count": null,
   "id": "9c3edee0-4f90-4526-b92c-e01ac44296a0",
   "metadata": {},
   "outputs": [],
   "source": []
  },
  {
   "cell_type": "markdown",
   "id": "2a0d276f-217c-4db8-bf05-018bad51493e",
   "metadata": {},
   "source": [
    "Si el $\\Sigma$ fuera \"todos los dígitos decimales\", ¿cuál sería la ERU sobre ese alfabeto?"
   ]
  },
  {
   "cell_type": "code",
   "execution_count": null,
   "id": "ec7b64fd-d8d6-4ac3-ba66-6f9dfd8e12c1",
   "metadata": {},
   "outputs": [],
   "source": []
  },
  {
   "cell_type": "markdown",
   "id": "b370153a-4fde-4556-9eed-dc5b5a8c8f86",
   "metadata": {},
   "source": [
    "## $w$ del $L(ER)$"
   ]
  },
  {
   "cell_type": "markdown",
   "id": "d6241154-2ad1-4f2d-b612-a169a3b42785",
   "metadata": {},
   "source": [
    "$a^* \\mid b^3$. Escriba las cinco palabras de menor longitud"
   ]
  },
  {
   "cell_type": "code",
   "execution_count": null,
   "id": "d44ecba5-0fd2-4403-b425-625bd86f3c54",
   "metadata": {},
   "outputs": [],
   "source": []
  },
  {
   "cell_type": "markdown",
   "id": "621606be-a1c3-4d48-a93c-c462c75d42ed",
   "metadata": {},
   "source": [
    "Para cada uno de los siguientes lenguajes sobre $\\Sigma = \\{0, 1\\}$, dé dos palabras que pertenezcan al lenguaje y dos que no pertenezcan:\n",
    "1. $0^*1^*$\n",
    "1. $0(10)^*1$\n",
    "1. $0^* \\mid 1^*$"
   ]
  },
  {
   "cell_type": "code",
   "execution_count": null,
   "id": "1f16dd7f-f100-4b5a-897f-84f3bad2a53f",
   "metadata": {},
   "outputs": [],
   "source": []
  },
  {
   "cell_type": "markdown",
   "id": "2a357ffc-9233-4346-b4b4-4969d9734e99",
   "metadata": {},
   "source": [
    "## Diseño"
   ]
  },
  {
   "cell_type": "markdown",
   "id": "f3428c4e-a19c-4cd6-81e4-e8790fb2c977",
   "metadata": {},
   "source": [
    "$\\{\\lambda\\}$ sobre $\\Sigma = \\{a, b\\}$"
   ]
  },
  {
   "cell_type": "code",
   "execution_count": null,
   "id": "103e5795-5be1-453c-b948-d1a8fd105d6b",
   "metadata": {},
   "outputs": [],
   "source": []
  },
  {
   "cell_type": "markdown",
   "id": "317ee250-0861-4709-a784-23d4e8d41452",
   "metadata": {},
   "source": [
    "$\\{a, b\\}$ sobre $\\Sigma = \\{a, b\\}$"
   ]
  },
  {
   "cell_type": "code",
   "execution_count": null,
   "id": "3e91aa79-cafe-4ff4-b155-7898b300499c",
   "metadata": {},
   "outputs": [],
   "source": []
  },
  {
   "cell_type": "markdown",
   "id": "183496ce-ce20-4edc-bf59-1467544619fa",
   "metadata": {},
   "source": [
    "$\\{aa, ab, ba, bb\\}$ sobre $\\Sigma = \\{a, b\\}$"
   ]
  },
  {
   "cell_type": "code",
   "execution_count": null,
   "id": "7dce42aa-27e4-4e03-8ccd-f372ab9f2c34",
   "metadata": {},
   "outputs": [],
   "source": []
  },
  {
   "cell_type": "markdown",
   "id": "33dc18c4-46ea-4de5-9f8c-cce8f0a2e122",
   "metadata": {},
   "source": [
    "$\\{\\lambda, aa, ab, ba, bb\\}$ sobre $\\Sigma = \\{a, b\\}$"
   ]
  },
  {
   "cell_type": "code",
   "execution_count": null,
   "id": "8f07c8ad-c092-41ba-8a0b-4af8a2b672de",
   "metadata": {},
   "outputs": [],
   "source": []
  },
  {
   "cell_type": "markdown",
   "id": "4a29c9d6-2556-4a30-8c87-b9de48a2a382",
   "metadata": {},
   "source": [
    "$\\{(ab)^n / n ≥ 0\\}$ sobre $\\Sigma = \\{a, b\\}$"
   ]
  },
  {
   "cell_type": "code",
   "execution_count": null,
   "id": "7d552a95-f677-4a47-93f8-54041178482f",
   "metadata": {},
   "outputs": [],
   "source": []
  },
  {
   "cell_type": "markdown",
   "id": "71ffb950-7889-45aa-a573-f1bdd4f3e95c",
   "metadata": {},
   "source": [
    "$\\{a^nb^n / 1 ≤ n ≤ 3\\}$ sobre $\\Sigma = \\{a, b\\}$"
   ]
  },
  {
   "cell_type": "code",
   "execution_count": null,
   "id": "5b584091-f01f-4f7b-9bf5-77ec74971634",
   "metadata": {},
   "outputs": [],
   "source": []
  },
  {
   "cell_type": "markdown",
   "id": "0fc7a43f-ce1e-43d5-bd29-341a46890552",
   "metadata": {},
   "source": [
    "$\\{w / w$ comienza con $1$ y termina en $0\\}$ sobre $\\Sigma = \\{0, 1\\}$"
   ]
  },
  {
   "cell_type": "code",
   "execution_count": null,
   "id": "929dd86e-00cf-45b4-90d7-f7096373f676",
   "metadata": {},
   "outputs": [],
   "source": []
  },
  {
   "cell_type": "markdown",
   "id": "cefab3a0-4b1d-4045-9370-84cf87d0d266",
   "metadata": {},
   "source": [
    "$\\{w / w$ contiene por lo menos tres $1$s$\\}$ sobre $\\Sigma = \\{0, 1\\}$"
   ]
  },
  {
   "cell_type": "code",
   "execution_count": null,
   "id": "9568f3ce-2577-4c1f-a39f-2151177713ed",
   "metadata": {},
   "outputs": [],
   "source": []
  },
  {
   "cell_type": "markdown",
   "id": "e9d9dab3-16dd-40a2-aec1-d95c2d0535b9",
   "metadata": {},
   "source": [
    "$\\{w / w$ contiene la palabra $0101\\}$ sobre $\\Sigma = \\{0, 1\\}$"
   ]
  },
  {
   "cell_type": "code",
   "execution_count": null,
   "id": "c64e8e4c-ad64-4523-a1e5-b651d864bc05",
   "metadata": {},
   "outputs": [],
   "source": []
  },
  {
   "cell_type": "markdown",
   "id": "95c46639-bece-4e6f-bc73-69e8b1175af0",
   "metadata": {},
   "source": [
    "$\\{w / w$ tiene longitud por lo menos 3 y su tercer símbolo es $0\\}$ sobre $\\Sigma = \\{0, 1\\}$"
   ]
  },
  {
   "cell_type": "code",
   "execution_count": null,
   "id": "68da9cda-6bb5-47da-8066-1062fb666a2f",
   "metadata": {},
   "outputs": [],
   "source": []
  },
  {
   "cell_type": "markdown",
   "id": "3289c938-89b8-4c44-9641-078a0f42cebf",
   "metadata": {},
   "source": [
    "$\\{w / w$ comienza con $0$ y tiene longitud impar o comienza con $1$ y tiene longitud par$\\}$ sobre $\\Sigma = \\{0, 1\\}$"
   ]
  },
  {
   "cell_type": "code",
   "execution_count": null,
   "id": "246e40fa-e29a-4892-b433-769740ace76a",
   "metadata": {},
   "outputs": [],
   "source": []
  },
  {
   "cell_type": "markdown",
   "id": "4e117f73-4e54-4451-b139-a88ab2dc009e",
   "metadata": {},
   "source": [
    "$\\{w$ / la longitud de $w$ es a lo sumo 5$\\}$ sobre $\\Sigma = \\{0, 1\\}$"
   ]
  },
  {
   "cell_type": "code",
   "execution_count": null,
   "id": "3e3cdde8-d908-4824-94b8-56f811a26a16",
   "metadata": {},
   "outputs": [],
   "source": []
  },
  {
   "cell_type": "markdown",
   "id": "5d068a55-7209-44a3-a1d8-e86064eaac61",
   "metadata": {},
   "source": [
    "$\\{w$ / cada posición impar de $w$ es un 1$\\}$ sobre $\\Sigma = \\{0, 1\\}$"
   ]
  },
  {
   "cell_type": "code",
   "execution_count": null,
   "id": "d04e63e5-9c5b-42f3-81f1-91d901bbc4fe",
   "metadata": {},
   "outputs": [],
   "source": []
  },
  {
   "cell_type": "markdown",
   "id": "8abfba4a-637d-41f8-bd0c-c1021b2066ff",
   "metadata": {},
   "source": [
    "$\\{\\lambda, 0\\}$ sobre $\\Sigma = \\{0, 1\\}$"
   ]
  },
  {
   "cell_type": "code",
   "execution_count": null,
   "id": "8e4d7fe8-9ba3-45e4-bd07-1f0a0fdfeca8",
   "metadata": {},
   "outputs": [],
   "source": []
  },
  {
   "cell_type": "markdown",
   "id": "f2de3fcc-9202-444d-90a5-0f4959416587",
   "metadata": {},
   "source": [
    "$\\{w / w$ contiene un número par de $0$s y exactamente dos $1$s$\\}$ sobre $\\Sigma = \\{0, 1\\}$"
   ]
  },
  {
   "cell_type": "code",
   "execution_count": null,
   "id": "6444b502-6b03-4d28-bb32-d57398cc08ae",
   "metadata": {},
   "outputs": [],
   "source": []
  },
  {
   "cell_type": "markdown",
   "id": "2fee5c21-ffb2-4301-a843-ffcd2b159ccd",
   "metadata": {},
   "source": [
    "$\\emptyset$ sobre $\\Sigma = \\{0, 1\\}$"
   ]
  },
  {
   "cell_type": "code",
   "execution_count": null,
   "id": "d4f9c01a-952c-4bf8-a158-673208ccb488",
   "metadata": {},
   "outputs": [],
   "source": []
  },
  {
   "cell_type": "markdown",
   "id": "dca100a8-dc24-497c-9852-a96ca9e0bbee",
   "metadata": {},
   "source": [
    "$\\Sigma^*$ sobre $\\Sigma = \\{0, 1\\}$"
   ]
  },
  {
   "cell_type": "code",
   "execution_count": null,
   "id": "b59bb16b-b037-4e60-b6f2-cbbbc3f18fcf",
   "metadata": {},
   "outputs": [],
   "source": []
  },
  {
   "cell_type": "markdown",
   "id": "0e003865-f645-4061-9dac-99f621ef7eec",
   "metadata": {},
   "source": [
    "$\\{w / w$ tiene un número par de $0$s, un número impar de $1$s y no contiene la palabra $01\\}$ sobre $\\Sigma = \\{0, 1\\}$"
   ]
  },
  {
   "cell_type": "code",
   "execution_count": null,
   "id": "c13f11fe-02dc-4ef6-ac56-0c016104f253",
   "metadata": {},
   "outputs": [],
   "source": []
  },
  {
   "cell_type": "markdown",
   "id": "7ade04fc-5f8e-4660-9bd0-dc31046c442b",
   "metadata": {},
   "source": [
    "$\\{a^{2n}b^{2m+1} / n ≥ 0, m ≥ 0\\}$"
   ]
  },
  {
   "cell_type": "code",
   "execution_count": null,
   "id": "2c894b89-0f88-4bab-8730-cb9b0c5a05a6",
   "metadata": {},
   "outputs": [],
   "source": []
  },
  {
   "cell_type": "markdown",
   "id": "c34b9a91-23fc-4dd3-9a8c-73a339b30e9a",
   "metadata": {},
   "source": [
    "$\\{w \\in \\{0, 1\\}^* / w$ tiene al menos dos ceros consecutivos$\\}$"
   ]
  },
  {
   "cell_type": "code",
   "execution_count": null,
   "id": "3f62617a-25ee-4367-8f07-def871b34f43",
   "metadata": {},
   "outputs": [],
   "source": []
  },
  {
   "cell_type": "markdown",
   "id": "532aa8f5-af21-46dd-b70c-66b3c0a5539b",
   "metadata": {},
   "source": [
    "$\\{w \\in \\{a, b\\}^* / |w|$ mod 3 = 0$\\}$"
   ]
  },
  {
   "cell_type": "code",
   "execution_count": null,
   "id": "a29de511-215a-4979-8409-86f378ce40ff",
   "metadata": {},
   "outputs": [],
   "source": []
  },
  {
   "cell_type": "markdown",
   "id": "af427678-210b-42f9-8b2e-e67750b94978",
   "metadata": {},
   "source": [
    "$\\{w \\in \\{a, b\\}^* / |w|$ mod 2 = 0$\\}$"
   ]
  },
  {
   "cell_type": "code",
   "execution_count": null,
   "id": "d8ba988e-49e9-43fa-9af6-fe7a54505a97",
   "metadata": {},
   "outputs": [],
   "source": []
  },
  {
   "cell_type": "markdown",
   "id": "895b1397-ce4c-4544-b27f-11fe7f9e0dd2",
   "metadata": {},
   "source": [
    "\"Todas las palabras sobre el $\\Sigma = \\{a, b\\}$ que tienen longitud 100 y terminan con 28 bes\""
   ]
  },
  {
   "cell_type": "code",
   "execution_count": null,
   "id": "6202101d-6867-433e-9aaa-aedf23b612ff",
   "metadata": {},
   "outputs": [],
   "source": []
  },
  {
   "cell_type": "markdown",
   "id": "0c3488c0-6d89-449f-9dcb-34e517709529",
   "metadata": {},
   "source": [
    "\"Todas las palabras sobre el $\\Sigma = \\{a, b, c\\}$ que comienzan con 16 aes, terminan con 16 aes y tienen una longitud total de 1200 caracteres\""
   ]
  },
  {
   "cell_type": "code",
   "execution_count": null,
   "id": "e0ff2a6d-ed86-45f9-bd8b-3ff9be5f90b3",
   "metadata": {},
   "outputs": [],
   "source": []
  },
  {
   "cell_type": "markdown",
   "id": "e19fab8d-02ae-4531-9253-e4b0f75caf6e",
   "metadata": {},
   "source": [
    "\"Todas las palabras sobre el $\\Sigma = \\{a, b, c\\}$ que comienzan con 342 bes y terminan con 100 repeticiones de cualquiera de los caracteres del $\\Sigma$ (pero siempre uno solo de ellos)\""
   ]
  },
  {
   "cell_type": "code",
   "execution_count": null,
   "id": "5a37a22d-37f7-46af-8b52-67eff2e9c48b",
   "metadata": {},
   "outputs": [],
   "source": []
  },
  {
   "cell_type": "markdown",
   "id": "6976b942-56df-4c69-b18d-5cba56dbf5fa",
   "metadata": {},
   "source": [
    "\"La palabra vacía y todas las palabras sobre el $\\Sigma = \\{a, b, c\\}$ de longitud 45, que comienzan con $aa$ o con $bb$, y que terminan con $aa$ o con $bb$\""
   ]
  },
  {
   "cell_type": "code",
   "execution_count": null,
   "id": "a7b9e4c9-3a24-4819-9e39-715a28724b67",
   "metadata": {},
   "outputs": [],
   "source": []
  },
  {
   "cell_type": "markdown",
   "id": "e1975e8a-3ba4-4430-b0b9-977cae63cc03",
   "metadata": {},
   "source": [
    "\"Todos los números binarios que comienzan con un $1$ o con un $0$, el cual puede estar seguido por una secuencia de $1$s\". Los cuatro números binarios de menor longitud de este lenguaje son: $1$, $0$, $11$ y $01$"
   ]
  },
  {
   "cell_type": "code",
   "execution_count": null,
   "id": "dddd8b52-a6d7-4808-ab57-3c99a3b39975",
   "metadata": {},
   "outputs": [],
   "source": []
  },
  {
   "cell_type": "markdown",
   "id": "c55cf0ae-95e4-4003-82a7-781c60db6a24",
   "metadata": {},
   "source": [
    "\"Todas las palabras que comienzan con una secuencia de dos o más $1$s seguida de un $0$ como último carácter o que comienzan con una secuencia de dos o más $0$s seguida de un $1$ como último carácter\""
   ]
  },
  {
   "cell_type": "code",
   "execution_count": null,
   "id": "899e2c47-05f9-48ce-af16-d82a3227b313",
   "metadata": {},
   "outputs": [],
   "source": []
  },
  {
   "cell_type": "markdown",
   "id": "f2110300-2876-4ec3-8f36-76850260401f",
   "metadata": {},
   "source": [
    "\"Todas las palabras sobre el $\\Sigma = \\{a, b\\}$ que comienzan con $a$ y tienen longitud mayor o igual que 2\""
   ]
  },
  {
   "cell_type": "code",
   "execution_count": null,
   "id": "96033482-97b2-4035-a616-72cb11156bb3",
   "metadata": {},
   "outputs": [],
   "source": []
  },
  {
   "cell_type": "markdown",
   "id": "d38dde71-21e4-4e29-aacf-e5bcea9fd4e5",
   "metadata": {},
   "source": [
    "\"Todas las palabras sobre el $\\Sigma = \\{a, b, c\\}$ que comienzan con una $a$ y terminan con una $b$, o que comienzan con una $b$ y terminan con una $a$\""
   ]
  },
  {
   "cell_type": "code",
   "execution_count": null,
   "id": "22e7b2f2-03e1-4101-89cb-2f695b7927e2",
   "metadata": {},
   "outputs": [],
   "source": []
  },
  {
   "cell_type": "markdown",
   "id": "ef1543db-525e-4138-b7dc-a1082b3a7285",
   "metadata": {},
   "source": [
    "\"Todas las palabras sobre el $\\Sigma = \\{a, b, c\\}$ que terminan con $aa$ o con $bb$ y cuya longitud es mayor que 2\""
   ]
  },
  {
   "cell_type": "code",
   "execution_count": null,
   "id": "31b869ca-902b-45ea-8574-217c3d609a66",
   "metadata": {},
   "outputs": [],
   "source": []
  },
  {
   "cell_type": "markdown",
   "id": "496c33ea-b4f6-4962-aacf-37827fc2dd81",
   "metadata": {},
   "source": [
    "\"Todas las palabras sobre el $\\Sigma = \\{a, b, c\\}$ de longitud mayor o igual que seis, que terminan con $aa$ o con $bb$\""
   ]
  },
  {
   "cell_type": "code",
   "execution_count": null,
   "id": "d2dce2a9-66aa-442c-9c39-f80e2f21073b",
   "metadata": {},
   "outputs": [],
   "source": []
  },
  {
   "cell_type": "markdown",
   "id": "30a68784-60de-43d6-a64b-9e644fc52743",
   "metadata": {},
   "source": [
    "\"Todas las palabras sobre el $\\Sigma = \\{a, b, c\\}$ que contienen como mínimo dos aes\""
   ]
  },
  {
   "cell_type": "code",
   "execution_count": null,
   "id": "202f36e7-f27d-45d8-8a9d-cc568544e719",
   "metadata": {},
   "outputs": [],
   "source": []
  },
  {
   "cell_type": "markdown",
   "id": "f7028ff0-99b5-47ca-bf33-1bf03c55c308",
   "metadata": {},
   "source": [
    "\"Identificadores de cualquier longitud que comience con $a$ y contenga $a$, $b$ o $c$. No pueden terminar con $c$ y además no pueden contener dos $c$ seguidas\""
   ]
  },
  {
   "cell_type": "code",
   "execution_count": null,
   "id": "4e808d8f-d481-44c5-a7f0-637504eeac80",
   "metadata": {},
   "outputs": [],
   "source": []
  },
  {
   "cell_type": "markdown",
   "id": "0d8bc677-910a-4ff7-a739-dca86447df97",
   "metadata": {},
   "source": [
    "\"Cadenas binarias que terminen en $0$ sobre $\\Sigma = \\{0, 1\\}$\""
   ]
  },
  {
   "cell_type": "code",
   "execution_count": null,
   "id": "a30b7b65-6d92-427d-a6a7-a83d3f3f7bd8",
   "metadata": {},
   "outputs": [],
   "source": []
  },
  {
   "cell_type": "markdown",
   "id": "af3d0ca4-04de-49a8-ba60-53ed68093654",
   "metadata": {},
   "source": [
    "\"Cadenas con sólo un $0$ sobre $\\Sigma = \\{0, 1\\}$\""
   ]
  },
  {
   "cell_type": "code",
   "execution_count": null,
   "id": "d7e175ad-83c6-4511-9a89-91aeee2dea23",
   "metadata": {},
   "outputs": [],
   "source": []
  },
  {
   "cell_type": "markdown",
   "id": "2aca3c2d-ae91-40c2-a760-844bfac2c48b",
   "metadata": {},
   "source": [
    "\"Cadenas binarias que no contienen $000$ sobre $\\Sigma = \\{0, 1\\}$\""
   ]
  },
  {
   "cell_type": "code",
   "execution_count": null,
   "id": "2540d0b4-385e-4031-845c-698897b9ea9b",
   "metadata": {},
   "outputs": [],
   "source": []
  },
  {
   "cell_type": "markdown",
   "id": "f9af377f-88bb-4902-aadc-9a6906ffdc61",
   "metadata": {},
   "source": [
    "\"Cadenas que sí tienen un $1$ va precedido y seguido de un $0$ sobre $\\Sigma = \\{0, 1\\}$\""
   ]
  },
  {
   "cell_type": "code",
   "execution_count": null,
   "id": "ae2a881d-fc0e-4b99-9161-b57780346cfd",
   "metadata": {},
   "outputs": [],
   "source": []
  },
  {
   "cell_type": "markdown",
   "id": "70edbee6-b461-4754-8099-068108edf146",
   "metadata": {},
   "source": [
    "\"Todas las cadenas que contengan una única $a$ sobre $\\Sigma = \\{a, b, c\\}$\""
   ]
  },
  {
   "cell_type": "code",
   "execution_count": null,
   "id": "fae0132c-037d-41c5-aa3e-1211e16deb46",
   "metadata": {},
   "outputs": [],
   "source": []
  },
  {
   "cell_type": "markdown",
   "id": "e9a4afe1-9aac-4fb1-857a-642d43ee996a",
   "metadata": {},
   "source": [
    "\"Palabras sobre el $\\Sigma = \\{0, 1\\}$ en las que no hay dos símbolos iguales contiguos, es decir, los $0$’s y los $1$’s se alternan. La palabra vacía no pertenece al lenguaje\""
   ]
  },
  {
   "cell_type": "code",
   "execution_count": null,
   "id": "7c682d52-84ba-48f7-9000-7d9a7ca20ced",
   "metadata": {},
   "outputs": [],
   "source": []
  },
  {
   "cell_type": "markdown",
   "id": "f69f8d8b-5d81-4f50-a511-79aee7dfdd8f",
   "metadata": {},
   "source": [
    "\"Palabras sobre el $\\Sigma = \\{0, 1\\}$ donde cada $1$ debe ser seguido inmediatamente por dos o más $0$. La palabra puede empezar con $0$ o con $1$. Se admite la palabra nula\""
   ]
  },
  {
   "cell_type": "code",
   "execution_count": null,
   "id": "b0627b45-4d9d-4803-8f52-5c5a6c4a994b",
   "metadata": {},
   "outputs": [],
   "source": []
  },
  {
   "cell_type": "markdown",
   "id": "61bdcef3-76cb-4ffe-bc87-c19681df27a4",
   "metadata": {},
   "source": [
    "## Determinar si ERs son equivalentes"
   ]
  },
  {
   "cell_type": "markdown",
   "id": "1791f0e6-9bce-44c3-ba66-8a53d38f388a",
   "metadata": {},
   "source": [
    "$$aa \\mid ab \\mid ba \\mid bb$$\n",
    "$$a(a \\mid b) \\mid b(a \\mid b)$$\n",
    "$$(a \\mid b)(a \\mid b)$$"
   ]
  },
  {
   "cell_type": "markdown",
   "id": "674a5f57-7666-418c-9c22-68e50502a067",
   "metadata": {},
   "source": [
    "- [ ] si\n",
    "- [ ] no"
   ]
  },
  {
   "cell_type": "markdown",
   "id": "fde0b984-7293-4b04-a1d3-e90bec7903c4",
   "metadata": {},
   "source": [
    "$$aa \\mid ab \\mid ba$$ \n",
    "$$a(a \\mid b) \\mid ba$$\n",
    "$$ab \\mid ba \\mid aa$$"
   ]
  },
  {
   "cell_type": "markdown",
   "id": "447ee58a-333b-4104-966d-a24c07181fc4",
   "metadata": {},
   "source": [
    "- [ ] si\n",
    "- [ ] no"
   ]
  },
  {
   "cell_type": "markdown",
   "id": "9a483f5e-0051-49d1-8ad4-83ed51a59496",
   "metadata": {},
   "source": [
    "$$a^{1000}$$\n",
    "$$a^*$$"
   ]
  },
  {
   "cell_type": "markdown",
   "id": "0114c72f-331a-4420-a558-171b0b088781",
   "metadata": {},
   "source": [
    "- [ ] si\n",
    "- [ ] no"
   ]
  },
  {
   "cell_type": "markdown",
   "id": "0005b1ed-f99a-473e-b6fd-1394a60053aa",
   "metadata": {},
   "source": [
    "$$(b \\mid (c \\mid a) a^* (b \\mid c))^* (c \\mid a) a^*$$\n",
    "$$b^* (c \\mid a) ((b \\mid c) b^* (c \\mid a))^* a^*$$\n",
    "$$b^* (c \\mid a) (a^* (b \\mid c) b^* (c \\mid a))^*$$\n",
    "$$b^* (c \\mid a) (a^* (b \\mid c) b^* (c \\mid a))^* a^*$$"
   ]
  },
  {
   "cell_type": "markdown",
   "id": "0abc4ca4-0856-415e-9530-2b756b548dae",
   "metadata": {},
   "source": [
    "- [ ] si\n",
    "- [ ] no"
   ]
  },
  {
   "cell_type": "markdown",
   "id": "201cff9e-ecf0-4e57-a79a-898f19d00375",
   "metadata": {},
   "source": [
    "## ER equivalentes"
   ]
  },
  {
   "cell_type": "markdown",
   "id": "a4561d86-9229-4a31-b2bb-1ec6c0f196c1",
   "metadata": {},
   "source": [
    "$(a \\mid b)^3 \\mid b^*$"
   ]
  },
  {
   "cell_type": "code",
   "execution_count": null,
   "id": "5cd0b140-2be1-4700-9c2c-4078f571626f",
   "metadata": {},
   "outputs": [],
   "source": []
  },
  {
   "cell_type": "markdown",
   "id": "22ba104c-d4df-4a24-8930-c5828dc91de3",
   "metadata": {},
   "source": [
    "$(ab)^3 \\mid (ab)^*$"
   ]
  },
  {
   "cell_type": "code",
   "execution_count": null,
   "id": "493b8473-b7a9-4751-86b2-d6fedc7feaf5",
   "metadata": {},
   "outputs": [],
   "source": []
  },
  {
   "cell_type": "markdown",
   "id": "3304d223-da3c-4813-83ee-60d3933f118f",
   "metadata": {},
   "source": [
    "## ER -> L(ER)"
   ]
  },
  {
   "cell_type": "markdown",
   "id": "90d55a47-16b5-44f3-97fd-b0b94fe08cef",
   "metadata": {},
   "source": [
    "$(a \\mid b)^+$"
   ]
  },
  {
   "cell_type": "code",
   "execution_count": null,
   "id": "b18972dd-ddfe-4e91-8533-287e61e70023",
   "metadata": {},
   "outputs": [],
   "source": []
  },
  {
   "cell_type": "markdown",
   "id": "9ad84180-f8c0-4614-9b75-82afa874116e",
   "metadata": {},
   "source": [
    "$a^+ba^+$"
   ]
  },
  {
   "cell_type": "code",
   "execution_count": null,
   "id": "068aa1bd-2ae4-48c7-afec-3ba7ed48c7b2",
   "metadata": {},
   "outputs": [],
   "source": []
  },
  {
   "cell_type": "markdown",
   "id": "6ec1f4f2-afca-4ddd-b7fc-28956611d246",
   "metadata": {},
   "source": [
    "$(ab)^* \\cap a^*b^*$"
   ]
  },
  {
   "cell_type": "code",
   "execution_count": null,
   "id": "5a3e6e60-899b-465b-98bc-c787c65a2802",
   "metadata": {},
   "outputs": [],
   "source": []
  },
  {
   "cell_type": "markdown",
   "id": "bfc1eb8f-8402-4031-93bf-80e18b291344",
   "metadata": {},
   "source": [
    "$(b^*ab^*ab^*)^*$"
   ]
  },
  {
   "cell_type": "code",
   "execution_count": null,
   "id": "8b652e02-a955-4d4b-9e71-ea3a405d2a1c",
   "metadata": {},
   "outputs": [],
   "source": []
  },
  {
   "cell_type": "markdown",
   "id": "d114a278-a3a6-4fe8-a35f-d269780df644",
   "metadata": {},
   "source": [
    "$(0 \\mid 1 \\mid 2)^*11(0 \\mid 1 \\mid 2)^*$"
   ]
  },
  {
   "cell_type": "code",
   "execution_count": null,
   "id": "dba985c8-ce84-4374-a7c5-82495d6944ee",
   "metadata": {},
   "outputs": [],
   "source": []
  },
  {
   "cell_type": "markdown",
   "id": "a18883a2-326d-4da2-959f-4c650d6831b2",
   "metadata": {},
   "source": [
    "$0^*$"
   ]
  },
  {
   "cell_type": "code",
   "execution_count": null,
   "id": "b80409e1-c390-4960-907f-d0d5c4404195",
   "metadata": {},
   "outputs": [],
   "source": []
  },
  {
   "cell_type": "markdown",
   "id": "f7bd201c-af01-48db-931e-4957d2db09cc",
   "metadata": {},
   "source": [
    "$(0 \\mid 1)^*$"
   ]
  },
  {
   "cell_type": "code",
   "execution_count": null,
   "id": "95fa6a43-7eff-4b5b-a09f-bb79a084a2a5",
   "metadata": {},
   "outputs": [],
   "source": []
  },
  {
   "cell_type": "markdown",
   "id": "c5144d7d-6502-4a76-b368-4e04da1eb16a",
   "metadata": {},
   "source": [
    "$(10)^*$"
   ]
  },
  {
   "cell_type": "code",
   "execution_count": null,
   "id": "a131b557-7308-4f9d-a2c7-1608c4a00f59",
   "metadata": {},
   "outputs": [],
   "source": []
  },
  {
   "cell_type": "markdown",
   "id": "f4486ad8-1c13-4cb9-8ebb-6edaf35a29ae",
   "metadata": {},
   "source": [
    "$(0 \\mid 1)^*1(1 \\mid 0)^*$"
   ]
  },
  {
   "cell_type": "code",
   "execution_count": null,
   "id": "b9682ce7-858f-4d71-84f3-87022c2bb415",
   "metadata": {},
   "outputs": [],
   "source": []
  },
  {
   "cell_type": "markdown",
   "id": "3704193c-eefa-4111-be23-fd10f5aaaa30",
   "metadata": {},
   "source": [
    "$(1 \\mid 10)^*$"
   ]
  },
  {
   "cell_type": "code",
   "execution_count": null,
   "id": "1e25ff5a-0261-4afb-9453-6275f6c653a9",
   "metadata": {},
   "outputs": [],
   "source": []
  },
  {
   "cell_type": "markdown",
   "id": "034f0dba-ce6b-4349-96d7-f62fdb155a05",
   "metadata": {},
   "source": [
    "$1(0 \\mid 1)^*1$"
   ]
  },
  {
   "cell_type": "code",
   "execution_count": null,
   "id": "f643949b-be54-4701-b55d-184c2569886a",
   "metadata": {},
   "outputs": [],
   "source": []
  },
  {
   "cell_type": "markdown",
   "id": "f4f17d65-b8b7-40c0-bc8d-3873b5a24632",
   "metadata": {},
   "source": [
    "$1^*01^*01^*$"
   ]
  },
  {
   "cell_type": "code",
   "execution_count": null,
   "id": "5f784616-7b4a-47f4-b2d3-ab44549ec0ef",
   "metadata": {},
   "outputs": [],
   "source": []
  },
  {
   "cell_type": "markdown",
   "id": "22d40230-b59b-4536-978a-3cbc11c8c602",
   "metadata": {},
   "source": [
    "$(0 \\mid 1)^*00(1 \\mid 0)^*$"
   ]
  },
  {
   "cell_type": "code",
   "execution_count": null,
   "id": "8f837e04-0981-4aef-8e61-fb51078f688a",
   "metadata": {},
   "outputs": [],
   "source": []
  },
  {
   "cell_type": "markdown",
   "id": "ab4b99b2-3f9e-4989-90d4-4c1ab173ad64",
   "metadata": {},
   "source": [
    "## ER -> GR"
   ]
  },
  {
   "cell_type": "markdown",
   "id": "72763e9c-27f6-45d9-89fd-4ead7cb3dbd8",
   "metadata": {},
   "source": [
    "$baa^* \\mid c^* (a \\mid b)$"
   ]
  },
  {
   "cell_type": "code",
   "execution_count": null,
   "id": "5d7eac9d-063b-4605-a142-b73d9eed1fdc",
   "metadata": {},
   "outputs": [],
   "source": []
  },
  {
   "cell_type": "markdown",
   "id": "c6d48e39-279e-43fe-a6c8-b9641374684e",
   "metadata": {},
   "source": [
    "$ba^* \\mid c^* (a \\mid b)$"
   ]
  },
  {
   "cell_type": "code",
   "execution_count": null,
   "id": "9be9f44a-f4a1-43f1-b23e-20b1c8d2a24a",
   "metadata": {},
   "outputs": [],
   "source": []
  },
  {
   "cell_type": "markdown",
   "id": "85d4e140-dd6e-4f08-8c77-37d337b50954",
   "metadata": {},
   "source": [
    "$(1 \\mid 2)^*3$"
   ]
  },
  {
   "cell_type": "code",
   "execution_count": null,
   "id": "b5bdf50b-7a6b-416b-b55d-86ce7eb00c8b",
   "metadata": {},
   "outputs": [],
   "source": []
  },
  {
   "cell_type": "markdown",
   "id": "02c6a8a6-1f76-453d-9642-a6429ee68e91",
   "metadata": {},
   "source": [
    "## GR -> ER"
   ]
  },
  {
   "cell_type": "markdown",
   "id": "3c839b0e-d145-4d27-9fcf-ddacc641c0af",
   "metadata": {},
   "source": [
    "$$S \\rightarrow 1A$$\n",
    "$$S \\rightarrow 0$$\n",
    "$$A \\rightarrow 0S$$\n",
    "$$A \\rightarrow 1$$"
   ]
  },
  {
   "cell_type": "code",
   "execution_count": null,
   "id": "725b8328-eadf-4bcc-917b-87fed0dc40fa",
   "metadata": {},
   "outputs": [],
   "source": []
  },
  {
   "cell_type": "markdown",
   "id": "48381253-3cd6-4122-8116-e5cfd7ee9111",
   "metadata": {},
   "source": [
    "## Simplificar ERs"
   ]
  },
  {
   "cell_type": "markdown",
   "id": "1eb437a9-6939-4401-a7f0-287adb9b1cc6",
   "metadata": {},
   "source": [
    "$(a \\mid \\lambda) a^* b$"
   ]
  },
  {
   "cell_type": "code",
   "execution_count": null,
   "id": "952558be-2a81-431a-8100-6fd34220a3ea",
   "metadata": {},
   "outputs": [],
   "source": []
  },
  {
   "cell_type": "markdown",
   "id": "6f609d71-fbb0-4776-b930-e9bd0620a9b5",
   "metadata": {},
   "source": [
    "$(\\lambda \\mid aa) (\\lambda \\mid aa)^* a \\mid a$"
   ]
  },
  {
   "cell_type": "code",
   "execution_count": null,
   "id": "1363148a-9b02-4dc7-98ec-3f616d7dff18",
   "metadata": {},
   "outputs": [],
   "source": []
  },
  {
   "cell_type": "markdown",
   "id": "a1cb6acf-324f-43db-97de-8a53d6592302",
   "metadata": {},
   "source": [
    "$(\\lambda \\mid aa) (\\lambda \\mid aa)^* (ab \\mid b) \\mid (ab \\mid b)$"
   ]
  },
  {
   "cell_type": "code",
   "execution_count": null,
   "id": "8977957e-1c3f-4102-bf35-78626c5edd90",
   "metadata": {},
   "outputs": [],
   "source": []
  },
  {
   "cell_type": "markdown",
   "id": "18a20496-dfa1-4ce0-8467-24fb3a0a808b",
   "metadata": {},
   "source": [
    "$(a \\mid b) (\\lambda \\mid aa)^* (\\lambda \\mid aa) \\mid (a \\mid b)$"
   ]
  },
  {
   "cell_type": "code",
   "execution_count": null,
   "id": "6bf9e12e-9476-4aa0-a3e5-69882153de58",
   "metadata": {},
   "outputs": [],
   "source": []
  },
  {
   "cell_type": "markdown",
   "id": "acd88541-2b73-4f68-bc9c-d7857320c90f",
   "metadata": {},
   "source": [
    "$abbaacc \\mid abbbac \\mid abbacccacc$"
   ]
  },
  {
   "cell_type": "code",
   "execution_count": null,
   "id": "d3cbb96a-7f13-451c-bb09-08b96b29d7c8",
   "metadata": {},
   "outputs": [],
   "source": []
  },
  {
   "cell_type": "markdown",
   "id": "0d160cf2-dbf2-4639-ba3e-2075539b7581",
   "metadata": {},
   "source": [
    "## ERs según operaciones"
   ]
  },
  {
   "cell_type": "markdown",
   "id": "aff799b0-14b9-4daa-a067-e994d56c290b",
   "metadata": {},
   "source": [
    "Dados dos LRs representados, respectivamente, por las ERs $(a \\mid b)^*a^*$ y $a^{24}b$, escriba dos ERs que representen a la unión de los dos LRs. Escriba cinco palabras del LR \"unión\""
   ]
  },
  {
   "cell_type": "code",
   "execution_count": null,
   "id": "3156b120-5492-4dd1-841d-0027028ef551",
   "metadata": {},
   "outputs": [],
   "source": []
  },
  {
   "cell_type": "markdown",
   "id": "5a0992cf-bfcb-4876-a1b4-0f0a55af14d5",
   "metadata": {},
   "source": [
    "Sean los LRs representados por las ERs $a^*bc$ y $b(a \\mid b)^*$. Escriba la ER que representa a la concatenación de estos dos LRs. Escriba las cinco palabras de menor longitud del LR concatenación"
   ]
  },
  {
   "cell_type": "code",
   "execution_count": null,
   "id": "34c3a188-366d-4cf9-8912-b8da996cd6d8",
   "metadata": {},
   "outputs": [],
   "source": []
  },
  {
   "cell_type": "markdown",
   "id": "81a9a32c-4efb-4d19-9235-92b6028d8121",
   "metadata": {},
   "source": [
    "Si $L$ es representado por la ER $a^*b$, $L^*$ es representado por la ER $(a^*b)^*$. Escriba cuatro palabras del $L^*$"
   ]
  },
  {
   "cell_type": "code",
   "execution_count": null,
   "id": "baa4f4a7-ade0-448b-bb36-158bf487d695",
   "metadata": {},
   "outputs": [],
   "source": []
  },
  {
   "cell_type": "markdown",
   "id": "b939c493-3195-4707-8bf2-d4ec389b7445",
   "metadata": {},
   "source": [
    "Sea el LR $L$ representado por la ER $ab^+$. Escriba la ER de $L^*$. Escriba las cinco palabras de menor longitud de $L^*$"
   ]
  },
  {
   "cell_type": "code",
   "execution_count": null,
   "id": "d366270a-cb14-4ebb-ac65-626d31d4688f",
   "metadata": {},
   "outputs": [],
   "source": []
  },
  {
   "cell_type": "markdown",
   "id": "cc8f3731-3ce0-43cc-bb2d-d3b4338bf387",
   "metadata": {},
   "source": [
    "Sea $L = \\{a^nbc^t / n,t >= 1\\}$. Escriba la ER que representa a $L^+$. Escriba las cinco palabras de menor longitud de $L^+$"
   ]
  },
  {
   "cell_type": "code",
   "execution_count": null,
   "id": "9c9fdd8d-b650-453c-85bf-c3877c70bbc0",
   "metadata": {},
   "outputs": [],
   "source": []
  },
  {
   "cell_type": "markdown",
   "id": "2b4c48e2-23e3-418a-9076-1ef2f1a81354",
   "metadata": {},
   "source": [
    "Sea el LR representado por la ER $b(a \\mid b \\mid c)^*$. Escriba las cinco palabras de menor longitud de $\\bar L$"
   ]
  },
  {
   "cell_type": "code",
   "execution_count": null,
   "id": "353bc2f4-f184-4d93-ab18-715034b788f4",
   "metadata": {},
   "outputs": [],
   "source": []
  },
  {
   "cell_type": "markdown",
   "id": "f20c8a11-a328-4767-ac95-f934327fe012",
   "metadata": {},
   "source": [
    "Sea el $\\Sigma = \\{a, b\\}$. Sea $L_1$ representado por la ER $aa(a \\mid b)^*b$ y sea $L_2$ representado por la ER $(a \\mid b)^*ab$. Escriba la ER que representa al lenguaje $L_1 \\cap L_2$. Justifique su solución"
   ]
  },
  {
   "cell_type": "code",
   "execution_count": null,
   "id": "f0a0d155-7a83-490c-9fe2-1272b11af312",
   "metadata": {},
   "outputs": [],
   "source": []
  }
 ],
 "metadata": {
  "kernelspec": {
   "display_name": "Python [conda env:base] *",
   "language": "python",
   "name": "conda-base-py"
  },
  "language_info": {
   "codemirror_mode": {
    "name": "ipython",
    "version": 3
   },
   "file_extension": ".py",
   "mimetype": "text/x-python",
   "name": "python",
   "nbconvert_exporter": "python",
   "pygments_lexer": "ipython3",
   "version": "3.12.7"
  }
 },
 "nbformat": 4,
 "nbformat_minor": 5
}
