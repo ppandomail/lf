{
 "cells": [
  {
   "cell_type": "markdown",
   "id": "da49fa4c-2f06-42b6-b44e-9ca2270ac61e",
   "metadata": {},
   "source": [
    "TP GR\n",
    "---"
   ]
  },
  {
   "cell_type": "markdown",
   "id": "1dbd0b3a-9e0a-4590-8343-70cd8c58ad6c",
   "metadata": {},
   "source": [
    "## Diseño GR"
   ]
  },
  {
   "cell_type": "markdown",
   "id": "400851bc-7acc-4777-ad16-989071cb777a",
   "metadata": {},
   "source": [
    "$L = \\{a^nb / 1 ≤ n ≤ 3\\}$"
   ]
  },
  {
   "cell_type": "code",
   "execution_count": null,
   "id": "d42793ed-0cc6-4239-ba6d-374e9f4d5895",
   "metadata": {},
   "outputs": [],
   "source": []
  },
  {
   "cell_type": "markdown",
   "id": "01971753-8ee8-450d-8ad4-d3df4770371c",
   "metadata": {},
   "source": [
    "$L = \\{a^nb^n / 0 ≤ n ≤ 2\\}$"
   ]
  },
  {
   "cell_type": "code",
   "execution_count": null,
   "id": "d3ffa8e2-86d3-4147-ad89-edfe11918660",
   "metadata": {},
   "outputs": [],
   "source": []
  },
  {
   "cell_type": "markdown",
   "id": "d78c685f-c19f-48e1-bc2f-7fd1f06e617d",
   "metadata": {},
   "source": [
    "$L = \\{a^nb^n / 1 ≤ n ≤ 3\\}$"
   ]
  },
  {
   "cell_type": "code",
   "execution_count": null,
   "id": "073ce188-4c40-462b-b69e-7aa289ebd4b8",
   "metadata": {},
   "outputs": [],
   "source": []
  },
  {
   "cell_type": "markdown",
   "id": "50b33afc-5a4b-4e4f-8a20-3852f26d0114",
   "metadata": {},
   "source": [
    "$L = \\{a^nb^t / 1 ≤ n, 1 ≤ t\\}$"
   ]
  },
  {
   "cell_type": "code",
   "execution_count": null,
   "id": "40ab3765-1ede-46fb-992c-0bdbdca3d682",
   "metadata": {},
   "outputs": [],
   "source": []
  },
  {
   "cell_type": "markdown",
   "id": "ead083ed-1246-49dd-ad54-016797a3ebca",
   "metadata": {},
   "source": [
    "$L = \\{(ab)^n(cde)^ta^z/ 1 ≤ n, 1 ≤ t, 0 ≤ z\\}$"
   ]
  },
  {
   "cell_type": "code",
   "execution_count": null,
   "id": "536c7b1d-0486-4356-adf2-3b6a2d4d9e14",
   "metadata": {},
   "outputs": [],
   "source": []
  },
  {
   "cell_type": "markdown",
   "id": "e1afc991-1c61-49fe-a5b8-21d03dbc1c9b",
   "metadata": {},
   "source": [
    "$L = \\{$cualquier secuencia de uno o más dígitos decimales$\\}$"
   ]
  },
  {
   "cell_type": "code",
   "execution_count": null,
   "id": "bf85fbe7-db70-4290-95d5-959f555f7759",
   "metadata": {},
   "outputs": [],
   "source": []
  },
  {
   "cell_type": "markdown",
   "id": "4a3dee90-5439-4685-85ff-e3db28d6a0fe",
   "metadata": {},
   "source": [
    "$L = \\{$cadenas que no contengan la secuencia $bc\\}$ con $\\Sigma = \\{a, b, c, d\\}$"
   ]
  },
  {
   "cell_type": "code",
   "execution_count": null,
   "id": "850adc70-df45-4a73-a885-6ce42f7d5851",
   "metadata": {},
   "outputs": [],
   "source": []
  },
  {
   "cell_type": "markdown",
   "id": "76b1c559-276d-4b0b-baf9-d802337a9d4a",
   "metadata": {},
   "source": [
    "$L = \\{$todas las palabras formadas por una o más aes$\\}$"
   ]
  },
  {
   "cell_type": "code",
   "execution_count": null,
   "id": "5fb95b08-a52b-41b7-acf0-014831d01136",
   "metadata": {},
   "outputs": [],
   "source": []
  },
  {
   "cell_type": "markdown",
   "id": "e8ac4ed4-89f6-4452-a55f-cee589cc0f26",
   "metadata": {},
   "source": [
    "$L = \\{$todos los números binarios que comienzan con una cantidad impar de 1s que es seguida por un 0 como último símbolo$\\}$"
   ]
  },
  {
   "cell_type": "code",
   "execution_count": null,
   "id": "aec10137-61ed-4f55-b78e-a977a6ccd4fd",
   "metadata": {},
   "outputs": [],
   "source": []
  },
  {
   "cell_type": "markdown",
   "id": "9f3e26b8-23c6-41c6-892f-8a33d2827c9d",
   "metadata": {},
   "source": [
    "## $w$ más corta"
   ]
  },
  {
   "cell_type": "markdown",
   "id": "f17d48ad-f933-4fdf-bc67-507c56c7baf7",
   "metadata": {},
   "source": [
    "GR: $\\{S \\rightarrow aS, S \\rightarrow aT, T \\rightarrow b \\}$. Muestre cómo la genera"
   ]
  },
  {
   "cell_type": "code",
   "execution_count": null,
   "id": "c381cc97-2066-4eae-b701-f2ef9e12aee6",
   "metadata": {},
   "outputs": [],
   "source": []
  },
  {
   "cell_type": "markdown",
   "id": "133b0973-0f31-41b9-bd97-3e62606b52ae",
   "metadata": {},
   "source": [
    "## Diseño GQR"
   ]
  },
  {
   "cell_type": "markdown",
   "id": "14da6cec-2260-4418-bd70-191c486a6d0f",
   "metadata": {},
   "source": [
    "$L = \\{$cualquier secuencia de uno o más dígitos decimales$\\}$"
   ]
  },
  {
   "cell_type": "code",
   "execution_count": null,
   "id": "aa27328b-12e5-407a-bd31-3374577c274f",
   "metadata": {},
   "outputs": [],
   "source": []
  },
  {
   "cell_type": "markdown",
   "id": "2872454e-0bf6-414a-8929-7314f9327f86",
   "metadata": {},
   "source": [
    "$L = \\{$cualquier secuencia de tres o más dígitos octales (en base 8)$\\}$"
   ]
  },
  {
   "cell_type": "code",
   "execution_count": null,
   "id": "c24ed861-7284-4f1c-8a42-ab81315ad0ba",
   "metadata": {},
   "outputs": [],
   "source": []
  },
  {
   "cell_type": "markdown",
   "id": "d0bd6a92-2ab9-4cfd-8316-f9cd796e39a2",
   "metadata": {},
   "source": [
    "## Derivación"
   ]
  },
  {
   "cell_type": "markdown",
   "id": "dcaf9b8d-48c1-44f0-bb5a-4c8425a9298f",
   "metadata": {},
   "source": [
    "Dada la GQR <$\\{S \\rightarrow L, S \\rightarrow SL, S \\rightarrow SD, L \\rightarrow a, L \\rightarrow b, L \\rightarrow c, L \\rightarrow d, D \\rightarrow 2, D \\rightarrow 3, D \\rightarrow 4, D \\rightarrow 5, D \\rightarrow 6\\}$>. Determine si las siguientes palabras son válidas: $ab23$, $2a3b$. Verifiquelo aplicando derivación a izquierda y derivación a derecha"
   ]
  },
  {
   "cell_type": "code",
   "execution_count": null,
   "id": "e4e37183-2d49-4978-939f-d0a10711fdae",
   "metadata": {},
   "outputs": [],
   "source": []
  },
  {
   "cell_type": "markdown",
   "id": "b0b7676f-31e5-4d3f-a13e-03c0d1d02c70",
   "metadata": {},
   "source": [
    "Obtener las derivaciones de las palabras $002$ y $0001$ a partir de la siguiente gramática: G = <$\\{0, 1, 2\\}$, $\\{A, B\\}$, $A$, $\\{A \\rightarrow 0B, A \\rightarrow 2, B \\rightarrow 0A, B \\rightarrow 1\\}$>. Describir el árbol de derivación y obtener el lenguaje que genera"
   ]
  },
  {
   "cell_type": "code",
   "execution_count": null,
   "id": "64860c0c-1278-45d3-a71d-108938960e86",
   "metadata": {},
   "outputs": [],
   "source": []
  },
  {
   "cell_type": "markdown",
   "id": "0325ea1f-2ace-4800-8277-6852db8b57a1",
   "metadata": {},
   "source": [
    "## L(GR)"
   ]
  },
  {
   "cell_type": "markdown",
   "id": "59821643-b9c4-4b67-908f-c8669b0ec4ae",
   "metadata": {},
   "source": [
    "Obtener el LR que genera la siguiente G = <$\\Sigma_T, \\Sigma_N, S, P$>, donde $\\Sigma_T = \\{0, 1\\}, \\Sigma_N = \\{S\\}$, $S$ es el axioma y $P = \\{S \\rightarrow 0S, S \\rightarrow 1S, S \\rightarrow \\lambda \\}$"
   ]
  },
  {
   "cell_type": "code",
   "execution_count": null,
   "id": "ec113d58-36d9-4d6a-8e5c-56ae0413572c",
   "metadata": {},
   "outputs": [],
   "source": []
  },
  {
   "cell_type": "markdown",
   "id": "491f9b2e-0e96-4c93-bd4c-c570c26f185a",
   "metadata": {},
   "source": [
    "Para cada una de las siguientes GR determine el lenguaje que genera:\n",
    "1. $S \\rightarrow 1B$    $S  \\rightarrow 1$    $A \\rightarrow 1B$    $A \\rightarrow 1$    $B \\rightarrow 0A$\n",
    "1. $S \\rightarrow aA$    $A \\rightarrow bB$    $B \\rightarrow aA$    $B \\rightarrow aC$   $C \\rightarrow aD$    $C \\rightarrow a$    $D \\rightarrow aD$    $D \\rightarrow a$\n",
    "1. $S \\rightarrow aA$    $A \\rightarrow bB$    $B \\rightarrow bB$    $B \\rightarrow c$    $B \\rightarrow cC$    $C \\rightarrow cC$   $C \\rightarrow c$\n",
    "1. $S \\rightarrow aA$    $A \\rightarrow aB$    $B \\rightarrow aA$    $B \\rightarrow b$    $B \\rightarrow bC$    $C \\rightarrow bC$   $C \\rightarrow b$"
   ]
  },
  {
   "cell_type": "code",
   "execution_count": null,
   "id": "b8132aa4-83b1-43c3-9400-34dc523413c6",
   "metadata": {},
   "outputs": [],
   "source": []
  },
  {
   "cell_type": "markdown",
   "id": "80128f20-d55e-42ac-92ba-3297d77cbbcf",
   "metadata": {},
   "source": [
    "## GR equivalentes"
   ]
  },
  {
   "cell_type": "markdown",
   "id": "e76fbaa1-b8e2-4864-9727-1357e6b9deba",
   "metadata": {},
   "source": [
    "Dada una GLD obtener una GLI equivalente:\n",
    "$$A \\rightarrow 1B \\mid \\lambda$$\n",
    "$$B \\rightarrow 0A \\mid 0$$"
   ]
  },
  {
   "cell_type": "code",
   "execution_count": null,
   "id": "d887c48b-1ff9-49d1-a7ae-e156e2495416",
   "metadata": {},
   "outputs": [],
   "source": []
  },
  {
   "cell_type": "markdown",
   "id": "2f99ebe1-a93a-445f-91e8-9934b158e0ac",
   "metadata": {},
   "source": [
    "Dada una GLI, obtener una GLD equivalente:\n",
    "$$S \\rightarrow A1 \\mid 1$$\n",
    "$$A \\rightarrow S0$$"
   ]
  },
  {
   "cell_type": "code",
   "execution_count": null,
   "id": "7a77e415-c6e1-4006-b71d-e793e24da41c",
   "metadata": {},
   "outputs": [],
   "source": []
  }
 ],
 "metadata": {
  "kernelspec": {
   "display_name": "Python [conda env:base] *",
   "language": "python",
   "name": "conda-base-py"
  },
  "language_info": {
   "codemirror_mode": {
    "name": "ipython",
    "version": 3
   },
   "file_extension": ".py",
   "mimetype": "text/x-python",
   "name": "python",
   "nbconvert_exporter": "python",
   "pygments_lexer": "ipython3",
   "version": "3.12.7"
  }
 },
 "nbformat": 4,
 "nbformat_minor": 5
}
