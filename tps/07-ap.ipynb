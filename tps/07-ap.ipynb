{
 "cells": [
  {
   "cell_type": "markdown",
   "id": "478c38ef-e8ac-4b9c-bad2-e04f57fbe527",
   "metadata": {},
   "source": [
    "# TP AP\n",
    "---"
   ]
  },
  {
   "cell_type": "markdown",
   "id": "3dbe3ada-1611-40ff-9f4b-254cd3355351",
   "metadata": {},
   "source": [
    "## Conceptuales"
   ]
  },
  {
   "cell_type": "markdown",
   "id": "8d075e57-d019-4693-8481-72ff5787eb82",
   "metadata": {},
   "source": [
    "Investigue y justifique $L = \\{a^nb^n / n ≥ 1\\}$ no es un LR. Demuestre que las producciones de la siguiente gramática generan al lenguaje $L: S \\rightarrow aSb \\mid ab$"
   ]
  },
  {
   "cell_type": "code",
   "execution_count": null,
   "id": "b41f17b0-3fca-41fe-98f2-ecaa310304b1",
   "metadata": {},
   "outputs": [],
   "source": []
  },
  {
   "cell_type": "markdown",
   "id": "ecfe5076-5341-4869-848c-c511f848b701",
   "metadata": {},
   "source": [
    "Sea la transición $\\delta(4, \\lambda, Z) = (5, RP)$. Describa qué significa"
   ]
  },
  {
   "cell_type": "code",
   "execution_count": null,
   "id": "1381a0dc-23e6-460d-aabe-17faf116da5c",
   "metadata": {},
   "outputs": [],
   "source": []
  },
  {
   "cell_type": "markdown",
   "id": "6c0bbdf1-1a59-4fd7-8959-46242d62c026",
   "metadata": {},
   "source": [
    "## AP por pila vacia"
   ]
  },
  {
   "cell_type": "markdown",
   "id": "10557695-7096-4151-88f8-8e0c9ef6fc9d",
   "metadata": {},
   "source": [
    "$\\{a^nb^n / n ≥ 1\\}$. Describa el trabajo del AP anterior para reconocer la palabra $aaabbb$ y no reconocer las palabras: $aabbb, aaabb, aabba$ y $\\lambda$"
   ]
  },
  {
   "cell_type": "code",
   "execution_count": null,
   "id": "5e9afa62-4178-4706-bf33-c72b0d380683",
   "metadata": {},
   "outputs": [],
   "source": []
  },
  {
   "cell_type": "markdown",
   "id": "8a8bf703-2c34-4eb7-9846-2068ffda3f70",
   "metadata": {},
   "source": [
    "## AP que reconoce el LIC definido simbólicamente"
   ]
  },
  {
   "cell_type": "markdown",
   "id": "a220c5e0-5f8b-4386-8852-e16749c5f621",
   "metadata": {},
   "source": [
    "$\\{a^nb^{n+1} / n ≥ 1\\}$"
   ]
  },
  {
   "cell_type": "code",
   "execution_count": null,
   "id": "cd52b34e-a731-49d0-a138-f43fd8c35c48",
   "metadata": {},
   "outputs": [],
   "source": []
  },
  {
   "cell_type": "markdown",
   "id": "40e75e5b-b268-47fe-9532-1ca06bc4d387",
   "metadata": {},
   "source": [
    "$\\{a^{n+1}b^n / n ≥ 1\\}$"
   ]
  },
  {
   "cell_type": "code",
   "execution_count": null,
   "id": "5b6ae83c-afdd-47eb-bc9a-b71b35b5bb4e",
   "metadata": {},
   "outputs": [],
   "source": []
  },
  {
   "cell_type": "markdown",
   "id": "a77959b7-18eb-4583-853b-96274c20ff81",
   "metadata": {},
   "source": [
    "$\\{xyxy^nzy^{2n+1} / n ≥ 0\\}$"
   ]
  },
  {
   "cell_type": "code",
   "execution_count": null,
   "id": "6cc48feb-d4a3-40db-a3a6-1c3023249bcc",
   "metadata": {},
   "outputs": [],
   "source": []
  },
  {
   "cell_type": "markdown",
   "id": "8f9200e3-009d-4870-a641-1e2f3d90238a",
   "metadata": {},
   "source": [
    "$\\{a^nb^{2n}a^t/ n ≥ 1, t ≥ 0\\}$"
   ]
  },
  {
   "cell_type": "code",
   "execution_count": null,
   "id": "7126a538-531e-44e5-869f-f610f4b07cb1",
   "metadata": {},
   "outputs": [],
   "source": []
  },
  {
   "cell_type": "markdown",
   "id": "6beec5e5-6c7e-4e5b-866b-59e5ba1d25fc",
   "metadata": {},
   "source": [
    "$\\{a^nb^mc^{m+n} / m, n ≥ 0\\}$"
   ]
  },
  {
   "cell_type": "code",
   "execution_count": null,
   "id": "108f653a-a2f0-4bb4-a18b-95e27f82c271",
   "metadata": {},
   "outputs": [],
   "source": []
  },
  {
   "cell_type": "markdown",
   "id": "5b840111-3a2a-447b-b24b-f482e15e4391",
   "metadata": {},
   "source": [
    "$\\{a^nb^mc^pa^qb^n / q = p + m, n, m ≥ 1, p ≥ 0\\}$"
   ]
  },
  {
   "cell_type": "code",
   "execution_count": null,
   "id": "9d3dd2f7-7a43-48f2-9fba-3c098448ed19",
   "metadata": {},
   "outputs": [],
   "source": []
  },
  {
   "cell_type": "markdown",
   "id": "9be0eac0-6de7-43ce-8eb1-9bb96819e10e",
   "metadata": {},
   "source": [
    "$\\{a^nb^mc^pa^qb^rc^s / q = p + m, 2n = r + s, n, m ≥ 1, p ≥ 0\\}$"
   ]
  },
  {
   "cell_type": "code",
   "execution_count": null,
   "id": "975f2eb3-a1c0-4e1e-837c-425a77ecf8ce",
   "metadata": {},
   "outputs": [],
   "source": []
  },
  {
   "cell_type": "markdown",
   "id": "d951269d-83b5-4dfd-8691-6e24bb3831be",
   "metadata": {},
   "source": [
    "$\\{wa^rb^rw^{-1} / w \\in \\{a, b\\}^*, r ≥ 1\\}$"
   ]
  },
  {
   "cell_type": "code",
   "execution_count": null,
   "id": "c9d5dd92-150c-420c-b5c7-7298f5ceeb61",
   "metadata": {},
   "outputs": [],
   "source": []
  },
  {
   "cell_type": "markdown",
   "id": "5d8ed238-fb64-4758-89ed-c2db4439bfc8",
   "metadata": {},
   "source": [
    "$\\{(ab)^{2s+1} c^j d^n e^{t+2n} / s, t, n ≥ 0 \\wedge j > t\\} \\cup \\{(ab)^{h+1} d^{2k} e^{k+i} / h, i ≥ 0; k ≥ 1\\}$"
   ]
  },
  {
   "cell_type": "code",
   "execution_count": null,
   "id": "c737befd-fe38-4016-a42a-a5d835cfcde6",
   "metadata": {},
   "outputs": [],
   "source": []
  },
  {
   "cell_type": "markdown",
   "id": "5077c7f2-f739-43d1-a5d4-182a9b08d0af",
   "metadata": {},
   "source": [
    "$\\{a^{2k} b^{2n} c^k d^j / k, n, j ≥ 0\\}$"
   ]
  },
  {
   "cell_type": "code",
   "execution_count": null,
   "id": "3b3c3584-b016-4f4d-a7b1-58ec4c912374",
   "metadata": {},
   "outputs": [],
   "source": []
  },
  {
   "cell_type": "markdown",
   "id": "963075be-5d20-4313-8017-f7098a25eb5e",
   "metadata": {},
   "source": [
    "$\\{x^ry^sz^t / t = r+s \\wedge r, s ≥ 1\\}$"
   ]
  },
  {
   "cell_type": "code",
   "execution_count": null,
   "id": "2aba55e0-8c4a-42da-991e-edbe7605684b",
   "metadata": {},
   "outputs": [],
   "source": []
  },
  {
   "cell_type": "markdown",
   "id": "58f9c7aa-57ce-426d-95ed-b651051ac3b9",
   "metadata": {},
   "source": [
    "$\\{x^r y^s z^t / s = r+t \\wedge r, s ≥ 1\\}$"
   ]
  },
  {
   "cell_type": "code",
   "execution_count": null,
   "id": "05767ff3-6b89-494a-aa5d-825ed7548e4c",
   "metadata": {},
   "outputs": [],
   "source": []
  },
  {
   "cell_type": "markdown",
   "id": "ab2eae5c-467d-4d2e-aa67-a4d3c3043b48",
   "metadata": {},
   "source": [
    "$\\{a b^{3n} cd^{3n} e / n ≥ 1\\}$"
   ]
  },
  {
   "cell_type": "code",
   "execution_count": null,
   "id": "02b9dc9a-58b5-4a9d-894b-7507b87a28d9",
   "metadata": {},
   "outputs": [],
   "source": []
  },
  {
   "cell_type": "markdown",
   "id": "1ca7b359-89f9-4483-a688-4fac2be8d509",
   "metadata": {},
   "source": [
    "$\\{1^n 0^k / n ≥ 0 \\wedge k = 3n\\}$"
   ]
  },
  {
   "cell_type": "code",
   "execution_count": null,
   "id": "8718fe5d-e879-4f5d-a225-3b33bc72a7d2",
   "metadata": {},
   "outputs": [],
   "source": []
  },
  {
   "cell_type": "markdown",
   "id": "346a9675-a6bc-4a3f-9016-8a653a9c7a9f",
   "metadata": {},
   "source": [
    "## AP que reconoce el LIC definido coloquialmente"
   ]
  },
  {
   "cell_type": "markdown",
   "id": "fae05d7d-4a5e-4acb-9cd6-d2aa551e700c",
   "metadata": {},
   "source": [
    "Sea el lenguaje de todas las palabras sobre el $\\Sigma = \\{a, b\\}$ en las que la cantidad de aes es igual a la cantidad de bes, como $ab, abba, bababaab, ...$"
   ]
  },
  {
   "cell_type": "code",
   "execution_count": null,
   "id": "510f7385-07fe-49f9-a7af-707fa3fc87b7",
   "metadata": {},
   "outputs": [],
   "source": []
  },
  {
   "cell_type": "markdown",
   "id": "cfa2ce52-04f2-4b7d-8256-40c253422afc",
   "metadata": {},
   "source": [
    "LIC de todas las expresiones aritméticas cuyo único operando es $4$, los operadores son $+$ (suma) y $*$ (producto), y puede haber paréntesis. Algunos casos correctos de estas expresiones son: $4, 4*(4+4), 4+4+4*4+((4)), ...$"
   ]
  },
  {
   "cell_type": "code",
   "execution_count": null,
   "id": "d2d0f71b-e48e-44f6-a996-dbceea253e17",
   "metadata": {},
   "outputs": [],
   "source": []
  },
  {
   "cell_type": "markdown",
   "id": "cf3e3c5c-7f7c-4f33-bd55-cba57ba048d3",
   "metadata": {},
   "source": [
    "Un lenguaje de programación tipo Pascal estructura los programas en forma anidada. La estructura de anidamientos está determinada por las siguientes palabras claves y símbolos:\n",
    "* $if$ ... $fi$ (condicional)\n",
    "* $do$ ... $od$ (iteración)\n",
    "* $begin$ ... $end$ (secuencia)\n",
    "* ( ... ) (expresiones)\n",
    "* Por ejemplo, la siguiente palabra es válida: begin if () do () begin end od fi do () begin end od end"
   ]
  },
  {
   "cell_type": "code",
   "execution_count": null,
   "id": "dbea8b49-9aeb-42b4-b7dc-cf1930c6816e",
   "metadata": {},
   "outputs": [],
   "source": []
  },
  {
   "cell_type": "markdown",
   "id": "cd6bd9ac-97be-4467-83c7-c9db281f7834",
   "metadata": {},
   "source": [
    "## AP (estado final y vaciado de pila) que reconoce el LIC generado por la GIC"
   ]
  },
  {
   "cell_type": "markdown",
   "id": "9ef151f5-4e49-4e37-b87d-1a92f290741c",
   "metadata": {},
   "source": [
    "$$S \\rightarrow \\lambda \\mid A$$\n",
    "$$A \\rightarrow aAb \\mid bAa \\mid ab \\mid ba$$"
   ]
  },
  {
   "cell_type": "code",
   "execution_count": null,
   "id": "7c69202e-06d9-43d4-8970-02d33cb59f3a",
   "metadata": {},
   "outputs": [],
   "source": []
  },
  {
   "cell_type": "markdown",
   "id": "535217c7-4814-462c-8084-5e5f7b296a85",
   "metadata": {},
   "source": [
    "$$S \\rightarrow xAy \\mid xByy \\mid xy \\mid xyy \\mid \\lambda$$\n",
    "$$A \\rightarrow xAy \\mid xy$$\n",
    "$$B \\rightarrow xByy \\mid xyy$$"
   ]
  },
  {
   "cell_type": "code",
   "execution_count": null,
   "id": "330a7b44-6a88-4d0c-baf7-aa830869a0cf",
   "metadata": {},
   "outputs": [],
   "source": []
  },
  {
   "cell_type": "markdown",
   "id": "e94832ce-b9cc-43e1-a3f2-e7098896ee20",
   "metadata": {},
   "source": [
    "$$S \\rightarrow CB \\mid BC \\mid 0C1 \\mid 1C0 \\mid 0$$\n",
    "$$C \\rightarrow 0C1 \\mid 1C0 \\mid 0$$\n",
    "$$B \\rightarrow 0B1 \\mid 1B0 \\mid 01 \\mid 10$$"
   ]
  },
  {
   "cell_type": "code",
   "execution_count": null,
   "id": "d9a22e95-d6e0-4b1e-b63d-1bf118369a9c",
   "metadata": {},
   "outputs": [],
   "source": []
  },
  {
   "cell_type": "markdown",
   "id": "cbb378ca-1666-4ffb-84e9-7db40d8d9c77",
   "metadata": {},
   "source": [
    "$$S \\rightarrow aabS \\mid baaS \\mid abaS \\mid aaSb \\mid baSa \\mid abSa \\mid aSab \\mid bSaa \\mid aSba \\mid Saab \\mid Sbaa \\mid Saba \\mid \\lambda$$"
   ]
  },
  {
   "cell_type": "code",
   "execution_count": null,
   "id": "cea6e856-21ae-48bb-b780-7d4235950f6a",
   "metadata": {},
   "outputs": [],
   "source": []
  },
  {
   "cell_type": "markdown",
   "id": "4db77fe2-50bd-4c82-b952-4ad6d9f0ea36",
   "metadata": {},
   "source": [
    "$$S \\rightarrow 0A1 \\mid 0$$\n",
    "$$A \\rightarrow 0A1 \\mid 0B \\mid 0$$\n",
    "$$B \\rightarrow 0B \\mid 0$$"
   ]
  },
  {
   "cell_type": "code",
   "execution_count": null,
   "id": "efe9e252-73f2-426f-9077-a5648b1e4d9b",
   "metadata": {},
   "outputs": [],
   "source": []
  },
  {
   "cell_type": "markdown",
   "id": "1828fc85-b296-495a-b7a2-519dfac952a5",
   "metadata": {},
   "source": [
    "$$S \\rightarrow  uAvv \\mid uuAv \\mid uvv \\mid uuv$$\n",
    "$$A \\rightarrow  uuA \\mid Avv \\mid uu \\mid vv$$ "
   ]
  },
  {
   "cell_type": "code",
   "execution_count": null,
   "id": "213e5ba3-43fa-46aa-8743-c5985d4163b3",
   "metadata": {},
   "outputs": [],
   "source": []
  },
  {
   "cell_type": "markdown",
   "id": "beb7858c-53c7-47b6-a4b2-9986af935c8d",
   "metadata": {},
   "source": [
    "$$S \\rightarrow AaB \\mid AaC$$\n",
    "$$A \\rightarrow Ab \\mid Ac \\mid b \\mid c$$\n",
    "$$B \\rightarrow BdC \\mid 0$$\n",
    "$$C \\rightarrow CeB \\mid 1$$ "
   ]
  },
  {
   "cell_type": "code",
   "execution_count": null,
   "id": "fa3031a1-c1a3-49b7-aa16-be13c7f97f34",
   "metadata": {},
   "outputs": [],
   "source": []
  },
  {
   "cell_type": "markdown",
   "id": "25f50127-41d0-4c3f-9cd0-2fe5a9753bb9",
   "metadata": {},
   "source": [
    "$$P \\rightarrow ∫ E d V \\mid D E V$$\n",
    "$$E \\rightarrow T \\mid T + E \\mid T – E$$ \n",
    "$$T \\rightarrow C \\mid V \\mid (-T) \\mid G \\mid O \\mid P \\mid (E)$$\n",
    "$$O \\rightarrow (V ↑ T)$$\n",
    "$$G \\rightarrow (sin V) \\mid (cos V)$$\n",
    "$$C \\rightarrow I \\mid a \\mid k$$\n",
    "$$V \\rightarrow x$$\n",
    "$$I \\rightarrow 0 \\mid 1 \\mid 2 \\mid 3 \\mid 4 \\mid 5 \\mid 6 \\mid 7 \\mid 8 \\mid 9$$ "
   ]
  },
  {
   "cell_type": "code",
   "execution_count": null,
   "id": "815c0119-6b68-49be-bb7f-b8c36dc05247",
   "metadata": {},
   "outputs": [],
   "source": []
  },
  {
   "cell_type": "markdown",
   "id": "82d4bc5f-260a-4445-907d-b784c3bb9797",
   "metadata": {},
   "source": [
    "$$S \\rightarrow [C and C] \\mid [C or C] \\mid [not C]$$\n",
    "$$C \\rightarrow [V = V] \\mid [V > V] \\mid [V < V]$$\n",
    "$$V \\rightarrow id \\mid num$$ "
   ]
  },
  {
   "cell_type": "code",
   "execution_count": null,
   "id": "3b5e1672-4e15-496f-b404-1b673c025c77",
   "metadata": {},
   "outputs": [],
   "source": []
  },
  {
   "cell_type": "markdown",
   "id": "cd4820a7-cda3-4645-88ed-f331245e7d9a",
   "metadata": {},
   "source": [
    "$$S \\rightarrow (do(A)(C E) M) \\mid (do(A)(C E))$$\n",
    "$$A \\rightarrow (V E E)A \\mid (V E E)$$\n",
    "$$C \\rightarrow (and E E) \\mid (or E E) \\mid (not E)$$\n",
    "$$E \\rightarrow (print V) \\mid (cdr V) \\mid (length V) \\mid (+ X X) \\mid V \\mid N$$\n",
    "$$M \\rightarrow E M \\mid E$$\n",
    "$$V \\rightarrow id$$\n",
    "$$N \\rightarrow num$$\n",
    "$$X \\rightarrow V \\mid N$$"
   ]
  },
  {
   "cell_type": "code",
   "execution_count": null,
   "id": "dda3ab95-e3ed-4255-8367-55632677e658",
   "metadata": {},
   "outputs": [],
   "source": []
  },
  {
   "cell_type": "markdown",
   "id": "90a61fbe-cbeb-47e0-ad00-3f4adb34b7cc",
   "metadata": {},
   "source": [
    "## Pumping Lemma"
   ]
  },
  {
   "cell_type": "markdown",
   "id": "936b3707-53b9-46d4-868d-45be2ac95b8e",
   "metadata": {},
   "source": [
    "$\\{a^{i^2}$, palabras con un número cuadrado perfecto de letras idénticas (por ejemplo, aaaa)$\\}$"
   ]
  },
  {
   "cell_type": "code",
   "execution_count": null,
   "id": "c0db5edb-20b0-4f65-b8d4-5029647968e8",
   "metadata": {},
   "outputs": [],
   "source": []
  },
  {
   "cell_type": "markdown",
   "id": "5ed8ea2e-6fdd-4c7d-ac7a-73e84fac2561",
   "metadata": {},
   "source": [
    "$\\{a^i b^j c^r / 0 < i < j < r\\}$"
   ]
  },
  {
   "cell_type": "code",
   "execution_count": null,
   "id": "b5a1f82b-52f8-41cc-b50b-184eac0e598f",
   "metadata": {},
   "outputs": [],
   "source": []
  },
  {
   "cell_type": "markdown",
   "id": "61d62983-19eb-4677-9ab2-058c6003362a",
   "metadata": {},
   "source": [
    "$\\{a^i b^j / i ≤ j2\\}$"
   ]
  },
  {
   "cell_type": "code",
   "execution_count": null,
   "id": "f1fe2315-bf5b-4fb1-85e3-d7e221feb81b",
   "metadata": {},
   "outputs": [],
   "source": []
  },
  {
   "cell_type": "markdown",
   "id": "86539264-b646-43c4-b577-08751859524f",
   "metadata": {},
   "source": [
    "$\\{a^i b^j / i ≥ (j - 1)^3\\}$"
   ]
  },
  {
   "cell_type": "code",
   "execution_count": null,
   "id": "60bc8dd3-3cab-4855-9b65-c135599851e2",
   "metadata": {},
   "outputs": [],
   "source": []
  },
  {
   "cell_type": "markdown",
   "id": "0170e8d8-163f-42de-a264-c5b1939f866c",
   "metadata": {},
   "source": [
    "$\\{a^i b^j c^r / r = j*i\\}$"
   ]
  },
  {
   "cell_type": "code",
   "execution_count": null,
   "id": "a9055fb3-90dd-48b2-be47-8628f20dab7a",
   "metadata": {},
   "outputs": [],
   "source": []
  },
  {
   "cell_type": "markdown",
   "id": "ef961641-8e46-4513-8e0e-259dd3234a48",
   "metadata": {},
   "source": [
    "$\\{a^i b^j c^r / r > i,  r > j\\}$"
   ]
  },
  {
   "cell_type": "code",
   "execution_count": null,
   "id": "7af05f27-fe2c-4c7a-ad1a-6b3165380c6b",
   "metadata": {},
   "outputs": [],
   "source": []
  },
  {
   "cell_type": "markdown",
   "id": "e8521929-d358-42f9-a7a6-1e520c96006c",
   "metadata": {},
   "source": [
    "$\\{w \\in \\{a, b, c\\}^* / |w|_a < |w|_b < |w|_c\\}$"
   ]
  },
  {
   "cell_type": "code",
   "execution_count": null,
   "id": "eec0713a-10ef-48d0-8fcb-4bf300d3308c",
   "metadata": {},
   "outputs": [],
   "source": []
  },
  {
   "cell_type": "markdown",
   "id": "fefb61e9-5dd6-41d8-b459-58d2c960214b",
   "metadata": {},
   "source": [
    "$\\{w \\in \\{a, b, c\\}^* / |w|_a = |w|_b * |w|_c\\}$"
   ]
  },
  {
   "cell_type": "code",
   "execution_count": null,
   "id": "feddaa67-3c78-42cd-9b07-631abaf293f5",
   "metadata": {},
   "outputs": [],
   "source": []
  },
  {
   "cell_type": "markdown",
   "id": "39852035-8091-42f1-ab7f-ab02d3b53dcd",
   "metadata": {},
   "source": [
    "$\\{a^i b^i c^j / i ≤ j ≤ 2i\\}$"
   ]
  },
  {
   "cell_type": "code",
   "execution_count": null,
   "id": "00212a97-61d4-4df9-b06d-1f289f8ced15",
   "metadata": {},
   "outputs": [],
   "source": []
  },
  {
   "cell_type": "markdown",
   "id": "de6d6433-0ca1-4cdf-af77-2202862a5ac9",
   "metadata": {},
   "source": [
    "$\\{ww^Rw / w \\in \\{0, 1\\}^*\\}$"
   ]
  },
  {
   "cell_type": "code",
   "execution_count": null,
   "id": "49412d31-6dbe-4611-907b-79d24a0ef38b",
   "metadata": {},
   "outputs": [],
   "source": []
  }
 ],
 "metadata": {
  "kernelspec": {
   "display_name": "Python [conda env:base] *",
   "language": "python",
   "name": "conda-base-py"
  },
  "language_info": {
   "codemirror_mode": {
    "name": "ipython",
    "version": 3
   },
   "file_extension": ".py",
   "mimetype": "text/x-python",
   "name": "python",
   "nbconvert_exporter": "python",
   "pygments_lexer": "ipython3",
   "version": "3.12.7"
  }
 },
 "nbformat": 4,
 "nbformat_minor": 5
}
