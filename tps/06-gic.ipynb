{
 "cells": [
  {
   "cell_type": "markdown",
   "id": "4846b855-1cad-461a-a137-0294d25a1c2a",
   "metadata": {},
   "source": [
    "# TP GIC\n",
    "---"
   ]
  },
  {
   "cell_type": "markdown",
   "id": "7fca9364-a986-42ad-82cc-2d722088e330",
   "metadata": {},
   "source": [
    "## Ejercicios conceptuales"
   ]
  },
  {
   "cell_type": "markdown",
   "id": "82474539-a19c-4103-9579-3bdf1b501f62",
   "metadata": {},
   "source": [
    "¿Qué lenguaje formal genera la gramática $G = <\\{S, T\\}, \\{a, b\\}, \\{S \\rightarrow aT, T \\rightarrow a, T \\rightarrow \\lambda \\}, S>$? Justifique"
   ]
  },
  {
   "cell_type": "code",
   "execution_count": null,
   "id": "c7dc978b-0b3f-48d6-9747-ee239d4329fb",
   "metadata": {},
   "outputs": [],
   "source": []
  },
  {
   "cell_type": "markdown",
   "id": "6fb5ff9d-58b7-4d9f-a21a-d3a6015640b6",
   "metadata": {},
   "source": [
    "Sea la gramática $G = \\{S \\rightarrow aT, S \\rightarrow bQ,  T \\rightarrow a, T \\rightarrow b,  Q \\rightarrow a, Q \\rightarrow \\lambda \\}$ ¿Genera la palabra bab? Justifique. ¿Cuál es el lenguaje formal generado por esta gramática? Justifique"
   ]
  },
  {
   "cell_type": "code",
   "execution_count": null,
   "id": "02ae8c8d-d262-408a-9e21-41ccc38033e9",
   "metadata": {},
   "outputs": [],
   "source": []
  },
  {
   "cell_type": "markdown",
   "id": "6cf315d0-aa2a-430d-a653-311a3513f636",
   "metadata": {},
   "source": [
    "¿Una GR es siempre una GIC? Justifique. ¿Una GIC es siempre una GR? Justifique"
   ]
  },
  {
   "cell_type": "code",
   "execution_count": null,
   "id": "8ab4296a-e2ae-4751-ba26-a6ce9ca95da1",
   "metadata": {},
   "outputs": [],
   "source": []
  },
  {
   "cell_type": "markdown",
   "id": "350b689a-1531-4c32-a972-2c79f20d9719",
   "metadata": {},
   "source": [
    "## Palabra más corta"
   ]
  },
  {
   "cell_type": "markdown",
   "id": "eed0298d-ea16-4f41-b933-139d7bd1acce",
   "metadata": {},
   "source": [
    "$$S \\rightarrow aSb \\mid a$$"
   ]
  },
  {
   "cell_type": "code",
   "execution_count": null,
   "id": "e9e5de11-c416-4fab-b107-59336fa4103a",
   "metadata": {},
   "outputs": [],
   "source": []
  },
  {
   "cell_type": "markdown",
   "id": "1be59eae-2080-4336-bf38-5538396da09d",
   "metadata": {},
   "source": [
    "$$S \\rightarrow \\lambda \\mid AaB \\mid BbA$$\n",
    "$$A \\rightarrow a \\mid aAa \\mid bAa$$\n",
    "$$B \\rightarrow b \\mid bBb \\mid aBb$$"
   ]
  },
  {
   "cell_type": "code",
   "execution_count": null,
   "id": "ef728203-6f37-451d-8a31-55a30f2f5927",
   "metadata": {},
   "outputs": [],
   "source": []
  },
  {
   "cell_type": "markdown",
   "id": "662b0105-fceb-4ec3-b76b-77bb55cf0914",
   "metadata": {},
   "source": [
    "$$S \\rightarrow [A];$$ \n",
    "$$A \\rightarrow a \\mid aaA$$"
   ]
  },
  {
   "cell_type": "code",
   "execution_count": null,
   "id": "5f9cc7dd-62d3-40a2-9dea-62b477219b28",
   "metadata": {},
   "outputs": [],
   "source": []
  },
  {
   "cell_type": "markdown",
   "id": "47bb3bac-0fb5-4869-bbfd-a5286c557160",
   "metadata": {},
   "source": [
    "## Derivaciones"
   ]
  },
  {
   "cell_type": "markdown",
   "id": "eb99d744-f16e-44f3-87bd-c108789dfcff",
   "metadata": {},
   "source": [
    "$w = aaabbbb$\n",
    "\n",
    "$$S \\rightarrow aSb \\mid ab$$"
   ]
  },
  {
   "cell_type": "code",
   "execution_count": null,
   "id": "3c727e9f-44eb-4726-aba1-accd1b49f999",
   "metadata": {},
   "outputs": [],
   "source": []
  },
  {
   "cell_type": "markdown",
   "id": "94530236-a8e3-4159-8f4f-1417bcb55371",
   "metadata": {},
   "source": [
    "$w = 010000000$\n",
    "\n",
    "$$S \\rightarrow 0BB$$\n",
    "$$B \\rightarrow 1S \\mid 0S \\mid 0$$"
   ]
  },
  {
   "cell_type": "code",
   "execution_count": null,
   "id": "9a399259-bd72-4ed3-a311-7105acd63ce2",
   "metadata": {},
   "outputs": [],
   "source": []
  },
  {
   "cell_type": "markdown",
   "id": "69018253-3738-4624-b042-a26d3739d5ee",
   "metadata": {},
   "source": [
    "$w = cte + cte * cte$\n",
    "\n",
    "$$E \\rightarrow E + E \\mid E * E \\mid cte$$"
   ]
  },
  {
   "cell_type": "code",
   "execution_count": null,
   "id": "9f0b8399-3567-4ecb-9cdb-6b3d9acfe52e",
   "metadata": {},
   "outputs": [],
   "source": []
  },
  {
   "cell_type": "markdown",
   "id": "00a4243d-1f0b-42b9-b972-b906a28d911c",
   "metadata": {},
   "source": [
    "$w = R\\_X\\_A$\n",
    "\n",
    "$$Identificador \\rightarrow Letra \\mid Identificador \\, Letra \\mid Identificador \\, GuiónBajo \\, Letra$$\n",
    "$$GuiónBajo \\rightarrow \\_$$\n",
    "$$Letra \\rightarrow A \\mid B \\mid C \\mid ... \\mid Z$$"
   ]
  },
  {
   "cell_type": "code",
   "execution_count": null,
   "id": "3c761c5b-080b-47ee-978f-3fad011cb5f3",
   "metadata": {},
   "outputs": [],
   "source": []
  },
  {
   "cell_type": "markdown",
   "id": "d7c5922c-41aa-4528-aee1-768b03f2abd7",
   "metadata": {},
   "source": [
    "$w = 1 + 2 * (3 + 4) + 5$\n",
    "\n",
    "$$Expresión \\rightarrow Término \\mid Expresión + Término$$\n",
    "$$Término \\rightarrow Factor \\mid Término * Factor$$\n",
    "$$Factor \\rightarrow Número \\mid (Expresión)$$\n",
    "$$Número \\rightarrow 1 \\mid 2 \\mid 3 \\mid 4 \\mid 5$$"
   ]
  },
  {
   "cell_type": "code",
   "execution_count": null,
   "id": "264e2452-2088-4d1e-b9b1-ed509ab8227a",
   "metadata": {},
   "outputs": [],
   "source": []
  },
  {
   "cell_type": "markdown",
   "id": "225c9e07-181f-4768-84c9-500a86876c3e",
   "metadata": {},
   "source": [
    "$w = 1 + 2 * (3 + 4) + 5$\n",
    "\n",
    "$$E \\rightarrow E + E \\mid E * E \\mid (E) \\mid N$$\n",
    "$$N \\rightarrow 1 \\mid 2 \\mid 3 \\mid 4 \\mid 5$$"
   ]
  },
  {
   "cell_type": "code",
   "execution_count": null,
   "id": "9f7ada00-0559-4fec-9cc4-8278f8af0760",
   "metadata": {},
   "outputs": [],
   "source": []
  },
  {
   "cell_type": "markdown",
   "id": "001403bd-679a-4a3f-b748-340d14b39d63",
   "metadata": {},
   "source": [
    "$w = -123456$\n",
    "\n",
    "$$<número \\, entero> ::= <entero \\, sin \\, signo> \\mid + <entero \\, sin \\, signo>  \\mid - <entero \\, sin \\, signo>$$\n",
    "$$<entero \\, sin \\, signo> ::= <dígito> \\mid <entero \\, sin \\, signo> <dígito>$$\n",
    "$$<dígito> ::= 0 \\mid 1 \\mid 2 \\mid 3 \\mid 4 \\mid 5 \\mid 6 \\mid 7 \\mid 8 \\mid 9$$"
   ]
  },
  {
   "cell_type": "code",
   "execution_count": null,
   "id": "92361562-4b6d-4927-8f0f-5c156d1f1dc7",
   "metadata": {},
   "outputs": [],
   "source": []
  },
  {
   "cell_type": "markdown",
   "id": "33aa7fd3-98bc-4afd-a1bd-08d06584abf7",
   "metadata": {},
   "source": [
    "## LIC"
   ]
  },
  {
   "cell_type": "markdown",
   "id": "00b99642-4b76-49da-a9f6-f397b8f0e290",
   "metadata": {},
   "source": [
    "$$S \\rightarrow aSb \\mid a$$"
   ]
  },
  {
   "cell_type": "code",
   "execution_count": null,
   "id": "48b8e55c-996e-4794-a00f-cde5b594e452",
   "metadata": {},
   "outputs": [],
   "source": []
  },
  {
   "cell_type": "markdown",
   "id": "53740bbe-7794-4516-80bc-c60f41aef26f",
   "metadata": {},
   "source": [
    "$$S \\rightarrow \\lambda \\mid AB \\mid A \\mid B$$\n",
    "$$A \\rightarrow aAb \\mid ab$$\n",
    "$$B \\rightarrow bB \\mid b$$"
   ]
  },
  {
   "cell_type": "code",
   "execution_count": null,
   "id": "ac56d0f7-3bfb-4137-9173-d840d06563fe",
   "metadata": {},
   "outputs": [],
   "source": []
  },
  {
   "cell_type": "markdown",
   "id": "9d5eebe4-9b1c-4283-9892-e6205945d28d",
   "metadata": {},
   "source": [
    "$$S \\rightarrow xAyC \\mid xByyC \\mid xyC \\mid xyyC$$\n",
    "$$A \\rightarrow xAy \\mid xy$$\n",
    "$$B \\rightarrow xByy \\mid xyy$$\n",
    "$$C \\rightarrow zC \\mid z$$"
   ]
  },
  {
   "cell_type": "markdown",
   "id": "7e90bc4a-1075-4dfe-b029-0ecf7dc15dbf",
   "metadata": {},
   "source": [
    "## GIC"
   ]
  },
  {
   "cell_type": "markdown",
   "id": "b9956280-c96b-413c-affb-7a5333b8cba5",
   "metadata": {},
   "source": [
    "$\\{a^nb^{n+1} / n ≥ 0\\}$"
   ]
  },
  {
   "cell_type": "code",
   "execution_count": null,
   "id": "83d5ec93-8b0e-4563-bf79-5c53d8840326",
   "metadata": {},
   "outputs": [],
   "source": []
  },
  {
   "cell_type": "markdown",
   "id": "a34f6adc-c4cd-49db-acd5-95768420777d",
   "metadata": {},
   "source": [
    "$\\{a^nbc^nb / n ≥ 1\\}$"
   ]
  },
  {
   "cell_type": "code",
   "execution_count": null,
   "id": "65ded138-c901-4d91-b43c-9848e4a35167",
   "metadata": {},
   "outputs": [],
   "source": []
  },
  {
   "cell_type": "markdown",
   "id": "876be70e-b9e8-48cf-96c3-ad594c5fee39",
   "metadata": {},
   "source": [
    "$\\{a^{2n}b^{n+1}a^r / n ≥ 1, r ≥ 0\\}$"
   ]
  },
  {
   "cell_type": "code",
   "execution_count": null,
   "id": "cef52072-1b65-48eb-af08-ac948b6b01a3",
   "metadata": {},
   "outputs": [],
   "source": []
  },
  {
   "cell_type": "markdown",
   "id": "eba44fc8-d335-4e01-a16a-dee479d8dc51",
   "metadata": {},
   "source": [
    "$\\{x^ny^m / m, n ≥ 0 \\wedge m = n \\vee m = 2n\\}$"
   ]
  },
  {
   "cell_type": "code",
   "execution_count": null,
   "id": "65f899f4-c330-46e4-ac2f-b7aca5540ce1",
   "metadata": {},
   "outputs": [],
   "source": []
  },
  {
   "cell_type": "markdown",
   "id": "ebf9c718-3776-4f5a-8360-facac4f3ccc8",
   "metadata": {},
   "source": [
    "$\\{0^m1^n / m > n ≥ 0\\}$"
   ]
  },
  {
   "cell_type": "code",
   "execution_count": null,
   "id": "69d98fc6-bd49-4d70-931c-3233cc4582bb",
   "metadata": {},
   "outputs": [],
   "source": []
  },
  {
   "cell_type": "markdown",
   "id": "c06ed68b-f758-447a-8235-d33067321b78",
   "metadata": {},
   "source": [
    "$\\{u^mv^n / n = \\text{múltiplo de 2} \\wedge m <> \\text{múltiplo de 2 ó viceversa}\\}$"
   ]
  },
  {
   "cell_type": "code",
   "execution_count": null,
   "id": "b7ffef03-491f-4515-9076-1bac223ca2f6",
   "metadata": {},
   "outputs": [],
   "source": []
  },
  {
   "cell_type": "markdown",
   "id": "9259cafb-8e0e-4a5e-bca6-84a81ff0f057",
   "metadata": {},
   "source": [
    "$\\{w^rx^sy^tz^u / r + t = s + u\\}$"
   ]
  },
  {
   "cell_type": "code",
   "execution_count": null,
   "id": "97198679-0d54-4326-b4f9-42b8bda584e9",
   "metadata": {},
   "outputs": [],
   "source": []
  },
  {
   "cell_type": "markdown",
   "id": "f58bf9f6-0f58-4955-b7f7-47b957043eab",
   "metadata": {},
   "source": [
    "$\\{x^ny^mz^k / k = m + n\\}$"
   ]
  },
  {
   "cell_type": "code",
   "execution_count": null,
   "id": "3291a6bc-26b7-4561-aeae-de6548f17fbd",
   "metadata": {},
   "outputs": [],
   "source": []
  },
  {
   "cell_type": "markdown",
   "id": "466f85e5-3014-4621-aceb-bec8f2006df5",
   "metadata": {},
   "source": [
    "$\\{x^my^n / \\text{n y m son enteros no negativos} \\wedge 2m ≥ n ≥ m\\}$"
   ]
  },
  {
   "cell_type": "code",
   "execution_count": null,
   "id": "ef868e2a-47ef-4c23-989a-8126f8609b3d",
   "metadata": {},
   "outputs": [],
   "source": []
  },
  {
   "cell_type": "markdown",
   "id": "90e71931-04ae-43a8-afe0-8d54a0f14509",
   "metadata": {},
   "source": [
    "$\\{a^{2k}b^{2n}c^kd^j / k, n, j ≥ 0\\}$"
   ]
  },
  {
   "cell_type": "code",
   "execution_count": null,
   "id": "780c75b0-ba21-43ef-abc5-37bd13fd271e",
   "metadata": {},
   "outputs": [],
   "source": []
  },
  {
   "cell_type": "markdown",
   "id": "af6f0353-e9f7-4da7-a9d5-75b1fc565d1b",
   "metadata": {},
   "source": [
    "$\\{x^ry^sz^t / t = r + s \\wedge r, s ≥ 1\\}$"
   ]
  },
  {
   "cell_type": "code",
   "execution_count": null,
   "id": "0c362729-a941-452d-ab38-7600740ce32c",
   "metadata": {},
   "outputs": [],
   "source": []
  },
  {
   "cell_type": "markdown",
   "id": "47bb6ee4-62b7-448b-91f5-e629728de78d",
   "metadata": {},
   "source": [
    "$\\{a^{2n}b^id^ke^{s+k} / n, i, k ≥ 0 \\wedge s > n\\} \\cup \\{a^{2k}h^jd^{k+1} / k, j ≥ 0\\}$"
   ]
  },
  {
   "cell_type": "code",
   "execution_count": null,
   "id": "ef563ba9-6648-406b-9cfd-ea97f3614aed",
   "metadata": {},
   "outputs": [],
   "source": []
  },
  {
   "cell_type": "markdown",
   "id": "cc4b904e-1ac3-44db-863b-4bfe7a8aa741",
   "metadata": {},
   "source": [
    "$\\{w / w \\in \\{0, 1\\}^*$ y $w$ contiene al menos tres ceros$\\}$ (lineal a la derecha)"
   ]
  },
  {
   "cell_type": "code",
   "execution_count": null,
   "id": "3d0129cf-1005-4f67-92a4-d0fb2a716628",
   "metadata": {},
   "outputs": [],
   "source": []
  },
  {
   "cell_type": "markdown",
   "id": "8723cc56-e867-4f83-96d0-90381e129e8e",
   "metadata": {},
   "source": [
    "$\\{w / w \\in \\{a, b, c\\}^*$, la cantidad de a es impar en $w$, y no se puede dar la subcadena $bc\\}$"
   ]
  },
  {
   "cell_type": "code",
   "execution_count": null,
   "id": "069b620e-e309-46f7-87b6-f96554091bf0",
   "metadata": {},
   "outputs": [],
   "source": []
  },
  {
   "cell_type": "markdown",
   "id": "4fb28001-4672-4b21-99eb-e99e5bd883d5",
   "metadata": {},
   "source": [
    "$\\{w / w \\in \\{a, b, c, d\\}^*$ y $w$ no contiene $addc$, $d$ debe ser par, $b$ impar$\\}$"
   ]
  },
  {
   "cell_type": "code",
   "execution_count": null,
   "id": "8422a2fa-4b4c-4031-9151-688fba5afa1c",
   "metadata": {},
   "outputs": [],
   "source": []
  },
  {
   "cell_type": "markdown",
   "id": "398d6a1b-75f6-4849-ad0b-4ee12c9f6b8d",
   "metadata": {},
   "source": [
    "$\\{(ab)^nc(ba)^{2m+1} / n ≥ 1; m ≥ 0\\}$"
   ]
  },
  {
   "cell_type": "code",
   "execution_count": null,
   "id": "8f04cdf2-cf72-4b90-8862-6821aa91f523",
   "metadata": {},
   "outputs": [],
   "source": []
  },
  {
   "cell_type": "markdown",
   "id": "643e9071-4773-442d-992d-e9816fd2549f",
   "metadata": {},
   "source": [
    "$\\{x / x \\in \\{a, b, c\\}^*$ y $x$ contiene al menos dos $b$ y $x$ contiene la subcadena $bc\\}$"
   ]
  },
  {
   "cell_type": "code",
   "execution_count": null,
   "id": "ee6b73ec-b58d-4a4d-be41-56de7f5ec9b1",
   "metadata": {},
   "outputs": [],
   "source": []
  },
  {
   "cell_type": "markdown",
   "id": "85006d32-2896-490c-8566-adfa4f8314ae",
   "metadata": {},
   "source": [
    "$\\{x / x \\in \\{a, b, c\\}^*$ y $x$ empieza y termina con distinta letra$\\}$"
   ]
  },
  {
   "cell_type": "code",
   "execution_count": null,
   "id": "df5b92bc-4853-4097-a173-e29e0109f7fa",
   "metadata": {},
   "outputs": [],
   "source": []
  },
  {
   "cell_type": "markdown",
   "id": "93d31487-a2e6-4897-97a7-595f6911b5b2",
   "metadata": {},
   "source": [
    "$\\{x / x \\in \\{a, e, i, f, t, h, n, l, s, w, d\\}^*$ y $x$ es alguna de las siguientes palabras reservadas de Pascal: $\\{if, then, else, while, end\\}\\}$"
   ]
  },
  {
   "cell_type": "code",
   "execution_count": null,
   "id": "2dc930fb-c058-4932-9a7b-8065e2f0adcb",
   "metadata": {},
   "outputs": [],
   "source": []
  },
  {
   "cell_type": "markdown",
   "id": "4a9a6b05-678a-402f-96e6-ff9a497ed3b9",
   "metadata": {},
   "source": [
    "$\\{a^{2i}b^{i+j}(cc)^ka^{n+1} / i, n, k ≥ 0; j > k\\}$"
   ]
  },
  {
   "cell_type": "code",
   "execution_count": null,
   "id": "0854e20a-c20f-4941-9313-4b68ef4d8d9d",
   "metadata": {},
   "outputs": [],
   "source": []
  },
  {
   "cell_type": "markdown",
   "id": "f64dbc24-7f7a-46d5-9119-5c39251ed699",
   "metadata": {},
   "source": [
    "$\\{a^{2i}d^nd^{i+j}b^{n+1} / i, n, j ≥ 0\\} \\cup \\{a^{j+1}d^nd^{j+k}b^{n+1} / k, n, j ≥ 0\\}$"
   ]
  },
  {
   "cell_type": "code",
   "execution_count": null,
   "id": "1eaa80f5-a472-42fc-aeda-35555e6f211f",
   "metadata": {},
   "outputs": [],
   "source": []
  },
  {
   "cell_type": "markdown",
   "id": "29a3a8c9-10ab-4e83-94b5-86ffdaef2ae0",
   "metadata": {},
   "source": [
    "$\\{d^nc^j(ab)^{2s}e^{t+2n} / s, t, n ≥ 0 \\wedge j > t\\} \\cup \\{d^{2k}(ab)^{2h+1}e^{k+i} / h, k ≥ 0; i > k\\}$"
   ]
  },
  {
   "cell_type": "code",
   "execution_count": null,
   "id": "3cdeef86-e770-4e99-9217-b8fabe62b640",
   "metadata": {},
   "outputs": [],
   "source": []
  },
  {
   "cell_type": "markdown",
   "id": "5d0e3456-d007-4d70-abd9-d73e46bd13e4",
   "metadata": {},
   "source": [
    "$\\{w / w \\in \\{a, b\\}^*\\}$"
   ]
  },
  {
   "cell_type": "code",
   "execution_count": null,
   "id": "576bda11-a441-41de-a64c-404fc2a9d4d8",
   "metadata": {},
   "outputs": [],
   "source": []
  },
  {
   "cell_type": "markdown",
   "id": "ba6b4e8d-7c89-408e-b340-4ae620d6be02",
   "metadata": {},
   "source": [
    "$\\{a^{2n}b^{ij}(cc)^ka^{n+1} / i, n, k ≥ 0; j > k\\}$"
   ]
  },
  {
   "cell_type": "code",
   "execution_count": null,
   "id": "08dfb586-512e-473a-9d1d-f98ab82bf60d",
   "metadata": {},
   "outputs": [],
   "source": []
  },
  {
   "cell_type": "markdown",
   "id": "ce022b43-ff4c-47bd-ace3-519420bcf7f4",
   "metadata": {},
   "source": [
    "$\\{a^{2i}d^nd^{i+j}b^{n+1} / i, n, j ≥ 0\\} \\cup \\{a^{j+1}d^nd^{j+k}b^{n+1} / k, n, j ≥ 0\\}$"
   ]
  },
  {
   "cell_type": "code",
   "execution_count": null,
   "id": "a4dec6fd-e68c-442f-ac2e-5c48e336fad2",
   "metadata": {},
   "outputs": [],
   "source": []
  },
  {
   "cell_type": "markdown",
   "id": "ad04f8b2-d591-4a0c-881c-a4e33ee31246",
   "metadata": {},
   "source": [
    "$L((a \\mid bc)^* (dd \\mid c)^*)$"
   ]
  },
  {
   "cell_type": "code",
   "execution_count": null,
   "id": "55fa7cb8-2f4f-4439-904a-99ae32f96e2a",
   "metadata": {},
   "outputs": [],
   "source": []
  },
  {
   "cell_type": "markdown",
   "id": "2e456d3d-e9fa-42ba-9962-ea749748ae7b",
   "metadata": {},
   "source": [
    "$\\{a^nb^j(hf)^he^ke^{t+2h} / t, n ≥ 0; h ≥ 1; k > n; j > t\\}$"
   ]
  },
  {
   "cell_type": "code",
   "execution_count": null,
   "id": "41dd747f-fda9-433e-a38d-ad2ccdba33ea",
   "metadata": {},
   "outputs": [],
   "source": []
  },
  {
   "cell_type": "markdown",
   "id": "7c7a1ba6-a358-43ac-a900-3188e1397b20",
   "metadata": {},
   "source": [
    "$\\{e^{2n}d^t(bd)^sf^{2k+n} / t, n ≥ 0; s > 0; k > t\\} \\cup \\{(ee)^{k+1}h^{i+1}d^{2t} / k, i ≥ 0; t > k\\}$"
   ]
  },
  {
   "cell_type": "code",
   "execution_count": null,
   "id": "bd69c730-bf58-40cb-89e4-3cc6f7a8aa3f",
   "metadata": {},
   "outputs": [],
   "source": []
  },
  {
   "cell_type": "markdown",
   "id": "3ed840ac-daa3-4497-bd52-c3a3c0b36158",
   "metadata": {},
   "source": [
    "$\\{e^{2n}d^t(bd)^sf^{2k+n} / t, n ≥ 0; s > n; k > t\\}$"
   ]
  },
  {
   "cell_type": "code",
   "execution_count": null,
   "id": "6da88b27-0f3e-4542-951a-7ca5809df0d1",
   "metadata": {},
   "outputs": [],
   "source": []
  },
  {
   "cell_type": "markdown",
   "id": "e8446b83-f6a3-41c4-b302-b6845ac7b2f3",
   "metadata": {},
   "source": [
    "$\\{w / w \\in \\{a, b, c\\}^*$ donde el símbolo $a$ aparece de a pares ($aa$), el símbolo $c$ puede venir luego de una $b$ u otra $c\\}$"
   ]
  },
  {
   "cell_type": "code",
   "execution_count": null,
   "id": "f6feeeb7-c459-42cb-8711-05d34d9c808f",
   "metadata": {},
   "outputs": [],
   "source": []
  },
  {
   "cell_type": "markdown",
   "id": "6c821c97-9dac-476a-9d76-cd9e2042826d",
   "metadata": {},
   "source": [
    "$\\{w / w \\in \\{a, b, c\\}^*$, la cantidad de $a$ es impar y no se puede dar la subpalabra $bc\\}$"
   ]
  },
  {
   "cell_type": "code",
   "execution_count": null,
   "id": "e3ddc89e-fb24-421b-a437-6a61d0316ec0",
   "metadata": {},
   "outputs": [],
   "source": []
  },
  {
   "cell_type": "markdown",
   "id": "f012d054-009a-44a8-b75e-ffdd7c1078d0",
   "metadata": {},
   "source": [
    "$\\{ww^{-1} / w, w^{-1} \\in \\Sigma^*\\}$  $\\Sigma = \\{a, b\\}$"
   ]
  },
  {
   "cell_type": "code",
   "execution_count": null,
   "id": "cece2efc-abc2-4536-b3a8-5f09887e8cef",
   "metadata": {},
   "outputs": [],
   "source": []
  },
  {
   "cell_type": "markdown",
   "id": "93816938-054d-4654-8500-a16148ebc487",
   "metadata": {},
   "source": [
    "$\\{a^{2k}b^{2n}c^kd^j / k, n, j ≥ 0 \\}$ $\\Sigma = \\{a, b, c, d\\}$"
   ]
  },
  {
   "cell_type": "code",
   "execution_count": null,
   "id": "16a315eb-c180-4ed1-8a65-eabd0a8dc88d",
   "metadata": {},
   "outputs": [],
   "source": []
  },
  {
   "cell_type": "markdown",
   "id": "fc1f0093-7455-4f90-9646-490193360584",
   "metadata": {},
   "source": [
    "Sea el lenguaje de todas las palabras sobre el $\\Sigma = \\{0, 1\\}$ que cumplan N($0$) =  N($1$) + 1 donde N($0$) es el número de apariciones de $0$ y N($1$) es el número de apariciones de $1$"
   ]
  },
  {
   "cell_type": "code",
   "execution_count": null,
   "id": "fa6a615f-12bc-4a25-aee3-a9dd1406ac0c",
   "metadata": {},
   "outputs": [],
   "source": []
  },
  {
   "cell_type": "markdown",
   "id": "e227e7a1-5edc-4981-8728-1701a1871c50",
   "metadata": {},
   "source": [
    "Sea el lenguaje de todas las palabras sobre el $\\Sigma = \\{a, b\\}$, las cuales la relación entre el número de aes y el número de bes sea de 2 a 1"
   ]
  },
  {
   "cell_type": "code",
   "execution_count": null,
   "id": "354596b8-4f97-4536-8423-775d7b6b260a",
   "metadata": {},
   "outputs": [],
   "source": []
  },
  {
   "cell_type": "markdown",
   "id": "f6cc0400-32d0-4025-8446-06f5e400b234",
   "metadata": {},
   "source": [
    "Números romanos válidos dado $\\Sigma = \\{I, V, X, L, D, M\\}$"
   ]
  },
  {
   "cell_type": "code",
   "execution_count": null,
   "id": "d7eb9012-246f-4cc5-8ce5-c6ee8e760d75",
   "metadata": {},
   "outputs": [],
   "source": []
  },
  {
   "cell_type": "markdown",
   "id": "b3d1d128-33d2-45d4-a691-9db3ae4f083a",
   "metadata": {},
   "source": [
    "Expresiones aritméticas en notación polaca inversa construidas con $\\Sigma = \\{n, +, -, *, :\\}$. Una expresión en notación polaca inversa lleva los operadores siempre detrás de los operandos a los que se aplica. Por ejemplo: $(a + b) * (b – c * (a - b))$ se escribiría de la siguiente forma $ab + bcab - * - *$"
   ]
  },
  {
   "cell_type": "code",
   "execution_count": null,
   "id": "4a0e149d-1011-4885-8edf-bc6a9a7e7313",
   "metadata": {},
   "outputs": [],
   "source": []
  },
  {
   "cell_type": "markdown",
   "id": "99d1b2ee-0a1f-4863-abea-af6bf407de68",
   "metadata": {},
   "source": [
    "## GR y ER"
   ]
  },
  {
   "cell_type": "markdown",
   "id": "bc613b75-b9b1-4c80-b47d-684e2738397b",
   "metadata": {},
   "source": [
    "$$S \\rightarrow AabB \\mid abB$$\n",
    "$$A \\rightarrow aA \\mid bA \\mid a \\mid b$$\n",
    "$$B \\rightarrow Bab \\mid Bb \\mid ab \\mid b$$"
   ]
  },
  {
   "cell_type": "code",
   "execution_count": null,
   "id": "8257f5c4-f855-4478-81d0-5fbe32595fa5",
   "metadata": {},
   "outputs": [],
   "source": []
  },
  {
   "cell_type": "markdown",
   "id": "2bae5ec8-150d-4694-aeaa-948723281714",
   "metadata": {},
   "source": [
    "## GIC bien formada"
   ]
  },
  {
   "cell_type": "markdown",
   "id": "f3776866-291d-43d8-83d2-d387974e75d9",
   "metadata": {},
   "source": [
    "$$S \\rightarrow AB \\mid A \\mid CS1 \\mid 0E$$\n",
    "$$A \\rightarrow 0AS \\mid \\lambda \\mid A0 \\mid C$$\n",
    "$$B \\rightarrow B1 \\mid 1$$\n",
    "$$D \\rightarrow B1 \\mid \\lambda \\mid 1F$$\n",
    "$$E \\rightarrow E1$$\n",
    "$$F \\rightarrow 0D$$"
   ]
  },
  {
   "cell_type": "code",
   "execution_count": null,
   "id": "d5adf089-baf6-4c3e-88fc-ca241927becc",
   "metadata": {},
   "outputs": [],
   "source": []
  },
  {
   "cell_type": "markdown",
   "id": "61f95f9e-36b3-4978-b35a-58c58483de64",
   "metadata": {},
   "source": [
    "## Factorización a izquierda y eliminación de recursividad por la izquierda"
   ]
  },
  {
   "cell_type": "markdown",
   "id": "d3b4b9d2-07d7-4d2f-9956-e053595b8818",
   "metadata": {},
   "source": [
    "$$C \\rightarrow C \\, and \\, C \\mid C \\, or \\, C \\mid not \\, C \\mid (C \\, = \\, C) \\mid id$$"
   ]
  },
  {
   "cell_type": "code",
   "execution_count": null,
   "id": "ec72f4d7-1cad-4e72-9454-bc7ff58b159d",
   "metadata": {},
   "outputs": [],
   "source": []
  },
  {
   "cell_type": "markdown",
   "id": "c8366be5-d646-47ff-a22e-e097da510128",
   "metadata": {},
   "source": [
    "$$S \\rightarrow S;S \\mid S. \\mid(NNR) \\mid (idN=)$$\n",
    "$$N \\rightarrow MNON \\mid MNO \\mid id \\mid num$$\n",
    "$$M \\rightarrow N \\mid func(N) \\mid func(M)$$\n",
    "$$O \\rightarrow + \\mid * \\mid - \\mid /$$\n",
    "$$R \\rightarrow < \\mid > \\mid ==$$"
   ]
  },
  {
   "cell_type": "code",
   "execution_count": null,
   "id": "5d6a0173-7f50-4d70-9485-eddb74b644e3",
   "metadata": {},
   "outputs": [],
   "source": []
  },
  {
   "cell_type": "markdown",
   "id": "10bd4dce-5872-401c-9ea7-86fba39a60b7",
   "metadata": {},
   "source": [
    "$$E \\rightarrow E + T \\mid (E) \\mid a$$\n",
    "$$T \\rightarrow  T * F \\mid (E) \\mid a$$\n",
    "$$F \\rightarrow (E) \\mid a$$"
   ]
  },
  {
   "cell_type": "code",
   "execution_count": null,
   "id": "0b7fc587-d322-43d5-963a-aa2fdc7d6d1c",
   "metadata": {},
   "outputs": [],
   "source": []
  },
  {
   "cell_type": "markdown",
   "id": "8008c58d-3520-4b84-ab43-d80509705ecb",
   "metadata": {},
   "source": [
    "## BNF"
   ]
  },
  {
   "cell_type": "markdown",
   "id": "a0f28f83-e07f-448b-be5d-34aa62ce7b53",
   "metadata": {},
   "source": [
    "* Las asignaciones se representan con el símbolo $:=$\n",
    "* Las variables pueden ser alfanuméricas, no pudiendo comenzar con un número. Ejemplo: VALOR1 -> válido 1VALOR ->inválido\n",
    "* Las operaciones aritméticas son: suma ($+$), resta ($-$), división ($/$), multiplicación ($*$) y potencia (^)\n",
    "* Las operaciones lógicas son $AND$, $OR$, $NOT$\n",
    "* Se podrán tener operaciones entre $()$\n",
    "* Ejemplos de asignaciones: VAR12 := (VAR1 + VAR2) * VAR3 ^ VAR4 / VAR5  Otro Ejemplo: VARBOL2 := VAR1 AND VAR3 NOT VAR5 AND (VAR6 OR VAR7)"
   ]
  },
  {
   "cell_type": "code",
   "execution_count": null,
   "id": "c6c25e56-48ed-48e3-8053-7a74fbf0efe7",
   "metadata": {},
   "outputs": [],
   "source": []
  },
  {
   "cell_type": "markdown",
   "id": "0f2186e0-3010-4e88-9e10-1e32811adaa2",
   "metadata": {},
   "source": [
    "* Códigos postales en formato antiguo (Por ej. $1234$, $8366$, pero no $422$ o $0027$)\n",
    "* Comentarios acotados por $/*$ y $*/$ $\\Sigma = \\{letras, *, /\\}$\n",
    "* Patentes de autos formato anterior al actual\n",
    "* Fecha con formato $dd/mm/yyyy$\n",
    "* Describir los números naturales (considerar $N \\cup \\{0\\}$)\n",
    "* Idem anterior sin ceros a la izquierda\n",
    "* Probar si las gramáticas generan las cadenas $408$ y $0015$"
   ]
  },
  {
   "cell_type": "code",
   "execution_count": null,
   "id": "e989b44d-92b1-4402-af61-5bd9ae23cadc",
   "metadata": {},
   "outputs": [],
   "source": []
  },
  {
   "cell_type": "markdown",
   "id": "62b4c35c-4604-4f69-b61b-5b689b8a32f4",
   "metadata": {},
   "source": [
    "Generar cadenas de este tipo:\n",
    "\n",
    "$$if <condición> then <acción> else <acción> (opcional) endif$$\n",
    "\n",
    "donde: \n",
    "* $acción$, es de la forma $id = cte$ u otra sentencia $if$\n",
    "* $condición$, es de la forma: $id \\, operador \\, cte$\n",
    "* $operador$, es un operador lógico: $\\{>, <,  <>\\}$\n",
    "* elementos terminales: $\\{if, then, else, endif, id, cte, =, >, <,  <>\\}$\n",
    "* Ejemplo de cadena válida:  if id > cte then id = cte else id = cte endif\n",
    "* Probar si acepta una cadena con $if$ anidado"
   ]
  },
  {
   "cell_type": "code",
   "execution_count": null,
   "id": "cd6aa54f-b1c0-45ce-8211-ade7485cc33e",
   "metadata": {},
   "outputs": [],
   "source": []
  },
  {
   "cell_type": "markdown",
   "id": "ca1a5fff-7e41-4683-b42d-9da873be26ce",
   "metadata": {},
   "source": [
    "Generar declaraciones simples de métodos en el lenguaje de programación Java: \n",
    "\n",
    "$$tipo\\_de\\_retorno \\, nombre\\_del\\_metodo \\,(lista\\_de\\_parámetros)$$\n",
    "\n",
    "donde:\n",
    "* $lista\\_de\\_parámetros$ será una enumeración de cero o más parámetros, separados por comas.\n",
    "* Los parámetros tendrán la forma: $tipo \\, nombre$\n",
    "* $nombre$ y $nombre\\_del\\_metodo$: será una sucesión de letras y dígitos que comienza con una letra\n",
    "* $tipo\\_de\\_retorno$ y $tipo$: considerarlos como terminales"
   ]
  },
  {
   "cell_type": "code",
   "execution_count": null,
   "id": "cb20dfc2-1e0b-4ab4-b0eb-f770ffa4a4ff",
   "metadata": {},
   "outputs": [],
   "source": []
  }
 ],
 "metadata": {
  "kernelspec": {
   "display_name": "Python [conda env:base] *",
   "language": "python",
   "name": "conda-base-py"
  },
  "language_info": {
   "codemirror_mode": {
    "name": "ipython",
    "version": 3
   },
   "file_extension": ".py",
   "mimetype": "text/x-python",
   "name": "python",
   "nbconvert_exporter": "python",
   "pygments_lexer": "ipython3",
   "version": "3.12.7"
  }
 },
 "nbformat": 4,
 "nbformat_minor": 5
}
