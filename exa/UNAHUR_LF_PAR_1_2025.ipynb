{
 "cells": [
  {
   "cell_type": "markdown",
   "id": "428e6ba4-8ac0-470a-aa18-54c6c5c24dc8",
   "metadata": {},
   "source": [
    "# UNIVERSIDAD NACIONAL DE HURLINGHAM\n",
    "## Inst. de Tecnología e Ingeniería\n",
    "### LENGUAJES FORMALES Y AUTÓMATAS\n",
    "#### Prof: Mag. Ing. Pablo Pandolfo\n",
    "#### Primer Examen Parcial - Setiembre 2025"
   ]
  },
  {
   "cell_type": "markdown",
   "id": "6fb105da-aed6-40a7-a176-f39a8f31862c",
   "metadata": {},
   "source": [
    "* **ALUMNO**:\n",
    "* **DNI**:"
   ]
  },
  {
   "cell_type": "markdown",
   "id": "badcfa34-3c4a-45e0-abef-f33ca2455f2d",
   "metadata": {},
   "source": [
    "#### NOTA: EL EXAMEN ESCRITO ES UN DOCUMENTO DE GRAN IMPORTANCIA PARA LA EVALUACIÓN DE LOS CONOCIMIENTOS ADQUIRIDOS, POR LO TANTO, SE SOLICITA LEER ATENTAMENTE LO SIGUIENTE\n",
    "\n",
    "* Responda claramente cada punto, detallando con la mayor precisión posible lo solicitado.\n",
    "* Sea prolijo y ordenado en el desarrollo de los temas.\n",
    "* Sea cuidadoso con las faltas de ortografía y sus oraciones.\n",
    "* No desarrollar el examen en lápiz.\n",
    "* Aprobación del examen: Con nota mayor o igual a 4 (cuatro)\n",
    "* Condiciones de aprobación: 60%\n",
    "* Duración de examen: 3 horas."
   ]
  },
  {
   "cell_type": "markdown",
   "id": "a4d362b2-a400-4170-8698-0e44038c3986",
   "metadata": {},
   "source": [
    "1. **[2 puntos]** Dada GR $<\\{p, q\\}, \\{U, V, W, T, X, Y, Z\\}, T,$\n",
    "$\\{Z \\rightarrow pZ, Z \\rightarrow qZ, Y \\rightarrow qY, Y \\rightarrow pZ,  X \\rightarrow qW, X \\rightarrow pZ,$\n",
    "$W \\rightarrow qX, W \\rightarrow pZ, V \\rightarrow pU, V \\rightarrow qW, U \\rightarrow pV, U \\rightarrow qY,$\n",
    "$T \\rightarrow pU, Z \\rightarrow p, Y \\rightarrow p, X \\rightarrow q, W \\rightarrow p, Z \\rightarrow q,$\n",
    "$V \\rightarrow q, X \\rightarrow p\\}>$, defínase por comprensión simbólica el lenguaje generado. Expresarlo como unión de lenguajes"
   ]
  },
  {
   "cell_type": "code",
   "execution_count": null,
   "id": "d346df61-3bd9-4b5f-9a44-85d86b3b95f5",
   "metadata": {},
   "outputs": [],
   "source": []
  },
  {
   "cell_type": "markdown",
   "id": "34fc014c-3393-44ae-bdc9-efbafbbe36dc",
   "metadata": {},
   "source": [
    "2. **[2 puntos]** Dado $L = \\{w / w$ tiene al menos tres $()\\} \\cup \\{w / w$ tiene un número impar de $()\\}$, diséñese el AFD (sólo grafo) que reconoce las palabras de $L^c$ con $\\Sigma = \\{(), \\{\\}, []\\}$"
   ]
  },
  {
   "cell_type": "code",
   "execution_count": null,
   "id": "650d81fe-89b2-489b-abb3-35dd8dda8323",
   "metadata": {},
   "outputs": [],
   "source": []
  },
  {
   "cell_type": "markdown",
   "id": "bdb397d4-109b-4069-8905-3ad1585b722d",
   "metadata": {},
   "source": [
    "3. **[2 puntos]** Dado $L = \\{$cada par de $class$ adyacentes aparece antes de cualquier par de $def$ adyacentes$\\}$ con $\\Sigma = \\{def, class\\}$, diséñese usando operadores básicos la ER que lo representa. No usar más de 10 operadores"
   ]
  },
  {
   "cell_type": "code",
   "execution_count": null,
   "id": "715c6aec-ebab-40ba-a95f-f3a77873cb0b",
   "metadata": {},
   "outputs": [],
   "source": []
  },
  {
   "cell_type": "markdown",
   "id": "fd84c329-9523-4dc6-ab75-4e36a9fc8e4d",
   "metadata": {},
   "source": [
    "4. **[2 puntos]** Dado $L = \\{w_1w_2w_3 / w_1, w_3 \\in \\{0, 1\\}^*; w_2 \\in \\{00, 11\\}\\}$, diseñese la GR que genera las palabras del lenguaje con $\\Sigma = \\{0, 1\\}$. Sólo producciones. (Para facilitar el diseño/corrección usar los nombres de los símbolos no terminales en este orden: S, A, B, C ...)"
   ]
  },
  {
   "cell_type": "code",
   "execution_count": null,
   "id": "1d8d670f-6bde-4283-a63b-a8d06ecdc26d",
   "metadata": {},
   "outputs": [],
   "source": []
  },
  {
   "cell_type": "markdown",
   "id": "d6c3a48e-0253-4b9d-ad9a-fcdf268c5a35",
   "metadata": {},
   "source": [
    "5. **[2 puntos]** Dado $L = \\{1222^n3^m / n \\geq 0; m \\geq 1\\} \\cup \\{12^n3(33)^m / n \\geq 1; m \\geq 0 \\}$, diseñese la GR que genera las palabras del lenguaje con $\\Sigma = \\{1, 2, 3\\}$. Sólo producciones. (Para facilitar el diseño/corrección usar los nombres de los símbolos no terminales en este orden: S, A, B, C ...)"
   ]
  },
  {
   "cell_type": "code",
   "execution_count": null,
   "id": "bd6f875d-20d8-4c4c-8ed6-ca38ec827a2b",
   "metadata": {},
   "outputs": [],
   "source": []
  },
  {
   "cell_type": "markdown",
   "id": "db7e31a2-b951-4ef8-a3f0-af2d9f38a30f",
   "metadata": {},
   "source": [
    "**Teórico**: Ejemplifíquese tres AF equivalentes que reconocen el lenguaje universal sobre un alfabeto no ambiguo con más de 2 símbolos "
   ]
  },
  {
   "cell_type": "code",
   "execution_count": null,
   "id": "dbf01fbe-6d29-4f72-a539-af6a1f5c7ce4",
   "metadata": {},
   "outputs": [],
   "source": []
  }
 ],
 "metadata": {
  "kernelspec": {
   "display_name": "Python [conda env:base] *",
   "language": "python",
   "name": "conda-base-py"
  },
  "language_info": {
   "codemirror_mode": {
    "name": "ipython",
    "version": 3
   },
   "file_extension": ".py",
   "mimetype": "text/x-python",
   "name": "python",
   "nbconvert_exporter": "python",
   "pygments_lexer": "ipython3",
   "version": "3.12.7"
  }
 },
 "nbformat": 4,
 "nbformat_minor": 5
}
